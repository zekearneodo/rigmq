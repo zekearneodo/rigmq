{
 "cells": [
  {
   "cell_type": "markdown",
   "metadata": {},
   "source": [
    "### Prepare stimuli in stereo with sync tone in the L channel and load into the SBC\n",
    "To syncrhonize the recording systems, each stimulus file goes in stereo, the L channel has the stimulus, and the R channel has a pure tone (500-5Khz).\n",
    "This is done here, with the help of the rigmq.util.stimprep module\n",
    "It uses (or creates) a dictionary of {stim_file: tone_freq} which is stored as a .json file for offline processing."
   ]
  },
  {
   "cell_type": "code",
   "execution_count": 1,
   "metadata": {},
   "outputs": [
    {
     "name": "stderr",
     "output_type": "stream",
     "text": [
      "2019-07-11 17:13:18,006 root         INFO     Computer: lookfar\n"
     ]
    }
   ],
   "source": [
    "import socket\n",
    "import os\n",
    "import sys\n",
    "import logging\n",
    "import warnings\n",
    "import numpy as np\n",
    "import glob\n",
    "\n",
    "from rigmq.util import stimprep as sp\n",
    "\n",
    "# setup the logger\n",
    "logger = logging.getLogger()\n",
    "handler = logging.StreamHandler()\n",
    "formatter = logging.Formatter(\n",
    "        '%(asctime)s %(name)-12s %(levelname)-8s %(message)s')\n",
    "handler.setFormatter(formatter)\n",
    "logger.addHandler(handler)\n",
    "logger.setLevel(logging.INFO)\n",
    "\n",
    "# Check wich computer to decide where the things are mounted\n",
    "comp_name=socket.gethostname()\n",
    "logger.info('Computer: ' + comp_name)\n",
    "\n"
   ]
  },
  {
   "cell_type": "code",
   "execution_count": 2,
   "metadata": {},
   "outputs": [
    {
     "data": {
      "text/plain": [
       "['/Users/zeke/experiment/birds/g18j18/SongData/acute_01/20190705-f00287-calls.wav',\n",
       " '/Users/zeke/experiment/birds/g18j18/SongData/acute_01/20190705-f00201-bos-calls-undirected.wav',\n",
       " '/Users/zeke/experiment/birds/g18j18/SongData/acute_01/20190705-f00287-bos-calls-directed.wav',\n",
       " '/Users/zeke/experiment/birds/g18j18/SongData/acute_01/20190701-f03123-bos-undirected.wav',\n",
       " '/Users/zeke/experiment/birds/g18j18/SongData/acute_01/20190705-f00228-bos-directed.wav',\n",
       " '/Users/zeke/experiment/birds/g18j18/SongData/acute_01/20190705-f00254-bos-undirected.wav']"
      ]
     },
     "execution_count": 2,
     "metadata": {},
     "output_type": "execute_result"
    }
   ],
   "source": [
    "exp_folder = os.path.abspath('/Users/zeke/experiment/birds')\n",
    "bird = 'g18j18'\n",
    "sess = 'acute_01'\n",
    "stim_sf = 48000 # sampling frequency of the stimulus system\n",
    "\n",
    "stim_folder = os.path.join(exp_folder, bird, 'SongData', sess)\n",
    "glob.glob(os.path.join(stim_folder, '*.wav'))"
   ]
  },
  {
   "cell_type": "markdown",
   "metadata": {},
   "source": [
    "### Define stim_tags\n",
    "There is a dictionary of {wav_file: tag_frequency} can be done by hand when there are few stimuli"
   ]
  },
  {
   "cell_type": "code",
   "execution_count": 3,
   "metadata": {},
   "outputs": [
    {
     "name": "stderr",
     "output_type": "stream",
     "text": [
      "2019-07-11 17:15:23,455 rigmq.util.stimprep INFO     Processing /Users/zeke/experiment/birds/g18j18/SongData/acute_01/20190701-f03123-bos-undirected.wav\n",
      "2019-07-11 17:15:23,456 rigmq.util.stimprep INFO     tag_freq = 1000\n",
      "2019-07-11 17:15:23,461 rigmq.util.stimprep INFO     Will resample from 78848 to 118272 sampes\n",
      "2019-07-11 17:15:23,496 rigmq.util.stimprep INFO     Saved to /Users/zeke/experiment/birds/g18j18/SongData/acute_01/sbc_stim/20190701-f03123-bos-undirected_tag.wav\n",
      "2019-07-11 17:15:23,497 rigmq.util.stimprep INFO     Processing /Users/zeke/experiment/birds/g18j18/SongData/acute_01/20190705-f00201-bos-calls-undirected.wav\n",
      "2019-07-11 17:15:23,498 rigmq.util.stimprep INFO     tag_freq = 2000\n",
      "2019-07-11 17:15:23,506 rigmq.util.stimprep INFO     Will resample from 73288 to 109932 sampes\n",
      "2019-07-11 17:15:24,194 rigmq.util.stimprep INFO     Saved to /Users/zeke/experiment/birds/g18j18/SongData/acute_01/sbc_stim/20190705-f00201-bos-calls-undirected_tag.wav\n",
      "2019-07-11 17:15:24,195 rigmq.util.stimprep INFO     Processing /Users/zeke/experiment/birds/g18j18/SongData/acute_01/20190705-f00228-bos-directed.wav\n",
      "2019-07-11 17:15:24,195 rigmq.util.stimprep INFO     tag_freq = 3000\n",
      "2019-07-11 17:15:24,197 rigmq.util.stimprep INFO     Will resample from 100452 to 150678 sampes\n",
      "2019-07-11 17:15:24,279 rigmq.util.stimprep INFO     Saved to /Users/zeke/experiment/birds/g18j18/SongData/acute_01/sbc_stim/20190705-f00228-bos-directed_tag.wav\n",
      "2019-07-11 17:15:24,280 rigmq.util.stimprep INFO     Processing /Users/zeke/experiment/birds/g18j18/SongData/acute_01/20190705-f00287-bos-calls-directed.wav\n",
      "2019-07-11 17:15:24,281 rigmq.util.stimprep INFO     tag_freq = 4000\n",
      "2019-07-11 17:15:24,282 rigmq.util.stimprep INFO     Will resample from 79725 to 119587 sampes\n",
      "2019-07-11 17:15:24,901 rigmq.util.stimprep INFO     Saved to /Users/zeke/experiment/birds/g18j18/SongData/acute_01/sbc_stim/20190705-f00287-bos-calls-directed_tag.wav\n",
      "2019-07-11 17:15:24,903 rigmq.util.stimprep INFO     Processing /Users/zeke/experiment/birds/g18j18/SongData/acute_01/20190705-f00287-calls.wav\n",
      "2019-07-11 17:15:24,903 rigmq.util.stimprep INFO     tag_freq = 5000\n",
      "2019-07-11 17:15:24,906 rigmq.util.stimprep INFO     Will resample from 42185 to 63277 sampes\n",
      "2019-07-11 17:15:30,721 rigmq.util.stimprep INFO     Saved to /Users/zeke/experiment/birds/g18j18/SongData/acute_01/sbc_stim/20190705-f00287-calls_tag.wav\n",
      "2019-07-11 17:15:30,722 rigmq.util.stimprep INFO     Processing /Users/zeke/experiment/birds/g18j18/SongData/acute_01/20190705-f00254-bos-undirected.wav\n",
      "2019-07-11 17:15:30,723 rigmq.util.stimprep INFO     tag_freq = 2500\n",
      "2019-07-11 17:15:30,725 rigmq.util.stimprep INFO     Will resample from 77177 to 115765 sampes\n",
      "2019-07-11 17:15:30,771 rigmq.util.stimprep INFO     Saved to /Users/zeke/experiment/birds/g18j18/SongData/acute_01/sbc_stim/20190705-f00254-bos-undirected_tag.wav\n",
      "2019-07-11 17:15:30,773 rigmq.util.stimprep INFO     Saved tags .json file to /Users/zeke/experiment/birds/g18j18/SongData/acute_01/sbc_stim/stim_tags.json\n"
     ]
    }
   ],
   "source": [
    "stim_tags_dict = {'20190701-f03123-bos-undirected': 1000,\n",
    "                  '20190705-f00201-bos-calls-undirected': 2000,\n",
    "                  '20190705-f00228-bos-directed': 3000,\n",
    "                 '20190705-f00287-bos-calls-directed': 4000,\n",
    "                 '20190705-f00287-calls': 5000,\n",
    "                 '20190705-f00254-bos-undirected': 2500}\n",
    "\n",
    "stims_list = list(stim_tags_dict.keys())\n",
    "sp.create_sbc_stim(stims_list, stim_folder, stim_sf, stim_tag_dict=stim_tags_dict)"
   ]
  },
  {
   "cell_type": "code",
   "execution_count": 4,
   "metadata": {},
   "outputs": [
    {
     "data": {
      "text/plain": [
       "['20190701-f03123-bos-undirected',\n",
       " '20190705-f00201-bos-calls-undirected',\n",
       " '20190705-f00228-bos-directed',\n",
       " '20190705-f00287-bos-calls-directed',\n",
       " '20190705-f00287-calls',\n",
       " '20190705-f00254-bos-undirected']"
      ]
     },
     "execution_count": 4,
     "metadata": {},
     "output_type": "execute_result"
    }
   ],
   "source": [
    "files_list = list(stim_tags_dict.keys())\n",
    "files_list"
   ]
  },
  {
   "cell_type": "markdown",
   "metadata": {},
   "source": [
    "### Copy the stimulus files to the raspberry pi"
   ]
  },
  {
   "cell_type": "code",
   "execution_count": 6,
   "metadata": {},
   "outputs": [],
   "source": [
    "pi_address = 'raspberrypi.local'\n",
    "pi_dest = 'pi@{}:~/stim_files'.format(pi_address)\n",
    "wav_source = os.path.join(stim_folder, 'sbc_stim', '*.wav')"
   ]
  },
  {
   "cell_type": "code",
   "execution_count": 7,
   "metadata": {},
   "outputs": [
    {
     "name": "stdout",
     "output_type": "stream",
     "text": [
      "20190701-f03123-bos-undirected_tag.wav\n",
      "20190705-f00201-bos-calls-undirected_tag.wav\n",
      "20190705-f00228-bos-directed_tag.wav\n",
      "20190705-f00254-bos-undirected_tag.wav\n",
      "20190705-f00287-bos-calls-directed_tag.wav\n",
      "20190705-f00287-calls_tag.wav\n",
      "\n",
      "sent 2,711,478 bytes  received 130 bytes  5,423,216.00 bytes/sec\n",
      "total size is 2,710,308  speedup is 1.00\n"
     ]
    }
   ],
   "source": [
    "!rsync -v {wav_source} {pi_dest}"
   ]
  },
  {
   "cell_type": "code",
   "execution_count": 8,
   "metadata": {},
   "outputs": [
    {
     "name": "stdout",
     "output_type": "stream",
     "text": [
      "PING raspberrypi.local (192.168.1.50): 56 data bytes\n",
      "64 bytes from 192.168.1.50: icmp_seq=0 ttl=64 time=1.622 ms\n",
      "64 bytes from 192.168.1.50: icmp_seq=1 ttl=64 time=11.288 ms\n",
      "64 bytes from 192.168.1.50: icmp_seq=2 ttl=64 time=7.753 ms\n",
      "64 bytes from 192.168.1.50: icmp_seq=3 ttl=64 time=7.373 ms\n",
      "64 bytes from 192.168.1.50: icmp_seq=4 ttl=64 time=7.555 ms\n",
      "64 bytes from 192.168.1.50: icmp_seq=5 ttl=64 time=1.525 ms\n",
      "64 bytes from 192.168.1.50: icmp_seq=6 ttl=64 time=17.185 ms\n",
      "64 bytes from 192.168.1.50: icmp_seq=7 ttl=64 time=2.003 ms\n",
      "64 bytes from 192.168.1.50: icmp_seq=8 ttl=64 time=27.807 ms\n",
      "64 bytes from 192.168.1.50: icmp_seq=9 ttl=64 time=1.448 ms\n",
      "64 bytes from 192.168.1.50: icmp_seq=10 ttl=64 time=7.860 ms\n",
      "^C\n",
      "\n",
      "--- raspberrypi.local ping statistics ---\n",
      "11 packets transmitted, 11 packets received, 0.0% packet loss\n",
      "round-trip min/avg/max/stddev = 1.448/8.493/27.807/7.669 ms\n"
     ]
    }
   ],
   "source": [
    "!ping raspberrypi.local"
   ]
  },
  {
   "cell_type": "code",
   "execution_count": null,
   "metadata": {},
   "outputs": [],
   "source": []
  }
 ],
 "metadata": {
  "kernelspec": {
   "display_name": "mountain",
   "language": "python",
   "name": "mountain"
  },
  "language_info": {
   "codemirror_mode": {
    "name": "ipython",
    "version": 3
   },
   "file_extension": ".py",
   "mimetype": "text/x-python",
   "name": "python",
   "nbconvert_exporter": "python",
   "pygments_lexer": "ipython3",
   "version": "3.6.8"
  }
 },
 "nbformat": 4,
 "nbformat_minor": 2
}
