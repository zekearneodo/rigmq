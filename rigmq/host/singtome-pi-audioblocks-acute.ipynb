{
 "cells": [
  {
   "cell_type": "markdown",
   "metadata": {},
   "source": [
    "## Acute experiments with audio stim blocks, no comm with recording system\n",
    "Uses raspmachine_pyaduio for the sbc state machine\n",
    "Plays audio stim blocks\n",
    "Doesn't pass metadata to recording system\n",
    "Used mainly for acute experiments with the neuropixels on sglx and si-probes on intan rhd system.\n"
   ]
  },
  {
   "cell_type": "code",
   "execution_count": 1,
   "metadata": {},
   "outputs": [
    {
     "name": "stderr",
     "output_type": "stream",
     "text": [
      "2019-07-11 17:24:05,889 root         INFO     Computer: lookfar\n"
     ]
    }
   ],
   "source": [
    "import zmq\n",
    "import time\n",
    "import socket\n",
    "import os\n",
    "import sys\n",
    "import logging\n",
    "import threading\n",
    "import warnings\n",
    "import schedule\n",
    "import numpy as np\n",
    "from numpy import matlib\n",
    "\n",
    "# setup the logger\n",
    "logger = logging.getLogger()\n",
    "handler = logging.StreamHandler()\n",
    "formatter = logging.Formatter(\n",
    "        '%(asctime)s %(name)-12s %(levelname)-8s %(message)s')\n",
    "handler.setFormatter(formatter)\n",
    "logger.addHandler(handler)\n",
    "logger.setLevel(logging.INFO)\n",
    "\n",
    "# Check wich computer to decide where the things are mounted\n",
    "comp_name=socket.gethostname()\n",
    "logger.info('Computer: ' + comp_name)\n",
    "\n",
    "from rigmq.host import sbc"
   ]
  },
  {
   "cell_type": "markdown",
   "metadata": {},
   "source": [
    "### Session tools and methods"
   ]
  },
  {
   "cell_type": "code",
   "execution_count": 2,
   "metadata": {},
   "outputs": [],
   "source": [
    "# open the devices\n",
    "#rasp_ip = '169.254.53.135' #raspi on direct connect on mac\n",
    "rasp_ip = '192.168.1.50'\n",
    "pi_zmq = sbc.SBC(port='5559', ip=rasp_ip) # raspi on direct connect on mac\n",
    "pi_zmq.connect()"
   ]
  },
  {
   "cell_type": "code",
   "execution_count": 3,
   "metadata": {},
   "outputs": [],
   "source": [
    "# make a rig dictionary\n",
    "# soon to be object\n",
    "rig_par = {'sbc': pi_zmq,\n",
    "          'oe': None}"
   ]
  },
  {
   "cell_type": "markdown",
   "metadata": {},
   "source": [
    "## very simple single trial tests"
   ]
  },
  {
   "cell_type": "code",
   "execution_count": 4,
   "metadata": {},
   "outputs": [],
   "source": [
    "### commands to be sent to raspmachine_pyaudio.py\n",
    "def cmd_trial_number(tr_num):\n",
    "    #on is boolean\n",
    "    return 'trial_number number {}'.format(int(tr_num)).encode('utf8')\n",
    "        \n",
    "def cmd_switch_glass(switch: str) -> str:\n",
    "    return 'glass switch {}'.format(switch).encode('utf8')\n",
    "\n",
    "# command functions\n",
    "def cmd_play_wav(wav_file):\n",
    "    cmd_line = 'play_wav stim_file {}'.format(wav_file).encode('utf8')\n",
    "    return cmd_line\n",
    "\n",
    "def cmd_audio_trial(wav_file):\n",
    "    cmd_line = 'trial_audio stim_file {}'.format(wav_file).encode('utf8')\n",
    "    return cmd_line\n",
    "\n",
    "def cmd_stim_pulse():\n",
    "    cmd_line = 'trial_stim_pulse'.encode('utf8')\n",
    "    return cmd_line\n",
    "    \n",
    "# def cmd_trial_pin(on):\n",
    "#     #on is boolean\n",
    "#     return 'trial_pin on {}'.format(on).encode('utf8')\n",
    "\n",
    "####\n",
    "\n",
    "# this is dirty, the run_trial is the same for all 'types' of trial\n",
    "# (stimpulse, audio, smartglass)\n",
    "# There should be just a Trial class, with a method run().\n",
    "def run_trial(rig_par={'sbc': None, 'oe':None}, \n",
    "              trial_par={'type': None, 'iti':120*1000., 'tr_num': 5, 'wave_file': None, 'transparent_time': 10*1000}):\n",
    "    # intertrial interval\n",
    "    time.sleep(int(trial_par['iti']*100)/100000.)\n",
    "    \n",
    "    # a very simple trial; switch on, wait, switch off\n",
    "    rig_par['sbc'].send_command(cmd_trial_number(trial_par['tr_num']))\n",
    "    \n",
    "    if trial_par['type'] == 'smartglass':\n",
    "        pi_zmq.send_command(cmd_switch_glass('on'))\n",
    "        time.sleep(int(trial_par['transparent_time']*100)/100000.)\n",
    "        pi_zmq.send_command(cmd_switch_glass('off'))\n",
    "    \n",
    "    if trial_par['type'] == 'audio':\n",
    "        #rig_par['sbc'].send_command(cmd_trial_pin(True))\n",
    "        rig_par['sbc'].send_command(cmd_audio_trial(trial_par['stim']))\n",
    "        #rig_par['sbc'].send_command(cmd_trial_pin(False))\n",
    "        \n",
    "    if trial_par['type'] == 'stimpulse':\n",
    "        #rig_par['sbc'].send_command(cmd_trial_pin(True))\n",
    "        rig_par['sbc'].send_command(cmd_stim_pulse())\n",
    "        #rig_par['sbc'].send_command(cmd_trial_pin(False))\n",
    "\n",
    "        \n",
    "class BlockGlass:\n",
    "    # A block is a generator that gives trials (dictionaries)\n",
    "    def __init__(self, transp_time_list, iti_bounds_ms, size, random = True):\n",
    "        self.trials = 0\n",
    "        self.iti_bounds = iti_bounds_ms\n",
    "        self.stim_list = transp_time_list\n",
    "        self.size = size\n",
    "        self.trial_pars = {'iti': None, 'tr_num': 0, 'stim': None, 'transparent_time': 10*1000}\n",
    "        self.stim_order = matlib.repmat(np.arange(len(transp_time_list)),\n",
    "                                           int(np.ceil(size/len(transp_time_list))),\n",
    "                                           1)[:size].flatten()\n",
    "        if random:\n",
    "            np.random.shuffle(self.stim_order)\n",
    "    \n",
    "    def __iter__(self,):\n",
    "        return self\n",
    "    \n",
    "    def next(self, ):\n",
    "        if self.trials < self.size:\n",
    "            self.trial_pars['type'] = 'smartglass'\n",
    "            self.trial_pars['iti'] = np.random.randint(self.iti_bounds[0], self.iti_bounds[1])\n",
    "            #print self.trials\n",
    "            self.trial_pars['tr_num'] = self.trials\n",
    "            self.trial_pars['stim'] = None\n",
    "            self.trial_pars['transparent_time'] = self.stim_list[self.stim_order[self.trials]]\n",
    "            self.trials+=1\n",
    "            return self.trial_pars\n",
    "        else:\n",
    "            raise StopIteration()\n",
    "            \n",
    "class BlockAudio:\n",
    "    # A block is a generator that gives trials (dictionaries)\n",
    "    def __init__(self, file_path_list, iti_bounds_ms, size, random = True):\n",
    "        self.trials = 0\n",
    "        self.iti_bounds = iti_bounds_ms\n",
    "        self.stim_list = file_path_list\n",
    "        self.size = size\n",
    "        self.trial_pars = {'iti': None, 'tr_num': 0, 'stim': None, 'transparent_time': None}\n",
    "        self.stim_order = matlib.repmat(np.arange(len(self.stim_list)),\n",
    "                                           int(np.ceil(size/len(self.stim_list))),\n",
    "                                           1)[:size].flatten()\n",
    "        if random:\n",
    "            np.random.shuffle(self.stim_order)\n",
    "    \n",
    "    def __iter__(self,):\n",
    "        return self\n",
    "    \n",
    "    def next(self, ):\n",
    "        if self.trials < self.size:\n",
    "            self.trial_pars['type'] = 'audio'\n",
    "            self.trial_pars['iti'] = np.random.randint(self.iti_bounds[0], self.iti_bounds[1])\n",
    "            #print self.trials\n",
    "            self.trial_pars['tr_num'] = self.trials\n",
    "            self.trial_pars['stim'] = self.stim_list[self.stim_order[self.trials]]\n",
    "            self.trial_pars['transparent_time'] = None\n",
    "            self.trials += 1\n",
    "            return self.trial_pars\n",
    "        else:\n",
    "            raise StopIteration()\n",
    "            \n",
    "class BlockStimPulse:\n",
    "    # A block is a generator that gives trials (dictionaries)\n",
    "    def __init__(self, iti_bounds_ms, size):\n",
    "        self.trials = 0\n",
    "        self.iti_bounds = iti_bounds_ms\n",
    "        self.stim_list = None\n",
    "        self.size = size\n",
    "        self.trial_pars = {'iti': None, 'tr_num': 0, 'stim': None, 'transparent_time': None}\n",
    "        self.stim_order = np.arange(size)\n",
    "    \n",
    "    def __iter__(self,):\n",
    "        return self\n",
    "    \n",
    "    def next(self, ):\n",
    "        if self.trials < self.size:\n",
    "            self.trial_pars['type'] = 'stimpulse'\n",
    "            self.trial_pars['iti'] = np.random.randint(self.iti_bounds[0], self.iti_bounds[1])\n",
    "            #print self.trials\n",
    "            self.trial_pars['tr_num'] = self.trials\n",
    "            self.trial_pars['stim'] = None\n",
    "            self.trial_pars['transparent_time'] = None\n",
    "            self.trials += 1\n",
    "            return self.trial_pars\n",
    "        else:\n",
    "            raise StopIteration()"
   ]
  },
  {
   "cell_type": "markdown",
   "metadata": {},
   "source": [
    "### Create a block of trials that play audio files"
   ]
  },
  {
   "cell_type": "code",
   "execution_count": 17,
   "metadata": {},
   "outputs": [],
   "source": [
    "#block_files = ['bos.wav', 'con.wav', 'rev.wav', 'syn.wav']\n",
    "block_files = ['tone_test.wav']\n",
    "block_iti_bounds = [5*1000, 6*1000] # it ranges from 5 to 15 secs, uniformly distributed\n",
    "audio_block = BlockAudio(block_files, block_iti_bounds, 80) # block is 80 trial"
   ]
  },
  {
   "cell_type": "code",
   "execution_count": 6,
   "metadata": {},
   "outputs": [
    {
     "data": {
      "text/plain": [
       "{'iti': 5743,\n",
       " 'tr_num': 0,\n",
       " 'stim': 'tone_test.wav',\n",
       " 'transparent_time': None,\n",
       " 'type': 'audio'}"
      ]
     },
     "execution_count": 6,
     "metadata": {},
     "output_type": "execute_result"
    }
   ],
   "source": [
    "audio_block.next()"
   ]
  },
  {
   "cell_type": "markdown",
   "metadata": {},
   "source": [
    "### Make a Runner Thread that goes through a block running each trial"
   ]
  },
  {
   "cell_type": "code",
   "execution_count": 8,
   "metadata": {},
   "outputs": [],
   "source": [
    "class Runner(threading.Thread):\n",
    "    # runs an experiment block\n",
    "    # forced to no recording system to control\n",
    "    def __init__(self, block, rig_par, recorder=None, group=None, target=None, name=None, \n",
    "                 args=(), kwargs=None):\n",
    "        threading.Thread.__init__(self, group=group, target=target, name=name)\n",
    "        \n",
    "        logging.info('Initializing block')\n",
    "        self.block = block #block object\n",
    "        self.rig = rig_par\n",
    "        self.stim_sys = rig_par['sbc']\n",
    "        self.rec_sys = None\n",
    "        self.running = threading.Event() #Event\n",
    "        self.finished = False\n",
    "        self.trial = None\n",
    "        self.running.clear()\n",
    "        self.recorder = recorder #Record control\n",
    "   \n",
    "    def run(self):\n",
    "        logging.debug('running block')\n",
    "        if not self.running.is_set():\n",
    "            logger.info('Starting Block')\n",
    "#             if self.is_recording()==True:\n",
    "#                 logging.debug('Starting recording')\n",
    "#                 self.recorder.start()\n",
    "#                 time.sleep(2)\n",
    "            self.running.set()\n",
    "            while True:\n",
    "                try:\n",
    "                    if self.running.is_set():\n",
    "                        self.trial = self.block.next()\n",
    "                        logging.info('Running trial {}'.format(self.trial))\n",
    "                        print(self.trial)\n",
    "                        run_trial(rig_par=self.rig, trial_par=self.trial)\n",
    "                    else:\n",
    "                        self.end_block()\n",
    "                        break\n",
    "\n",
    "                except StopIteration:\n",
    "                    self.finished = True\n",
    "                    self.running.clear()\n",
    "                    logger.info('finished block')\n",
    "                    break\n",
    "            \n",
    "            if self.is_recording()==True:\n",
    "                logger.info('Runner stopping recording')\n",
    "                self.recorder.signal_stop()\n",
    "        else:\n",
    "            logging.info('Cant start, already running')\n",
    "            \n",
    "        return self.finished\n",
    "                    \n",
    "    def end_block(self):\n",
    "        print('stopping the block in trial {}'.format(self.trial['tr_num']))\n",
    "        self.finished = False\n",
    "        \n",
    "    def signal_stop(self):\n",
    "        self.running.clear()\n",
    "        \n",
    "    def is_running(self):\n",
    "        return self.running.is_set()\n",
    "    \n",
    "    def is_recording(self):\n",
    "        logging.debug('runner checking recording status')\n",
    "        logging.debug('{}'.format(self.recorder))\n",
    "        if self.recorder is not None:\n",
    "            logging.debug('status {}'.format(self.recorder.report_recording()))\n",
    "            return self.recorder.report_recording()\n",
    "        else:\n",
    "            return None"
   ]
  },
  {
   "cell_type": "markdown",
   "metadata": {},
   "source": [
    "#### Run a block till the end"
   ]
  },
  {
   "cell_type": "code",
   "execution_count": 33,
   "metadata": {},
   "outputs": [
    {
     "name": "stderr",
     "output_type": "stream",
     "text": [
      "2019-07-05 14:36:34,410 root         INFO     Initializing block\n",
      "2019-07-05 14:36:34,410 root         INFO     Initializing block\n",
      "2019-07-05 14:36:34,413 root         INFO     Starting Block\n",
      "2019-07-05 14:36:34,413 root         INFO     Starting Block\n",
      "2019-07-05 14:36:34,416 root         INFO     Running trial {'iti': 5074, 'tr_num': 0, 'stim': '20190705-f00201-bos-calls-undirected_tag.wav', 'transparent_time': None, 'type': 'audio'}\n",
      "2019-07-05 14:36:34,416 root         INFO     Running trial {'iti': 5074, 'tr_num': 0, 'stim': '20190705-f00201-bos-calls-undirected_tag.wav', 'transparent_time': None, 'type': 'audio'}\n"
     ]
    },
    {
     "name": "stdout",
     "output_type": "stream",
     "text": [
      "{'iti': 5074, 'tr_num': 0, 'stim': '20190705-f00201-bos-calls-undirected_tag.wav', 'transparent_time': None, 'type': 'audio'}\n"
     ]
    },
    {
     "name": "stderr",
     "output_type": "stream",
     "text": [
      "2019-07-05 14:36:44,216 root         INFO     Running trial {'iti': 6454, 'tr_num': 1, 'stim': '20190701-f03123-bos-undirected_tag.wav', 'transparent_time': None, 'type': 'audio'}\n",
      "2019-07-05 14:36:44,216 root         INFO     Running trial {'iti': 6454, 'tr_num': 1, 'stim': '20190701-f03123-bos-undirected_tag.wav', 'transparent_time': None, 'type': 'audio'}\n"
     ]
    },
    {
     "name": "stdout",
     "output_type": "stream",
     "text": [
      "{'iti': 6454, 'tr_num': 1, 'stim': '20190701-f03123-bos-undirected_tag.wav', 'transparent_time': None, 'type': 'audio'}\n"
     ]
    },
    {
     "name": "stderr",
     "output_type": "stream",
     "text": [
      "2019-07-05 14:36:55,387 root         INFO     Running trial {'iti': 3201, 'tr_num': 2, 'stim': '20190705-f00201-bos-calls-undirected_tag.wav', 'transparent_time': None, 'type': 'audio'}\n",
      "2019-07-05 14:36:55,387 root         INFO     Running trial {'iti': 3201, 'tr_num': 2, 'stim': '20190705-f00201-bos-calls-undirected_tag.wav', 'transparent_time': None, 'type': 'audio'}\n"
     ]
    },
    {
     "name": "stdout",
     "output_type": "stream",
     "text": [
      "{'iti': 3201, 'tr_num': 2, 'stim': '20190705-f00201-bos-calls-undirected_tag.wav', 'transparent_time': None, 'type': 'audio'}\n"
     ]
    },
    {
     "name": "stderr",
     "output_type": "stream",
     "text": [
      "2019-07-05 14:37:03,198 root         INFO     Running trial {'iti': 5486, 'tr_num': 3, 'stim': '20190701-f03123-bos-undirected_tag.wav', 'transparent_time': None, 'type': 'audio'}\n",
      "2019-07-05 14:37:03,198 root         INFO     Running trial {'iti': 5486, 'tr_num': 3, 'stim': '20190701-f03123-bos-undirected_tag.wav', 'transparent_time': None, 'type': 'audio'}\n"
     ]
    },
    {
     "name": "stdout",
     "output_type": "stream",
     "text": [
      "{'iti': 5486, 'tr_num': 3, 'stim': '20190701-f03123-bos-undirected_tag.wav', 'transparent_time': None, 'type': 'audio'}\n"
     ]
    },
    {
     "name": "stderr",
     "output_type": "stream",
     "text": [
      "2019-07-05 14:37:13,502 root         INFO     Running trial {'iti': 6329, 'tr_num': 4, 'stim': '20190705-f00201-bos-calls-undirected_tag.wav', 'transparent_time': None, 'type': 'audio'}\n",
      "2019-07-05 14:37:13,502 root         INFO     Running trial {'iti': 6329, 'tr_num': 4, 'stim': '20190705-f00201-bos-calls-undirected_tag.wav', 'transparent_time': None, 'type': 'audio'}\n"
     ]
    },
    {
     "name": "stdout",
     "output_type": "stream",
     "text": [
      "{'iti': 6329, 'tr_num': 4, 'stim': '20190705-f00201-bos-calls-undirected_tag.wav', 'transparent_time': None, 'type': 'audio'}\n"
     ]
    },
    {
     "name": "stderr",
     "output_type": "stream",
     "text": [
      "2019-07-05 14:37:24,436 root         INFO     Running trial {'iti': 5882, 'tr_num': 5, 'stim': '20190701-f03123-bos-undirected_tag.wav', 'transparent_time': None, 'type': 'audio'}\n",
      "2019-07-05 14:37:24,436 root         INFO     Running trial {'iti': 5882, 'tr_num': 5, 'stim': '20190701-f03123-bos-undirected_tag.wav', 'transparent_time': None, 'type': 'audio'}\n"
     ]
    },
    {
     "name": "stdout",
     "output_type": "stream",
     "text": [
      "{'iti': 5882, 'tr_num': 5, 'stim': '20190701-f03123-bos-undirected_tag.wav', 'transparent_time': None, 'type': 'audio'}\n"
     ]
    },
    {
     "name": "stderr",
     "output_type": "stream",
     "text": [
      "2019-07-05 14:37:35,113 root         INFO     Running trial {'iti': 6873, 'tr_num': 6, 'stim': '20190705-f00201-bos-calls-undirected_tag.wav', 'transparent_time': None, 'type': 'audio'}\n",
      "2019-07-05 14:37:35,113 root         INFO     Running trial {'iti': 6873, 'tr_num': 6, 'stim': '20190705-f00201-bos-calls-undirected_tag.wav', 'transparent_time': None, 'type': 'audio'}\n"
     ]
    },
    {
     "name": "stdout",
     "output_type": "stream",
     "text": [
      "{'iti': 6873, 'tr_num': 6, 'stim': '20190705-f00201-bos-calls-undirected_tag.wav', 'transparent_time': None, 'type': 'audio'}\n"
     ]
    },
    {
     "name": "stderr",
     "output_type": "stream",
     "text": [
      "2019-07-05 14:37:46,518 root         INFO     Running trial {'iti': 6856, 'tr_num': 7, 'stim': '20190701-f03123-bos-undirected_tag.wav', 'transparent_time': None, 'type': 'audio'}\n",
      "2019-07-05 14:37:46,518 root         INFO     Running trial {'iti': 6856, 'tr_num': 7, 'stim': '20190701-f03123-bos-undirected_tag.wav', 'transparent_time': None, 'type': 'audio'}\n"
     ]
    },
    {
     "name": "stdout",
     "output_type": "stream",
     "text": [
      "{'iti': 6856, 'tr_num': 7, 'stim': '20190701-f03123-bos-undirected_tag.wav', 'transparent_time': None, 'type': 'audio'}\n"
     ]
    },
    {
     "name": "stderr",
     "output_type": "stream",
     "text": [
      "2019-07-05 14:37:58,028 root         INFO     Running trial {'iti': 3975, 'tr_num': 8, 'stim': '20190705-f00201-bos-calls-undirected_tag.wav', 'transparent_time': None, 'type': 'audio'}\n",
      "2019-07-05 14:37:58,028 root         INFO     Running trial {'iti': 3975, 'tr_num': 8, 'stim': '20190705-f00201-bos-calls-undirected_tag.wav', 'transparent_time': None, 'type': 'audio'}\n"
     ]
    },
    {
     "name": "stdout",
     "output_type": "stream",
     "text": [
      "{'iti': 3975, 'tr_num': 8, 'stim': '20190705-f00201-bos-calls-undirected_tag.wav', 'transparent_time': None, 'type': 'audio'}\n"
     ]
    },
    {
     "name": "stderr",
     "output_type": "stream",
     "text": [
      "2019-07-05 14:38:06,547 root         INFO     Running trial {'iti': 5159, 'tr_num': 9, 'stim': '20190705-f00201-bos-calls-undirected_tag.wav', 'transparent_time': None, 'type': 'audio'}\n",
      "2019-07-05 14:38:06,547 root         INFO     Running trial {'iti': 5159, 'tr_num': 9, 'stim': '20190705-f00201-bos-calls-undirected_tag.wav', 'transparent_time': None, 'type': 'audio'}\n"
     ]
    },
    {
     "name": "stdout",
     "output_type": "stream",
     "text": [
      "{'iti': 5159, 'tr_num': 9, 'stim': '20190705-f00201-bos-calls-undirected_tag.wav', 'transparent_time': None, 'type': 'audio'}\n"
     ]
    },
    {
     "name": "stderr",
     "output_type": "stream",
     "text": [
      "2019-07-05 14:38:16,238 root         INFO     Running trial {'iti': 4916, 'tr_num': 10, 'stim': '20190705-f00201-bos-calls-undirected_tag.wav', 'transparent_time': None, 'type': 'audio'}\n",
      "2019-07-05 14:38:16,238 root         INFO     Running trial {'iti': 4916, 'tr_num': 10, 'stim': '20190705-f00201-bos-calls-undirected_tag.wav', 'transparent_time': None, 'type': 'audio'}\n"
     ]
    },
    {
     "name": "stdout",
     "output_type": "stream",
     "text": [
      "{'iti': 4916, 'tr_num': 10, 'stim': '20190705-f00201-bos-calls-undirected_tag.wav', 'transparent_time': None, 'type': 'audio'}\n"
     ]
    },
    {
     "name": "stderr",
     "output_type": "stream",
     "text": [
      "2019-07-05 14:38:25,593 root         INFO     Running trial {'iti': 5949, 'tr_num': 11, 'stim': '20190705-f00201-bos-calls-undirected_tag.wav', 'transparent_time': None, 'type': 'audio'}\n",
      "2019-07-05 14:38:25,593 root         INFO     Running trial {'iti': 5949, 'tr_num': 11, 'stim': '20190705-f00201-bos-calls-undirected_tag.wav', 'transparent_time': None, 'type': 'audio'}\n"
     ]
    },
    {
     "name": "stdout",
     "output_type": "stream",
     "text": [
      "{'iti': 5949, 'tr_num': 11, 'stim': '20190705-f00201-bos-calls-undirected_tag.wav', 'transparent_time': None, 'type': 'audio'}\n"
     ]
    },
    {
     "name": "stderr",
     "output_type": "stream",
     "text": [
      "2019-07-05 14:38:36,144 root         INFO     Running trial {'iti': 6732, 'tr_num': 12, 'stim': '20190701-f03123-bos-undirected_tag.wav', 'transparent_time': None, 'type': 'audio'}\n",
      "2019-07-05 14:38:36,144 root         INFO     Running trial {'iti': 6732, 'tr_num': 12, 'stim': '20190701-f03123-bos-undirected_tag.wav', 'transparent_time': None, 'type': 'audio'}\n"
     ]
    },
    {
     "name": "stdout",
     "output_type": "stream",
     "text": [
      "{'iti': 6732, 'tr_num': 12, 'stim': '20190701-f03123-bos-undirected_tag.wav', 'transparent_time': None, 'type': 'audio'}\n"
     ]
    },
    {
     "name": "stderr",
     "output_type": "stream",
     "text": [
      "2019-07-05 14:38:47,652 root         INFO     Running trial {'iti': 4955, 'tr_num': 13, 'stim': '20190701-f03123-bos-undirected_tag.wav', 'transparent_time': None, 'type': 'audio'}\n",
      "2019-07-05 14:38:47,652 root         INFO     Running trial {'iti': 4955, 'tr_num': 13, 'stim': '20190701-f03123-bos-undirected_tag.wav', 'transparent_time': None, 'type': 'audio'}\n"
     ]
    },
    {
     "name": "stdout",
     "output_type": "stream",
     "text": [
      "{'iti': 4955, 'tr_num': 13, 'stim': '20190701-f03123-bos-undirected_tag.wav', 'transparent_time': None, 'type': 'audio'}\n"
     ]
    },
    {
     "name": "stderr",
     "output_type": "stream",
     "text": [
      "2019-07-05 14:38:57,406 root         INFO     Running trial {'iti': 4411, 'tr_num': 14, 'stim': '20190701-f03123-bos-undirected_tag.wav', 'transparent_time': None, 'type': 'audio'}\n",
      "2019-07-05 14:38:57,406 root         INFO     Running trial {'iti': 4411, 'tr_num': 14, 'stim': '20190701-f03123-bos-undirected_tag.wav', 'transparent_time': None, 'type': 'audio'}\n"
     ]
    },
    {
     "name": "stdout",
     "output_type": "stream",
     "text": [
      "{'iti': 4411, 'tr_num': 14, 'stim': '20190701-f03123-bos-undirected_tag.wav', 'transparent_time': None, 'type': 'audio'}\n"
     ]
    },
    {
     "name": "stderr",
     "output_type": "stream",
     "text": [
      "2019-07-05 14:39:06,559 root         INFO     Running trial {'iti': 6617, 'tr_num': 15, 'stim': '20190705-f00201-bos-calls-undirected_tag.wav', 'transparent_time': None, 'type': 'audio'}\n",
      "2019-07-05 14:39:06,559 root         INFO     Running trial {'iti': 6617, 'tr_num': 15, 'stim': '20190705-f00201-bos-calls-undirected_tag.wav', 'transparent_time': None, 'type': 'audio'}\n"
     ]
    },
    {
     "name": "stdout",
     "output_type": "stream",
     "text": [
      "{'iti': 6617, 'tr_num': 15, 'stim': '20190705-f00201-bos-calls-undirected_tag.wav', 'transparent_time': None, 'type': 'audio'}\n"
     ]
    },
    {
     "name": "stderr",
     "output_type": "stream",
     "text": [
      "2019-07-05 14:39:17,760 root         INFO     Running trial {'iti': 4801, 'tr_num': 16, 'stim': '20190701-f03123-bos-undirected_tag.wav', 'transparent_time': None, 'type': 'audio'}\n",
      "2019-07-05 14:39:17,760 root         INFO     Running trial {'iti': 4801, 'tr_num': 16, 'stim': '20190701-f03123-bos-undirected_tag.wav', 'transparent_time': None, 'type': 'audio'}\n"
     ]
    },
    {
     "name": "stdout",
     "output_type": "stream",
     "text": [
      "{'iti': 4801, 'tr_num': 16, 'stim': '20190701-f03123-bos-undirected_tag.wav', 'transparent_time': None, 'type': 'audio'}\n"
     ]
    },
    {
     "name": "stderr",
     "output_type": "stream",
     "text": [
      "2019-07-05 14:39:27,269 root         INFO     Running trial {'iti': 5485, 'tr_num': 17, 'stim': '20190701-f03123-bos-undirected_tag.wav', 'transparent_time': None, 'type': 'audio'}\n",
      "2019-07-05 14:39:27,269 root         INFO     Running trial {'iti': 5485, 'tr_num': 17, 'stim': '20190701-f03123-bos-undirected_tag.wav', 'transparent_time': None, 'type': 'audio'}\n"
     ]
    },
    {
     "name": "stdout",
     "output_type": "stream",
     "text": [
      "{'iti': 5485, 'tr_num': 17, 'stim': '20190701-f03123-bos-undirected_tag.wav', 'transparent_time': None, 'type': 'audio'}\n"
     ]
    },
    {
     "name": "stderr",
     "output_type": "stream",
     "text": [
      "2019-07-05 14:39:37,550 root         INFO     Running trial {'iti': 6994, 'tr_num': 18, 'stim': '20190701-f03123-bos-undirected_tag.wav', 'transparent_time': None, 'type': 'audio'}\n",
      "2019-07-05 14:39:37,550 root         INFO     Running trial {'iti': 6994, 'tr_num': 18, 'stim': '20190701-f03123-bos-undirected_tag.wav', 'transparent_time': None, 'type': 'audio'}\n"
     ]
    },
    {
     "name": "stdout",
     "output_type": "stream",
     "text": [
      "{'iti': 6994, 'tr_num': 18, 'stim': '20190701-f03123-bos-undirected_tag.wav', 'transparent_time': None, 'type': 'audio'}\n"
     ]
    },
    {
     "name": "stderr",
     "output_type": "stream",
     "text": [
      "2019-07-05 14:39:49,314 root         INFO     Running trial {'iti': 3647, 'tr_num': 19, 'stim': '20190701-f03123-bos-undirected_tag.wav', 'transparent_time': None, 'type': 'audio'}\n",
      "2019-07-05 14:39:49,314 root         INFO     Running trial {'iti': 3647, 'tr_num': 19, 'stim': '20190701-f03123-bos-undirected_tag.wav', 'transparent_time': None, 'type': 'audio'}\n"
     ]
    },
    {
     "name": "stdout",
     "output_type": "stream",
     "text": [
      "{'iti': 3647, 'tr_num': 19, 'stim': '20190701-f03123-bos-undirected_tag.wav', 'transparent_time': None, 'type': 'audio'}\n"
     ]
    },
    {
     "name": "stderr",
     "output_type": "stream",
     "text": [
      "2019-07-05 14:39:57,881 root         INFO     Running trial {'iti': 3255, 'tr_num': 20, 'stim': '20190705-f00201-bos-calls-undirected_tag.wav', 'transparent_time': None, 'type': 'audio'}\n",
      "2019-07-05 14:39:57,881 root         INFO     Running trial {'iti': 3255, 'tr_num': 20, 'stim': '20190705-f00201-bos-calls-undirected_tag.wav', 'transparent_time': None, 'type': 'audio'}\n"
     ]
    },
    {
     "name": "stdout",
     "output_type": "stream",
     "text": [
      "{'iti': 3255, 'tr_num': 20, 'stim': '20190705-f00201-bos-calls-undirected_tag.wav', 'transparent_time': None, 'type': 'audio'}\n"
     ]
    },
    {
     "name": "stderr",
     "output_type": "stream",
     "text": [
      "2019-07-05 14:40:05,739 root         INFO     Running trial {'iti': 3415, 'tr_num': 21, 'stim': '20190701-f03123-bos-undirected_tag.wav', 'transparent_time': None, 'type': 'audio'}\n",
      "2019-07-05 14:40:05,739 root         INFO     Running trial {'iti': 3415, 'tr_num': 21, 'stim': '20190701-f03123-bos-undirected_tag.wav', 'transparent_time': None, 'type': 'audio'}\n"
     ]
    },
    {
     "name": "stdout",
     "output_type": "stream",
     "text": [
      "{'iti': 3415, 'tr_num': 21, 'stim': '20190701-f03123-bos-undirected_tag.wav', 'transparent_time': None, 'type': 'audio'}\n"
     ]
    },
    {
     "name": "stderr",
     "output_type": "stream",
     "text": [
      "2019-07-05 14:40:13,842 root         INFO     Running trial {'iti': 4299, 'tr_num': 22, 'stim': '20190701-f03123-bos-undirected_tag.wav', 'transparent_time': None, 'type': 'audio'}\n",
      "2019-07-05 14:40:13,842 root         INFO     Running trial {'iti': 4299, 'tr_num': 22, 'stim': '20190701-f03123-bos-undirected_tag.wav', 'transparent_time': None, 'type': 'audio'}\n"
     ]
    },
    {
     "name": "stdout",
     "output_type": "stream",
     "text": [
      "{'iti': 4299, 'tr_num': 22, 'stim': '20190701-f03123-bos-undirected_tag.wav', 'transparent_time': None, 'type': 'audio'}\n"
     ]
    },
    {
     "name": "stderr",
     "output_type": "stream",
     "text": [
      "2019-07-05 14:40:22,945 root         INFO     Running trial {'iti': 4796, 'tr_num': 23, 'stim': '20190701-f03123-bos-undirected_tag.wav', 'transparent_time': None, 'type': 'audio'}\n",
      "2019-07-05 14:40:22,945 root         INFO     Running trial {'iti': 4796, 'tr_num': 23, 'stim': '20190701-f03123-bos-undirected_tag.wav', 'transparent_time': None, 'type': 'audio'}\n"
     ]
    },
    {
     "name": "stdout",
     "output_type": "stream",
     "text": [
      "{'iti': 4796, 'tr_num': 23, 'stim': '20190701-f03123-bos-undirected_tag.wav', 'transparent_time': None, 'type': 'audio'}\n"
     ]
    },
    {
     "name": "stderr",
     "output_type": "stream",
     "text": [
      "2019-07-05 14:40:32,506 root         INFO     Running trial {'iti': 4827, 'tr_num': 24, 'stim': '20190705-f00201-bos-calls-undirected_tag.wav', 'transparent_time': None, 'type': 'audio'}\n",
      "2019-07-05 14:40:32,506 root         INFO     Running trial {'iti': 4827, 'tr_num': 24, 'stim': '20190705-f00201-bos-calls-undirected_tag.wav', 'transparent_time': None, 'type': 'audio'}\n"
     ]
    },
    {
     "name": "stdout",
     "output_type": "stream",
     "text": [
      "{'iti': 4827, 'tr_num': 24, 'stim': '20190705-f00201-bos-calls-undirected_tag.wav', 'transparent_time': None, 'type': 'audio'}\n"
     ]
    },
    {
     "name": "stderr",
     "output_type": "stream",
     "text": [
      "2019-07-05 14:40:41,848 root         INFO     Running trial {'iti': 6614, 'tr_num': 25, 'stim': '20190705-f00201-bos-calls-undirected_tag.wav', 'transparent_time': None, 'type': 'audio'}\n",
      "2019-07-05 14:40:41,848 root         INFO     Running trial {'iti': 6614, 'tr_num': 25, 'stim': '20190705-f00201-bos-calls-undirected_tag.wav', 'transparent_time': None, 'type': 'audio'}\n"
     ]
    },
    {
     "name": "stdout",
     "output_type": "stream",
     "text": [
      "{'iti': 6614, 'tr_num': 25, 'stim': '20190705-f00201-bos-calls-undirected_tag.wav', 'transparent_time': None, 'type': 'audio'}\n"
     ]
    },
    {
     "name": "stderr",
     "output_type": "stream",
     "text": [
      "2019-07-05 14:40:52,990 root         INFO     Running trial {'iti': 3590, 'tr_num': 26, 'stim': '20190705-f00201-bos-calls-undirected_tag.wav', 'transparent_time': None, 'type': 'audio'}\n",
      "2019-07-05 14:40:52,990 root         INFO     Running trial {'iti': 3590, 'tr_num': 26, 'stim': '20190705-f00201-bos-calls-undirected_tag.wav', 'transparent_time': None, 'type': 'audio'}\n"
     ]
    },
    {
     "name": "stdout",
     "output_type": "stream",
     "text": [
      "{'iti': 3590, 'tr_num': 26, 'stim': '20190705-f00201-bos-calls-undirected_tag.wav', 'transparent_time': None, 'type': 'audio'}\n"
     ]
    },
    {
     "name": "stderr",
     "output_type": "stream",
     "text": [
      "2019-07-05 14:41:01,181 root         INFO     Running trial {'iti': 4053, 'tr_num': 27, 'stim': '20190701-f03123-bos-undirected_tag.wav', 'transparent_time': None, 'type': 'audio'}\n",
      "2019-07-05 14:41:01,181 root         INFO     Running trial {'iti': 4053, 'tr_num': 27, 'stim': '20190701-f03123-bos-undirected_tag.wav', 'transparent_time': None, 'type': 'audio'}\n"
     ]
    },
    {
     "name": "stdout",
     "output_type": "stream",
     "text": [
      "{'iti': 4053, 'tr_num': 27, 'stim': '20190701-f03123-bos-undirected_tag.wav', 'transparent_time': None, 'type': 'audio'}\n"
     ]
    },
    {
     "name": "stderr",
     "output_type": "stream",
     "text": [
      "2019-07-05 14:41:10,097 root         INFO     Running trial {'iti': 3652, 'tr_num': 28, 'stim': '20190701-f03123-bos-undirected_tag.wav', 'transparent_time': None, 'type': 'audio'}\n",
      "2019-07-05 14:41:10,097 root         INFO     Running trial {'iti': 3652, 'tr_num': 28, 'stim': '20190701-f03123-bos-undirected_tag.wav', 'transparent_time': None, 'type': 'audio'}\n"
     ]
    },
    {
     "name": "stdout",
     "output_type": "stream",
     "text": [
      "{'iti': 3652, 'tr_num': 28, 'stim': '20190701-f03123-bos-undirected_tag.wav', 'transparent_time': None, 'type': 'audio'}\n"
     ]
    },
    {
     "name": "stderr",
     "output_type": "stream",
     "text": [
      "2019-07-05 14:41:18,436 root         INFO     Running trial {'iti': 4045, 'tr_num': 29, 'stim': '20190701-f03123-bos-undirected_tag.wav', 'transparent_time': None, 'type': 'audio'}\n",
      "2019-07-05 14:41:18,436 root         INFO     Running trial {'iti': 4045, 'tr_num': 29, 'stim': '20190701-f03123-bos-undirected_tag.wav', 'transparent_time': None, 'type': 'audio'}\n"
     ]
    },
    {
     "name": "stdout",
     "output_type": "stream",
     "text": [
      "{'iti': 4045, 'tr_num': 29, 'stim': '20190701-f03123-bos-undirected_tag.wav', 'transparent_time': None, 'type': 'audio'}\n"
     ]
    },
    {
     "name": "stderr",
     "output_type": "stream",
     "text": [
      "2019-07-05 14:41:27,457 root         INFO     Running trial {'iti': 4523, 'tr_num': 30, 'stim': '20190701-f03123-bos-undirected_tag.wav', 'transparent_time': None, 'type': 'audio'}\n",
      "2019-07-05 14:41:27,457 root         INFO     Running trial {'iti': 4523, 'tr_num': 30, 'stim': '20190701-f03123-bos-undirected_tag.wav', 'transparent_time': None, 'type': 'audio'}\n"
     ]
    },
    {
     "name": "stdout",
     "output_type": "stream",
     "text": [
      "{'iti': 4523, 'tr_num': 30, 'stim': '20190701-f03123-bos-undirected_tag.wav', 'transparent_time': None, 'type': 'audio'}\n"
     ]
    },
    {
     "name": "stderr",
     "output_type": "stream",
     "text": [
      "2019-07-05 14:41:36,776 root         INFO     Running trial {'iti': 5023, 'tr_num': 31, 'stim': '20190701-f03123-bos-undirected_tag.wav', 'transparent_time': None, 'type': 'audio'}\n",
      "2019-07-05 14:41:36,776 root         INFO     Running trial {'iti': 5023, 'tr_num': 31, 'stim': '20190701-f03123-bos-undirected_tag.wav', 'transparent_time': None, 'type': 'audio'}\n"
     ]
    },
    {
     "name": "stdout",
     "output_type": "stream",
     "text": [
      "{'iti': 5023, 'tr_num': 31, 'stim': '20190701-f03123-bos-undirected_tag.wav', 'transparent_time': None, 'type': 'audio'}\n"
     ]
    },
    {
     "name": "stderr",
     "output_type": "stream",
     "text": [
      "2019-07-05 14:41:46,663 root         INFO     Running trial {'iti': 5525, 'tr_num': 32, 'stim': '20190705-f00201-bos-calls-undirected_tag.wav', 'transparent_time': None, 'type': 'audio'}\n",
      "2019-07-05 14:41:46,663 root         INFO     Running trial {'iti': 5525, 'tr_num': 32, 'stim': '20190705-f00201-bos-calls-undirected_tag.wav', 'transparent_time': None, 'type': 'audio'}\n"
     ]
    },
    {
     "name": "stdout",
     "output_type": "stream",
     "text": [
      "{'iti': 5525, 'tr_num': 32, 'stim': '20190705-f00201-bos-calls-undirected_tag.wav', 'transparent_time': None, 'type': 'audio'}\n"
     ]
    },
    {
     "name": "stderr",
     "output_type": "stream",
     "text": [
      "2019-07-05 14:41:56,748 root         INFO     Running trial {'iti': 5484, 'tr_num': 33, 'stim': '20190705-f00201-bos-calls-undirected_tag.wav', 'transparent_time': None, 'type': 'audio'}\n",
      "2019-07-05 14:41:56,748 root         INFO     Running trial {'iti': 5484, 'tr_num': 33, 'stim': '20190705-f00201-bos-calls-undirected_tag.wav', 'transparent_time': None, 'type': 'audio'}\n"
     ]
    },
    {
     "name": "stdout",
     "output_type": "stream",
     "text": [
      "{'iti': 5484, 'tr_num': 33, 'stim': '20190705-f00201-bos-calls-undirected_tag.wav', 'transparent_time': None, 'type': 'audio'}\n"
     ]
    },
    {
     "name": "stderr",
     "output_type": "stream",
     "text": [
      "2019-07-05 14:42:06,787 root         INFO     Running trial {'iti': 5194, 'tr_num': 34, 'stim': '20190701-f03123-bos-undirected_tag.wav', 'transparent_time': None, 'type': 'audio'}\n",
      "2019-07-05 14:42:06,787 root         INFO     Running trial {'iti': 5194, 'tr_num': 34, 'stim': '20190701-f03123-bos-undirected_tag.wav', 'transparent_time': None, 'type': 'audio'}\n"
     ]
    },
    {
     "name": "stdout",
     "output_type": "stream",
     "text": [
      "{'iti': 5194, 'tr_num': 34, 'stim': '20190701-f03123-bos-undirected_tag.wav', 'transparent_time': None, 'type': 'audio'}\n"
     ]
    },
    {
     "name": "stderr",
     "output_type": "stream",
     "text": [
      "2019-07-05 14:42:16,638 root         INFO     Running trial {'iti': 3526, 'tr_num': 35, 'stim': '20190705-f00201-bos-calls-undirected_tag.wav', 'transparent_time': None, 'type': 'audio'}\n",
      "2019-07-05 14:42:16,638 root         INFO     Running trial {'iti': 3526, 'tr_num': 35, 'stim': '20190705-f00201-bos-calls-undirected_tag.wav', 'transparent_time': None, 'type': 'audio'}\n"
     ]
    },
    {
     "name": "stdout",
     "output_type": "stream",
     "text": [
      "{'iti': 3526, 'tr_num': 35, 'stim': '20190705-f00201-bos-calls-undirected_tag.wav', 'transparent_time': None, 'type': 'audio'}\n"
     ]
    },
    {
     "name": "stderr",
     "output_type": "stream",
     "text": [
      "2019-07-05 14:42:24,698 root         INFO     Running trial {'iti': 6952, 'tr_num': 36, 'stim': '20190701-f03123-bos-undirected_tag.wav', 'transparent_time': None, 'type': 'audio'}\n",
      "2019-07-05 14:42:24,698 root         INFO     Running trial {'iti': 6952, 'tr_num': 36, 'stim': '20190701-f03123-bos-undirected_tag.wav', 'transparent_time': None, 'type': 'audio'}\n"
     ]
    },
    {
     "name": "stdout",
     "output_type": "stream",
     "text": [
      "{'iti': 6952, 'tr_num': 36, 'stim': '20190701-f03123-bos-undirected_tag.wav', 'transparent_time': None, 'type': 'audio'}\n"
     ]
    },
    {
     "name": "stderr",
     "output_type": "stream",
     "text": [
      "2019-07-05 14:42:36,371 root         INFO     Running trial {'iti': 5128, 'tr_num': 37, 'stim': '20190705-f00201-bos-calls-undirected_tag.wav', 'transparent_time': None, 'type': 'audio'}\n",
      "2019-07-05 14:42:36,371 root         INFO     Running trial {'iti': 5128, 'tr_num': 37, 'stim': '20190705-f00201-bos-calls-undirected_tag.wav', 'transparent_time': None, 'type': 'audio'}\n"
     ]
    },
    {
     "name": "stdout",
     "output_type": "stream",
     "text": [
      "{'iti': 5128, 'tr_num': 37, 'stim': '20190705-f00201-bos-calls-undirected_tag.wav', 'transparent_time': None, 'type': 'audio'}\n"
     ]
    },
    {
     "name": "stderr",
     "output_type": "stream",
     "text": [
      "2019-07-05 14:42:46,008 root         INFO     Running trial {'iti': 4333, 'tr_num': 38, 'stim': '20190705-f00201-bos-calls-undirected_tag.wav', 'transparent_time': None, 'type': 'audio'}\n",
      "2019-07-05 14:42:46,008 root         INFO     Running trial {'iti': 4333, 'tr_num': 38, 'stim': '20190705-f00201-bos-calls-undirected_tag.wav', 'transparent_time': None, 'type': 'audio'}\n"
     ]
    },
    {
     "name": "stdout",
     "output_type": "stream",
     "text": [
      "{'iti': 4333, 'tr_num': 38, 'stim': '20190705-f00201-bos-calls-undirected_tag.wav', 'transparent_time': None, 'type': 'audio'}\n"
     ]
    },
    {
     "name": "stderr",
     "output_type": "stream",
     "text": [
      "2019-07-05 14:42:54,931 root         INFO     Running trial {'iti': 3832, 'tr_num': 39, 'stim': '20190705-f00201-bos-calls-undirected_tag.wav', 'transparent_time': None, 'type': 'audio'}\n",
      "2019-07-05 14:42:54,931 root         INFO     Running trial {'iti': 3832, 'tr_num': 39, 'stim': '20190705-f00201-bos-calls-undirected_tag.wav', 'transparent_time': None, 'type': 'audio'}\n"
     ]
    },
    {
     "name": "stdout",
     "output_type": "stream",
     "text": [
      "{'iti': 3832, 'tr_num': 39, 'stim': '20190705-f00201-bos-calls-undirected_tag.wav', 'transparent_time': None, 'type': 'audio'}\n"
     ]
    },
    {
     "name": "stderr",
     "output_type": "stream",
     "text": [
      "2019-07-05 14:43:03,289 root         INFO     Running trial {'iti': 3540, 'tr_num': 40, 'stim': '20190701-f03123-bos-undirected_tag.wav', 'transparent_time': None, 'type': 'audio'}\n",
      "2019-07-05 14:43:03,289 root         INFO     Running trial {'iti': 3540, 'tr_num': 40, 'stim': '20190701-f03123-bos-undirected_tag.wav', 'transparent_time': None, 'type': 'audio'}\n"
     ]
    },
    {
     "name": "stdout",
     "output_type": "stream",
     "text": [
      "{'iti': 3540, 'tr_num': 40, 'stim': '20190701-f03123-bos-undirected_tag.wav', 'transparent_time': None, 'type': 'audio'}\n"
     ]
    },
    {
     "name": "stderr",
     "output_type": "stream",
     "text": [
      "2019-07-05 14:43:11,572 root         INFO     Running trial {'iti': 3371, 'tr_num': 41, 'stim': '20190701-f03123-bos-undirected_tag.wav', 'transparent_time': None, 'type': 'audio'}\n",
      "2019-07-05 14:43:11,572 root         INFO     Running trial {'iti': 3371, 'tr_num': 41, 'stim': '20190701-f03123-bos-undirected_tag.wav', 'transparent_time': None, 'type': 'audio'}\n"
     ]
    },
    {
     "name": "stdout",
     "output_type": "stream",
     "text": [
      "{'iti': 3371, 'tr_num': 41, 'stim': '20190701-f03123-bos-undirected_tag.wav', 'transparent_time': None, 'type': 'audio'}\n"
     ]
    },
    {
     "name": "stderr",
     "output_type": "stream",
     "text": [
      "2019-07-05 14:43:19,790 root         INFO     Running trial {'iti': 3880, 'tr_num': 42, 'stim': '20190701-f03123-bos-undirected_tag.wav', 'transparent_time': None, 'type': 'audio'}\n",
      "2019-07-05 14:43:19,790 root         INFO     Running trial {'iti': 3880, 'tr_num': 42, 'stim': '20190701-f03123-bos-undirected_tag.wav', 'transparent_time': None, 'type': 'audio'}\n"
     ]
    },
    {
     "name": "stdout",
     "output_type": "stream",
     "text": [
      "{'iti': 3880, 'tr_num': 42, 'stim': '20190701-f03123-bos-undirected_tag.wav', 'transparent_time': None, 'type': 'audio'}\n"
     ]
    },
    {
     "name": "stderr",
     "output_type": "stream",
     "text": [
      "2019-07-05 14:43:28,598 root         INFO     Running trial {'iti': 5501, 'tr_num': 43, 'stim': '20190705-f00201-bos-calls-undirected_tag.wav', 'transparent_time': None, 'type': 'audio'}\n",
      "2019-07-05 14:43:28,598 root         INFO     Running trial {'iti': 5501, 'tr_num': 43, 'stim': '20190705-f00201-bos-calls-undirected_tag.wav', 'transparent_time': None, 'type': 'audio'}\n"
     ]
    },
    {
     "name": "stdout",
     "output_type": "stream",
     "text": [
      "{'iti': 5501, 'tr_num': 43, 'stim': '20190705-f00201-bos-calls-undirected_tag.wav', 'transparent_time': None, 'type': 'audio'}\n"
     ]
    },
    {
     "name": "stderr",
     "output_type": "stream",
     "text": [
      "2019-07-05 14:43:38,803 root         INFO     Running trial {'iti': 5077, 'tr_num': 44, 'stim': '20190701-f03123-bos-undirected_tag.wav', 'transparent_time': None, 'type': 'audio'}\n",
      "2019-07-05 14:43:38,803 root         INFO     Running trial {'iti': 5077, 'tr_num': 44, 'stim': '20190701-f03123-bos-undirected_tag.wav', 'transparent_time': None, 'type': 'audio'}\n"
     ]
    },
    {
     "name": "stdout",
     "output_type": "stream",
     "text": [
      "{'iti': 5077, 'tr_num': 44, 'stim': '20190701-f03123-bos-undirected_tag.wav', 'transparent_time': None, 'type': 'audio'}\n"
     ]
    },
    {
     "name": "stderr",
     "output_type": "stream",
     "text": [
      "2019-07-05 14:43:48,677 root         INFO     Running trial {'iti': 3102, 'tr_num': 45, 'stim': '20190705-f00201-bos-calls-undirected_tag.wav', 'transparent_time': None, 'type': 'audio'}\n",
      "2019-07-05 14:43:48,677 root         INFO     Running trial {'iti': 3102, 'tr_num': 45, 'stim': '20190705-f00201-bos-calls-undirected_tag.wav', 'transparent_time': None, 'type': 'audio'}\n"
     ]
    },
    {
     "name": "stdout",
     "output_type": "stream",
     "text": [
      "{'iti': 3102, 'tr_num': 45, 'stim': '20190705-f00201-bos-calls-undirected_tag.wav', 'transparent_time': None, 'type': 'audio'}\n"
     ]
    },
    {
     "name": "stderr",
     "output_type": "stream",
     "text": [
      "2019-07-05 14:43:56,346 root         INFO     Running trial {'iti': 6744, 'tr_num': 46, 'stim': '20190705-f00201-bos-calls-undirected_tag.wav', 'transparent_time': None, 'type': 'audio'}\n",
      "2019-07-05 14:43:56,346 root         INFO     Running trial {'iti': 6744, 'tr_num': 46, 'stim': '20190705-f00201-bos-calls-undirected_tag.wav', 'transparent_time': None, 'type': 'audio'}\n"
     ]
    },
    {
     "name": "stdout",
     "output_type": "stream",
     "text": [
      "{'iti': 6744, 'tr_num': 46, 'stim': '20190705-f00201-bos-calls-undirected_tag.wav', 'transparent_time': None, 'type': 'audio'}\n"
     ]
    },
    {
     "name": "stderr",
     "output_type": "stream",
     "text": [
      "2019-07-05 14:44:07,716 root         INFO     Running trial {'iti': 4576, 'tr_num': 47, 'stim': '20190705-f00201-bos-calls-undirected_tag.wav', 'transparent_time': None, 'type': 'audio'}\n",
      "2019-07-05 14:44:07,716 root         INFO     Running trial {'iti': 4576, 'tr_num': 47, 'stim': '20190705-f00201-bos-calls-undirected_tag.wav', 'transparent_time': None, 'type': 'audio'}\n"
     ]
    },
    {
     "name": "stdout",
     "output_type": "stream",
     "text": [
      "{'iti': 4576, 'tr_num': 47, 'stim': '20190705-f00201-bos-calls-undirected_tag.wav', 'transparent_time': None, 'type': 'audio'}\n"
     ]
    },
    {
     "name": "stderr",
     "output_type": "stream",
     "text": [
      "2019-07-05 14:44:16,935 root         INFO     Running trial {'iti': 3150, 'tr_num': 48, 'stim': '20190701-f03123-bos-undirected_tag.wav', 'transparent_time': None, 'type': 'audio'}\n",
      "2019-07-05 14:44:16,935 root         INFO     Running trial {'iti': 3150, 'tr_num': 48, 'stim': '20190701-f03123-bos-undirected_tag.wav', 'transparent_time': None, 'type': 'audio'}\n"
     ]
    },
    {
     "name": "stdout",
     "output_type": "stream",
     "text": [
      "{'iti': 3150, 'tr_num': 48, 'stim': '20190701-f03123-bos-undirected_tag.wav', 'transparent_time': None, 'type': 'audio'}\n"
     ]
    },
    {
     "name": "stderr",
     "output_type": "stream",
     "text": [
      "2019-07-05 14:44:24,830 root         INFO     Running trial {'iti': 4010, 'tr_num': 49, 'stim': '20190705-f00201-bos-calls-undirected_tag.wav', 'transparent_time': None, 'type': 'audio'}\n",
      "2019-07-05 14:44:24,830 root         INFO     Running trial {'iti': 4010, 'tr_num': 49, 'stim': '20190705-f00201-bos-calls-undirected_tag.wav', 'transparent_time': None, 'type': 'audio'}\n"
     ]
    },
    {
     "name": "stdout",
     "output_type": "stream",
     "text": [
      "{'iti': 4010, 'tr_num': 49, 'stim': '20190705-f00201-bos-calls-undirected_tag.wav', 'transparent_time': None, 'type': 'audio'}\n"
     ]
    },
    {
     "name": "stderr",
     "output_type": "stream",
     "text": [
      "2019-07-05 14:44:33,329 root         INFO     Running trial {'iti': 6397, 'tr_num': 50, 'stim': '20190705-f00201-bos-calls-undirected_tag.wav', 'transparent_time': None, 'type': 'audio'}\n",
      "2019-07-05 14:44:33,329 root         INFO     Running trial {'iti': 6397, 'tr_num': 50, 'stim': '20190705-f00201-bos-calls-undirected_tag.wav', 'transparent_time': None, 'type': 'audio'}\n"
     ]
    },
    {
     "name": "stdout",
     "output_type": "stream",
     "text": [
      "{'iti': 6397, 'tr_num': 50, 'stim': '20190705-f00201-bos-calls-undirected_tag.wav', 'transparent_time': None, 'type': 'audio'}\n"
     ]
    },
    {
     "name": "stderr",
     "output_type": "stream",
     "text": [
      "2019-07-05 14:44:44,373 root         INFO     Running trial {'iti': 5941, 'tr_num': 51, 'stim': '20190705-f00201-bos-calls-undirected_tag.wav', 'transparent_time': None, 'type': 'audio'}\n",
      "2019-07-05 14:44:44,373 root         INFO     Running trial {'iti': 5941, 'tr_num': 51, 'stim': '20190705-f00201-bos-calls-undirected_tag.wav', 'transparent_time': None, 'type': 'audio'}\n"
     ]
    },
    {
     "name": "stdout",
     "output_type": "stream",
     "text": [
      "{'iti': 5941, 'tr_num': 51, 'stim': '20190705-f00201-bos-calls-undirected_tag.wav', 'transparent_time': None, 'type': 'audio'}\n"
     ]
    },
    {
     "name": "stderr",
     "output_type": "stream",
     "text": [
      "2019-07-05 14:44:55,026 root         INFO     Running trial {'iti': 3052, 'tr_num': 52, 'stim': '20190705-f00201-bos-calls-undirected_tag.wav', 'transparent_time': None, 'type': 'audio'}\n",
      "2019-07-05 14:44:55,026 root         INFO     Running trial {'iti': 3052, 'tr_num': 52, 'stim': '20190705-f00201-bos-calls-undirected_tag.wav', 'transparent_time': None, 'type': 'audio'}\n"
     ]
    },
    {
     "name": "stdout",
     "output_type": "stream",
     "text": [
      "{'iti': 3052, 'tr_num': 52, 'stim': '20190705-f00201-bos-calls-undirected_tag.wav', 'transparent_time': None, 'type': 'audio'}\n"
     ]
    },
    {
     "name": "stderr",
     "output_type": "stream",
     "text": [
      "2019-07-05 14:45:02,665 root         INFO     Running trial {'iti': 6206, 'tr_num': 53, 'stim': '20190701-f03123-bos-undirected_tag.wav', 'transparent_time': None, 'type': 'audio'}\n",
      "2019-07-05 14:45:02,665 root         INFO     Running trial {'iti': 6206, 'tr_num': 53, 'stim': '20190701-f03123-bos-undirected_tag.wav', 'transparent_time': None, 'type': 'audio'}\n"
     ]
    },
    {
     "name": "stdout",
     "output_type": "stream",
     "text": [
      "{'iti': 6206, 'tr_num': 53, 'stim': '20190701-f03123-bos-undirected_tag.wav', 'transparent_time': None, 'type': 'audio'}\n"
     ]
    },
    {
     "name": "stderr",
     "output_type": "stream",
     "text": [
      "2019-07-05 14:45:13,599 root         INFO     Running trial {'iti': 6851, 'tr_num': 54, 'stim': '20190705-f00201-bos-calls-undirected_tag.wav', 'transparent_time': None, 'type': 'audio'}\n",
      "2019-07-05 14:45:13,599 root         INFO     Running trial {'iti': 6851, 'tr_num': 54, 'stim': '20190705-f00201-bos-calls-undirected_tag.wav', 'transparent_time': None, 'type': 'audio'}\n"
     ]
    },
    {
     "name": "stdout",
     "output_type": "stream",
     "text": [
      "{'iti': 6851, 'tr_num': 54, 'stim': '20190705-f00201-bos-calls-undirected_tag.wav', 'transparent_time': None, 'type': 'audio'}\n"
     ]
    },
    {
     "name": "stderr",
     "output_type": "stream",
     "text": [
      "2019-07-05 14:45:25,019 root         INFO     Running trial {'iti': 4203, 'tr_num': 55, 'stim': '20190705-f00201-bos-calls-undirected_tag.wav', 'transparent_time': None, 'type': 'audio'}\n",
      "2019-07-05 14:45:25,019 root         INFO     Running trial {'iti': 4203, 'tr_num': 55, 'stim': '20190705-f00201-bos-calls-undirected_tag.wav', 'transparent_time': None, 'type': 'audio'}\n"
     ]
    },
    {
     "name": "stdout",
     "output_type": "stream",
     "text": [
      "{'iti': 4203, 'tr_num': 55, 'stim': '20190705-f00201-bos-calls-undirected_tag.wav', 'transparent_time': None, 'type': 'audio'}\n"
     ]
    },
    {
     "name": "stderr",
     "output_type": "stream",
     "text": [
      "2019-07-05 14:45:33,836 root         INFO     Running trial {'iti': 5272, 'tr_num': 56, 'stim': '20190705-f00201-bos-calls-undirected_tag.wav', 'transparent_time': None, 'type': 'audio'}\n",
      "2019-07-05 14:45:33,836 root         INFO     Running trial {'iti': 5272, 'tr_num': 56, 'stim': '20190705-f00201-bos-calls-undirected_tag.wav', 'transparent_time': None, 'type': 'audio'}\n"
     ]
    },
    {
     "name": "stdout",
     "output_type": "stream",
     "text": [
      "{'iti': 5272, 'tr_num': 56, 'stim': '20190705-f00201-bos-calls-undirected_tag.wav', 'transparent_time': None, 'type': 'audio'}\n"
     ]
    },
    {
     "name": "stderr",
     "output_type": "stream",
     "text": [
      "2019-07-05 14:45:43,666 root         INFO     Running trial {'iti': 5486, 'tr_num': 57, 'stim': '20190701-f03123-bos-undirected_tag.wav', 'transparent_time': None, 'type': 'audio'}\n",
      "2019-07-05 14:45:43,666 root         INFO     Running trial {'iti': 5486, 'tr_num': 57, 'stim': '20190701-f03123-bos-undirected_tag.wav', 'transparent_time': None, 'type': 'audio'}\n"
     ]
    },
    {
     "name": "stdout",
     "output_type": "stream",
     "text": [
      "{'iti': 5486, 'tr_num': 57, 'stim': '20190701-f03123-bos-undirected_tag.wav', 'transparent_time': None, 'type': 'audio'}\n"
     ]
    },
    {
     "name": "stderr",
     "output_type": "stream",
     "text": [
      "2019-07-05 14:45:54,009 root         INFO     Running trial {'iti': 4364, 'tr_num': 58, 'stim': '20190701-f03123-bos-undirected_tag.wav', 'transparent_time': None, 'type': 'audio'}\n",
      "2019-07-05 14:45:54,009 root         INFO     Running trial {'iti': 4364, 'tr_num': 58, 'stim': '20190701-f03123-bos-undirected_tag.wav', 'transparent_time': None, 'type': 'audio'}\n"
     ]
    },
    {
     "name": "stdout",
     "output_type": "stream",
     "text": [
      "{'iti': 4364, 'tr_num': 58, 'stim': '20190701-f03123-bos-undirected_tag.wav', 'transparent_time': None, 'type': 'audio'}\n"
     ]
    },
    {
     "name": "stderr",
     "output_type": "stream",
     "text": [
      "2019-07-05 14:46:03,090 root         INFO     Running trial {'iti': 4279, 'tr_num': 59, 'stim': '20190705-f00201-bos-calls-undirected_tag.wav', 'transparent_time': None, 'type': 'audio'}\n",
      "2019-07-05 14:46:03,090 root         INFO     Running trial {'iti': 4279, 'tr_num': 59, 'stim': '20190705-f00201-bos-calls-undirected_tag.wav', 'transparent_time': None, 'type': 'audio'}\n"
     ]
    },
    {
     "name": "stdout",
     "output_type": "stream",
     "text": [
      "{'iti': 4279, 'tr_num': 59, 'stim': '20190705-f00201-bos-calls-undirected_tag.wav', 'transparent_time': None, 'type': 'audio'}\n"
     ]
    },
    {
     "name": "stderr",
     "output_type": "stream",
     "text": [
      "2019-07-05 14:46:11,929 root         INFO     Running trial {'iti': 6298, 'tr_num': 60, 'stim': '20190705-f00201-bos-calls-undirected_tag.wav', 'transparent_time': None, 'type': 'audio'}\n",
      "2019-07-05 14:46:11,929 root         INFO     Running trial {'iti': 6298, 'tr_num': 60, 'stim': '20190705-f00201-bos-calls-undirected_tag.wav', 'transparent_time': None, 'type': 'audio'}\n"
     ]
    },
    {
     "name": "stdout",
     "output_type": "stream",
     "text": [
      "{'iti': 6298, 'tr_num': 60, 'stim': '20190705-f00201-bos-calls-undirected_tag.wav', 'transparent_time': None, 'type': 'audio'}\n"
     ]
    },
    {
     "name": "stderr",
     "output_type": "stream",
     "text": [
      "2019-07-05 14:46:22,887 root         INFO     Running trial {'iti': 5518, 'tr_num': 61, 'stim': '20190705-f00201-bos-calls-undirected_tag.wav', 'transparent_time': None, 'type': 'audio'}\n",
      "2019-07-05 14:46:22,887 root         INFO     Running trial {'iti': 5518, 'tr_num': 61, 'stim': '20190705-f00201-bos-calls-undirected_tag.wav', 'transparent_time': None, 'type': 'audio'}\n"
     ]
    },
    {
     "name": "stdout",
     "output_type": "stream",
     "text": [
      "{'iti': 5518, 'tr_num': 61, 'stim': '20190705-f00201-bos-calls-undirected_tag.wav', 'transparent_time': None, 'type': 'audio'}\n"
     ]
    },
    {
     "name": "stderr",
     "output_type": "stream",
     "text": [
      "2019-07-05 14:46:33,029 root         INFO     Running trial {'iti': 5163, 'tr_num': 62, 'stim': '20190705-f00201-bos-calls-undirected_tag.wav', 'transparent_time': None, 'type': 'audio'}\n",
      "2019-07-05 14:46:33,029 root         INFO     Running trial {'iti': 5163, 'tr_num': 62, 'stim': '20190705-f00201-bos-calls-undirected_tag.wav', 'transparent_time': None, 'type': 'audio'}\n"
     ]
    },
    {
     "name": "stdout",
     "output_type": "stream",
     "text": [
      "{'iti': 5163, 'tr_num': 62, 'stim': '20190705-f00201-bos-calls-undirected_tag.wav', 'transparent_time': None, 'type': 'audio'}\n"
     ]
    },
    {
     "name": "stderr",
     "output_type": "stream",
     "text": [
      "2019-07-05 14:46:42,755 root         INFO     Running trial {'iti': 4254, 'tr_num': 63, 'stim': '20190705-f00201-bos-calls-undirected_tag.wav', 'transparent_time': None, 'type': 'audio'}\n",
      "2019-07-05 14:46:42,755 root         INFO     Running trial {'iti': 4254, 'tr_num': 63, 'stim': '20190705-f00201-bos-calls-undirected_tag.wav', 'transparent_time': None, 'type': 'audio'}\n"
     ]
    },
    {
     "name": "stdout",
     "output_type": "stream",
     "text": [
      "{'iti': 4254, 'tr_num': 63, 'stim': '20190705-f00201-bos-calls-undirected_tag.wav', 'transparent_time': None, 'type': 'audio'}\n"
     ]
    },
    {
     "name": "stderr",
     "output_type": "stream",
     "text": [
      "2019-07-05 14:46:51,576 root         INFO     Running trial {'iti': 4123, 'tr_num': 64, 'stim': '20190701-f03123-bos-undirected_tag.wav', 'transparent_time': None, 'type': 'audio'}\n",
      "2019-07-05 14:46:51,576 root         INFO     Running trial {'iti': 4123, 'tr_num': 64, 'stim': '20190701-f03123-bos-undirected_tag.wav', 'transparent_time': None, 'type': 'audio'}\n"
     ]
    },
    {
     "name": "stdout",
     "output_type": "stream",
     "text": [
      "{'iti': 4123, 'tr_num': 64, 'stim': '20190701-f03123-bos-undirected_tag.wav', 'transparent_time': None, 'type': 'audio'}\n"
     ]
    },
    {
     "name": "stderr",
     "output_type": "stream",
     "text": [
      "2019-07-05 14:47:00,470 root         INFO     Running trial {'iti': 6933, 'tr_num': 65, 'stim': '20190701-f03123-bos-undirected_tag.wav', 'transparent_time': None, 'type': 'audio'}\n",
      "2019-07-05 14:47:00,470 root         INFO     Running trial {'iti': 6933, 'tr_num': 65, 'stim': '20190701-f03123-bos-undirected_tag.wav', 'transparent_time': None, 'type': 'audio'}\n"
     ]
    },
    {
     "name": "stdout",
     "output_type": "stream",
     "text": [
      "{'iti': 6933, 'tr_num': 65, 'stim': '20190701-f03123-bos-undirected_tag.wav', 'transparent_time': None, 'type': 'audio'}\n"
     ]
    },
    {
     "name": "stderr",
     "output_type": "stream",
     "text": [
      "2019-07-05 14:47:12,053 root         INFO     Running trial {'iti': 3994, 'tr_num': 66, 'stim': '20190701-f03123-bos-undirected_tag.wav', 'transparent_time': None, 'type': 'audio'}\n",
      "2019-07-05 14:47:12,053 root         INFO     Running trial {'iti': 3994, 'tr_num': 66, 'stim': '20190701-f03123-bos-undirected_tag.wav', 'transparent_time': None, 'type': 'audio'}\n"
     ]
    },
    {
     "name": "stdout",
     "output_type": "stream",
     "text": [
      "{'iti': 3994, 'tr_num': 66, 'stim': '20190701-f03123-bos-undirected_tag.wav', 'transparent_time': None, 'type': 'audio'}\n"
     ]
    },
    {
     "name": "stderr",
     "output_type": "stream",
     "text": [
      "2019-07-05 14:47:20,771 root         INFO     Running trial {'iti': 4052, 'tr_num': 67, 'stim': '20190701-f03123-bos-undirected_tag.wav', 'transparent_time': None, 'type': 'audio'}\n",
      "2019-07-05 14:47:20,771 root         INFO     Running trial {'iti': 4052, 'tr_num': 67, 'stim': '20190701-f03123-bos-undirected_tag.wav', 'transparent_time': None, 'type': 'audio'}\n"
     ]
    },
    {
     "name": "stdout",
     "output_type": "stream",
     "text": [
      "{'iti': 4052, 'tr_num': 67, 'stim': '20190701-f03123-bos-undirected_tag.wav', 'transparent_time': None, 'type': 'audio'}\n"
     ]
    },
    {
     "name": "stderr",
     "output_type": "stream",
     "text": [
      "2019-07-05 14:47:29,664 root         INFO     Running trial {'iti': 4108, 'tr_num': 68, 'stim': '20190705-f00201-bos-calls-undirected_tag.wav', 'transparent_time': None, 'type': 'audio'}\n",
      "2019-07-05 14:47:29,664 root         INFO     Running trial {'iti': 4108, 'tr_num': 68, 'stim': '20190705-f00201-bos-calls-undirected_tag.wav', 'transparent_time': None, 'type': 'audio'}\n"
     ]
    },
    {
     "name": "stdout",
     "output_type": "stream",
     "text": [
      "{'iti': 4108, 'tr_num': 68, 'stim': '20190705-f00201-bos-calls-undirected_tag.wav', 'transparent_time': None, 'type': 'audio'}\n"
     ]
    },
    {
     "name": "stderr",
     "output_type": "stream",
     "text": [
      "2019-07-05 14:47:38,465 root         INFO     Running trial {'iti': 6376, 'tr_num': 69, 'stim': '20190701-f03123-bos-undirected_tag.wav', 'transparent_time': None, 'type': 'audio'}\n",
      "2019-07-05 14:47:38,465 root         INFO     Running trial {'iti': 6376, 'tr_num': 69, 'stim': '20190701-f03123-bos-undirected_tag.wav', 'transparent_time': None, 'type': 'audio'}\n"
     ]
    },
    {
     "name": "stdout",
     "output_type": "stream",
     "text": [
      "{'iti': 6376, 'tr_num': 69, 'stim': '20190701-f03123-bos-undirected_tag.wav', 'transparent_time': None, 'type': 'audio'}\n"
     ]
    },
    {
     "name": "stderr",
     "output_type": "stream",
     "text": [
      "2019-07-05 14:47:49,629 root         INFO     Running trial {'iti': 5915, 'tr_num': 70, 'stim': '20190701-f03123-bos-undirected_tag.wav', 'transparent_time': None, 'type': 'audio'}\n",
      "2019-07-05 14:47:49,629 root         INFO     Running trial {'iti': 5915, 'tr_num': 70, 'stim': '20190701-f03123-bos-undirected_tag.wav', 'transparent_time': None, 'type': 'audio'}\n"
     ]
    },
    {
     "name": "stdout",
     "output_type": "stream",
     "text": [
      "{'iti': 5915, 'tr_num': 70, 'stim': '20190701-f03123-bos-undirected_tag.wav', 'transparent_time': None, 'type': 'audio'}\n"
     ]
    },
    {
     "name": "stderr",
     "output_type": "stream",
     "text": [
      "2019-07-05 14:49:19,125 root         INFO     Running trial {'iti': 5841, 'tr_num': 71, 'stim': '20190701-f03123-bos-undirected_tag.wav', 'transparent_time': None, 'type': 'audio'}\n",
      "2019-07-05 14:49:19,125 root         INFO     Running trial {'iti': 5841, 'tr_num': 71, 'stim': '20190701-f03123-bos-undirected_tag.wav', 'transparent_time': None, 'type': 'audio'}\n"
     ]
    },
    {
     "name": "stdout",
     "output_type": "stream",
     "text": [
      "{'iti': 5841, 'tr_num': 71, 'stim': '20190701-f03123-bos-undirected_tag.wav', 'transparent_time': None, 'type': 'audio'}\n"
     ]
    },
    {
     "name": "stderr",
     "output_type": "stream",
     "text": [
      "2019-07-05 14:49:29,786 root         INFO     Running trial {'iti': 4596, 'tr_num': 72, 'stim': '20190705-f00201-bos-calls-undirected_tag.wav', 'transparent_time': None, 'type': 'audio'}\n",
      "2019-07-05 14:49:29,786 root         INFO     Running trial {'iti': 4596, 'tr_num': 72, 'stim': '20190705-f00201-bos-calls-undirected_tag.wav', 'transparent_time': None, 'type': 'audio'}\n"
     ]
    },
    {
     "name": "stdout",
     "output_type": "stream",
     "text": [
      "{'iti': 4596, 'tr_num': 72, 'stim': '20190705-f00201-bos-calls-undirected_tag.wav', 'transparent_time': None, 'type': 'audio'}\n"
     ]
    },
    {
     "name": "stderr",
     "output_type": "stream",
     "text": [
      "2019-07-05 14:49:38,893 root         INFO     Running trial {'iti': 6409, 'tr_num': 73, 'stim': '20190705-f00201-bos-calls-undirected_tag.wav', 'transparent_time': None, 'type': 'audio'}\n",
      "2019-07-05 14:49:38,893 root         INFO     Running trial {'iti': 6409, 'tr_num': 73, 'stim': '20190705-f00201-bos-calls-undirected_tag.wav', 'transparent_time': None, 'type': 'audio'}\n"
     ]
    },
    {
     "name": "stdout",
     "output_type": "stream",
     "text": [
      "{'iti': 6409, 'tr_num': 73, 'stim': '20190705-f00201-bos-calls-undirected_tag.wav', 'transparent_time': None, 'type': 'audio'}\n"
     ]
    },
    {
     "name": "stderr",
     "output_type": "stream",
     "text": [
      "2019-07-05 14:49:49,839 root         INFO     Running trial {'iti': 5582, 'tr_num': 74, 'stim': '20190701-f03123-bos-undirected_tag.wav', 'transparent_time': None, 'type': 'audio'}\n",
      "2019-07-05 14:49:49,839 root         INFO     Running trial {'iti': 5582, 'tr_num': 74, 'stim': '20190701-f03123-bos-undirected_tag.wav', 'transparent_time': None, 'type': 'audio'}\n"
     ]
    },
    {
     "name": "stdout",
     "output_type": "stream",
     "text": [
      "{'iti': 5582, 'tr_num': 74, 'stim': '20190701-f03123-bos-undirected_tag.wav', 'transparent_time': None, 'type': 'audio'}\n"
     ]
    },
    {
     "name": "stderr",
     "output_type": "stream",
     "text": [
      "2019-07-05 14:50:00,196 root         INFO     Running trial {'iti': 3861, 'tr_num': 75, 'stim': '20190705-f00201-bos-calls-undirected_tag.wav', 'transparent_time': None, 'type': 'audio'}\n",
      "2019-07-05 14:50:00,196 root         INFO     Running trial {'iti': 3861, 'tr_num': 75, 'stim': '20190705-f00201-bos-calls-undirected_tag.wav', 'transparent_time': None, 'type': 'audio'}\n"
     ]
    },
    {
     "name": "stdout",
     "output_type": "stream",
     "text": [
      "{'iti': 3861, 'tr_num': 75, 'stim': '20190705-f00201-bos-calls-undirected_tag.wav', 'transparent_time': None, 'type': 'audio'}\n"
     ]
    },
    {
     "name": "stderr",
     "output_type": "stream",
     "text": [
      "2019-07-05 14:50:08,696 root         INFO     Running trial {'iti': 6915, 'tr_num': 76, 'stim': '20190701-f03123-bos-undirected_tag.wav', 'transparent_time': None, 'type': 'audio'}\n",
      "2019-07-05 14:50:08,696 root         INFO     Running trial {'iti': 6915, 'tr_num': 76, 'stim': '20190701-f03123-bos-undirected_tag.wav', 'transparent_time': None, 'type': 'audio'}\n"
     ]
    },
    {
     "name": "stdout",
     "output_type": "stream",
     "text": [
      "{'iti': 6915, 'tr_num': 76, 'stim': '20190701-f03123-bos-undirected_tag.wav', 'transparent_time': None, 'type': 'audio'}\n"
     ]
    },
    {
     "name": "stderr",
     "output_type": "stream",
     "text": [
      "2019-07-05 14:50:20,344 root         INFO     Running trial {'iti': 3553, 'tr_num': 77, 'stim': '20190701-f03123-bos-undirected_tag.wav', 'transparent_time': None, 'type': 'audio'}\n",
      "2019-07-05 14:50:20,344 root         INFO     Running trial {'iti': 3553, 'tr_num': 77, 'stim': '20190701-f03123-bos-undirected_tag.wav', 'transparent_time': None, 'type': 'audio'}\n"
     ]
    },
    {
     "name": "stdout",
     "output_type": "stream",
     "text": [
      "{'iti': 3553, 'tr_num': 77, 'stim': '20190701-f03123-bos-undirected_tag.wav', 'transparent_time': None, 'type': 'audio'}\n"
     ]
    },
    {
     "name": "stderr",
     "output_type": "stream",
     "text": [
      "2019-07-05 14:50:28,561 root         INFO     Running trial {'iti': 6925, 'tr_num': 78, 'stim': '20190705-f00201-bos-calls-undirected_tag.wav', 'transparent_time': None, 'type': 'audio'}\n",
      "2019-07-05 14:50:28,561 root         INFO     Running trial {'iti': 6925, 'tr_num': 78, 'stim': '20190705-f00201-bos-calls-undirected_tag.wav', 'transparent_time': None, 'type': 'audio'}\n"
     ]
    },
    {
     "name": "stdout",
     "output_type": "stream",
     "text": [
      "{'iti': 6925, 'tr_num': 78, 'stim': '20190705-f00201-bos-calls-undirected_tag.wav', 'transparent_time': None, 'type': 'audio'}\n"
     ]
    },
    {
     "name": "stderr",
     "output_type": "stream",
     "text": [
      "2019-07-05 14:50:39,942 root         INFO     Running trial {'iti': 5435, 'tr_num': 79, 'stim': '20190701-f03123-bos-undirected_tag.wav', 'transparent_time': None, 'type': 'audio'}\n",
      "2019-07-05 14:50:39,942 root         INFO     Running trial {'iti': 5435, 'tr_num': 79, 'stim': '20190701-f03123-bos-undirected_tag.wav', 'transparent_time': None, 'type': 'audio'}\n"
     ]
    },
    {
     "name": "stdout",
     "output_type": "stream",
     "text": [
      "{'iti': 5435, 'tr_num': 79, 'stim': '20190701-f03123-bos-undirected_tag.wav', 'transparent_time': None, 'type': 'audio'}\n"
     ]
    },
    {
     "name": "stderr",
     "output_type": "stream",
     "text": [
      "2019-07-05 14:50:50,094 root         INFO     Running trial {'iti': 5265, 'tr_num': 80, 'stim': '20190705-f00201-bos-calls-undirected_tag.wav', 'transparent_time': None, 'type': 'audio'}\n",
      "2019-07-05 14:50:50,094 root         INFO     Running trial {'iti': 5265, 'tr_num': 80, 'stim': '20190705-f00201-bos-calls-undirected_tag.wav', 'transparent_time': None, 'type': 'audio'}\n"
     ]
    },
    {
     "name": "stdout",
     "output_type": "stream",
     "text": [
      "{'iti': 5265, 'tr_num': 80, 'stim': '20190705-f00201-bos-calls-undirected_tag.wav', 'transparent_time': None, 'type': 'audio'}\n"
     ]
    },
    {
     "name": "stderr",
     "output_type": "stream",
     "text": [
      "2019-07-05 14:50:59,998 root         INFO     Running trial {'iti': 4908, 'tr_num': 81, 'stim': '20190705-f00201-bos-calls-undirected_tag.wav', 'transparent_time': None, 'type': 'audio'}\n",
      "2019-07-05 14:50:59,998 root         INFO     Running trial {'iti': 4908, 'tr_num': 81, 'stim': '20190705-f00201-bos-calls-undirected_tag.wav', 'transparent_time': None, 'type': 'audio'}\n"
     ]
    },
    {
     "name": "stdout",
     "output_type": "stream",
     "text": [
      "{'iti': 4908, 'tr_num': 81, 'stim': '20190705-f00201-bos-calls-undirected_tag.wav', 'transparent_time': None, 'type': 'audio'}\n"
     ]
    },
    {
     "name": "stderr",
     "output_type": "stream",
     "text": [
      "2019-07-05 14:51:09,406 root         INFO     Running trial {'iti': 3601, 'tr_num': 82, 'stim': '20190705-f00201-bos-calls-undirected_tag.wav', 'transparent_time': None, 'type': 'audio'}\n",
      "2019-07-05 14:51:09,406 root         INFO     Running trial {'iti': 3601, 'tr_num': 82, 'stim': '20190705-f00201-bos-calls-undirected_tag.wav', 'transparent_time': None, 'type': 'audio'}\n"
     ]
    },
    {
     "name": "stdout",
     "output_type": "stream",
     "text": [
      "{'iti': 3601, 'tr_num': 82, 'stim': '20190705-f00201-bos-calls-undirected_tag.wav', 'transparent_time': None, 'type': 'audio'}\n"
     ]
    },
    {
     "name": "stderr",
     "output_type": "stream",
     "text": [
      "2019-07-05 14:51:17,603 root         INFO     Running trial {'iti': 3837, 'tr_num': 83, 'stim': '20190705-f00201-bos-calls-undirected_tag.wav', 'transparent_time': None, 'type': 'audio'}\n",
      "2019-07-05 14:51:17,603 root         INFO     Running trial {'iti': 3837, 'tr_num': 83, 'stim': '20190705-f00201-bos-calls-undirected_tag.wav', 'transparent_time': None, 'type': 'audio'}\n"
     ]
    },
    {
     "name": "stdout",
     "output_type": "stream",
     "text": [
      "{'iti': 3837, 'tr_num': 83, 'stim': '20190705-f00201-bos-calls-undirected_tag.wav', 'transparent_time': None, 'type': 'audio'}\n"
     ]
    },
    {
     "name": "stderr",
     "output_type": "stream",
     "text": [
      "2019-07-05 14:51:26,055 root         INFO     Running trial {'iti': 6212, 'tr_num': 84, 'stim': '20190705-f00201-bos-calls-undirected_tag.wav', 'transparent_time': None, 'type': 'audio'}\n",
      "2019-07-05 14:51:26,055 root         INFO     Running trial {'iti': 6212, 'tr_num': 84, 'stim': '20190705-f00201-bos-calls-undirected_tag.wav', 'transparent_time': None, 'type': 'audio'}\n"
     ]
    },
    {
     "name": "stdout",
     "output_type": "stream",
     "text": [
      "{'iti': 6212, 'tr_num': 84, 'stim': '20190705-f00201-bos-calls-undirected_tag.wav', 'transparent_time': None, 'type': 'audio'}\n"
     ]
    },
    {
     "name": "stderr",
     "output_type": "stream",
     "text": [
      "2019-07-05 14:51:36,904 root         INFO     Running trial {'iti': 3083, 'tr_num': 85, 'stim': '20190701-f03123-bos-undirected_tag.wav', 'transparent_time': None, 'type': 'audio'}\n",
      "2019-07-05 14:51:36,904 root         INFO     Running trial {'iti': 3083, 'tr_num': 85, 'stim': '20190701-f03123-bos-undirected_tag.wav', 'transparent_time': None, 'type': 'audio'}\n"
     ]
    },
    {
     "name": "stdout",
     "output_type": "stream",
     "text": [
      "{'iti': 3083, 'tr_num': 85, 'stim': '20190701-f03123-bos-undirected_tag.wav', 'transparent_time': None, 'type': 'audio'}\n"
     ]
    },
    {
     "name": "stderr",
     "output_type": "stream",
     "text": [
      "2019-07-05 14:51:44,850 root         INFO     Running trial {'iti': 5782, 'tr_num': 86, 'stim': '20190701-f03123-bos-undirected_tag.wav', 'transparent_time': None, 'type': 'audio'}\n",
      "2019-07-05 14:51:44,850 root         INFO     Running trial {'iti': 5782, 'tr_num': 86, 'stim': '20190701-f03123-bos-undirected_tag.wav', 'transparent_time': None, 'type': 'audio'}\n"
     ]
    },
    {
     "name": "stdout",
     "output_type": "stream",
     "text": [
      "{'iti': 5782, 'tr_num': 86, 'stim': '20190701-f03123-bos-undirected_tag.wav', 'transparent_time': None, 'type': 'audio'}\n"
     ]
    },
    {
     "name": "stderr",
     "output_type": "stream",
     "text": [
      "2019-07-05 14:51:55,397 root         INFO     Running trial {'iti': 5388, 'tr_num': 87, 'stim': '20190705-f00201-bos-calls-undirected_tag.wav', 'transparent_time': None, 'type': 'audio'}\n",
      "2019-07-05 14:51:55,397 root         INFO     Running trial {'iti': 5388, 'tr_num': 87, 'stim': '20190705-f00201-bos-calls-undirected_tag.wav', 'transparent_time': None, 'type': 'audio'}\n"
     ]
    },
    {
     "name": "stdout",
     "output_type": "stream",
     "text": [
      "{'iti': 5388, 'tr_num': 87, 'stim': '20190705-f00201-bos-calls-undirected_tag.wav', 'transparent_time': None, 'type': 'audio'}\n"
     ]
    },
    {
     "name": "stderr",
     "output_type": "stream",
     "text": [
      "2019-07-05 14:52:05,322 root         INFO     Running trial {'iti': 3275, 'tr_num': 88, 'stim': '20190705-f00201-bos-calls-undirected_tag.wav', 'transparent_time': None, 'type': 'audio'}\n",
      "2019-07-05 14:52:05,322 root         INFO     Running trial {'iti': 3275, 'tr_num': 88, 'stim': '20190705-f00201-bos-calls-undirected_tag.wav', 'transparent_time': None, 'type': 'audio'}\n"
     ]
    },
    {
     "name": "stdout",
     "output_type": "stream",
     "text": [
      "{'iti': 3275, 'tr_num': 88, 'stim': '20190705-f00201-bos-calls-undirected_tag.wav', 'transparent_time': None, 'type': 'audio'}\n"
     ]
    },
    {
     "name": "stderr",
     "output_type": "stream",
     "text": [
      "2019-07-05 14:52:13,099 root         INFO     Running trial {'iti': 4381, 'tr_num': 89, 'stim': '20190701-f03123-bos-undirected_tag.wav', 'transparent_time': None, 'type': 'audio'}\n",
      "2019-07-05 14:52:13,099 root         INFO     Running trial {'iti': 4381, 'tr_num': 89, 'stim': '20190701-f03123-bos-undirected_tag.wav', 'transparent_time': None, 'type': 'audio'}\n"
     ]
    },
    {
     "name": "stdout",
     "output_type": "stream",
     "text": [
      "{'iti': 4381, 'tr_num': 89, 'stim': '20190701-f03123-bos-undirected_tag.wav', 'transparent_time': None, 'type': 'audio'}\n"
     ]
    },
    {
     "name": "stderr",
     "output_type": "stream",
     "text": [
      "2019-07-05 14:52:22,204 root         INFO     Running trial {'iti': 5026, 'tr_num': 90, 'stim': '20190701-f03123-bos-undirected_tag.wav', 'transparent_time': None, 'type': 'audio'}\n",
      "2019-07-05 14:52:22,204 root         INFO     Running trial {'iti': 5026, 'tr_num': 90, 'stim': '20190701-f03123-bos-undirected_tag.wav', 'transparent_time': None, 'type': 'audio'}\n"
     ]
    },
    {
     "name": "stdout",
     "output_type": "stream",
     "text": [
      "{'iti': 5026, 'tr_num': 90, 'stim': '20190701-f03123-bos-undirected_tag.wav', 'transparent_time': None, 'type': 'audio'}\n"
     ]
    },
    {
     "name": "stderr",
     "output_type": "stream",
     "text": [
      "2019-07-05 14:52:31,967 root         INFO     Running trial {'iti': 6775, 'tr_num': 91, 'stim': '20190701-f03123-bos-undirected_tag.wav', 'transparent_time': None, 'type': 'audio'}\n",
      "2019-07-05 14:52:31,967 root         INFO     Running trial {'iti': 6775, 'tr_num': 91, 'stim': '20190701-f03123-bos-undirected_tag.wav', 'transparent_time': None, 'type': 'audio'}\n"
     ]
    },
    {
     "name": "stdout",
     "output_type": "stream",
     "text": [
      "{'iti': 6775, 'tr_num': 91, 'stim': '20190701-f03123-bos-undirected_tag.wav', 'transparent_time': None, 'type': 'audio'}\n"
     ]
    },
    {
     "name": "stderr",
     "output_type": "stream",
     "text": [
      "2019-07-05 14:52:43,470 root         INFO     Running trial {'iti': 3263, 'tr_num': 92, 'stim': '20190701-f03123-bos-undirected_tag.wav', 'transparent_time': None, 'type': 'audio'}\n",
      "2019-07-05 14:52:43,470 root         INFO     Running trial {'iti': 3263, 'tr_num': 92, 'stim': '20190701-f03123-bos-undirected_tag.wav', 'transparent_time': None, 'type': 'audio'}\n"
     ]
    },
    {
     "name": "stdout",
     "output_type": "stream",
     "text": [
      "{'iti': 3263, 'tr_num': 92, 'stim': '20190701-f03123-bos-undirected_tag.wav', 'transparent_time': None, 'type': 'audio'}\n"
     ]
    },
    {
     "name": "stderr",
     "output_type": "stream",
     "text": [
      "2019-07-05 14:52:51,546 root         INFO     Running trial {'iti': 6198, 'tr_num': 93, 'stim': '20190705-f00201-bos-calls-undirected_tag.wav', 'transparent_time': None, 'type': 'audio'}\n",
      "2019-07-05 14:52:51,546 root         INFO     Running trial {'iti': 6198, 'tr_num': 93, 'stim': '20190705-f00201-bos-calls-undirected_tag.wav', 'transparent_time': None, 'type': 'audio'}\n"
     ]
    },
    {
     "name": "stdout",
     "output_type": "stream",
     "text": [
      "{'iti': 6198, 'tr_num': 93, 'stim': '20190705-f00201-bos-calls-undirected_tag.wav', 'transparent_time': None, 'type': 'audio'}\n"
     ]
    },
    {
     "name": "stderr",
     "output_type": "stream",
     "text": [
      "2019-07-05 14:53:02,471 root         INFO     Running trial {'iti': 5718, 'tr_num': 94, 'stim': '20190705-f00201-bos-calls-undirected_tag.wav', 'transparent_time': None, 'type': 'audio'}\n",
      "2019-07-05 14:53:02,471 root         INFO     Running trial {'iti': 5718, 'tr_num': 94, 'stim': '20190705-f00201-bos-calls-undirected_tag.wav', 'transparent_time': None, 'type': 'audio'}\n"
     ]
    },
    {
     "name": "stdout",
     "output_type": "stream",
     "text": [
      "{'iti': 5718, 'tr_num': 94, 'stim': '20190705-f00201-bos-calls-undirected_tag.wav', 'transparent_time': None, 'type': 'audio'}\n"
     ]
    },
    {
     "name": "stderr",
     "output_type": "stream",
     "text": [
      "2019-07-05 14:53:12,770 root         INFO     Running trial {'iti': 4690, 'tr_num': 95, 'stim': '20190705-f00201-bos-calls-undirected_tag.wav', 'transparent_time': None, 'type': 'audio'}\n",
      "2019-07-05 14:53:12,770 root         INFO     Running trial {'iti': 4690, 'tr_num': 95, 'stim': '20190705-f00201-bos-calls-undirected_tag.wav', 'transparent_time': None, 'type': 'audio'}\n"
     ]
    },
    {
     "name": "stdout",
     "output_type": "stream",
     "text": [
      "{'iti': 4690, 'tr_num': 95, 'stim': '20190705-f00201-bos-calls-undirected_tag.wav', 'transparent_time': None, 'type': 'audio'}\n"
     ]
    },
    {
     "name": "stderr",
     "output_type": "stream",
     "text": [
      "2019-07-05 14:53:22,068 root         INFO     Running trial {'iti': 4092, 'tr_num': 96, 'stim': '20190701-f03123-bos-undirected_tag.wav', 'transparent_time': None, 'type': 'audio'}\n",
      "2019-07-05 14:53:22,068 root         INFO     Running trial {'iti': 4092, 'tr_num': 96, 'stim': '20190701-f03123-bos-undirected_tag.wav', 'transparent_time': None, 'type': 'audio'}\n"
     ]
    },
    {
     "name": "stdout",
     "output_type": "stream",
     "text": [
      "{'iti': 4092, 'tr_num': 96, 'stim': '20190701-f03123-bos-undirected_tag.wav', 'transparent_time': None, 'type': 'audio'}\n"
     ]
    },
    {
     "name": "stderr",
     "output_type": "stream",
     "text": [
      "2019-07-05 14:53:30,946 root         INFO     Running trial {'iti': 6218, 'tr_num': 97, 'stim': '20190705-f00201-bos-calls-undirected_tag.wav', 'transparent_time': None, 'type': 'audio'}\n",
      "2019-07-05 14:53:30,946 root         INFO     Running trial {'iti': 6218, 'tr_num': 97, 'stim': '20190705-f00201-bos-calls-undirected_tag.wav', 'transparent_time': None, 'type': 'audio'}\n"
     ]
    },
    {
     "name": "stdout",
     "output_type": "stream",
     "text": [
      "{'iti': 6218, 'tr_num': 97, 'stim': '20190705-f00201-bos-calls-undirected_tag.wav', 'transparent_time': None, 'type': 'audio'}\n"
     ]
    },
    {
     "name": "stderr",
     "output_type": "stream",
     "text": [
      "2019-07-05 14:53:41,774 root         INFO     Running trial {'iti': 3180, 'tr_num': 98, 'stim': '20190705-f00201-bos-calls-undirected_tag.wav', 'transparent_time': None, 'type': 'audio'}\n",
      "2019-07-05 14:53:41,774 root         INFO     Running trial {'iti': 3180, 'tr_num': 98, 'stim': '20190705-f00201-bos-calls-undirected_tag.wav', 'transparent_time': None, 'type': 'audio'}\n"
     ]
    },
    {
     "name": "stdout",
     "output_type": "stream",
     "text": [
      "{'iti': 3180, 'tr_num': 98, 'stim': '20190705-f00201-bos-calls-undirected_tag.wav', 'transparent_time': None, 'type': 'audio'}\n"
     ]
    },
    {
     "name": "stderr",
     "output_type": "stream",
     "text": [
      "2019-07-05 14:53:49,584 root         INFO     Running trial {'iti': 5566, 'tr_num': 99, 'stim': '20190705-f00201-bos-calls-undirected_tag.wav', 'transparent_time': None, 'type': 'audio'}\n",
      "2019-07-05 14:53:49,584 root         INFO     Running trial {'iti': 5566, 'tr_num': 99, 'stim': '20190705-f00201-bos-calls-undirected_tag.wav', 'transparent_time': None, 'type': 'audio'}\n"
     ]
    },
    {
     "name": "stdout",
     "output_type": "stream",
     "text": [
      "{'iti': 5566, 'tr_num': 99, 'stim': '20190705-f00201-bos-calls-undirected_tag.wav', 'transparent_time': None, 'type': 'audio'}\n"
     ]
    },
    {
     "name": "stderr",
     "output_type": "stream",
     "text": [
      "2019-07-05 14:53:59,643 root         INFO     Running trial {'iti': 5446, 'tr_num': 100, 'stim': '20190701-f03123-bos-undirected_tag.wav', 'transparent_time': None, 'type': 'audio'}\n",
      "2019-07-05 14:53:59,643 root         INFO     Running trial {'iti': 5446, 'tr_num': 100, 'stim': '20190701-f03123-bos-undirected_tag.wav', 'transparent_time': None, 'type': 'audio'}\n"
     ]
    },
    {
     "name": "stdout",
     "output_type": "stream",
     "text": [
      "{'iti': 5446, 'tr_num': 100, 'stim': '20190701-f03123-bos-undirected_tag.wav', 'transparent_time': None, 'type': 'audio'}\n"
     ]
    },
    {
     "name": "stderr",
     "output_type": "stream",
     "text": [
      "2019-07-05 14:54:09,795 root         INFO     Running trial {'iti': 6659, 'tr_num': 101, 'stim': '20190705-f00201-bos-calls-undirected_tag.wav', 'transparent_time': None, 'type': 'audio'}\n",
      "2019-07-05 14:54:09,795 root         INFO     Running trial {'iti': 6659, 'tr_num': 101, 'stim': '20190705-f00201-bos-calls-undirected_tag.wav', 'transparent_time': None, 'type': 'audio'}\n"
     ]
    },
    {
     "name": "stdout",
     "output_type": "stream",
     "text": [
      "{'iti': 6659, 'tr_num': 101, 'stim': '20190705-f00201-bos-calls-undirected_tag.wav', 'transparent_time': None, 'type': 'audio'}\n"
     ]
    },
    {
     "name": "stderr",
     "output_type": "stream",
     "text": [
      "2019-07-05 14:54:21,014 root         INFO     Running trial {'iti': 5261, 'tr_num': 102, 'stim': '20190701-f03123-bos-undirected_tag.wav', 'transparent_time': None, 'type': 'audio'}\n",
      "2019-07-05 14:54:21,014 root         INFO     Running trial {'iti': 5261, 'tr_num': 102, 'stim': '20190701-f03123-bos-undirected_tag.wav', 'transparent_time': None, 'type': 'audio'}\n"
     ]
    },
    {
     "name": "stdout",
     "output_type": "stream",
     "text": [
      "{'iti': 5261, 'tr_num': 102, 'stim': '20190701-f03123-bos-undirected_tag.wav', 'transparent_time': None, 'type': 'audio'}\n"
     ]
    },
    {
     "name": "stderr",
     "output_type": "stream",
     "text": [
      "2019-07-05 14:54:31,051 root         INFO     Running trial {'iti': 5382, 'tr_num': 103, 'stim': '20190705-f00201-bos-calls-undirected_tag.wav', 'transparent_time': None, 'type': 'audio'}\n",
      "2019-07-05 14:54:31,051 root         INFO     Running trial {'iti': 5382, 'tr_num': 103, 'stim': '20190705-f00201-bos-calls-undirected_tag.wav', 'transparent_time': None, 'type': 'audio'}\n"
     ]
    },
    {
     "name": "stdout",
     "output_type": "stream",
     "text": [
      "{'iti': 5382, 'tr_num': 103, 'stim': '20190705-f00201-bos-calls-undirected_tag.wav', 'transparent_time': None, 'type': 'audio'}\n"
     ]
    },
    {
     "name": "stderr",
     "output_type": "stream",
     "text": [
      "2019-07-05 14:54:41,082 root         INFO     Running trial {'iti': 4331, 'tr_num': 104, 'stim': '20190705-f00201-bos-calls-undirected_tag.wav', 'transparent_time': None, 'type': 'audio'}\n",
      "2019-07-05 14:54:41,082 root         INFO     Running trial {'iti': 4331, 'tr_num': 104, 'stim': '20190705-f00201-bos-calls-undirected_tag.wav', 'transparent_time': None, 'type': 'audio'}\n"
     ]
    },
    {
     "name": "stdout",
     "output_type": "stream",
     "text": [
      "{'iti': 4331, 'tr_num': 104, 'stim': '20190705-f00201-bos-calls-undirected_tag.wav', 'transparent_time': None, 'type': 'audio'}\n"
     ]
    },
    {
     "name": "stderr",
     "output_type": "stream",
     "text": [
      "2019-07-05 14:54:50,092 root         INFO     Running trial {'iti': 5074, 'tr_num': 105, 'stim': '20190701-f03123-bos-undirected_tag.wav', 'transparent_time': None, 'type': 'audio'}\n",
      "2019-07-05 14:54:50,092 root         INFO     Running trial {'iti': 5074, 'tr_num': 105, 'stim': '20190701-f03123-bos-undirected_tag.wav', 'transparent_time': None, 'type': 'audio'}\n"
     ]
    },
    {
     "name": "stdout",
     "output_type": "stream",
     "text": [
      "{'iti': 5074, 'tr_num': 105, 'stim': '20190701-f03123-bos-undirected_tag.wav', 'transparent_time': None, 'type': 'audio'}\n"
     ]
    },
    {
     "name": "stderr",
     "output_type": "stream",
     "text": [
      "2019-07-05 14:54:59,908 root         INFO     Running trial {'iti': 6435, 'tr_num': 106, 'stim': '20190701-f03123-bos-undirected_tag.wav', 'transparent_time': None, 'type': 'audio'}\n",
      "2019-07-05 14:54:59,908 root         INFO     Running trial {'iti': 6435, 'tr_num': 106, 'stim': '20190701-f03123-bos-undirected_tag.wav', 'transparent_time': None, 'type': 'audio'}\n"
     ]
    },
    {
     "name": "stdout",
     "output_type": "stream",
     "text": [
      "{'iti': 6435, 'tr_num': 106, 'stim': '20190701-f03123-bos-undirected_tag.wav', 'transparent_time': None, 'type': 'audio'}\n"
     ]
    },
    {
     "name": "stderr",
     "output_type": "stream",
     "text": [
      "2019-07-05 14:55:11,088 root         INFO     Running trial {'iti': 4614, 'tr_num': 107, 'stim': '20190705-f00201-bos-calls-undirected_tag.wav', 'transparent_time': None, 'type': 'audio'}\n",
      "2019-07-05 14:55:11,088 root         INFO     Running trial {'iti': 4614, 'tr_num': 107, 'stim': '20190705-f00201-bos-calls-undirected_tag.wav', 'transparent_time': None, 'type': 'audio'}\n"
     ]
    },
    {
     "name": "stdout",
     "output_type": "stream",
     "text": [
      "{'iti': 4614, 'tr_num': 107, 'stim': '20190705-f00201-bos-calls-undirected_tag.wav', 'transparent_time': None, 'type': 'audio'}\n"
     ]
    },
    {
     "name": "stderr",
     "output_type": "stream",
     "text": [
      "2019-07-05 14:55:20,186 root         INFO     Running trial {'iti': 3440, 'tr_num': 108, 'stim': '20190701-f03123-bos-undirected_tag.wav', 'transparent_time': None, 'type': 'audio'}\n",
      "2019-07-05 14:55:20,186 root         INFO     Running trial {'iti': 3440, 'tr_num': 108, 'stim': '20190701-f03123-bos-undirected_tag.wav', 'transparent_time': None, 'type': 'audio'}\n"
     ]
    },
    {
     "name": "stdout",
     "output_type": "stream",
     "text": [
      "{'iti': 3440, 'tr_num': 108, 'stim': '20190701-f03123-bos-undirected_tag.wav', 'transparent_time': None, 'type': 'audio'}\n"
     ]
    },
    {
     "name": "stderr",
     "output_type": "stream",
     "text": [
      "2019-07-05 14:55:28,504 root         INFO     Running trial {'iti': 5806, 'tr_num': 109, 'stim': '20190701-f03123-bos-undirected_tag.wav', 'transparent_time': None, 'type': 'audio'}\n",
      "2019-07-05 14:55:28,504 root         INFO     Running trial {'iti': 5806, 'tr_num': 109, 'stim': '20190701-f03123-bos-undirected_tag.wav', 'transparent_time': None, 'type': 'audio'}\n"
     ]
    },
    {
     "name": "stdout",
     "output_type": "stream",
     "text": [
      "{'iti': 5806, 'tr_num': 109, 'stim': '20190701-f03123-bos-undirected_tag.wav', 'transparent_time': None, 'type': 'audio'}\n"
     ]
    },
    {
     "name": "stderr",
     "output_type": "stream",
     "text": [
      "2019-07-05 14:55:39,124 root         INFO     Running trial {'iti': 6673, 'tr_num': 110, 'stim': '20190701-f03123-bos-undirected_tag.wav', 'transparent_time': None, 'type': 'audio'}\n",
      "2019-07-05 14:55:39,124 root         INFO     Running trial {'iti': 6673, 'tr_num': 110, 'stim': '20190701-f03123-bos-undirected_tag.wav', 'transparent_time': None, 'type': 'audio'}\n"
     ]
    },
    {
     "name": "stdout",
     "output_type": "stream",
     "text": [
      "{'iti': 6673, 'tr_num': 110, 'stim': '20190701-f03123-bos-undirected_tag.wav', 'transparent_time': None, 'type': 'audio'}\n"
     ]
    },
    {
     "name": "stderr",
     "output_type": "stream",
     "text": [
      "2019-07-05 14:55:50,621 root         INFO     Running trial {'iti': 3960, 'tr_num': 111, 'stim': '20190701-f03123-bos-undirected_tag.wav', 'transparent_time': None, 'type': 'audio'}\n",
      "2019-07-05 14:55:50,621 root         INFO     Running trial {'iti': 3960, 'tr_num': 111, 'stim': '20190701-f03123-bos-undirected_tag.wav', 'transparent_time': None, 'type': 'audio'}\n"
     ]
    },
    {
     "name": "stdout",
     "output_type": "stream",
     "text": [
      "{'iti': 3960, 'tr_num': 111, 'stim': '20190701-f03123-bos-undirected_tag.wav', 'transparent_time': None, 'type': 'audio'}\n"
     ]
    },
    {
     "name": "stderr",
     "output_type": "stream",
     "text": [
      "2019-07-05 14:55:59,295 root         INFO     Running trial {'iti': 4772, 'tr_num': 112, 'stim': '20190705-f00201-bos-calls-undirected_tag.wav', 'transparent_time': None, 'type': 'audio'}\n",
      "2019-07-05 14:55:59,295 root         INFO     Running trial {'iti': 4772, 'tr_num': 112, 'stim': '20190705-f00201-bos-calls-undirected_tag.wav', 'transparent_time': None, 'type': 'audio'}\n"
     ]
    },
    {
     "name": "stdout",
     "output_type": "stream",
     "text": [
      "{'iti': 4772, 'tr_num': 112, 'stim': '20190705-f00201-bos-calls-undirected_tag.wav', 'transparent_time': None, 'type': 'audio'}\n"
     ]
    },
    {
     "name": "stderr",
     "output_type": "stream",
     "text": [
      "2019-07-05 14:56:08,639 root         INFO     Running trial {'iti': 3647, 'tr_num': 113, 'stim': '20190705-f00201-bos-calls-undirected_tag.wav', 'transparent_time': None, 'type': 'audio'}\n",
      "2019-07-05 14:56:08,639 root         INFO     Running trial {'iti': 3647, 'tr_num': 113, 'stim': '20190705-f00201-bos-calls-undirected_tag.wav', 'transparent_time': None, 'type': 'audio'}\n"
     ]
    },
    {
     "name": "stdout",
     "output_type": "stream",
     "text": [
      "{'iti': 3647, 'tr_num': 113, 'stim': '20190705-f00201-bos-calls-undirected_tag.wav', 'transparent_time': None, 'type': 'audio'}\n"
     ]
    },
    {
     "name": "stderr",
     "output_type": "stream",
     "text": [
      "2019-07-05 14:56:16,868 root         INFO     Running trial {'iti': 6084, 'tr_num': 114, 'stim': '20190701-f03123-bos-undirected_tag.wav', 'transparent_time': None, 'type': 'audio'}\n",
      "2019-07-05 14:56:16,868 root         INFO     Running trial {'iti': 6084, 'tr_num': 114, 'stim': '20190701-f03123-bos-undirected_tag.wav', 'transparent_time': None, 'type': 'audio'}\n"
     ]
    },
    {
     "name": "stdout",
     "output_type": "stream",
     "text": [
      "{'iti': 6084, 'tr_num': 114, 'stim': '20190701-f03123-bos-undirected_tag.wav', 'transparent_time': None, 'type': 'audio'}\n"
     ]
    },
    {
     "name": "stderr",
     "output_type": "stream",
     "text": [
      "2019-07-05 14:56:27,688 root         INFO     Running trial {'iti': 5605, 'tr_num': 115, 'stim': '20190705-f00201-bos-calls-undirected_tag.wav', 'transparent_time': None, 'type': 'audio'}\n",
      "2019-07-05 14:56:27,688 root         INFO     Running trial {'iti': 5605, 'tr_num': 115, 'stim': '20190705-f00201-bos-calls-undirected_tag.wav', 'transparent_time': None, 'type': 'audio'}\n"
     ]
    },
    {
     "name": "stdout",
     "output_type": "stream",
     "text": [
      "{'iti': 5605, 'tr_num': 115, 'stim': '20190705-f00201-bos-calls-undirected_tag.wav', 'transparent_time': None, 'type': 'audio'}\n"
     ]
    },
    {
     "name": "stderr",
     "output_type": "stream",
     "text": [
      "2019-07-05 14:56:37,807 root         INFO     Running trial {'iti': 6307, 'tr_num': 116, 'stim': '20190701-f03123-bos-undirected_tag.wav', 'transparent_time': None, 'type': 'audio'}\n",
      "2019-07-05 14:56:37,807 root         INFO     Running trial {'iti': 6307, 'tr_num': 116, 'stim': '20190701-f03123-bos-undirected_tag.wav', 'transparent_time': None, 'type': 'audio'}\n"
     ]
    },
    {
     "name": "stdout",
     "output_type": "stream",
     "text": [
      "{'iti': 6307, 'tr_num': 116, 'stim': '20190701-f03123-bos-undirected_tag.wav', 'transparent_time': None, 'type': 'audio'}\n"
     ]
    },
    {
     "name": "stderr",
     "output_type": "stream",
     "text": [
      "2019-07-05 14:56:48,838 root         INFO     Running trial {'iti': 6891, 'tr_num': 117, 'stim': '20190701-f03123-bos-undirected_tag.wav', 'transparent_time': None, 'type': 'audio'}\n",
      "2019-07-05 14:56:48,838 root         INFO     Running trial {'iti': 6891, 'tr_num': 117, 'stim': '20190701-f03123-bos-undirected_tag.wav', 'transparent_time': None, 'type': 'audio'}\n"
     ]
    },
    {
     "name": "stdout",
     "output_type": "stream",
     "text": [
      "{'iti': 6891, 'tr_num': 117, 'stim': '20190701-f03123-bos-undirected_tag.wav', 'transparent_time': None, 'type': 'audio'}\n"
     ]
    },
    {
     "name": "stderr",
     "output_type": "stream",
     "text": [
      "2019-07-05 14:57:00,359 root         INFO     Running trial {'iti': 4870, 'tr_num': 118, 'stim': '20190701-f03123-bos-undirected_tag.wav', 'transparent_time': None, 'type': 'audio'}\n",
      "2019-07-05 14:57:00,359 root         INFO     Running trial {'iti': 4870, 'tr_num': 118, 'stim': '20190701-f03123-bos-undirected_tag.wav', 'transparent_time': None, 'type': 'audio'}\n"
     ]
    },
    {
     "name": "stdout",
     "output_type": "stream",
     "text": [
      "{'iti': 4870, 'tr_num': 118, 'stim': '20190701-f03123-bos-undirected_tag.wav', 'transparent_time': None, 'type': 'audio'}\n"
     ]
    },
    {
     "name": "stderr",
     "output_type": "stream",
     "text": [
      "2019-07-05 14:57:09,903 root         INFO     Running trial {'iti': 6790, 'tr_num': 119, 'stim': '20190701-f03123-bos-undirected_tag.wav', 'transparent_time': None, 'type': 'audio'}\n",
      "2019-07-05 14:57:09,903 root         INFO     Running trial {'iti': 6790, 'tr_num': 119, 'stim': '20190701-f03123-bos-undirected_tag.wav', 'transparent_time': None, 'type': 'audio'}\n"
     ]
    },
    {
     "name": "stdout",
     "output_type": "stream",
     "text": [
      "{'iti': 6790, 'tr_num': 119, 'stim': '20190701-f03123-bos-undirected_tag.wav', 'transparent_time': None, 'type': 'audio'}\n"
     ]
    },
    {
     "name": "stderr",
     "output_type": "stream",
     "text": [
      "2019-07-05 14:57:21,401 root         INFO     finished block\n",
      "2019-07-05 14:57:21,401 root         INFO     finished block\n"
     ]
    }
   ],
   "source": [
    "all_files = ['20190701-f03123-bos-undirected',\n",
    " '20190705-f00201-bos-calls-undirected',\n",
    " '20190705-f00228-bos-directed',\n",
    " '20190705-f00287-bos-calls-directed',\n",
    " '20190705-f00287-calls',\n",
    " '20190705-f00254-bos-undirected']\n",
    "all_files = ['{}_tag.wav'.format(i) for i in all_files]\n",
    "\n",
    "#block_files = ['bos.wav', 'con.wav', 'rev.wav', 'syn.wav']\n",
    "#block_files = ['tone_test.wav']\n",
    "\n",
    "block_files = all_files\n",
    "block_iti_bounds = [3*1000, 7*1000] # it ranges from 5 to 15 secs, uniformly distributed\n",
    "audio_block = BlockAudio(block_files, block_iti_bounds, 120) # block is 80 trial\n",
    "\n",
    "block_runner = Runner(audio_block, rig_par, recorder=None)\n",
    "block_runner.start()"
   ]
  },
  {
   "cell_type": "markdown",
   "metadata": {},
   "source": [
    "### Leave the scheduler running"
   ]
  },
  {
   "cell_type": "code",
   "execution_count": null,
   "metadata": {},
   "outputs": [],
   "source": [
    "block_runner."
   ]
  },
  {
   "cell_type": "code",
   "execution_count": 13,
   "metadata": {},
   "outputs": [
    {
     "ename": "KeyboardInterrupt",
     "evalue": "",
     "output_type": "error",
     "traceback": [
      "\u001b[0;31m---------------------------------------------------------------------------\u001b[0m",
      "\u001b[0;31mKeyboardInterrupt\u001b[0m                         Traceback (most recent call last)",
      "\u001b[0;32m<ipython-input-13-2d78333a8181>\u001b[0m in \u001b[0;36m<module>\u001b[0;34m()\u001b[0m\n\u001b[1;32m      1\u001b[0m \u001b[0;32mwhile\u001b[0m \u001b[0;32mTrue\u001b[0m\u001b[0;34m:\u001b[0m\u001b[0;34m\u001b[0m\u001b[0;34m\u001b[0m\u001b[0m\n\u001b[1;32m      2\u001b[0m     \u001b[0mschedule\u001b[0m\u001b[0;34m.\u001b[0m\u001b[0mrun_pending\u001b[0m\u001b[0;34m(\u001b[0m\u001b[0;34m)\u001b[0m\u001b[0;34m\u001b[0m\u001b[0;34m\u001b[0m\u001b[0m\n\u001b[0;32m----> 3\u001b[0;31m     \u001b[0mtime\u001b[0m\u001b[0;34m.\u001b[0m\u001b[0msleep\u001b[0m\u001b[0;34m(\u001b[0m\u001b[0;36m1\u001b[0m\u001b[0;34m)\u001b[0m\u001b[0;34m\u001b[0m\u001b[0;34m\u001b[0m\u001b[0m\n\u001b[0m",
      "\u001b[0;31mKeyboardInterrupt\u001b[0m: "
     ]
    }
   ],
   "source": [
    "while True:\n",
    "    schedule.run_pending()\n",
    "    time.sleep(1)"
   ]
  },
  {
   "cell_type": "markdown",
   "metadata": {},
   "source": [
    "### Debugging lines"
   ]
  },
  {
   "cell_type": "code",
   "execution_count": 18,
   "metadata": {},
   "outputs": [
    {
     "data": {
      "text/plain": [
       "'cmd response: smartglass_switched on'"
      ]
     },
     "execution_count": 18,
     "metadata": {},
     "output_type": "execute_result"
    }
   ],
   "source": [
    "pi_zmq.send_command(cmd_switch_glass('on'))"
   ]
  },
  {
   "cell_type": "code",
   "execution_count": 19,
   "metadata": {},
   "outputs": [
    {
     "data": {
      "text/plain": [
       "'cmd response: smartglass_switched off'"
      ]
     },
     "execution_count": 19,
     "metadata": {},
     "output_type": "execute_result"
    }
   ],
   "source": [
    "pi_zmq.send_command(cmd_switch_glass('off'))"
   ]
  },
  {
   "cell_type": "code",
   "execution_count": 6,
   "metadata": {},
   "outputs": [
    {
     "data": {
      "text/plain": [
       "'cmd response: ok trial_number 5'"
      ]
     },
     "execution_count": 6,
     "metadata": {},
     "output_type": "execute_result"
    }
   ],
   "source": [
    "pi_zmq.send_command(cmd_trial_number(5))"
   ]
  },
  {
   "cell_type": "code",
   "execution_count": 7,
   "metadata": {},
   "outputs": [
    {
     "data": {
      "text/plain": [
       "b'trial_audio stim_file tone_test.wav'"
      ]
     },
     "execution_count": 7,
     "metadata": {},
     "output_type": "execute_result"
    }
   ],
   "source": [
    "cmd_audio_trial('tone_test.wav')"
   ]
  },
  {
   "cell_type": "code",
   "execution_count": 7,
   "metadata": {},
   "outputs": [
    {
     "data": {
      "text/plain": [
       "'cmd response: 0'"
      ]
     },
     "execution_count": 7,
     "metadata": {},
     "output_type": "execute_result"
    }
   ],
   "source": [
    "rig_par['sbc'].send_command((cmd_audio_trial('bos_tag.wav')))"
   ]
  },
  {
   "cell_type": "code",
   "execution_count": 32,
   "metadata": {},
   "outputs": [
    {
     "data": {
      "text/plain": [
       "'cmd response: 0'"
      ]
     },
     "execution_count": 32,
     "metadata": {},
     "output_type": "execute_result"
    }
   ],
   "source": [
    "rig_par['sbc'].send_command((cmd_audio_trial(all_files[0])))"
   ]
  },
  {
   "cell_type": "code",
   "execution_count": null,
   "metadata": {},
   "outputs": [],
   "source": []
  }
 ],
 "metadata": {
  "kernelspec": {
   "display_name": "mountain",
   "language": "python",
   "name": "mountain"
  },
  "language_info": {
   "codemirror_mode": {
    "name": "ipython",
    "version": 3
   },
   "file_extension": ".py",
   "mimetype": "text/x-python",
   "name": "python",
   "nbconvert_exporter": "python",
   "pygments_lexer": "ipython3",
   "version": "3.6.8"
  }
 },
 "nbformat": 4,
 "nbformat_minor": 2
}
