{
 "cells": [
  {
   "cell_type": "code",
   "execution_count": 1,
   "metadata": {},
   "outputs": [
    {
     "name": "stderr",
     "output_type": "stream",
     "text": [
      "2019-06-11 15:27:57,280 root         INFO     Computer: lookfar\n"
     ]
    }
   ],
   "source": [
    "import zmq\n",
    "import time\n",
    "import socket\n",
    "import os\n",
    "import sys\n",
    "import logging\n",
    "import threading\n",
    "import warnings\n",
    "import schedule\n",
    "import numpy as np\n",
    "from numpy import matlib\n",
    "\n",
    "# setup the logger\n",
    "logger = logging.getLogger()\n",
    "handler = logging.StreamHandler()\n",
    "formatter = logging.Formatter(\n",
    "        '%(asctime)s %(name)-12s %(levelname)-8s %(message)s')\n",
    "handler.setFormatter(formatter)\n",
    "logger.addHandler(handler)\n",
    "logger.setLevel(logging.INFO)\n",
    "\n",
    "# Check wich computer to decide where the things are mounted\n",
    "comp_name=socket.gethostname()\n",
    "logger.info('Computer: ' + comp_name)\n",
    "\n",
    "from rigmq.host import sbc"
   ]
  },
  {
   "cell_type": "markdown",
   "metadata": {},
   "source": [
    "### Session tools and methods"
   ]
  },
  {
   "cell_type": "code",
   "execution_count": 2,
   "metadata": {},
   "outputs": [],
   "source": [
    "# open the devices\n",
    "pi_zmq = sbc.SBC(port='5558', ip='192.168.1.50') # raspi on main lab\n",
    "pi_zmq.connect()"
   ]
  },
  {
   "cell_type": "code",
   "execution_count": 3,
   "metadata": {},
   "outputs": [],
   "source": [
    "# make a rig dictionary\n",
    "# soon to be object\n",
    "rig_par = {'sbc': pi_zmq,\n",
    "          'oe': None}"
   ]
  },
  {
   "cell_type": "markdown",
   "metadata": {},
   "source": [
    "## very simple single trial tests"
   ]
  },
  {
   "cell_type": "code",
   "execution_count": 4,
   "metadata": {},
   "outputs": [],
   "source": [
    "def cmd_trial_number(tr_num):\n",
    "    #on is boolean\n",
    "    return 'trial_number number {}'.format(int(tr_num)).encode('utf8')\n",
    "        \n",
    "def cmd_switch_glass(switch: str) -> str:\n",
    "    return 'glass switch {}'.format(switch).encode('utf8')\n",
    "\n",
    "def run_trial(rig_par={'sbc': None, 'oe':None}, \n",
    "              trial_par={'iti':120*1000., 'tr_num': 5, 'wave_file': None, 'transparent_time': 10*1000}):\n",
    "    time.sleep(int(trial_par['iti']*100)/100000.)\n",
    "    # a very simple trial; switch on, wait, switch off\n",
    "    rig_par['sbc'].send_command(cmd_trial_number(trial_par['tr_num']))\n",
    "    pi_zmq.send_command(cmd_switch_glass('on'))\n",
    "    time.sleep(int(trial_par['transparent_time']*100)/100000.)\n",
    "    pi_zmq.send_command(cmd_switch_glass('off'))\n",
    "    \n",
    "class Block:\n",
    "    # A block is a generator that gives trials (dictionaries)\n",
    "    def __init__(self, transp_time_list, iti_bounds_ms, size, random = True):\n",
    "        self.trials = 0\n",
    "        self.iti_bounds = iti_bounds_ms\n",
    "        self.stim_list = transp_time_list\n",
    "        self.size = size\n",
    "        self.trial_pars = {'iti': None, 'tr_num': 0, 'stim': None, 'transparent_time': 10*1000}\n",
    "        self.stim_order = matlib.repmat(np.arange(len(transp_time_list)),\n",
    "                                           int(np.ceil(size/len(transp_time_list))),\n",
    "                                           1)[:size].flatten()\n",
    "        if random:\n",
    "            np.random.shuffle(self.stim_order)\n",
    "    \n",
    "    def __iter__(self,):\n",
    "        return self\n",
    "    \n",
    "    def next(self, ):\n",
    "        if self.trials < self.size:\n",
    "            self.trial_pars['iti'] = np.random.randint(self.iti_bounds[0], self.iti_bounds[1])\n",
    "            #print self.trials\n",
    "            self.trial_pars['tr_num'] = self.trials\n",
    "            self.trial_pars['stim'] = None\n",
    "            self.trial_pars['transparent_time'] = self.stim_list[self.stim_order[self.trials]]\n",
    "            self.trials+=1\n",
    "            return self.trial_pars\n",
    "        else:\n",
    "            raise StopIteration()"
   ]
  },
  {
   "cell_type": "markdown",
   "metadata": {},
   "source": [
    "### Create a block of trials that switch on the glass for some time"
   ]
  },
  {
   "cell_type": "code",
   "execution_count": 5,
   "metadata": {},
   "outputs": [],
   "source": [
    "block_times = [10*1000, 20*1000, 30*1000] # open times are 10, 20, 30 seconds\n",
    "block_iti_bounds = [5*60*100, 15*60*100] # it ranges from 5 to 15 min, uniformly distributed\n",
    "a_block = Block(block_times, block_iti_bounds, 80) # block is 80 trials, that about 14 hour."
   ]
  },
  {
   "cell_type": "markdown",
   "metadata": {},
   "source": [
    "#### spit one trial dict"
   ]
  },
  {
   "cell_type": "code",
   "execution_count": 6,
   "metadata": {},
   "outputs": [
    {
     "data": {
      "text/plain": [
       "{'iti': 78540, 'tr_num': 0, 'stim': None, 'transparent_time': 10000}"
      ]
     },
     "execution_count": 6,
     "metadata": {},
     "output_type": "execute_result"
    }
   ],
   "source": [
    "a_block.next()"
   ]
  },
  {
   "cell_type": "markdown",
   "metadata": {},
   "source": [
    "### Make a Runner Thread that goes through a block running each trial"
   ]
  },
  {
   "cell_type": "code",
   "execution_count": 7,
   "metadata": {},
   "outputs": [],
   "source": [
    "class Runner(threading.Thread):\n",
    "    # runs an experiment block\n",
    "    # forced to no recording system to control\n",
    "    def __init__(self, block, rig_par, recorder=None, group=None, target=None, name=None, \n",
    "                 args=(), kwargs=None):\n",
    "        threading.Thread.__init__(self, group=group, target=target, name=name)\n",
    "        \n",
    "        logging.info('Initializing block')\n",
    "        self.block = block #block object\n",
    "        self.rig = rig_par\n",
    "        self.stim_sys = rig_par['sbc']\n",
    "        self.rec_sys = None\n",
    "        self.running = threading.Event() #Event\n",
    "        self.finished = False\n",
    "        self.trial = None\n",
    "        self.running.clear()\n",
    "        self.recorder = recorder #Record control\n",
    "   \n",
    "    def run(self):\n",
    "        logging.debug('running block')\n",
    "        if not self.running.is_set():\n",
    "            logger.info('Starting Block')\n",
    "#             if self.is_recording()==True:\n",
    "#                 logging.debug('Starting recording')\n",
    "#                 self.recorder.start()\n",
    "#                 time.sleep(2)\n",
    "            self.running.set()\n",
    "            while True:\n",
    "                try:\n",
    "                    if self.running.is_set():\n",
    "                        self.trial = self.block.next()\n",
    "                        logging.info('Running trial {}'.format(self.trial))\n",
    "                        print(self.trial)\n",
    "                        run_trial(rig_par=self.rig, trial_par=self.trial)\n",
    "                    else:\n",
    "                        self.end_block()\n",
    "                        break\n",
    "\n",
    "                except StopIteration:\n",
    "                    self.finished = True\n",
    "                    self.running.clear()\n",
    "                    logger.info('finished block')\n",
    "                    break\n",
    "            \n",
    "            if self.is_recording()==True:\n",
    "                logger.info('Runner stopping recording')\n",
    "                self.recorder.signal_stop()\n",
    "        else:\n",
    "            logging.info('Cant start, already running')\n",
    "            \n",
    "        return self.finished\n",
    "                    \n",
    "    def end_block(self):\n",
    "        print('stopping the block in trial {}'.format(self.trial['tr_num']))\n",
    "        self.finished = False\n",
    "        \n",
    "    def signal_stop(self):\n",
    "        self.running.clear()\n",
    "        \n",
    "    def is_running(self):\n",
    "        return self.running.is_set()\n",
    "    \n",
    "    def is_recording(self):\n",
    "        logging.debug('runner checking recording status')\n",
    "        logging.debug('{}'.format(self.recorder))\n",
    "        if self.recorder is not None:\n",
    "            logging.debug('status {}'.format(self.recorder.report_recording()))\n",
    "            return self.recorder.report_recording()\n",
    "        else:\n",
    "            return None"
   ]
  },
  {
   "cell_type": "markdown",
   "metadata": {},
   "source": [
    "#### Run a block till the end"
   ]
  },
  {
   "cell_type": "code",
   "execution_count": 21,
   "metadata": {},
   "outputs": [
    {
     "name": "stderr",
     "output_type": "stream",
     "text": [
      "2019-06-09 14:26:02,319 root         INFO     Initializing block\n",
      "2019-06-09 14:26:02,322 root         INFO     Starting Block\n",
      "2019-06-09 14:26:02,324 root         INFO     Running trial {'iti': 81768, 'tr_num': 0, 'stim': None, 'transparent_time': 30000}\n"
     ]
    },
    {
     "name": "stdout",
     "output_type": "stream",
     "text": [
      "{'iti': 81768, 'tr_num': 0, 'stim': None, 'transparent_time': 30000}\n"
     ]
    },
    {
     "name": "stderr",
     "output_type": "stream",
     "text": [
      "2019-06-09 14:27:57,231 root         INFO     Running trial {'iti': 78108, 'tr_num': 1, 'stim': None, 'transparent_time': 10000}\n"
     ]
    },
    {
     "name": "stdout",
     "output_type": "stream",
     "text": [
      "{'iti': 78108, 'tr_num': 1, 'stim': None, 'transparent_time': 10000}\n"
     ]
    },
    {
     "name": "stderr",
     "output_type": "stream",
     "text": [
      "2019-06-09 14:29:28,466 root         INFO     Running trial {'iti': 74411, 'tr_num': 2, 'stim': None, 'transparent_time': 10000}\n"
     ]
    },
    {
     "name": "stdout",
     "output_type": "stream",
     "text": [
      "{'iti': 74411, 'tr_num': 2, 'stim': None, 'transparent_time': 10000}\n"
     ]
    },
    {
     "name": "stderr",
     "output_type": "stream",
     "text": [
      "2019-06-09 14:30:55,969 root         INFO     Running trial {'iti': 69770, 'tr_num': 3, 'stim': None, 'transparent_time': 10000}\n"
     ]
    },
    {
     "name": "stdout",
     "output_type": "stream",
     "text": [
      "{'iti': 69770, 'tr_num': 3, 'stim': None, 'transparent_time': 10000}\n"
     ]
    },
    {
     "name": "stderr",
     "output_type": "stream",
     "text": [
      "2019-06-09 14:32:19,064 root         INFO     Running trial {'iti': 86534, 'tr_num': 4, 'stim': None, 'transparent_time': 30000}\n"
     ]
    },
    {
     "name": "stdout",
     "output_type": "stream",
     "text": [
      "{'iti': 86534, 'tr_num': 4, 'stim': None, 'transparent_time': 30000}\n"
     ]
    },
    {
     "name": "stderr",
     "output_type": "stream",
     "text": [
      "2019-06-09 14:34:18,771 root         INFO     Running trial {'iti': 81298, 'tr_num': 5, 'stim': None, 'transparent_time': 10000}\n"
     ]
    },
    {
     "name": "stdout",
     "output_type": "stream",
     "text": [
      "{'iti': 81298, 'tr_num': 5, 'stim': None, 'transparent_time': 10000}\n"
     ]
    },
    {
     "name": "stderr",
     "output_type": "stream",
     "text": [
      "2019-06-09 14:35:53,184 root         INFO     Running trial {'iti': 73528, 'tr_num': 6, 'stim': None, 'transparent_time': 20000}\n"
     ]
    },
    {
     "name": "stdout",
     "output_type": "stream",
     "text": [
      "{'iti': 73528, 'tr_num': 6, 'stim': None, 'transparent_time': 20000}\n"
     ]
    },
    {
     "name": "stderr",
     "output_type": "stream",
     "text": [
      "2019-06-09 14:37:30,052 root         INFO     Running trial {'iti': 68742, 'tr_num': 7, 'stim': None, 'transparent_time': 30000}\n"
     ]
    },
    {
     "name": "stdout",
     "output_type": "stream",
     "text": [
      "{'iti': 68742, 'tr_num': 7, 'stim': None, 'transparent_time': 30000}\n"
     ]
    },
    {
     "name": "stderr",
     "output_type": "stream",
     "text": [
      "2019-06-09 14:39:11,943 root         INFO     Running trial {'iti': 57259, 'tr_num': 8, 'stim': None, 'transparent_time': 30000}\n"
     ]
    },
    {
     "name": "stdout",
     "output_type": "stream",
     "text": [
      "{'iti': 57259, 'tr_num': 8, 'stim': None, 'transparent_time': 30000}\n"
     ]
    },
    {
     "name": "stderr",
     "output_type": "stream",
     "text": [
      "2019-06-09 14:40:42,362 root         INFO     Running trial {'iti': 75699, 'tr_num': 9, 'stim': None, 'transparent_time': 10000}\n"
     ]
    },
    {
     "name": "stdout",
     "output_type": "stream",
     "text": [
      "{'iti': 75699, 'tr_num': 9, 'stim': None, 'transparent_time': 10000}\n"
     ]
    },
    {
     "name": "stderr",
     "output_type": "stream",
     "text": [
      "2019-06-09 14:50:29,456 root         INFO     Running trial {'iti': 73817, 'tr_num': 10, 'stim': None, 'transparent_time': 20000}\n"
     ]
    },
    {
     "name": "stdout",
     "output_type": "stream",
     "text": [
      "{'iti': 73817, 'tr_num': 10, 'stim': None, 'transparent_time': 20000}\n"
     ]
    },
    {
     "name": "stderr",
     "output_type": "stream",
     "text": [
      "2019-06-09 14:52:06,453 root         INFO     Running trial {'iti': 74130, 'tr_num': 11, 'stim': None, 'transparent_time': 10000}\n"
     ]
    },
    {
     "name": "stdout",
     "output_type": "stream",
     "text": [
      "{'iti': 74130, 'tr_num': 11, 'stim': None, 'transparent_time': 10000}\n"
     ]
    },
    {
     "name": "stderr",
     "output_type": "stream",
     "text": [
      "2019-06-09 14:53:33,799 root         INFO     Running trial {'iti': 33057, 'tr_num': 12, 'stim': None, 'transparent_time': 30000}\n"
     ]
    },
    {
     "name": "stdout",
     "output_type": "stream",
     "text": [
      "{'iti': 33057, 'tr_num': 12, 'stim': None, 'transparent_time': 30000}\n"
     ]
    },
    {
     "name": "stderr",
     "output_type": "stream",
     "text": [
      "2019-06-09 14:54:39,952 root         INFO     Running trial {'iti': 45895, 'tr_num': 13, 'stim': None, 'transparent_time': 30000}\n"
     ]
    },
    {
     "name": "stdout",
     "output_type": "stream",
     "text": [
      "{'iti': 45895, 'tr_num': 13, 'stim': None, 'transparent_time': 30000}\n"
     ]
    },
    {
     "name": "stderr",
     "output_type": "stream",
     "text": [
      "2019-06-09 14:55:59,002 root         INFO     Running trial {'iti': 79383, 'tr_num': 14, 'stim': None, 'transparent_time': 20000}\n"
     ]
    },
    {
     "name": "stdout",
     "output_type": "stream",
     "text": [
      "{'iti': 79383, 'tr_num': 14, 'stim': None, 'transparent_time': 20000}\n"
     ]
    },
    {
     "name": "stderr",
     "output_type": "stream",
     "text": [
      "2019-06-09 14:57:41,606 root         INFO     Running trial {'iti': 69335, 'tr_num': 15, 'stim': None, 'transparent_time': 20000}\n"
     ]
    },
    {
     "name": "stdout",
     "output_type": "stream",
     "text": [
      "{'iti': 69335, 'tr_num': 15, 'stim': None, 'transparent_time': 20000}\n"
     ]
    },
    {
     "name": "stderr",
     "output_type": "stream",
     "text": [
      "2019-06-09 14:59:14,177 root         INFO     Running trial {'iti': 47997, 'tr_num': 16, 'stim': None, 'transparent_time': 30000}\n"
     ]
    },
    {
     "name": "stdout",
     "output_type": "stream",
     "text": [
      "{'iti': 47997, 'tr_num': 16, 'stim': None, 'transparent_time': 30000}\n"
     ]
    }
   ],
   "source": [
    "screen_block = Block(block_times, block_iti_bounds, 80)\n",
    "block_runner = Runner(screen_block, rig_par, recorder=None)\n",
    "block_runner.start()"
   ]
  },
  {
   "cell_type": "markdown",
   "metadata": {},
   "source": [
    "## schedule a block to start every day at 6am\n",
    "to do a simple, dayly scehduled ~14hr block, I use schedule package\n",
    "https://schedule.readthedocs.io/en/stable/"
   ]
  },
  {
   "cell_type": "code",
   "execution_count": 10,
   "metadata": {},
   "outputs": [],
   "source": [
    "def do_block():\n",
    "    screen_block = Block(block_times, block_iti_bounds, 80)\n",
    "    block_runner = Runner(screen_block, rig_par, recorder=None)\n",
    "    #block_runner.start()\n",
    "\n",
    "#schedule.every().day.at(\"06:00\").do(do_block)"
   ]
  },
  {
   "cell_type": "code",
   "execution_count": 11,
   "metadata": {},
   "outputs": [
    {
     "data": {
      "text/plain": [
       "Every 1 minute do do_block() (last run: [never], next run: 2019-04-12 22:16:38)"
      ]
     },
     "execution_count": 11,
     "metadata": {},
     "output_type": "execute_result"
    }
   ],
   "source": [
    "schedule.every().minute.do(do_block)"
   ]
  },
  {
   "cell_type": "markdown",
   "metadata": {},
   "source": [
    "### Leave the scheduler running"
   ]
  },
  {
   "cell_type": "code",
   "execution_count": 13,
   "metadata": {},
   "outputs": [
    {
     "ename": "KeyboardInterrupt",
     "evalue": "",
     "output_type": "error",
     "traceback": [
      "\u001b[0;31m---------------------------------------------------------------------------\u001b[0m",
      "\u001b[0;31mKeyboardInterrupt\u001b[0m                         Traceback (most recent call last)",
      "\u001b[0;32m<ipython-input-13-2d78333a8181>\u001b[0m in \u001b[0;36m<module>\u001b[0;34m()\u001b[0m\n\u001b[1;32m      1\u001b[0m \u001b[0;32mwhile\u001b[0m \u001b[0;32mTrue\u001b[0m\u001b[0;34m:\u001b[0m\u001b[0;34m\u001b[0m\u001b[0;34m\u001b[0m\u001b[0m\n\u001b[1;32m      2\u001b[0m     \u001b[0mschedule\u001b[0m\u001b[0;34m.\u001b[0m\u001b[0mrun_pending\u001b[0m\u001b[0;34m(\u001b[0m\u001b[0;34m)\u001b[0m\u001b[0;34m\u001b[0m\u001b[0;34m\u001b[0m\u001b[0m\n\u001b[0;32m----> 3\u001b[0;31m     \u001b[0mtime\u001b[0m\u001b[0;34m.\u001b[0m\u001b[0msleep\u001b[0m\u001b[0;34m(\u001b[0m\u001b[0;36m1\u001b[0m\u001b[0;34m)\u001b[0m\u001b[0;34m\u001b[0m\u001b[0;34m\u001b[0m\u001b[0m\n\u001b[0m",
      "\u001b[0;31mKeyboardInterrupt\u001b[0m: "
     ]
    }
   ],
   "source": [
    "while True:\n",
    "    schedule.run_pending()\n",
    "    time.sleep(1)"
   ]
  },
  {
   "cell_type": "markdown",
   "metadata": {},
   "source": [
    "### Debugging lines"
   ]
  },
  {
   "cell_type": "code",
   "execution_count": 14,
   "metadata": {},
   "outputs": [
    {
     "data": {
      "text/plain": [
       "'smartglass_switched on'"
      ]
     },
     "execution_count": 14,
     "metadata": {},
     "output_type": "execute_result"
    }
   ],
   "source": [
    "pi_zmq.send_command(cmd_switch_glass('on'))"
   ]
  },
  {
   "cell_type": "code",
   "execution_count": 15,
   "metadata": {},
   "outputs": [
    {
     "data": {
      "text/plain": [
       "'smartglass_switched off'"
      ]
     },
     "execution_count": 15,
     "metadata": {},
     "output_type": "execute_result"
    }
   ],
   "source": [
    "pi_zmq.send_command(cmd_switch_glass('off'))"
   ]
  },
  {
   "cell_type": "code",
   "execution_count": 18,
   "metadata": {},
   "outputs": [
    {
     "data": {
      "text/plain": [
       "'ok trial_number:5'"
      ]
     },
     "execution_count": 18,
     "metadata": {},
     "output_type": "execute_result"
    }
   ],
   "source": [
    "pi_zmq.send_command(cmd_trial_number(5))"
   ]
  },
  {
   "cell_type": "code",
   "execution_count": null,
   "metadata": {},
   "outputs": [],
   "source": []
  }
 ],
 "metadata": {
  "kernelspec": {
   "display_name": "mountain",
   "language": "python",
   "name": "mountain"
  },
  "language_info": {
   "codemirror_mode": {
    "name": "ipython",
    "version": 3
   },
   "file_extension": ".py",
   "mimetype": "text/x-python",
   "name": "python",
   "nbconvert_exporter": "python",
   "pygments_lexer": "ipython3",
   "version": "3.6.8"
  }
 },
 "nbformat": 4,
 "nbformat_minor": 2
}
