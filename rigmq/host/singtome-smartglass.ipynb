{
 "cells": [
  {
   "cell_type": "code",
   "execution_count": 1,
   "metadata": {},
   "outputs": [
    {
     "name": "stderr",
     "output_type": "stream",
     "text": [
      "2019-03-17 18:16:58,240 root         INFO     Computer: zebra\n"
     ]
    }
   ],
   "source": [
    "import zmq\n",
    "import time\n",
    "import socket\n",
    "import os\n",
    "import sys\n",
    "import logging\n",
    "import threading\n",
    "import warnings\n",
    "import numpy as np\n",
    "from numpy import matlib\n",
    "\n",
    "# setup the logger\n",
    "logger = logging.getLogger()\n",
    "handler = logging.StreamHandler()\n",
    "formatter = logging.Formatter(\n",
    "        '%(asctime)s %(name)-12s %(levelname)-8s %(message)s')\n",
    "handler.setFormatter(formatter)\n",
    "logger.addHandler(handler)\n",
    "logger.setLevel(logging.INFO)\n",
    "\n",
    "# Check wich computer to decide where the things are mounted\n",
    "comp_name=socket.gethostname()\n",
    "logger.info('Computer: ' + comp_name)\n",
    "\n",
    "from sbcrig.host import sbc"
   ]
  },
  {
   "cell_type": "markdown",
   "metadata": {},
   "source": [
    "### Session tools and methods"
   ]
  },
  {
   "cell_type": "code",
   "execution_count": 30,
   "metadata": {
    "collapsed": true
   },
   "outputs": [],
   "source": [
    "# open the devices\n",
    "pi_zmq = sbc.SBC(port='5558', ip='172.19.10.208')\n",
    "pi_zmq.connect()\n"
   ]
  },
  {
   "cell_type": "markdown",
   "metadata": {},
   "source": [
    "## very simple single trial tests"
   ]
  },
  {
   "cell_type": "code",
   "execution_count": 31,
   "metadata": {},
   "outputs": [],
   "source": [
    "def cmd_trial_number(tr_num):\n",
    "    #on is boolean\n",
    "    return 'trial_number number {}'.format(int(tr_num)).encode('utf8')\n",
    "        \n",
    "def switch_glass(switch):\n",
    "    return 'glass switch {}'.format(switch).encode('utf8')\n",
    "\n",
    "def run_trial(rig_par={'pi': None, 'oe':None}, \n",
    "              trial_par={'iti':500., 'tr_num': 5, 'wave_file': None}):\n",
    "    time.sleep(int(trial_par['iti']*100)/100000.)\n",
    "    rig_par['bb'].send_command(cmd_trial_pin(True))\n",
    "    rig_par['oe'].send_command(cmd_trial_number(trial_par['tr_num']))\n",
    "    rig_par['bb'].send_command(cmd_trial_number(trial_par['tr_num']))\n",
    "    rig_par['oe'].send_command(cmd_play_wav(trial_par['stim']))\n",
    "    rig_par['bb'].send_command(cmd_play_wav(trial_par['stim']))\n",
    "    rig_par['bb'].send_command(cmd_trial_pin(False))\n",
    "    \n"
   ]
  },
  {
   "cell_type": "code",
   "execution_count": 36,
   "metadata": {},
   "outputs": [
    {
     "data": {
      "text/plain": [
       "'smartglass_switched on'"
      ]
     },
     "execution_count": 36,
     "metadata": {},
     "output_type": "execute_result"
    }
   ],
   "source": [
    "pi_zmq.send_command(switch_glass('on'))"
   ]
  },
  {
   "cell_type": "code",
   "execution_count": 37,
   "metadata": {},
   "outputs": [
    {
     "data": {
      "text/plain": [
       "'smartglass_switched off'"
      ]
     },
     "execution_count": 37,
     "metadata": {},
     "output_type": "execute_result"
    }
   ],
   "source": [
    "pi_zmq.send_command(switch_glass('off'))"
   ]
  },
  {
   "cell_type": "code",
   "execution_count": 18,
   "metadata": {},
   "outputs": [
    {
     "data": {
      "text/plain": [
       "'ok trial_number:5'"
      ]
     },
     "execution_count": 18,
     "metadata": {},
     "output_type": "execute_result"
    }
   ],
   "source": [
    "pi_zmq.send_command(cmd_trial_number(5))"
   ]
  },
  {
   "cell_type": "code",
   "execution_count": null,
   "metadata": {},
   "outputs": [],
   "source": []
  }
 ],
 "metadata": {
  "kernelspec": {
   "display_name": "msort pipefinch",
   "language": "python",
   "name": "mountain"
  },
  "language_info": {
   "codemirror_mode": {
    "name": "ipython",
    "version": 3
   },
   "file_extension": ".py",
   "mimetype": "text/x-python",
   "name": "python",
   "nbconvert_exporter": "python",
   "pygments_lexer": "ipython3",
   "version": "3.6.7"
  }
 },
 "nbformat": 4,
 "nbformat_minor": 2
}
