{
 "cells": [
  {
   "cell_type": "code",
   "execution_count": 1,
   "metadata": {},
   "outputs": [
    {
     "name": "stderr",
     "output_type": "stream",
     "text": [
      "2019-06-14 14:39:01,989 root         INFO     Computer: zufurious\n"
     ]
    }
   ],
   "source": [
    "import zmq\n",
    "import time\n",
    "import socket\n",
    "import os\n",
    "import sys\n",
    "import logging\n",
    "import datetime\n",
    "import threading\n",
    "import warnings\n",
    "import schedule\n",
    "import numpy as np\n",
    "from numpy import matlib\n",
    "\n",
    "from multiprocessing import Process\n",
    "\n",
    "# setup the logger\n",
    "logger = logging.getLogger()\n",
    "handler = logging.StreamHandler()\n",
    "formatter = logging.Formatter(\n",
    "        '%(asctime)s %(name)-12s %(levelname)-8s %(message)s')\n",
    "handler.setFormatter(formatter)\n",
    "logger.addHandler(handler)\n",
    "logger.setLevel(logging.INFO)\n",
    "\n",
    "# Check wich computer to decide where the things are mounted\n",
    "comp_name=socket.gethostname()\n",
    "logger.info('Computer: ' + comp_name)\n",
    "\n",
    "from rigmq.host import sbc"
   ]
  },
  {
   "cell_type": "markdown",
   "metadata": {},
   "source": [
    "### Session tools and methods"
   ]
  },
  {
   "cell_type": "code",
   "execution_count": 2,
   "metadata": {},
   "outputs": [],
   "source": [
    "# open the devices\n",
    "pi_zmq = sbc.SBC(port='5558', ip='192.168.1.50') # raspi on main lab\n",
    "pi_zmq.connect()"
   ]
  },
  {
   "cell_type": "code",
   "execution_count": 3,
   "metadata": {},
   "outputs": [],
   "source": [
    "# make a rig dictionary\n",
    "# soon to be object\n",
    "rig_par = {'sbc': pi_zmq,\n",
    "          'oe': None}\n",
    "\n",
    "data_path = os.path.join('E:\\\\' , 'newData', 'song_recordings')\n",
    "bird = 'b11k10'"
   ]
  },
  {
   "cell_type": "markdown",
   "metadata": {},
   "source": [
    "## very simple single trial tests"
   ]
  },
  {
   "cell_type": "code",
   "execution_count": 4,
   "metadata": {},
   "outputs": [],
   "source": [
    "def cmd_trial_number(tr_num):\n",
    "    #on is boolean\n",
    "    return 'trial_number number {}'.format(int(tr_num)).encode('utf8')\n",
    "        \n",
    "def cmd_switch_glass(switch: str) -> str:\n",
    "    return 'glass switch {}'.format(switch).encode('utf8')\n",
    "\n",
    "def run_trial(rig_par={'sbc': None, 'oe':None}, \n",
    "              trial_par={'iti':120*1000., 'tr_num': 5, 'wave_file': None, 'transparent_time': 10*1000}):\n",
    "    time.sleep(int(trial_par['iti']*100)/100000.)\n",
    "    # a very simple trial; switch on, wait, switch off\n",
    "    rig_par['sbc'].send_command(cmd_trial_number(trial_par['tr_num']))\n",
    "    pi_zmq.send_command(cmd_switch_glass('on'))\n",
    "    time.sleep(int(trial_par['transparent_time']*100)/100000.)\n",
    "    pi_zmq.send_command(cmd_switch_glass('off'))\n",
    "    \n",
    "class Block:\n",
    "    # A block is a generator that gives trials (dictionaries)\n",
    "    def __init__(self, transp_time_list, iti_bounds_ms, size, random = True):\n",
    "        self.trials = 0\n",
    "        self.iti_bounds = iti_bounds_ms\n",
    "        self.stim_list = transp_time_list\n",
    "        self.size = size\n",
    "        self.trial_pars = {'iti': None, 'tr_num': 0, 'stim': None, 'transparent_time': 10*1000}\n",
    "        self.stim_order = matlib.repmat(np.arange(len(transp_time_list)),\n",
    "                                           int(np.ceil(size/len(transp_time_list))),\n",
    "                                           1)[:size].flatten()\n",
    "        if random:\n",
    "            np.random.shuffle(self.stim_order)\n",
    "    \n",
    "    def __iter__(self,):\n",
    "        return self\n",
    "    \n",
    "    def next(self, ):\n",
    "        if self.trials < self.size:\n",
    "            self.trial_pars['iti'] = np.random.randint(self.iti_bounds[0], self.iti_bounds[1])\n",
    "            #print self.trials\n",
    "            self.trial_pars['tr_num'] = self.trials\n",
    "            self.trial_pars['stim'] = None\n",
    "            self.trial_pars['transparent_time'] = self.stim_list[self.stim_order[self.trials]]\n",
    "            self.trials+=1\n",
    "            return self.trial_pars\n",
    "        else:\n",
    "            raise StopIteration()"
   ]
  },
  {
   "cell_type": "markdown",
   "metadata": {},
   "source": [
    "### Create a block of trials that switch on the glass for some time"
   ]
  },
  {
   "cell_type": "code",
   "execution_count": 5,
   "metadata": {},
   "outputs": [],
   "source": [
    "block_times = [10*1000, 20*1000, 30*1000, 60*1000] # open times are 10, 20, 30, 60 seconds\n",
    "block_iti_bounds = [5*60*1000, 15*60*1000] # it ranges from 5 to 15 min, uniformly distributed\n",
    "a_block = Block(block_times, block_iti_bounds, 80) # block is 80 trials, that about 14 hour."
   ]
  },
  {
   "cell_type": "markdown",
   "metadata": {},
   "source": [
    "#### spit one trial dict"
   ]
  },
  {
   "cell_type": "code",
   "execution_count": 6,
   "metadata": {},
   "outputs": [
    {
     "data": {
      "text/plain": [
       "{'iti': 501275, 'tr_num': 0, 'stim': None, 'transparent_time': 30000}"
      ]
     },
     "execution_count": 6,
     "metadata": {},
     "output_type": "execute_result"
    }
   ],
   "source": [
    "a_block.next()"
   ]
  },
  {
   "cell_type": "markdown",
   "metadata": {},
   "source": [
    "### Make a Runner Thread that goes through a block running each trial"
   ]
  },
  {
   "cell_type": "code",
   "execution_count": 7,
   "metadata": {},
   "outputs": [],
   "source": [
    "class Runner(threading.Thread):\n",
    "    # runs an experiment block\n",
    "    # forced to no recording system to control\n",
    "    def __init__(self, block, rig_par, recorder=None, group=None, target=None, name=None, \n",
    "                 args=(), kwargs=None):\n",
    "        threading.Thread.__init__(self, group=group, target=target, name=name)\n",
    "        \n",
    "        logging.info('Initializing block size {}'.format(block.size))\n",
    "        self.block = block #block object\n",
    "        self.rig = rig_par\n",
    "        self.stim_sys = rig_par['sbc']\n",
    "        self.rec_sys = None\n",
    "        self.running = threading.Event() #Event\n",
    "        self.finished = False\n",
    "        self.trial = None\n",
    "        self.running.clear()\n",
    "        self.recorder = recorder #Record control\n",
    "   \n",
    "    def run(self):\n",
    "        logging.debug('running block')\n",
    "        if not self.running.is_set():\n",
    "            logger.info('Starting Block')\n",
    "#             if self.is_recording()==True:\n",
    "#                 logging.debug('Starting recording')\n",
    "#                 self.recorder.start()\n",
    "#                 time.sleep(2)\n",
    "            self.running.set()\n",
    "            while True:\n",
    "                try:\n",
    "                    if self.running.is_set():\n",
    "                        self.trial = self.block.next()\n",
    "                        logging.info('Running trial {}'.format(self.trial))\n",
    "                        #print(self.trial)\n",
    "                        run_trial(rig_par=self.rig, trial_par=self.trial)\n",
    "                    else:\n",
    "                        self.end_block()\n",
    "                        break\n",
    "\n",
    "                except StopIteration:\n",
    "                    self.finished = True\n",
    "                    self.running.clear()\n",
    "                    logger.info('finished block')\n",
    "                    break\n",
    "            \n",
    "            if self.is_recording()==True:\n",
    "                logger.info('Runner stopping recording')\n",
    "                self.recorder.signal_stop()\n",
    "        else:\n",
    "            logging.info('Cant start, already running')\n",
    "            \n",
    "        return self.finished\n",
    "                    \n",
    "    def end_block(self):\n",
    "        print('stopping the block in trial {}'.format(self.trial['tr_num']))\n",
    "        self.finished = False\n",
    "        \n",
    "    def signal_stop(self):\n",
    "        self.running.clear()\n",
    "        \n",
    "    def is_running(self):\n",
    "        return self.running.is_set()\n",
    "    \n",
    "    def is_recording(self):\n",
    "        logging.debug('runner checking recording status')\n",
    "        logging.debug('{}'.format(self.recorder))\n",
    "        if self.recorder is not None:\n",
    "            logging.debug('status {}'.format(self.recorder.report_recording()))\n",
    "            return self.recorder.report_recording()\n",
    "        else:\n",
    "            return None"
   ]
  },
  {
   "cell_type": "markdown",
   "metadata": {},
   "source": [
    "#### Run a block till the end"
   ]
  },
  {
   "cell_type": "code",
   "execution_count": 8,
   "metadata": {
    "scrolled": true
   },
   "outputs": [
    {
     "name": "stderr",
     "output_type": "stream",
     "text": [
      "2019-06-14 11:57:35,832 root         INFO     Initializing block\n",
      "2019-06-14 11:57:35,833 root         INFO     Starting Block\n",
      "2019-06-14 11:57:35,839 root         INFO     Running trial {'iti': 848808, 'tr_num': 0, 'stim': None, 'transparent_time': 10000}\n"
     ]
    },
    {
     "name": "stdout",
     "output_type": "stream",
     "text": [
      "{'iti': 848808, 'tr_num': 0, 'stim': None, 'transparent_time': 10000}\n"
     ]
    }
   ],
   "source": [
    "screen_block = Block(block_times, block_iti_bounds, 80)\n",
    "block_runner = Runner(screen_block, rig_par, recorder=None)\n",
    "block_runner.start()"
   ]
  },
  {
   "cell_type": "markdown",
   "metadata": {},
   "source": [
    "## schedule a block to start every day at 6am\n",
    "to do a simple, dayly scehduled ~14hr block, I use schedule package\n",
    "https://schedule.readthedocs.io/en/stable/"
   ]
  },
  {
   "cell_type": "code",
   "execution_count": 20,
   "metadata": {},
   "outputs": [
    {
     "name": "stderr",
     "output_type": "stream",
     "text": [
      "2019-06-16 11:04:24,760 root         INFO     Starting a new block\n",
      "2019-06-16 11:04:24,772 root         INFO     Logging activity to E:\\newData\\song_recordings\\b11k10\\PyBehave\\2019-06-16\\smartglass_log.txt\n",
      "2019-06-16 20:51:10,222 root         INFO     this should print on scren\n",
      "2019-06-17 06:00:00,386 schedule     INFO     Running job Every 1 day at 06:00:00 do do_block() (last run: [never], next run: 2019-06-17 06:00:00)\n",
      "2019-06-17 06:00:00,386 root         INFO     Starting a new block\n",
      "2019-06-17 06:00:00,387 root         INFO     Logging activity to E:\\newData\\song_recordings\\b11k10\\PyBehave\\2019-06-17\\smartglass_log.txt\n",
      "2019-06-17 16:16:50,446 root         INFO     this should print on scren\n"
     ]
    }
   ],
   "source": [
    "def do_block():\n",
    "    logger = logging.getLogger() \n",
    "    logger.info('Starting a new block')\n",
    "    bird_pybeh_path = os.path.join(data_path, bird, 'PyBehave', datetime.datetime.today().strftime('%Y-%m-%d'))\n",
    "    os.makedirs(bird_pybeh_path, exist_ok=True)\n",
    "    block_log_path = os.path.join(bird_pybeh_path, 'smartglass_log.txt')\n",
    "    logger.info('Logging activity to {}'.format(block_log_path))\n",
    "    \n",
    "    # add the file log handler\n",
    "    f_handler = logging.FileHandler(block_log_path)\n",
    "    f_handler.setFormatter(formatter)\n",
    "    logger.addHandler(f_handler)\n",
    "    logger.removeHandler(handler)\n",
    "    \n",
    "    # run the block, join the thread.\n",
    "    screen_block = Block(block_times, block_iti_bounds, 80)\n",
    "    logger.info(' here starts block')\n",
    "    block_runner = Runner(screen_block, rig_par, recorder=None) #remember runner is a Thread subclass\n",
    "    block_runner.start()\n",
    "    block_runner.join()\n",
    "    \n",
    "    # remove the file handler and reactivate the stream_handler\n",
    "    logger.addHandler(handler)\n",
    "    logger.removeHandler(f_handler)\n",
    "    logger.info('this should print on scren')\n",
    "\n",
    "\n",
    "do_block()"
   ]
  },
  {
   "cell_type": "code",
   "execution_count": 10,
   "metadata": {},
   "outputs": [
    {
     "data": {
      "text/plain": [
       "[Every 1 day at 06:00:00 do do_block() (last run: [never], next run: 2019-06-15 06:00:00)]"
      ]
     },
     "execution_count": 10,
     "metadata": {},
     "output_type": "execute_result"
    }
   ],
   "source": [
    "schedule.jobs"
   ]
  },
  {
   "cell_type": "markdown",
   "metadata": {},
   "source": [
    "### Leave the scheduler running"
   ]
  },
  {
   "cell_type": "code",
   "execution_count": 19,
   "metadata": {},
   "outputs": [
    {
     "name": "stderr",
     "output_type": "stream",
     "text": [
      "2019-06-16 11:04:14,448 root         INFO     Will start the schedule on a Process\n",
      "2019-06-16 11:04:14,453 root         INFO     Sheduled tasks list: [Every 1 day at 06:00:00 do do_block() (last run: [never], next run: 2019-06-17 06:00:00)]\n"
     ]
    }
   ],
   "source": [
    "def run_schedule():\n",
    "    logger.info('Will start the schedule on a Process')\n",
    "    logger.info('Sheduled tasks list: {}'.format(schedule.jobs))\n",
    "    while True:\n",
    "        schedule.run_pending()\n",
    "        time.sleep(1)\n",
    "\n",
    "## leave it running on is onwn thread\n",
    "schedule.clear()\n",
    "schedule.every().day.at(\"06:00\").do(do_block)\n",
    "schedule_thread = threading.Thread(target=run_schedule)\n",
    "schedule_thread.start()"
   ]
  },
  {
   "cell_type": "code",
   "execution_count": 14,
   "metadata": {},
   "outputs": [
    {
     "data": {
      "text/plain": [
       "58124"
      ]
     },
     "execution_count": 14,
     "metadata": {},
     "output_type": "execute_result"
    }
   ],
   "source": [
    "schedule_process.pid"
   ]
  },
  {
   "cell_type": "code",
   "execution_count": 17,
   "metadata": {},
   "outputs": [
    {
     "data": {
      "text/plain": [
       "[Every 1 day at 06:00:00 do do_block() (last run: [never], next run: 2019-06-15 06:00:00)]"
      ]
     },
     "execution_count": 17,
     "metadata": {},
     "output_type": "execute_result"
    }
   ],
   "source": [
    "schedule.jobs"
   ]
  },
  {
   "cell_type": "markdown",
   "metadata": {},
   "source": [
    "### Debugging lines"
   ]
  },
  {
   "cell_type": "code",
   "execution_count": 27,
   "metadata": {},
   "outputs": [
    {
     "data": {
      "text/plain": [
       "'smartglass_switched on'"
      ]
     },
     "execution_count": 27,
     "metadata": {},
     "output_type": "execute_result"
    }
   ],
   "source": [
    "pi_zmq.send_command(cmd_switch_glass('on'))"
   ]
  },
  {
   "cell_type": "code",
   "execution_count": 28,
   "metadata": {},
   "outputs": [
    {
     "data": {
      "text/plain": [
       "'smartglass_switched off'"
      ]
     },
     "execution_count": 28,
     "metadata": {},
     "output_type": "execute_result"
    }
   ],
   "source": [
    "pi_zmq.send_command(cmd_switch_glass('off'))"
   ]
  },
  {
   "cell_type": "code",
   "execution_count": 18,
   "metadata": {},
   "outputs": [
    {
     "data": {
      "text/plain": [
       "'ok trial_number:5'"
      ]
     },
     "execution_count": 18,
     "metadata": {},
     "output_type": "execute_result"
    }
   ],
   "source": [
    "pi_zmq.send_command(cmd_trial_number(5))"
   ]
  },
  {
   "cell_type": "code",
   "execution_count": 19,
   "metadata": {},
   "outputs": [],
   "source": [
    "os.makedirs( 'tuputamadre'))"
   ]
  },
  {
   "cell_type": "code",
   "execution_count": 20,
   "metadata": {},
   "outputs": [
    {
     "data": {
      "text/plain": [
       "'E\\\\newData\\\\tuputamadre'"
      ]
     },
     "execution_count": 20,
     "metadata": {},
     "output_type": "execute_result"
    }
   ],
   "source": [
    "os.path.join('E', 'newData', 'tuputamadre')"
   ]
  },
  {
   "cell_type": "code",
   "execution_count": null,
   "metadata": {},
   "outputs": [],
   "source": []
  }
 ],
 "metadata": {
  "kernelspec": {
   "display_name": "Python 3",
   "language": "python",
   "name": "python3"
  },
  "language_info": {
   "codemirror_mode": {
    "name": "ipython",
    "version": 3
   },
   "file_extension": ".py",
   "mimetype": "text/x-python",
   "name": "python",
   "nbconvert_exporter": "python",
   "pygments_lexer": "ipython3",
   "version": "3.6.8"
  }
 },
 "nbformat": 4,
 "nbformat_minor": 2
}
