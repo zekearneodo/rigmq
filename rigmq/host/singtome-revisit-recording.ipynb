{
 "cells": [
  {
   "cell_type": "code",
   "execution_count": 1,
   "metadata": {},
   "outputs": [
    {
     "name": "stderr",
     "output_type": "stream",
     "text": [
      "2019-03-17 17:33:09,035 root         INFO     Computer: zebra\n"
     ]
    },
    {
     "ename": "NameError",
     "evalue": "name 'repos_folder' is not defined",
     "output_type": "error",
     "traceback": [
      "\u001b[0;31m---------------------------------------------------------------------------\u001b[0m",
      "\u001b[0;31mNameError\u001b[0m                                 Traceback (most recent call last)",
      "\u001b[0;32m<ipython-input-1-8cc184b7fd80>\u001b[0m in \u001b[0;36m<module>\u001b[0;34m\u001b[0m\n\u001b[1;32m     34\u001b[0m     \u001b[0mrec_folder\u001b[0m \u001b[0;34m=\u001b[0m \u001b[0mos\u001b[0m\u001b[0;34m.\u001b[0m\u001b[0mpath\u001b[0m\u001b[0;34m.\u001b[0m\u001b[0mjoin\u001b[0m\u001b[0;34m(\u001b[0m\u001b[0;34m'/Users/zeke/bci_zf/raw_data'\u001b[0m\u001b[0;34m)\u001b[0m\u001b[0;34m\u001b[0m\u001b[0;34m\u001b[0m\u001b[0m\n\u001b[1;32m     35\u001b[0m \u001b[0;34m\u001b[0m\u001b[0m\n\u001b[0;32m---> 36\u001b[0;31m \u001b[0msys\u001b[0m\u001b[0;34m.\u001b[0m\u001b[0mpath\u001b[0m\u001b[0;34m.\u001b[0m\u001b[0mappend\u001b[0m\u001b[0;34m(\u001b[0m\u001b[0mos\u001b[0m\u001b[0;34m.\u001b[0m\u001b[0mpath\u001b[0m\u001b[0;34m.\u001b[0m\u001b[0mjoin\u001b[0m\u001b[0;34m(\u001b[0m\u001b[0mrepos_folder\u001b[0m\u001b[0;34m,\u001b[0m \u001b[0;34m'soundflow'\u001b[0m\u001b[0;34m,\u001b[0m \u001b[0;34m'sound_tools'\u001b[0m\u001b[0;34m)\u001b[0m\u001b[0;34m)\u001b[0m\u001b[0;34m\u001b[0m\u001b[0;34m\u001b[0m\u001b[0m\n\u001b[0m\u001b[1;32m     37\u001b[0m \u001b[0msys\u001b[0m\u001b[0;34m.\u001b[0m\u001b[0mpath\u001b[0m\u001b[0;34m.\u001b[0m\u001b[0mappend\u001b[0m\u001b[0;34m(\u001b[0m\u001b[0mos\u001b[0m\u001b[0;34m.\u001b[0m\u001b[0mpath\u001b[0m\u001b[0;34m.\u001b[0m\u001b[0mjoin\u001b[0m\u001b[0;34m(\u001b[0m\u001b[0mrepos_folder\u001b[0m\u001b[0;34m,\u001b[0m \u001b[0;34m'ephysflow'\u001b[0m\u001b[0;34m)\u001b[0m\u001b[0;34m)\u001b[0m\u001b[0;34m\u001b[0m\u001b[0;34m\u001b[0m\u001b[0m\n\u001b[1;32m     38\u001b[0m \u001b[0;34m\u001b[0m\u001b[0m\n",
      "\u001b[0;31mNameError\u001b[0m: name 'repos_folder' is not defined"
     ]
    }
   ],
   "source": [
    "import zmq\n",
    "import time\n",
    "import socket\n",
    "import os\n",
    "import sys\n",
    "import logging\n",
    "import threading\n",
    "import warnings\n",
    "import numpy as np\n",
    "from numpy import matlib\n",
    "\n",
    "# setup the logger\n",
    "logger = logging.getLogger()\n",
    "handler = logging.StreamHandler()\n",
    "formatter = logging.Formatter(\n",
    "        '%(asctime)s %(name)-12s %(levelname)-8s %(message)s')\n",
    "handler.setFormatter(formatter)\n",
    "logger.addHandler(handler)\n",
    "logger.setLevel(logging.INFO)\n",
    "\n",
    "# Check wich computer to decide where the things are mounted\n",
    "comp_name=socket.gethostname()\n",
    "logger.info('Computer: ' + comp_name)\n",
    "\n",
    "from file_tools import experiment as et\n",
    "from rig_tools import open_ephys as oe, beagle_bone as bb"
   ]
  },
  {
   "cell_type": "markdown",
   "metadata": {},
   "source": [
    "### Session tools and methods"
   ]
  },
  {
   "cell_type": "code",
   "execution_count": 2,
   "metadata": {
    "collapsed": true
   },
   "outputs": [],
   "source": [
    "# command functions\n",
    "def cmd_play_wav(wav_file):\n",
    "    cmd_line = 'play_wav stim_file ' + wav_file\n",
    "    return cmd_line\n",
    "\n",
    "def cmd_trial_pin(on):\n",
    "    #on is boolean\n",
    "    return 'trial_pin on {}'.format(on)\n",
    "\n",
    "def cmd_trial_number(tr_num):\n",
    "    #on is boolean\n",
    "    return 'trial_number number {}'.format(int(tr_num))\n",
    "        \n",
    "def run_trial(rig_par={'bb': None, 'oe':None}, \n",
    "              trial_par={'iti':500., 'tr_num': 5, 'wave_file': None}):\n",
    "    time.sleep(int(trial_par['iti']*100)/100000.)\n",
    "    rig_par['bb'].send_command(cmd_trial_pin(True))\n",
    "    rig_par['oe'].send_command(cmd_trial_number(trial_par['tr_num']))\n",
    "    rig_par['bb'].send_command(cmd_trial_number(trial_par['tr_num']))\n",
    "    rig_par['oe'].send_command(cmd_play_wav(trial_par['stim']))\n",
    "    rig_par['bb'].send_command(cmd_play_wav(trial_par['stim']))\n",
    "    rig_par['bb'].send_command(cmd_trial_pin(False))\n",
    "    \n",
    "class Recorder(threading.Thread):\n",
    "    def __init__(self, rig_par, control_Event, new=False, rec_par={'CreateNewDir': '0'}, restart=True, \n",
    "                 group=None, target=None, name=None, \n",
    "                 args=(), kwargs=None, verbose=None):\n",
    "        threading.Thread.__init__(self, group=group, target=target, name=name, verbose=verbose)\n",
    "        \n",
    "        logging.info('Initializing recorder')\n",
    "        self.name = 'Recorder'\n",
    "        self.rig = rig_par\n",
    "        self.rec_sys = rig_par['rec']\n",
    "        self.recording = threading.Event() #Event\n",
    "        self.control_signal = control_Event # Event\n",
    "        self.recording_path = None\n",
    "        self.rec_par = rec_par\n",
    "        self.new_rec = new\n",
    "        self.force_restart = restart\n",
    "        self.recording.clear()\n",
    "        \n",
    "   \n",
    "    def run(self):\n",
    "        logging.debug('recording')\n",
    "        # If starting of a new recorded is forced\n",
    "        ok_to_start = False\n",
    "        \n",
    "        if self.is_recording():\n",
    "            if self.force_restart:\n",
    "                self.stop_record()\n",
    "                ok_to_start = True\n",
    "                \n",
    "        if self.control_signal is not None:\n",
    "            while not self.control_signal.is_set():\n",
    "                pass\n",
    "            logging.debug('Start record signal received')\n",
    "            self.start_record(new=self.new_rec, rec_par=self.rec_par)\n",
    "            while self.control_signal.is_set():\n",
    "                if self.recording.is_set():\n",
    "                    pass\n",
    "                else:\n",
    "                    logging.info('Stop recording Forced')\n",
    "                    self.control_signal.clear()\n",
    "                    break\n",
    "            logging.debug('Stop record signal received')\n",
    "            self.stop_record()\n",
    "\n",
    "    def start_record(self, new=False, rec_par={'CreateNewDir':'0'}):\n",
    "        if self.rec_sys.start_rec(rec_par=rec_par):\n",
    "            logging.debug('Started recording')\n",
    "            self.recording_path = self.rec_sys.get_rec_path()\n",
    "            self.recording.set()\n",
    "        return self.recording_path\n",
    "                    \n",
    "    def stop_record(self, ):\n",
    "        if self.rec_sys.query_status('Recording'):\n",
    "            self.rec_sys.stop_rec()\n",
    "            self.recording.clear()\n",
    "            logging.info('Stopped recording')\n",
    "            \n",
    "    def break_record(self, ):\n",
    "        self.rec_sys.break_rec()\n",
    "            \n",
    "    def signal_stop(self):\n",
    "        self.recording.clear()\n",
    "        \n",
    "    def is_recording(self):\n",
    "        return self.rec_sys.query_status(status_query='Recording')\n",
    "    \n",
    "    def report_recording(self):\n",
    "        return self.recording.is_set()\n",
    "    \n",
    "    def report_recording_parh(self):\n",
    "        return self.recording_path()\n",
    "    \n",
    "    def get_rec_path(self):\n",
    "        return self.rec_sys.get_rec_path()\n",
    "    \n",
    "class Block:\n",
    "    def __init__(self, stim_list, iti_bounds_ms, size, random = True):\n",
    "        self.trials = 0\n",
    "        self.iti_bounds = iti_bounds_ms\n",
    "        self.stim_list = stim_list\n",
    "        self.size = size\n",
    "        self.trial_pars = {'iti': None, 'tr_num': 0, 'stim': None}\n",
    "        self.stim_order = matlib.repmat(np.arange(len(stim_list)),\n",
    "                                           int(np.ceil(size/len(stim_list))),\n",
    "                                           1)[:size].flatten()\n",
    "        if random:\n",
    "            np.random.shuffle(self.stim_order)\n",
    "    \n",
    "    def __iter__(self,):\n",
    "        return self\n",
    "    \n",
    "    def next(self, ):\n",
    "        if self.trials < self.size:\n",
    "            self.trial_pars['iti'] = np.random.randint(self.iti_bounds[0], self.iti_bounds[1])\n",
    "            #print self.trials\n",
    "            self.trial_pars['tr_num'] = self.trials\n",
    "            self.trial_pars['stim'] = self.stim_list[self.stim_order[self.trials]]\n",
    "            self.trials+=1\n",
    "            return self.trial_pars\n",
    "        else:\n",
    "            raise StopIteration()\n",
    "            \n",
    "class Runner(threading.Thread):\n",
    "    def __init__(self, block, rig_par, recorder=None, group=None, target=None, name=None, \n",
    "                 args=(), kwargs=None, verbose=None):\n",
    "        threading.Thread.__init__(self, group=group, target=target, name=name, verbose=verbose)\n",
    "        \n",
    "        logging.info('Initializing block')\n",
    "        self.block = block #block object\n",
    "        self.rig = rig_par\n",
    "        self.stim_sys = rig_par['bb']\n",
    "        self.rec_sys = rig_par['oe']\n",
    "        self.running = threading.Event() #Event\n",
    "        self.finished = False\n",
    "        self.trial = None\n",
    "        self.running.clear()\n",
    "        self.recorder = recorder #Record control\n",
    "   \n",
    "    def run(self):\n",
    "        logging.debug('running block')\n",
    "        if not self.running.is_set():\n",
    "            print 'Starting Block'\n",
    "#             if self.is_recording()==True:\n",
    "#                 logging.debug('Starting recording')\n",
    "#                 self.recorder.start()\n",
    "#                 time.sleep(2)\n",
    "            self.running.set()\n",
    "            while True:\n",
    "                try:\n",
    "                    if self.running.is_set():\n",
    "                        self.trial = self.block.next()\n",
    "                        logging.info('Running trial {}'.format(self.trial))\n",
    "                        print self.trial\n",
    "                        run_trial(rig_par=self.rig, trial_par=self.trial)\n",
    "                    else:\n",
    "                        self.end_block()\n",
    "                        break\n",
    "\n",
    "                except StopIteration:\n",
    "                    self.finished = True\n",
    "                    self.running.clear()\n",
    "                    print 'finished block'\n",
    "                    break\n",
    "            \n",
    "            if self.is_recording()==True:\n",
    "                print('Runner stopping recording')\n",
    "                self.recorder.signal_stop()\n",
    "        else:\n",
    "            logging.info('Cant start, already running')\n",
    "            \n",
    "        return self.finished\n",
    "                    \n",
    "    def end_block(self):\n",
    "        print('stopping the block in trial {}'.format(self.trial['tr_num']))\n",
    "        self.finished = False\n",
    "        \n",
    "    def signal_stop(self):\n",
    "        self.running.clear()\n",
    "        \n",
    "    def is_running(self):\n",
    "        return self.running.is_set()\n",
    "    \n",
    "    def is_recording(self):\n",
    "        logging.debug('runner checking recording status')\n",
    "        logging.debug('{}'.format(self.recorder))\n",
    "        if self.recorder is not None:\n",
    "            logging.debug('status {}'.format(self.recorder.report_recording()))\n",
    "            return self.recorder.report_recording()\n",
    "        else:\n",
    "            return None\n",
    "\n",
    "class H5er():\n",
    "    # To do: a thread to log the input/output of every trial, \n",
    "    # that is init by a session and passed to a runner\n",
    "    def __init__(self):\n",
    "        raise NotImplementedError\n",
    "        \n",
    "class Session:\n",
    "    def __init__(self, ephys, beagle, bird_id='z000', depth=100, descr=None):\n",
    "        self.ephys = ephys\n",
    "        self.beagle = beagle\n",
    "        self.bird_folder = None\n",
    "        self.sess_folder = None\n",
    "        self.bird_id = bird_id\n",
    "        self.electrode_depth = depth #append to rec folder\n",
    "        self.experiment_descr = descr #prepend to rec folder\n",
    "        self.block_runner = None\n",
    "        self.trial_number = 1\n",
    "        self.make_bird_folder()\n",
    "        self.recording = threading.Event()\n",
    "        self.record_control = threading.Event()\n",
    "        self.recorder = Recorder({'rec': self.ephys}, self.record_control)\n",
    "        self.recording.clear()\n",
    "        self.record_control.clear()\n",
    "        self.timers = {}\n",
    "        \n",
    "    def make_bird_folder(self, ):\n",
    "        self.bird_folder = os.path.join(rec_folder, self.bird_id)\n",
    "        et.mkdir_p(self.bird_folder)\n",
    "    \n",
    "    def start_record(self, duration=0, new=False, force_restart=False, max_rec_size=0):\n",
    "        if new:\n",
    "            rec_par = {'CreateNewDir': '1', \n",
    "                      'RecDir': self.bird_folder,\n",
    "                      'AppendText': str(self.electrode_depth),\n",
    "                      'PrependText': self.experiment_descr}\n",
    "        else:\n",
    "            rec_par = {'CreateNewDir':'0'}\n",
    "        \n",
    "        if self.is_recording():\n",
    "            logger.info('Trying to record but already recording')\n",
    "        \n",
    "        else:\n",
    "            self.record_control.set()\n",
    "            self.recorder = Recorder({'rec': self.ephys}, self.record_control,\n",
    "                                    new=new, rec_par=rec_par, restart=force_restart)\n",
    "            self.recorder.start()\n",
    "            if self.recorder.report_recording():\n",
    "                logger.debug('Started recording')\n",
    "                self.sess_folder = self.recorder.report_recording_path()\n",
    "                self.recording.set()\n",
    "                \n",
    "            if duration > 0:\n",
    "                self.timers['stop_record'] = threading.Timer(duration, self.stop_record)\n",
    "                self.timers['stop_record'].start()\n",
    "            \n",
    "            if max_rec_size > 0:\n",
    "                if duration==0:\n",
    "                    warnings.warn('Cannot chunk an unlimited recording for now', RuntimeWarning)\n",
    "                break_points = np.arange(0, duration, max_rec_size)[1:]\n",
    "                self.timers['break_record'] = []\n",
    "                for t_b in break_points:\n",
    "                    logger.info('setting break timer at {}'.format(t_b))\n",
    "                    break_timer = threading.Timer(t_b, self.break_record)\n",
    "                    self.timers['break_record'].append(break_timer)\n",
    "                    break_timer.start()\n",
    "                    \n",
    "    def stop_record(self, ):\n",
    "        if 'stop_record' in self.timers:\n",
    "            self.timers['stop_record'].cancel()\n",
    "            del(self.timers['stop_record'])\n",
    "        if 'break_record' in self.timers:\n",
    "            [tm.cancel() for tm in self.timers['break_record']]\n",
    "            del(self.timers['break_record'])\n",
    "            \n",
    "        if self.recorder.report_recording():\n",
    "            self.recorder.signal_stop()\n",
    "            self.recording.clear()\n",
    "            logging.info('Stopped recording')\n",
    "            \n",
    "    def break_record(self, ):\n",
    "        if self.recorder.report_recording():\n",
    "            logger.debug('Was recording')\n",
    "            logger.info('Inserting a break in the recording')\n",
    "            self.recorder.break_record()\n",
    "        \n",
    "    def start_block(self, block, record=False, new=False):\n",
    "        if record:\n",
    "            logging.info('Starting to record')\n",
    "            self.start_record(new=True)\n",
    "            time.sleep(2)\n",
    "            \n",
    "        logger.info('Starting block')\n",
    "        self.block_runner = Runner(block, {'bb': self.beagle, 'oe': self.ephys}, \n",
    "                                   recorder=self.recorder)\n",
    "        self.block_runner.start()\n",
    "        \n",
    "    def monitor_block(self, ):\n",
    "        if self.is_recording():\n",
    "            self.stop_record()\n",
    "    \n",
    "    def stop_block(self):\n",
    "        self.block_runner.signal_stop()\n",
    "        if self.is_recording:\n",
    "            self.stop_record()\n",
    "        \n",
    "    def is_recording(self):\n",
    "        return self.recording.is_set()\n",
    "    \n",
    "    def is_running(self):\n",
    "        return self.block_runner.is_running()"
   ]
  },
  {
   "cell_type": "code",
   "execution_count": 3,
   "metadata": {
    "collapsed": true
   },
   "outputs": [],
   "source": [
    "# open the devices\n",
    "oe_zmq = oe.OpenEphysEvents(port='5556', ip='127.0.0.1')\n",
    "bb_zmq = bb.BeagleBone(port='5559', ip='tsippor.ucsd.edu')\n",
    "\n",
    "bb_zmq.connect()\n",
    "oe_zmq.connect()"
   ]
  },
  {
   "cell_type": "code",
   "execution_count": 4,
   "metadata": {},
   "outputs": [
    {
     "name": "stdout",
     "output_type": "stream",
     "text": [
      "Acquistion stopped\n",
      "Acquisition Started\n"
     ]
    }
   ],
   "source": [
    "oe_zmq.stop_acq()\n",
    "oe_zmq.start_acq()"
   ]
  },
  {
   "cell_type": "markdown",
   "metadata": {},
   "source": [
    "# just record for some time, creating a new record every some seconds"
   ]
  },
  {
   "cell_type": "code",
   "execution_count": 5,
   "metadata": {},
   "outputs": [
    {
     "name": "stderr",
     "output_type": "stream",
     "text": [
      "2017-12-08 16:36:09,178 root         INFO     Initializing recorder\n",
      "2017-12-08 16:36:09,181 root         INFO     Initializing recorder\n",
      "2017-12-08 16:36:09,183 root         INFO     setting break timer at 1800\n",
      "2017-12-08 16:36:09,186 root         INFO     setting break timer at 3600\n",
      "2017-12-08 16:36:09,188 root         INFO     setting break timer at 5400\n",
      "2017-12-08 16:36:09,190 root         INFO     setting break timer at 7200\n",
      "2017-12-08 16:36:09,191 root         INFO     setting break timer at 9000\n"
     ]
    },
    {
     "name": "stdout",
     "output_type": "stream",
     "text": [
      "OK to start\n",
      "Recording path: /usr/local/experiment/raw_data/z049/awake_2017-12-08_16-36-09_2000\n"
     ]
    },
    {
     "name": "stderr",
     "output_type": "stream",
     "text": [
      "2017-12-08 17:06:09,187 root         INFO     Inserting a break in the recording\n"
     ]
    },
    {
     "name": "stdout",
     "output_type": "stream",
     "text": [
      "Breaking recording in progress\n"
     ]
    },
    {
     "name": "stderr",
     "output_type": "stream",
     "text": [
      "2017-12-08 17:36:09,191 root         INFO     Inserting a break in the recording\n"
     ]
    },
    {
     "name": "stdout",
     "output_type": "stream",
     "text": [
      "Breaking recording in progress\n"
     ]
    },
    {
     "name": "stderr",
     "output_type": "stream",
     "text": [
      "2017-12-08 18:06:09,192 root         INFO     Inserting a break in the recording\n"
     ]
    },
    {
     "name": "stdout",
     "output_type": "stream",
     "text": [
      "Breaking recording in progress\n"
     ]
    },
    {
     "name": "stderr",
     "output_type": "stream",
     "text": [
      "2017-12-08 18:36:09,194 root         INFO     Inserting a break in the recording\n"
     ]
    },
    {
     "name": "stdout",
     "output_type": "stream",
     "text": [
      "Breaking recording in progress\n"
     ]
    }
   ],
   "source": [
    "max_rec_size = 1800\n",
    "total_rec = 3600*3\n",
    "\n",
    "ss = Session(oe_zmq, bb_zmq, bird_id='z049', depth=2000, descr='awake')\n",
    "ss.start_record(total_rec, new=True, force_restart=True, max_rec_size=max_rec_size)"
   ]
  },
  {
   "cell_type": "code",
   "execution_count": 6,
   "metadata": {},
   "outputs": [
    {
     "name": "stderr",
     "output_type": "stream",
     "text": [
      "2017-12-08 12:59:16,149 root         INFO     Inserting a break in the recording\n"
     ]
    },
    {
     "name": "stdout",
     "output_type": "stream",
     "text": [
      "Breaking recording in progress\n"
     ]
    },
    {
     "name": "stderr",
     "output_type": "stream",
     "text": [
      "2017-12-08 13:29:05,231 root         INFO     Inserting a break in the recording\n"
     ]
    },
    {
     "name": "stdout",
     "output_type": "stream",
     "text": [
      "Breaking recording in progress\n"
     ]
    },
    {
     "name": "stderr",
     "output_type": "stream",
     "text": [
      "2017-12-08 13:59:05,231 root         INFO     Inserting a break in the recording\n"
     ]
    },
    {
     "name": "stdout",
     "output_type": "stream",
     "text": [
      "Breaking recording in progress\n"
     ]
    },
    {
     "name": "stderr",
     "output_type": "stream",
     "text": [
      "2017-12-08 14:29:05,233 root         INFO     Inserting a break in the recording\n"
     ]
    },
    {
     "name": "stdout",
     "output_type": "stream",
     "text": [
      "Breaking recording in progress\n"
     ]
    },
    {
     "name": "stderr",
     "output_type": "stream",
     "text": [
      "2017-12-08 14:59:05,238 root         INFO     Inserting a break in the recording\n"
     ]
    },
    {
     "name": "stdout",
     "output_type": "stream",
     "text": [
      "Breaking recording in progress\n"
     ]
    },
    {
     "name": "stderr",
     "output_type": "stream",
     "text": [
      "2017-12-08 15:29:05,252 root         INFO     Inserting a break in the recording\n"
     ]
    },
    {
     "name": "stdout",
     "output_type": "stream",
     "text": [
      "Breaking recording in progress\n"
     ]
    },
    {
     "name": "stderr",
     "output_type": "stream",
     "text": [
      "2017-12-08 15:59:05,228 root         INFO     Stopped recording\n",
      "2017-12-08 15:59:05,228 root         INFO     Stop recording Forced\n",
      "2017-12-08 15:59:05,239 root         INFO     Stopped recording\n"
     ]
    },
    {
     "name": "stdout",
     "output_type": "stream",
     "text": [
      "Recording stopped\n"
     ]
    }
   ],
   "source": [
    "ss.break_record()"
   ]
  },
  {
   "cell_type": "code",
   "execution_count": 6,
   "metadata": {},
   "outputs": [
    {
     "name": "stderr",
     "output_type": "stream",
     "text": [
      "2017-12-08 19:00:01,426 root         INFO     Stopped recording\n",
      "2017-12-08 19:00:01,426 root         INFO     Stop recording Forced\n",
      "2017-12-08 19:00:01,437 root         INFO     Stopped recording\n"
     ]
    },
    {
     "name": "stdout",
     "output_type": "stream",
     "text": [
      "Recording stopped\n"
     ]
    }
   ],
   "source": [
    "ss.stop_record()"
   ]
  },
  {
   "cell_type": "code",
   "execution_count": 13,
   "metadata": {
    "collapsed": true
   },
   "outputs": [],
   "source": []
  },
  {
   "cell_type": "markdown",
   "metadata": {},
   "source": [
    "### Make recordings with stimulus"
   ]
  },
  {
   "cell_type": "code",
   "execution_count": 18,
   "metadata": {},
   "outputs": [
    {
     "data": {
      "text/plain": [
       "'ok trial:1, file:/root/experiment/stim/bos_tag.wav'"
      ]
     },
     "execution_count": 18,
     "metadata": {},
     "output_type": "execute_result"
    }
   ],
   "source": [
    "# Bird specific data\n",
    "bird_id = 'z049'\n",
    "electrode_depth = 2000 #append to rec folder\n",
    "experiment_descr = 'asleep' #prepend to rec folder\n",
    "\n",
    "wave_files = [os.path.abspath('/root/experiment/stim/bos_tag.wav'),\n",
    "              os.path.abspath('/root/experiment/stim/bos_rev_tag.wav'),\n",
    "              os.path.abspath('/root/experiment/stim/con_tag.wav'),\n",
    "              os.path.abspath('/root/experiment/stim/bos_syn_tag.wav')]\n",
    "\n",
    "# wave_files = [os.path.abspath('/root/experiment/stim/bos_tag.wav'), \n",
    "#               os.path.abspath('/root/experiment/stim/bos_rev_tag.wav')]\n",
    "wave_file = wave_files[0]\n",
    "cmd_line = 'trial type passive number 1 stim_file ' + wave_file\n",
    "bb_zmq.send_command(cmd_line)"
   ]
  },
  {
   "cell_type": "code",
   "execution_count": 13,
   "metadata": {},
   "outputs": [
    {
     "data": {
      "text/plain": [
       "['/root/experiment/stim/bos_tag.wav',\n",
       " '/root/experiment/stim/bos_rev_tag.wav',\n",
       " '/root/experiment/stim/con_tag.wav',\n",
       " '/root/experiment/stim/bos_syn_tag.wav']"
      ]
     },
     "execution_count": 13,
     "metadata": {},
     "output_type": "execute_result"
    }
   ],
   "source": [
    "wave_files"
   ]
  },
  {
   "cell_type": "code",
   "execution_count": 7,
   "metadata": {
    "collapsed": true
   },
   "outputs": [],
   "source": [
    "waves_to_use = wave_files[:2]"
   ]
  },
  {
   "cell_type": "code",
   "execution_count": 8,
   "metadata": {},
   "outputs": [
    {
     "data": {
      "text/plain": [
       "['/root/experiment/stim/bos_tag.wav', '/root/experiment/stim/bos_rev_tag.wav']"
      ]
     },
     "execution_count": 8,
     "metadata": {},
     "output_type": "execute_result"
    }
   ],
   "source": [
    "waves_to_use"
   ]
  },
  {
   "cell_type": "code",
   "execution_count": 9,
   "metadata": {
    "scrolled": true
   },
   "outputs": [
    {
     "name": "stderr",
     "output_type": "stream",
     "text": [
      "2017-12-08 20:27:03,259 root         INFO     Initializing recorder\n",
      "2017-12-08 20:27:03,264 root         INFO     Starting to record\n",
      "2017-12-08 20:27:03,265 root         INFO     Initializing recorder\n"
     ]
    },
    {
     "name": "stdout",
     "output_type": "stream",
     "text": [
      "OK to start\n",
      "Recording path: /usr/local/experiment/raw_data/z049/asleep_stim_2017-12-08_20-27-03_2000\n"
     ]
    },
    {
     "name": "stderr",
     "output_type": "stream",
     "text": [
      "2017-12-08 20:27:05,272 root         INFO     Starting block\n",
      "2017-12-08 20:27:05,287 root         INFO     Initializing block\n"
     ]
    },
    {
     "name": "stdout",
     "output_type": "stream",
     "text": [
      "Starting Block\n"
     ]
    },
    {
     "name": "stderr",
     "output_type": "stream",
     "text": [
      "2017-12-08 20:27:05,299 root         INFO     Running trial {'tr_num': 0, 'stim': '/root/experiment/stim/bos_tag.wav', 'iti': 8963}\n"
     ]
    },
    {
     "name": "stdout",
     "output_type": "stream",
     "text": [
      "{'tr_num': 0, 'stim': '/root/experiment/stim/bos_tag.wav', 'iti': 8963}\n"
     ]
    },
    {
     "name": "stderr",
     "output_type": "stream",
     "text": [
      "2017-12-08 20:27:15,477 root         INFO     Running trial {'tr_num': 1, 'stim': '/root/experiment/stim/bos_rev_tag.wav', 'iti': 9622}\n"
     ]
    },
    {
     "name": "stdout",
     "output_type": "stream",
     "text": [
      "{'tr_num': 1, 'stim': '/root/experiment/stim/bos_rev_tag.wav', 'iti': 9622}\n"
     ]
    },
    {
     "name": "stderr",
     "output_type": "stream",
     "text": [
      "2017-12-08 20:27:26,182 root         INFO     Running trial {'tr_num': 2, 'stim': '/root/experiment/stim/bos_tag.wav', 'iti': 9058}\n"
     ]
    },
    {
     "name": "stdout",
     "output_type": "stream",
     "text": [
      "{'tr_num': 2, 'stim': '/root/experiment/stim/bos_tag.wav', 'iti': 9058}\n"
     ]
    },
    {
     "name": "stderr",
     "output_type": "stream",
     "text": [
      "2017-12-08 20:27:36,382 root         INFO     Running trial {'tr_num': 3, 'stim': '/root/experiment/stim/bos_rev_tag.wav', 'iti': 9212}\n"
     ]
    },
    {
     "name": "stdout",
     "output_type": "stream",
     "text": [
      "{'tr_num': 3, 'stim': '/root/experiment/stim/bos_rev_tag.wav', 'iti': 9212}\n"
     ]
    },
    {
     "name": "stderr",
     "output_type": "stream",
     "text": [
      "2017-12-08 20:27:46,723 root         INFO     Running trial {'tr_num': 4, 'stim': '/root/experiment/stim/bos_rev_tag.wav', 'iti': 9318}\n"
     ]
    },
    {
     "name": "stdout",
     "output_type": "stream",
     "text": [
      "{'tr_num': 4, 'stim': '/root/experiment/stim/bos_rev_tag.wav', 'iti': 9318}\n"
     ]
    },
    {
     "name": "stderr",
     "output_type": "stream",
     "text": [
      "2017-12-08 20:27:57,155 root         INFO     Running trial {'tr_num': 5, 'stim': '/root/experiment/stim/bos_tag.wav', 'iti': 12994}\n"
     ]
    },
    {
     "name": "stdout",
     "output_type": "stream",
     "text": [
      "{'tr_num': 5, 'stim': '/root/experiment/stim/bos_tag.wav', 'iti': 12994}\n"
     ]
    },
    {
     "name": "stderr",
     "output_type": "stream",
     "text": [
      "2017-12-08 20:28:11,267 root         INFO     Running trial {'tr_num': 6, 'stim': '/root/experiment/stim/bos_tag.wav', 'iti': 12704}\n"
     ]
    },
    {
     "name": "stdout",
     "output_type": "stream",
     "text": [
      "{'tr_num': 6, 'stim': '/root/experiment/stim/bos_tag.wav', 'iti': 12704}\n"
     ]
    },
    {
     "name": "stderr",
     "output_type": "stream",
     "text": [
      "2017-12-08 20:28:25,077 root         INFO     Running trial {'tr_num': 7, 'stim': '/root/experiment/stim/bos_rev_tag.wav', 'iti': 13031}\n"
     ]
    },
    {
     "name": "stdout",
     "output_type": "stream",
     "text": [
      "{'tr_num': 7, 'stim': '/root/experiment/stim/bos_rev_tag.wav', 'iti': 13031}\n"
     ]
    },
    {
     "name": "stderr",
     "output_type": "stream",
     "text": [
      "2017-12-08 20:28:39,196 root         INFO     Running trial {'tr_num': 8, 'stim': '/root/experiment/stim/bos_tag.wav', 'iti': 8221}\n"
     ]
    },
    {
     "name": "stdout",
     "output_type": "stream",
     "text": [
      "{'tr_num': 8, 'stim': '/root/experiment/stim/bos_tag.wav', 'iti': 8221}\n"
     ]
    },
    {
     "name": "stderr",
     "output_type": "stream",
     "text": [
      "2017-12-08 20:28:48,521 root         INFO     Running trial {'tr_num': 9, 'stim': '/root/experiment/stim/bos_tag.wav', 'iti': 10779}\n"
     ]
    },
    {
     "name": "stdout",
     "output_type": "stream",
     "text": [
      "{'tr_num': 9, 'stim': '/root/experiment/stim/bos_tag.wav', 'iti': 10779}\n"
     ]
    },
    {
     "name": "stderr",
     "output_type": "stream",
     "text": [
      "2017-12-08 20:29:00,385 root         INFO     Running trial {'tr_num': 10, 'stim': '/root/experiment/stim/bos_rev_tag.wav', 'iti': 7125}\n"
     ]
    },
    {
     "name": "stdout",
     "output_type": "stream",
     "text": [
      "{'tr_num': 10, 'stim': '/root/experiment/stim/bos_rev_tag.wav', 'iti': 7125}\n"
     ]
    },
    {
     "name": "stderr",
     "output_type": "stream",
     "text": [
      "2017-12-08 20:29:08,599 root         INFO     Running trial {'tr_num': 11, 'stim': '/root/experiment/stim/bos_rev_tag.wav', 'iti': 13983}\n"
     ]
    },
    {
     "name": "stdout",
     "output_type": "stream",
     "text": [
      "{'tr_num': 11, 'stim': '/root/experiment/stim/bos_rev_tag.wav', 'iti': 13983}\n"
     ]
    },
    {
     "name": "stderr",
     "output_type": "stream",
     "text": [
      "2017-12-08 20:29:23,688 root         INFO     Running trial {'tr_num': 12, 'stim': '/root/experiment/stim/bos_rev_tag.wav', 'iti': 8130}\n"
     ]
    },
    {
     "name": "stdout",
     "output_type": "stream",
     "text": [
      "{'tr_num': 12, 'stim': '/root/experiment/stim/bos_rev_tag.wav', 'iti': 8130}\n"
     ]
    },
    {
     "name": "stderr",
     "output_type": "stream",
     "text": [
      "2017-12-08 20:29:32,967 root         INFO     Running trial {'tr_num': 13, 'stim': '/root/experiment/stim/bos_tag.wav', 'iti': 12900}\n"
     ]
    },
    {
     "name": "stdout",
     "output_type": "stream",
     "text": [
      "{'tr_num': 13, 'stim': '/root/experiment/stim/bos_tag.wav', 'iti': 12900}\n"
     ]
    },
    {
     "name": "stderr",
     "output_type": "stream",
     "text": [
      "2017-12-08 20:29:46,976 root         INFO     Running trial {'tr_num': 14, 'stim': '/root/experiment/stim/bos_rev_tag.wav', 'iti': 11000}\n"
     ]
    },
    {
     "name": "stdout",
     "output_type": "stream",
     "text": [
      "{'tr_num': 14, 'stim': '/root/experiment/stim/bos_rev_tag.wav', 'iti': 11000}\n"
     ]
    },
    {
     "name": "stderr",
     "output_type": "stream",
     "text": [
      "2017-12-08 20:29:59,075 root         INFO     Running trial {'tr_num': 15, 'stim': '/root/experiment/stim/bos_rev_tag.wav', 'iti': 13229}\n"
     ]
    },
    {
     "name": "stdout",
     "output_type": "stream",
     "text": [
      "{'tr_num': 15, 'stim': '/root/experiment/stim/bos_rev_tag.wav', 'iti': 13229}\n"
     ]
    },
    {
     "name": "stderr",
     "output_type": "stream",
     "text": [
      "2017-12-08 20:30:13,397 root         INFO     Running trial {'tr_num': 16, 'stim': '/root/experiment/stim/bos_tag.wav', 'iti': 14417}\n"
     ]
    },
    {
     "name": "stdout",
     "output_type": "stream",
     "text": [
      "{'tr_num': 16, 'stim': '/root/experiment/stim/bos_tag.wav', 'iti': 14417}\n"
     ]
    },
    {
     "name": "stderr",
     "output_type": "stream",
     "text": [
      "2017-12-08 20:30:28,912 root         INFO     Running trial {'tr_num': 17, 'stim': '/root/experiment/stim/bos_rev_tag.wav', 'iti': 9576}\n"
     ]
    },
    {
     "name": "stdout",
     "output_type": "stream",
     "text": [
      "{'tr_num': 17, 'stim': '/root/experiment/stim/bos_rev_tag.wav', 'iti': 9576}\n"
     ]
    },
    {
     "name": "stderr",
     "output_type": "stream",
     "text": [
      "2017-12-08 20:30:39,582 root         INFO     Running trial {'tr_num': 18, 'stim': '/root/experiment/stim/bos_rev_tag.wav', 'iti': 10406}\n"
     ]
    },
    {
     "name": "stdout",
     "output_type": "stream",
     "text": [
      "{'tr_num': 18, 'stim': '/root/experiment/stim/bos_rev_tag.wav', 'iti': 10406}\n"
     ]
    },
    {
     "name": "stderr",
     "output_type": "stream",
     "text": [
      "2017-12-08 20:30:51,104 root         INFO     Running trial {'tr_num': 19, 'stim': '/root/experiment/stim/bos_tag.wav', 'iti': 11343}\n"
     ]
    },
    {
     "name": "stdout",
     "output_type": "stream",
     "text": [
      "{'tr_num': 19, 'stim': '/root/experiment/stim/bos_tag.wav', 'iti': 11343}\n"
     ]
    },
    {
     "name": "stderr",
     "output_type": "stream",
     "text": [
      "2017-12-08 20:31:03,558 root         INFO     Running trial {'tr_num': 20, 'stim': '/root/experiment/stim/bos_tag.wav', 'iti': 13737}\n"
     ]
    },
    {
     "name": "stdout",
     "output_type": "stream",
     "text": [
      "{'tr_num': 20, 'stim': '/root/experiment/stim/bos_tag.wav', 'iti': 13737}\n"
     ]
    },
    {
     "name": "stderr",
     "output_type": "stream",
     "text": [
      "2017-12-08 20:31:18,384 root         INFO     Running trial {'tr_num': 21, 'stim': '/root/experiment/stim/bos_rev_tag.wav', 'iti': 14576}\n"
     ]
    },
    {
     "name": "stdout",
     "output_type": "stream",
     "text": [
      "{'tr_num': 21, 'stim': '/root/experiment/stim/bos_rev_tag.wav', 'iti': 14576}\n"
     ]
    },
    {
     "name": "stderr",
     "output_type": "stream",
     "text": [
      "2017-12-08 20:31:34,092 root         INFO     Running trial {'tr_num': 22, 'stim': '/root/experiment/stim/bos_rev_tag.wav', 'iti': 8478}\n"
     ]
    },
    {
     "name": "stdout",
     "output_type": "stream",
     "text": [
      "{'tr_num': 22, 'stim': '/root/experiment/stim/bos_rev_tag.wav', 'iti': 8478}\n"
     ]
    },
    {
     "name": "stderr",
     "output_type": "stream",
     "text": [
      "2017-12-08 20:31:43,665 root         INFO     Running trial {'tr_num': 23, 'stim': '/root/experiment/stim/bos_tag.wav', 'iti': 11477}\n"
     ]
    },
    {
     "name": "stdout",
     "output_type": "stream",
     "text": [
      "{'tr_num': 23, 'stim': '/root/experiment/stim/bos_tag.wav', 'iti': 11477}\n"
     ]
    },
    {
     "name": "stderr",
     "output_type": "stream",
     "text": [
      "2017-12-08 20:31:56,255 root         INFO     Running trial {'tr_num': 24, 'stim': '/root/experiment/stim/bos_tag.wav', 'iti': 7283}\n"
     ]
    },
    {
     "name": "stdout",
     "output_type": "stream",
     "text": [
      "{'tr_num': 24, 'stim': '/root/experiment/stim/bos_tag.wav', 'iti': 7283}\n"
     ]
    },
    {
     "name": "stderr",
     "output_type": "stream",
     "text": [
      "2017-12-08 20:32:04,764 root         INFO     Running trial {'tr_num': 25, 'stim': '/root/experiment/stim/bos_rev_tag.wav', 'iti': 7463}\n"
     ]
    },
    {
     "name": "stdout",
     "output_type": "stream",
     "text": [
      "{'tr_num': 25, 'stim': '/root/experiment/stim/bos_rev_tag.wav', 'iti': 7463}\n"
     ]
    },
    {
     "name": "stderr",
     "output_type": "stream",
     "text": [
      "2017-12-08 20:32:13,322 root         INFO     Running trial {'tr_num': 26, 'stim': '/root/experiment/stim/bos_rev_tag.wav', 'iti': 8269}\n"
     ]
    },
    {
     "name": "stdout",
     "output_type": "stream",
     "text": [
      "{'tr_num': 26, 'stim': '/root/experiment/stim/bos_rev_tag.wav', 'iti': 8269}\n"
     ]
    },
    {
     "name": "stderr",
     "output_type": "stream",
     "text": [
      "2017-12-08 20:32:22,675 root         INFO     Running trial {'tr_num': 27, 'stim': '/root/experiment/stim/bos_rev_tag.wav', 'iti': 9566}\n"
     ]
    },
    {
     "name": "stdout",
     "output_type": "stream",
     "text": [
      "{'tr_num': 27, 'stim': '/root/experiment/stim/bos_rev_tag.wav', 'iti': 9566}\n"
     ]
    },
    {
     "name": "stderr",
     "output_type": "stream",
     "text": [
      "2017-12-08 20:32:33,325 root         INFO     Running trial {'tr_num': 28, 'stim': '/root/experiment/stim/bos_tag.wav', 'iti': 12722}\n"
     ]
    },
    {
     "name": "stdout",
     "output_type": "stream",
     "text": [
      "{'tr_num': 28, 'stim': '/root/experiment/stim/bos_tag.wav', 'iti': 12722}\n"
     ]
    },
    {
     "name": "stderr",
     "output_type": "stream",
     "text": [
      "2017-12-08 20:32:47,144 root         INFO     Running trial {'tr_num': 29, 'stim': '/root/experiment/stim/bos_rev_tag.wav', 'iti': 14529}\n"
     ]
    },
    {
     "name": "stdout",
     "output_type": "stream",
     "text": [
      "{'tr_num': 29, 'stim': '/root/experiment/stim/bos_rev_tag.wav', 'iti': 14529}\n"
     ]
    },
    {
     "name": "stderr",
     "output_type": "stream",
     "text": [
      "2017-12-08 20:33:02,797 root         INFO     Running trial {'tr_num': 30, 'stim': '/root/experiment/stim/bos_tag.wav', 'iti': 9475}\n"
     ]
    },
    {
     "name": "stdout",
     "output_type": "stream",
     "text": [
      "{'tr_num': 30, 'stim': '/root/experiment/stim/bos_tag.wav', 'iti': 9475}\n"
     ]
    },
    {
     "name": "stderr",
     "output_type": "stream",
     "text": [
      "2017-12-08 20:33:13,367 root         INFO     Running trial {'tr_num': 31, 'stim': '/root/experiment/stim/bos_tag.wav', 'iti': 12782}\n"
     ]
    },
    {
     "name": "stdout",
     "output_type": "stream",
     "text": [
      "{'tr_num': 31, 'stim': '/root/experiment/stim/bos_tag.wav', 'iti': 12782}\n"
     ]
    },
    {
     "name": "stderr",
     "output_type": "stream",
     "text": [
      "2017-12-08 20:33:27,516 root         INFO     Running trial {'tr_num': 32, 'stim': '/root/experiment/stim/bos_rev_tag.wav', 'iti': 11937}\n"
     ]
    },
    {
     "name": "stdout",
     "output_type": "stream",
     "text": [
      "{'tr_num': 32, 'stim': '/root/experiment/stim/bos_rev_tag.wav', 'iti': 11937}\n"
     ]
    },
    {
     "name": "stderr",
     "output_type": "stream",
     "text": [
      "2017-12-08 20:33:40,930 root         INFO     Running trial {'tr_num': 33, 'stim': '/root/experiment/stim/bos_tag.wav', 'iti': 11833}\n"
     ]
    },
    {
     "name": "stdout",
     "output_type": "stream",
     "text": [
      "{'tr_num': 33, 'stim': '/root/experiment/stim/bos_tag.wav', 'iti': 11833}\n"
     ]
    },
    {
     "name": "stderr",
     "output_type": "stream",
     "text": [
      "2017-12-08 20:33:53,860 root         INFO     Running trial {'tr_num': 34, 'stim': '/root/experiment/stim/bos_rev_tag.wav', 'iti': 13363}\n"
     ]
    },
    {
     "name": "stdout",
     "output_type": "stream",
     "text": [
      "{'tr_num': 34, 'stim': '/root/experiment/stim/bos_rev_tag.wav', 'iti': 13363}\n"
     ]
    },
    {
     "name": "stderr",
     "output_type": "stream",
     "text": [
      "2017-12-08 20:34:08,388 root         INFO     Running trial {'tr_num': 35, 'stim': '/root/experiment/stim/bos_tag.wav', 'iti': 9886}\n"
     ]
    },
    {
     "name": "stdout",
     "output_type": "stream",
     "text": [
      "{'tr_num': 35, 'stim': '/root/experiment/stim/bos_tag.wav', 'iti': 9886}\n"
     ]
    },
    {
     "name": "stderr",
     "output_type": "stream",
     "text": [
      "2017-12-08 20:34:19,397 root         INFO     Running trial {'tr_num': 36, 'stim': '/root/experiment/stim/bos_tag.wav', 'iti': 14721}\n"
     ]
    },
    {
     "name": "stdout",
     "output_type": "stream",
     "text": [
      "{'tr_num': 36, 'stim': '/root/experiment/stim/bos_tag.wav', 'iti': 14721}\n"
     ]
    },
    {
     "name": "stderr",
     "output_type": "stream",
     "text": [
      "2017-12-08 20:34:35,205 root         INFO     Running trial {'tr_num': 37, 'stim': '/root/experiment/stim/bos_tag.wav', 'iti': 12376}\n"
     ]
    },
    {
     "name": "stdout",
     "output_type": "stream",
     "text": [
      "{'tr_num': 37, 'stim': '/root/experiment/stim/bos_tag.wav', 'iti': 12376}\n"
     ]
    },
    {
     "name": "stderr",
     "output_type": "stream",
     "text": [
      "2017-12-08 20:34:48,707 root         INFO     Running trial {'tr_num': 38, 'stim': '/root/experiment/stim/bos_tag.wav', 'iti': 14472}\n"
     ]
    },
    {
     "name": "stdout",
     "output_type": "stream",
     "text": [
      "{'tr_num': 38, 'stim': '/root/experiment/stim/bos_tag.wav', 'iti': 14472}\n"
     ]
    },
    {
     "name": "stderr",
     "output_type": "stream",
     "text": [
      "2017-12-08 20:35:04,283 root         INFO     Running trial {'tr_num': 39, 'stim': '/root/experiment/stim/bos_rev_tag.wav', 'iti': 13946}\n"
     ]
    },
    {
     "name": "stdout",
     "output_type": "stream",
     "text": [
      "{'tr_num': 39, 'stim': '/root/experiment/stim/bos_rev_tag.wav', 'iti': 13946}\n"
     ]
    },
    {
     "name": "stderr",
     "output_type": "stream",
     "text": [
      "2017-12-08 20:35:19,663 root         INFO     Running trial {'tr_num': 40, 'stim': '/root/experiment/stim/bos_rev_tag.wav', 'iti': 9769}\n"
     ]
    },
    {
     "name": "stdout",
     "output_type": "stream",
     "text": [
      "{'tr_num': 40, 'stim': '/root/experiment/stim/bos_rev_tag.wav', 'iti': 9769}\n"
     ]
    },
    {
     "name": "stderr",
     "output_type": "stream",
     "text": [
      "2017-12-08 20:35:30,525 root         INFO     Running trial {'tr_num': 41, 'stim': '/root/experiment/stim/bos_tag.wav', 'iti': 13222}\n"
     ]
    },
    {
     "name": "stdout",
     "output_type": "stream",
     "text": [
      "{'tr_num': 41, 'stim': '/root/experiment/stim/bos_tag.wav', 'iti': 13222}\n"
     ]
    },
    {
     "name": "stderr",
     "output_type": "stream",
     "text": [
      "2017-12-08 20:35:44,897 root         INFO     Running trial {'tr_num': 42, 'stim': '/root/experiment/stim/bos_tag.wav', 'iti': 9642}\n"
     ]
    },
    {
     "name": "stdout",
     "output_type": "stream",
     "text": [
      "{'tr_num': 42, 'stim': '/root/experiment/stim/bos_tag.wav', 'iti': 9642}\n"
     ]
    },
    {
     "name": "stderr",
     "output_type": "stream",
     "text": [
      "2017-12-08 20:35:55,642 root         INFO     Running trial {'tr_num': 43, 'stim': '/root/experiment/stim/bos_rev_tag.wav', 'iti': 14592}\n"
     ]
    },
    {
     "name": "stdout",
     "output_type": "stream",
     "text": [
      "{'tr_num': 43, 'stim': '/root/experiment/stim/bos_rev_tag.wav', 'iti': 14592}\n"
     ]
    },
    {
     "name": "stderr",
     "output_type": "stream",
     "text": [
      "2017-12-08 20:36:11,395 root         INFO     Running trial {'tr_num': 44, 'stim': '/root/experiment/stim/bos_tag.wav', 'iti': 10197}\n"
     ]
    },
    {
     "name": "stdout",
     "output_type": "stream",
     "text": [
      "{'tr_num': 44, 'stim': '/root/experiment/stim/bos_tag.wav', 'iti': 10197}\n"
     ]
    },
    {
     "name": "stderr",
     "output_type": "stream",
     "text": [
      "2017-12-08 20:36:22,692 root         INFO     Running trial {'tr_num': 45, 'stim': '/root/experiment/stim/bos_tag.wav', 'iti': 11343}\n"
     ]
    },
    {
     "name": "stdout",
     "output_type": "stream",
     "text": [
      "{'tr_num': 45, 'stim': '/root/experiment/stim/bos_tag.wav', 'iti': 11343}\n"
     ]
    },
    {
     "name": "stderr",
     "output_type": "stream",
     "text": [
      "2017-12-08 20:36:35,133 root         INFO     Running trial {'tr_num': 46, 'stim': '/root/experiment/stim/bos_rev_tag.wav', 'iti': 11036}\n"
     ]
    },
    {
     "name": "stdout",
     "output_type": "stream",
     "text": [
      "{'tr_num': 46, 'stim': '/root/experiment/stim/bos_rev_tag.wav', 'iti': 11036}\n"
     ]
    },
    {
     "name": "stderr",
     "output_type": "stream",
     "text": [
      "2017-12-08 20:36:47,263 root         INFO     Running trial {'tr_num': 47, 'stim': '/root/experiment/stim/bos_rev_tag.wav', 'iti': 14034}\n"
     ]
    },
    {
     "name": "stdout",
     "output_type": "stream",
     "text": [
      "{'tr_num': 47, 'stim': '/root/experiment/stim/bos_rev_tag.wav', 'iti': 14034}\n"
     ]
    },
    {
     "name": "stderr",
     "output_type": "stream",
     "text": [
      "2017-12-08 20:37:02,408 root         INFO     Running trial {'tr_num': 48, 'stim': '/root/experiment/stim/bos_rev_tag.wav', 'iti': 9984}\n"
     ]
    },
    {
     "name": "stdout",
     "output_type": "stream",
     "text": [
      "{'tr_num': 48, 'stim': '/root/experiment/stim/bos_rev_tag.wav', 'iti': 9984}\n"
     ]
    },
    {
     "name": "stderr",
     "output_type": "stream",
     "text": [
      "2017-12-08 20:37:13,595 root         INFO     Running trial {'tr_num': 49, 'stim': '/root/experiment/stim/bos_rev_tag.wav', 'iti': 8835}\n"
     ]
    },
    {
     "name": "stdout",
     "output_type": "stream",
     "text": [
      "{'tr_num': 49, 'stim': '/root/experiment/stim/bos_rev_tag.wav', 'iti': 8835}\n"
     ]
    },
    {
     "name": "stderr",
     "output_type": "stream",
     "text": [
      "2017-12-08 20:37:23,526 root         INFO     Running trial {'tr_num': 50, 'stim': '/root/experiment/stim/bos_rev_tag.wav', 'iti': 9547}\n"
     ]
    },
    {
     "name": "stdout",
     "output_type": "stream",
     "text": [
      "{'tr_num': 50, 'stim': '/root/experiment/stim/bos_rev_tag.wav', 'iti': 9547}\n"
     ]
    },
    {
     "name": "stderr",
     "output_type": "stream",
     "text": [
      "2017-12-08 20:37:34,173 root         INFO     Running trial {'tr_num': 51, 'stim': '/root/experiment/stim/bos_tag.wav', 'iti': 14323}\n"
     ]
    },
    {
     "name": "stdout",
     "output_type": "stream",
     "text": [
      "{'tr_num': 51, 'stim': '/root/experiment/stim/bos_tag.wav', 'iti': 14323}\n"
     ]
    },
    {
     "name": "stderr",
     "output_type": "stream",
     "text": [
      "2017-12-08 20:37:49,608 root         INFO     Running trial {'tr_num': 52, 'stim': '/root/experiment/stim/bos_rev_tag.wav', 'iti': 12252}\n"
     ]
    },
    {
     "name": "stdout",
     "output_type": "stream",
     "text": [
      "{'tr_num': 52, 'stim': '/root/experiment/stim/bos_rev_tag.wav', 'iti': 12252}\n"
     ]
    },
    {
     "name": "stderr",
     "output_type": "stream",
     "text": [
      "2017-12-08 20:38:03,026 root         INFO     Running trial {'tr_num': 53, 'stim': '/root/experiment/stim/bos_tag.wav', 'iti': 11013}\n"
     ]
    },
    {
     "name": "stdout",
     "output_type": "stream",
     "text": [
      "{'tr_num': 53, 'stim': '/root/experiment/stim/bos_tag.wav', 'iti': 11013}\n"
     ]
    },
    {
     "name": "stderr",
     "output_type": "stream",
     "text": [
      "2017-12-08 20:38:15,133 root         INFO     Running trial {'tr_num': 54, 'stim': '/root/experiment/stim/bos_rev_tag.wav', 'iti': 9613}\n"
     ]
    },
    {
     "name": "stdout",
     "output_type": "stream",
     "text": [
      "{'tr_num': 54, 'stim': '/root/experiment/stim/bos_rev_tag.wav', 'iti': 9613}\n"
     ]
    },
    {
     "name": "stderr",
     "output_type": "stream",
     "text": [
      "2017-12-08 20:38:25,864 root         INFO     Running trial {'tr_num': 55, 'stim': '/root/experiment/stim/bos_rev_tag.wav', 'iti': 14040}\n"
     ]
    },
    {
     "name": "stdout",
     "output_type": "stream",
     "text": [
      "{'tr_num': 55, 'stim': '/root/experiment/stim/bos_rev_tag.wav', 'iti': 14040}\n"
     ]
    },
    {
     "name": "stderr",
     "output_type": "stream",
     "text": [
      "2017-12-08 20:38:41,008 root         INFO     Running trial {'tr_num': 56, 'stim': '/root/experiment/stim/bos_tag.wav', 'iti': 10306}\n"
     ]
    },
    {
     "name": "stdout",
     "output_type": "stream",
     "text": [
      "{'tr_num': 56, 'stim': '/root/experiment/stim/bos_tag.wav', 'iti': 10306}\n"
     ]
    },
    {
     "name": "stderr",
     "output_type": "stream",
     "text": [
      "2017-12-08 20:38:52,409 root         INFO     Running trial {'tr_num': 57, 'stim': '/root/experiment/stim/bos_tag.wav', 'iti': 8896}\n"
     ]
    },
    {
     "name": "stdout",
     "output_type": "stream",
     "text": [
      "{'tr_num': 57, 'stim': '/root/experiment/stim/bos_tag.wav', 'iti': 8896}\n"
     ]
    },
    {
     "name": "stderr",
     "output_type": "stream",
     "text": [
      "2017-12-08 20:39:02,394 root         INFO     Running trial {'tr_num': 58, 'stim': '/root/experiment/stim/bos_rev_tag.wav', 'iti': 8142}\n"
     ]
    },
    {
     "name": "stdout",
     "output_type": "stream",
     "text": [
      "{'tr_num': 58, 'stim': '/root/experiment/stim/bos_rev_tag.wav', 'iti': 8142}\n"
     ]
    },
    {
     "name": "stderr",
     "output_type": "stream",
     "text": [
      "2017-12-08 20:39:11,641 root         INFO     Running trial {'tr_num': 59, 'stim': '/root/experiment/stim/bos_tag.wav', 'iti': 10515}\n"
     ]
    },
    {
     "name": "stdout",
     "output_type": "stream",
     "text": [
      "{'tr_num': 59, 'stim': '/root/experiment/stim/bos_tag.wav', 'iti': 10515}\n"
     ]
    },
    {
     "name": "stderr",
     "output_type": "stream",
     "text": [
      "2017-12-08 20:39:23,279 root         INFO     Running trial {'tr_num': 60, 'stim': '/root/experiment/stim/bos_rev_tag.wav', 'iti': 8249}\n"
     ]
    },
    {
     "name": "stdout",
     "output_type": "stream",
     "text": [
      "{'tr_num': 60, 'stim': '/root/experiment/stim/bos_rev_tag.wav', 'iti': 8249}\n"
     ]
    },
    {
     "name": "stderr",
     "output_type": "stream",
     "text": [
      "2017-12-08 20:39:32,832 root         INFO     Running trial {'tr_num': 61, 'stim': '/root/experiment/stim/bos_rev_tag.wav', 'iti': 14694}\n"
     ]
    },
    {
     "name": "stdout",
     "output_type": "stream",
     "text": [
      "{'tr_num': 61, 'stim': '/root/experiment/stim/bos_rev_tag.wav', 'iti': 14694}\n"
     ]
    },
    {
     "name": "stderr",
     "output_type": "stream",
     "text": [
      "2017-12-08 20:39:48,619 root         INFO     Running trial {'tr_num': 62, 'stim': '/root/experiment/stim/bos_tag.wav', 'iti': 11932}\n"
     ]
    },
    {
     "name": "stdout",
     "output_type": "stream",
     "text": [
      "{'tr_num': 62, 'stim': '/root/experiment/stim/bos_tag.wav', 'iti': 11932}\n"
     ]
    },
    {
     "name": "stderr",
     "output_type": "stream",
     "text": [
      "2017-12-08 20:40:01,648 root         INFO     Running trial {'tr_num': 63, 'stim': '/root/experiment/stim/bos_tag.wav', 'iti': 10711}\n"
     ]
    },
    {
     "name": "stdout",
     "output_type": "stream",
     "text": [
      "{'tr_num': 63, 'stim': '/root/experiment/stim/bos_tag.wav', 'iti': 10711}\n"
     ]
    },
    {
     "name": "stderr",
     "output_type": "stream",
     "text": [
      "2017-12-08 20:40:13,472 root         INFO     Running trial {'tr_num': 64, 'stim': '/root/experiment/stim/bos_tag.wav', 'iti': 8473}\n"
     ]
    },
    {
     "name": "stdout",
     "output_type": "stream",
     "text": [
      "{'tr_num': 64, 'stim': '/root/experiment/stim/bos_tag.wav', 'iti': 8473}\n"
     ]
    },
    {
     "name": "stderr",
     "output_type": "stream",
     "text": [
      "2017-12-08 20:40:23,093 root         INFO     Running trial {'tr_num': 65, 'stim': '/root/experiment/stim/bos_rev_tag.wav', 'iti': 13564}\n"
     ]
    },
    {
     "name": "stdout",
     "output_type": "stream",
     "text": [
      "{'tr_num': 65, 'stim': '/root/experiment/stim/bos_rev_tag.wav', 'iti': 13564}\n"
     ]
    },
    {
     "name": "stderr",
     "output_type": "stream",
     "text": [
      "2017-12-08 20:40:37,781 root         INFO     Running trial {'tr_num': 66, 'stim': '/root/experiment/stim/bos_tag.wav', 'iti': 11919}\n"
     ]
    },
    {
     "name": "stdout",
     "output_type": "stream",
     "text": [
      "{'tr_num': 66, 'stim': '/root/experiment/stim/bos_tag.wav', 'iti': 11919}\n"
     ]
    },
    {
     "name": "stderr",
     "output_type": "stream",
     "text": [
      "2017-12-08 20:40:50,808 root         INFO     Running trial {'tr_num': 67, 'stim': '/root/experiment/stim/bos_tag.wav', 'iti': 8384}\n"
     ]
    },
    {
     "name": "stdout",
     "output_type": "stream",
     "text": [
      "{'tr_num': 67, 'stim': '/root/experiment/stim/bos_tag.wav', 'iti': 8384}\n"
     ]
    },
    {
     "name": "stderr",
     "output_type": "stream",
     "text": [
      "2017-12-08 20:41:00,295 root         INFO     Running trial {'tr_num': 68, 'stim': '/root/experiment/stim/bos_rev_tag.wav', 'iti': 8787}\n"
     ]
    },
    {
     "name": "stdout",
     "output_type": "stream",
     "text": [
      "{'tr_num': 68, 'stim': '/root/experiment/stim/bos_rev_tag.wav', 'iti': 8787}\n"
     ]
    },
    {
     "name": "stderr",
     "output_type": "stream",
     "text": [
      "2017-12-08 20:41:10,172 root         INFO     Running trial {'tr_num': 69, 'stim': '/root/experiment/stim/bos_tag.wav', 'iti': 12212}\n"
     ]
    },
    {
     "name": "stdout",
     "output_type": "stream",
     "text": [
      "{'tr_num': 69, 'stim': '/root/experiment/stim/bos_tag.wav', 'iti': 12212}\n"
     ]
    },
    {
     "name": "stderr",
     "output_type": "stream",
     "text": [
      "2017-12-08 20:41:23,506 root         INFO     Running trial {'tr_num': 70, 'stim': '/root/experiment/stim/bos_rev_tag.wav', 'iti': 7474}\n"
     ]
    },
    {
     "name": "stdout",
     "output_type": "stream",
     "text": [
      "{'tr_num': 70, 'stim': '/root/experiment/stim/bos_rev_tag.wav', 'iti': 7474}\n"
     ]
    },
    {
     "name": "stderr",
     "output_type": "stream",
     "text": [
      "2017-12-08 20:41:32,087 root         INFO     Running trial {'tr_num': 71, 'stim': '/root/experiment/stim/bos_rev_tag.wav', 'iti': 13501}\n"
     ]
    },
    {
     "name": "stdout",
     "output_type": "stream",
     "text": [
      "{'tr_num': 71, 'stim': '/root/experiment/stim/bos_rev_tag.wav', 'iti': 13501}\n"
     ]
    },
    {
     "name": "stderr",
     "output_type": "stream",
     "text": [
      "2017-12-08 20:41:46,679 root         INFO     Running trial {'tr_num': 72, 'stim': '/root/experiment/stim/bos_tag.wav', 'iti': 11929}\n"
     ]
    },
    {
     "name": "stdout",
     "output_type": "stream",
     "text": [
      "{'tr_num': 72, 'stim': '/root/experiment/stim/bos_tag.wav', 'iti': 11929}\n"
     ]
    },
    {
     "name": "stderr",
     "output_type": "stream",
     "text": [
      "2017-12-08 20:41:59,722 root         INFO     Running trial {'tr_num': 73, 'stim': '/root/experiment/stim/bos_rev_tag.wav', 'iti': 13886}\n"
     ]
    },
    {
     "name": "stdout",
     "output_type": "stream",
     "text": [
      "{'tr_num': 73, 'stim': '/root/experiment/stim/bos_rev_tag.wav', 'iti': 13886}\n"
     ]
    },
    {
     "name": "stderr",
     "output_type": "stream",
     "text": [
      "2017-12-08 20:42:14,707 root         INFO     Running trial {'tr_num': 74, 'stim': '/root/experiment/stim/bos_rev_tag.wav', 'iti': 11615}\n"
     ]
    },
    {
     "name": "stdout",
     "output_type": "stream",
     "text": [
      "{'tr_num': 74, 'stim': '/root/experiment/stim/bos_rev_tag.wav', 'iti': 11615}\n"
     ]
    },
    {
     "name": "stderr",
     "output_type": "stream",
     "text": [
      "2017-12-08 20:42:27,489 root         INFO     Running trial {'tr_num': 75, 'stim': '/root/experiment/stim/bos_rev_tag.wav', 'iti': 11899}\n"
     ]
    },
    {
     "name": "stdout",
     "output_type": "stream",
     "text": [
      "{'tr_num': 75, 'stim': '/root/experiment/stim/bos_rev_tag.wav', 'iti': 11899}\n"
     ]
    },
    {
     "name": "stderr",
     "output_type": "stream",
     "text": [
      "2017-12-08 20:42:40,486 root         INFO     Running trial {'tr_num': 76, 'stim': '/root/experiment/stim/bos_rev_tag.wav', 'iti': 11583}\n"
     ]
    },
    {
     "name": "stdout",
     "output_type": "stream",
     "text": [
      "{'tr_num': 76, 'stim': '/root/experiment/stim/bos_rev_tag.wav', 'iti': 11583}\n"
     ]
    },
    {
     "name": "stderr",
     "output_type": "stream",
     "text": [
      "2017-12-08 20:42:53,169 root         INFO     Running trial {'tr_num': 77, 'stim': '/root/experiment/stim/bos_tag.wav', 'iti': 10697}\n"
     ]
    },
    {
     "name": "stdout",
     "output_type": "stream",
     "text": [
      "{'tr_num': 77, 'stim': '/root/experiment/stim/bos_tag.wav', 'iti': 10697}\n"
     ]
    },
    {
     "name": "stderr",
     "output_type": "stream",
     "text": [
      "2017-12-08 20:43:04,956 root         INFO     Running trial {'tr_num': 78, 'stim': '/root/experiment/stim/bos_tag.wav', 'iti': 10313}\n"
     ]
    },
    {
     "name": "stdout",
     "output_type": "stream",
     "text": [
      "{'tr_num': 78, 'stim': '/root/experiment/stim/bos_tag.wav', 'iti': 10313}\n"
     ]
    },
    {
     "name": "stderr",
     "output_type": "stream",
     "text": [
      "2017-12-08 20:43:16,494 root         INFO     Running trial {'tr_num': 79, 'stim': '/root/experiment/stim/bos_tag.wav', 'iti': 12903}\n"
     ]
    },
    {
     "name": "stdout",
     "output_type": "stream",
     "text": [
      "{'tr_num': 79, 'stim': '/root/experiment/stim/bos_tag.wav', 'iti': 12903}\n"
     ]
    },
    {
     "name": "stderr",
     "output_type": "stream",
     "text": [
      "2017-12-08 20:43:30,597 root         INFO     Running trial {'tr_num': 80, 'stim': '/root/experiment/stim/bos_tag.wav', 'iti': 7022}\n"
     ]
    },
    {
     "name": "stdout",
     "output_type": "stream",
     "text": [
      "{'tr_num': 80, 'stim': '/root/experiment/stim/bos_tag.wav', 'iti': 7022}\n"
     ]
    },
    {
     "name": "stderr",
     "output_type": "stream",
     "text": [
      "2017-12-08 20:43:39,806 root         INFO     Running trial {'tr_num': 81, 'stim': '/root/experiment/stim/bos_rev_tag.wav', 'iti': 12206}\n"
     ]
    },
    {
     "name": "stdout",
     "output_type": "stream",
     "text": [
      "{'tr_num': 81, 'stim': '/root/experiment/stim/bos_rev_tag.wav', 'iti': 12206}\n"
     ]
    },
    {
     "name": "stderr",
     "output_type": "stream",
     "text": [
      "2017-12-08 20:43:53,378 root         INFO     Running trial {'tr_num': 82, 'stim': '/root/experiment/stim/bos_rev_tag.wav', 'iti': 7211}\n"
     ]
    },
    {
     "name": "stdout",
     "output_type": "stream",
     "text": [
      "{'tr_num': 82, 'stim': '/root/experiment/stim/bos_rev_tag.wav', 'iti': 7211}\n"
     ]
    },
    {
     "name": "stderr",
     "output_type": "stream",
     "text": [
      "2017-12-08 20:44:01,678 root         INFO     Running trial {'tr_num': 83, 'stim': '/root/experiment/stim/bos_tag.wav', 'iti': 7790}\n"
     ]
    },
    {
     "name": "stdout",
     "output_type": "stream",
     "text": [
      "{'tr_num': 83, 'stim': '/root/experiment/stim/bos_tag.wav', 'iti': 7790}\n"
     ]
    },
    {
     "name": "stderr",
     "output_type": "stream",
     "text": [
      "2017-12-08 20:44:10,559 root         INFO     Running trial {'tr_num': 84, 'stim': '/root/experiment/stim/bos_tag.wav', 'iti': 7038}\n"
     ]
    },
    {
     "name": "stdout",
     "output_type": "stream",
     "text": [
      "{'tr_num': 84, 'stim': '/root/experiment/stim/bos_tag.wav', 'iti': 7038}\n"
     ]
    },
    {
     "name": "stderr",
     "output_type": "stream",
     "text": [
      "2017-12-08 20:44:18,762 root         INFO     Running trial {'tr_num': 85, 'stim': '/root/experiment/stim/bos_rev_tag.wav', 'iti': 13530}\n"
     ]
    },
    {
     "name": "stdout",
     "output_type": "stream",
     "text": [
      "{'tr_num': 85, 'stim': '/root/experiment/stim/bos_rev_tag.wav', 'iti': 13530}\n"
     ]
    },
    {
     "name": "stderr",
     "output_type": "stream",
     "text": [
      "2017-12-08 20:44:33,407 root         INFO     Running trial {'tr_num': 86, 'stim': '/root/experiment/stim/bos_tag.wav', 'iti': 12457}\n"
     ]
    },
    {
     "name": "stdout",
     "output_type": "stream",
     "text": [
      "{'tr_num': 86, 'stim': '/root/experiment/stim/bos_tag.wav', 'iti': 12457}\n"
     ]
    },
    {
     "name": "stderr",
     "output_type": "stream",
     "text": [
      "2017-12-08 20:44:46,965 root         INFO     Running trial {'tr_num': 87, 'stim': '/root/experiment/stim/bos_rev_tag.wav', 'iti': 8604}\n"
     ]
    },
    {
     "name": "stdout",
     "output_type": "stream",
     "text": [
      "{'tr_num': 87, 'stim': '/root/experiment/stim/bos_rev_tag.wav', 'iti': 8604}\n"
     ]
    },
    {
     "name": "stderr",
     "output_type": "stream",
     "text": [
      "2017-12-08 20:44:57,131 root         INFO     Running trial {'tr_num': 88, 'stim': '/root/experiment/stim/bos_tag.wav', 'iti': 9730}\n"
     ]
    },
    {
     "name": "stdout",
     "output_type": "stream",
     "text": [
      "{'tr_num': 88, 'stim': '/root/experiment/stim/bos_tag.wav', 'iti': 9730}\n"
     ]
    },
    {
     "name": "stderr",
     "output_type": "stream",
     "text": [
      "2017-12-08 20:45:07,961 root         INFO     Running trial {'tr_num': 89, 'stim': '/root/experiment/stim/bos_rev_tag.wav', 'iti': 14771}\n"
     ]
    },
    {
     "name": "stdout",
     "output_type": "stream",
     "text": [
      "{'tr_num': 89, 'stim': '/root/experiment/stim/bos_rev_tag.wav', 'iti': 14771}\n"
     ]
    },
    {
     "name": "stderr",
     "output_type": "stream",
     "text": [
      "2017-12-08 20:45:23,835 root         INFO     Running trial {'tr_num': 90, 'stim': '/root/experiment/stim/bos_tag.wav', 'iti': 11318}\n"
     ]
    },
    {
     "name": "stdout",
     "output_type": "stream",
     "text": [
      "{'tr_num': 90, 'stim': '/root/experiment/stim/bos_tag.wav', 'iti': 11318}\n"
     ]
    },
    {
     "name": "stderr",
     "output_type": "stream",
     "text": [
      "2017-12-08 20:45:36,293 root         INFO     Running trial {'tr_num': 91, 'stim': '/root/experiment/stim/bos_tag.wav', 'iti': 8821}\n"
     ]
    },
    {
     "name": "stdout",
     "output_type": "stream",
     "text": [
      "{'tr_num': 91, 'stim': '/root/experiment/stim/bos_tag.wav', 'iti': 8821}\n"
     ]
    },
    {
     "name": "stderr",
     "output_type": "stream",
     "text": [
      "2017-12-08 20:45:46,233 root         INFO     Running trial {'tr_num': 92, 'stim': '/root/experiment/stim/bos_rev_tag.wav', 'iti': 8626}\n"
     ]
    },
    {
     "name": "stdout",
     "output_type": "stream",
     "text": [
      "{'tr_num': 92, 'stim': '/root/experiment/stim/bos_rev_tag.wav', 'iti': 8626}\n"
     ]
    },
    {
     "name": "stderr",
     "output_type": "stream",
     "text": [
      "2017-12-08 20:45:55,986 root         INFO     Running trial {'tr_num': 93, 'stim': '/root/experiment/stim/bos_rev_tag.wav', 'iti': 7694}\n"
     ]
    },
    {
     "name": "stdout",
     "output_type": "stream",
     "text": [
      "{'tr_num': 93, 'stim': '/root/experiment/stim/bos_rev_tag.wav', 'iti': 7694}\n"
     ]
    },
    {
     "name": "stderr",
     "output_type": "stream",
     "text": [
      "2017-12-08 20:46:04,792 root         INFO     Running trial {'tr_num': 94, 'stim': '/root/experiment/stim/bos_rev_tag.wav', 'iti': 13072}\n"
     ]
    },
    {
     "name": "stdout",
     "output_type": "stream",
     "text": [
      "{'tr_num': 94, 'stim': '/root/experiment/stim/bos_rev_tag.wav', 'iti': 13072}\n"
     ]
    },
    {
     "name": "stderr",
     "output_type": "stream",
     "text": [
      "2017-12-08 20:46:20,935 root         INFO     Running trial {'tr_num': 95, 'stim': '/root/experiment/stim/bos_tag.wav', 'iti': 11822}\n"
     ]
    },
    {
     "name": "stdout",
     "output_type": "stream",
     "text": [
      "{'tr_num': 95, 'stim': '/root/experiment/stim/bos_tag.wav', 'iti': 11822}\n"
     ]
    },
    {
     "name": "stderr",
     "output_type": "stream",
     "text": [
      "2017-12-08 20:46:33,870 root         INFO     Running trial {'tr_num': 96, 'stim': '/root/experiment/stim/bos_tag.wav', 'iti': 9238}\n"
     ]
    },
    {
     "name": "stdout",
     "output_type": "stream",
     "text": [
      "{'tr_num': 96, 'stim': '/root/experiment/stim/bos_tag.wav', 'iti': 9238}\n"
     ]
    },
    {
     "name": "stderr",
     "output_type": "stream",
     "text": [
      "2017-12-08 20:46:44,216 root         INFO     Running trial {'tr_num': 97, 'stim': '/root/experiment/stim/bos_rev_tag.wav', 'iti': 10698}\n"
     ]
    },
    {
     "name": "stdout",
     "output_type": "stream",
     "text": [
      "{'tr_num': 97, 'stim': '/root/experiment/stim/bos_rev_tag.wav', 'iti': 10698}\n"
     ]
    },
    {
     "name": "stderr",
     "output_type": "stream",
     "text": [
      "2017-12-08 20:46:56,036 root         INFO     Running trial {'tr_num': 98, 'stim': '/root/experiment/stim/bos_tag.wav', 'iti': 8897}\n"
     ]
    },
    {
     "name": "stdout",
     "output_type": "stream",
     "text": [
      "{'tr_num': 98, 'stim': '/root/experiment/stim/bos_tag.wav', 'iti': 8897}\n"
     ]
    },
    {
     "name": "stderr",
     "output_type": "stream",
     "text": [
      "2017-12-08 20:47:06,019 root         INFO     Running trial {'tr_num': 99, 'stim': '/root/experiment/stim/bos_tag.wav', 'iti': 12014}\n"
     ]
    },
    {
     "name": "stdout",
     "output_type": "stream",
     "text": [
      "{'tr_num': 99, 'stim': '/root/experiment/stim/bos_tag.wav', 'iti': 12014}\n"
     ]
    },
    {
     "name": "stderr",
     "output_type": "stream",
     "text": [
      "2017-12-08 20:47:19,146 root         INFO     Stop recording Forced\n",
      "2017-12-08 20:47:19,157 root         INFO     Stopped recording\n"
     ]
    },
    {
     "name": "stdout",
     "output_type": "stream",
     "text": [
      "finished block\n",
      "Runner stopping recording\n",
      "Recording stopped\n"
     ]
    }
   ],
   "source": [
    "# run the one session\n",
    "time.sleep(1200)\n",
    "ss = Session(oe_zmq, bb_zmq, bird_id='z049', depth=2000, descr='asleep_stim')\n",
    "a_block = Block(waves_to_use, [7000, 15000], 100)\n",
    "ss.start_block(a_block, record=True, new=True)\n",
    "#time.sleep(5)\n",
    "#ss.stop_block()"
   ]
  },
  {
   "cell_type": "code",
   "execution_count": 14,
   "metadata": {},
   "outputs": [
    {
     "name": "stderr",
     "output_type": "stream",
     "text": [
      "2017-10-25 14:44:10,859 root         INFO     Stopped recording\n",
      "2017-10-25 14:44:10,859 root         INFO     Stop recording Forced\n",
      "2017-10-25 14:44:10,867 root         INFO     Stopped recording\n"
     ]
    },
    {
     "name": "stdout",
     "output_type": "stream",
     "text": [
      "Recording stopped\n",
      "stopping the block in trial 1\n"
     ]
    }
   ],
   "source": [
    "ss.stop_block()"
   ]
  },
  {
   "cell_type": "code",
   "execution_count": 17,
   "metadata": {
    "scrolled": true
   },
   "outputs": [
    {
     "name": "stderr",
     "output_type": "stream",
     "text": [
      "2017-10-24 00:51:25,435 root         INFO     Running trial {'tr_num': 35, 'stim': '/root/experiment/stim/bos_syn_tag.wav', 'iti': 9238}\n"
     ]
    },
    {
     "name": "stdout",
     "output_type": "stream",
     "text": [
      "{'tr_num': 35, 'stim': '/root/experiment/stim/bos_syn_tag.wav', 'iti': 9238}\n"
     ]
    },
    {
     "name": "stderr",
     "output_type": "stream",
     "text": [
      "2017-10-24 00:51:36,014 root         INFO     Running trial {'tr_num': 36, 'stim': '/root/experiment/stim/bos_tag.wav', 'iti': 9925}\n"
     ]
    },
    {
     "name": "stdout",
     "output_type": "stream",
     "text": [
      "{'tr_num': 36, 'stim': '/root/experiment/stim/bos_tag.wav', 'iti': 9925}\n"
     ]
    },
    {
     "name": "stderr",
     "output_type": "stream",
     "text": [
      "2017-10-24 00:51:47,420 root         INFO     Running trial {'tr_num': 37, 'stim': '/root/experiment/stim/bos_rev_tag.wav', 'iti': 6911}\n"
     ]
    },
    {
     "name": "stdout",
     "output_type": "stream",
     "text": [
      "{'tr_num': 37, 'stim': '/root/experiment/stim/bos_rev_tag.wav', 'iti': 6911}\n"
     ]
    },
    {
     "name": "stderr",
     "output_type": "stream",
     "text": [
      "2017-10-24 00:51:55,776 root         INFO     Running trial {'tr_num': 38, 'stim': '/root/experiment/stim/bos_tag.wav', 'iti': 6694}\n"
     ]
    },
    {
     "name": "stdout",
     "output_type": "stream",
     "text": [
      "{'tr_num': 38, 'stim': '/root/experiment/stim/bos_tag.wav', 'iti': 6694}\n"
     ]
    },
    {
     "name": "stderr",
     "output_type": "stream",
     "text": [
      "2017-10-24 00:52:04,069 root         INFO     Running trial {'tr_num': 39, 'stim': '/root/experiment/stim/bos_syn_tag.wav', 'iti': 9055}\n"
     ]
    },
    {
     "name": "stdout",
     "output_type": "stream",
     "text": [
      "{'tr_num': 39, 'stim': '/root/experiment/stim/bos_syn_tag.wav', 'iti': 9055}\n"
     ]
    },
    {
     "name": "stderr",
     "output_type": "stream",
     "text": [
      "2017-10-24 00:52:14,352 root         INFO     Running trial {'tr_num': 40, 'stim': '/root/experiment/stim/con_tag.wav', 'iti': 6059}\n"
     ]
    },
    {
     "name": "stdout",
     "output_type": "stream",
     "text": [
      "{'tr_num': 40, 'stim': '/root/experiment/stim/con_tag.wav', 'iti': 6059}\n"
     ]
    },
    {
     "name": "stderr",
     "output_type": "stream",
     "text": [
      "2017-10-24 00:52:21,532 root         INFO     Running trial {'tr_num': 41, 'stim': '/root/experiment/stim/bos_syn_tag.wav', 'iti': 9036}\n"
     ]
    },
    {
     "name": "stdout",
     "output_type": "stream",
     "text": [
      "{'tr_num': 41, 'stim': '/root/experiment/stim/bos_syn_tag.wav', 'iti': 9036}\n"
     ]
    },
    {
     "name": "stderr",
     "output_type": "stream",
     "text": [
      "2017-10-24 00:52:32,354 root         INFO     Running trial {'tr_num': 42, 'stim': '/root/experiment/stim/bos_tag.wav', 'iti': 5242}\n"
     ]
    },
    {
     "name": "stdout",
     "output_type": "stream",
     "text": [
      "{'tr_num': 42, 'stim': '/root/experiment/stim/bos_tag.wav', 'iti': 5242}\n"
     ]
    },
    {
     "name": "stderr",
     "output_type": "stream",
     "text": [
      "2017-10-24 00:52:39,002 root         INFO     Running trial {'tr_num': 43, 'stim': '/root/experiment/stim/bos_rev_tag.wav', 'iti': 9064}\n"
     ]
    },
    {
     "name": "stdout",
     "output_type": "stream",
     "text": [
      "{'tr_num': 43, 'stim': '/root/experiment/stim/bos_rev_tag.wav', 'iti': 9064}\n"
     ]
    },
    {
     "name": "stderr",
     "output_type": "stream",
     "text": [
      "2017-10-24 00:52:49,414 root         INFO     Running trial {'tr_num': 44, 'stim': '/root/experiment/stim/bos_rev_tag.wav', 'iti': 6165}\n"
     ]
    },
    {
     "name": "stdout",
     "output_type": "stream",
     "text": [
      "{'tr_num': 44, 'stim': '/root/experiment/stim/bos_rev_tag.wav', 'iti': 6165}\n"
     ]
    },
    {
     "name": "stderr",
     "output_type": "stream",
     "text": [
      "2017-10-24 00:52:56,967 root         INFO     Running trial {'tr_num': 45, 'stim': '/root/experiment/stim/con_tag.wav', 'iti': 8234}\n"
     ]
    },
    {
     "name": "stdout",
     "output_type": "stream",
     "text": [
      "{'tr_num': 45, 'stim': '/root/experiment/stim/con_tag.wav', 'iti': 8234}\n"
     ]
    },
    {
     "name": "stderr",
     "output_type": "stream",
     "text": [
      "2017-10-24 00:53:06,321 root         INFO     Running trial {'tr_num': 46, 'stim': '/root/experiment/stim/bos_tag.wav', 'iti': 6713}\n"
     ]
    },
    {
     "name": "stdout",
     "output_type": "stream",
     "text": [
      "{'tr_num': 46, 'stim': '/root/experiment/stim/bos_tag.wav', 'iti': 6713}\n"
     ]
    },
    {
     "name": "stderr",
     "output_type": "stream",
     "text": [
      "2017-10-24 00:53:14,356 root         INFO     Running trial {'tr_num': 47, 'stim': '/root/experiment/stim/bos_rev_tag.wav', 'iti': 8621}\n"
     ]
    },
    {
     "name": "stdout",
     "output_type": "stream",
     "text": [
      "{'tr_num': 47, 'stim': '/root/experiment/stim/bos_rev_tag.wav', 'iti': 8621}\n"
     ]
    },
    {
     "name": "stderr",
     "output_type": "stream",
     "text": [
      "2017-10-24 00:53:24,275 root         INFO     Running trial {'tr_num': 48, 'stim': '/root/experiment/stim/con_tag.wav', 'iti': 6576}\n"
     ]
    },
    {
     "name": "stdout",
     "output_type": "stream",
     "text": [
      "{'tr_num': 48, 'stim': '/root/experiment/stim/con_tag.wav', 'iti': 6576}\n"
     ]
    },
    {
     "name": "stderr",
     "output_type": "stream",
     "text": [
      "2017-10-24 00:53:32,046 root         INFO     Running trial {'tr_num': 49, 'stim': '/root/experiment/stim/con_tag.wav', 'iti': 11114}\n"
     ]
    },
    {
     "name": "stdout",
     "output_type": "stream",
     "text": [
      "{'tr_num': 49, 'stim': '/root/experiment/stim/con_tag.wav', 'iti': 11114}\n"
     ]
    },
    {
     "name": "stderr",
     "output_type": "stream",
     "text": [
      "2017-10-24 00:53:44,322 root         INFO     Running trial {'tr_num': 50, 'stim': '/root/experiment/stim/con_tag.wav', 'iti': 11462}\n"
     ]
    },
    {
     "name": "stdout",
     "output_type": "stream",
     "text": [
      "{'tr_num': 50, 'stim': '/root/experiment/stim/con_tag.wav', 'iti': 11462}\n"
     ]
    },
    {
     "name": "stderr",
     "output_type": "stream",
     "text": [
      "2017-10-24 00:53:57,030 root         INFO     Running trial {'tr_num': 51, 'stim': '/root/experiment/stim/bos_syn_tag.wav', 'iti': 8308}\n"
     ]
    },
    {
     "name": "stdout",
     "output_type": "stream",
     "text": [
      "{'tr_num': 51, 'stim': '/root/experiment/stim/bos_syn_tag.wav', 'iti': 8308}\n"
     ]
    },
    {
     "name": "stderr",
     "output_type": "stream",
     "text": [
      "2017-10-24 00:54:06,620 root         INFO     Running trial {'tr_num': 52, 'stim': '/root/experiment/stim/bos_tag.wav', 'iti': 11902}\n"
     ]
    },
    {
     "name": "stdout",
     "output_type": "stream",
     "text": [
      "{'tr_num': 52, 'stim': '/root/experiment/stim/bos_tag.wav', 'iti': 11902}\n"
     ]
    },
    {
     "name": "stderr",
     "output_type": "stream",
     "text": [
      "2017-10-24 00:54:19,770 root         INFO     Running trial {'tr_num': 53, 'stim': '/root/experiment/stim/bos_syn_tag.wav', 'iti': 10272}\n"
     ]
    },
    {
     "name": "stdout",
     "output_type": "stream",
     "text": [
      "{'tr_num': 53, 'stim': '/root/experiment/stim/bos_syn_tag.wav', 'iti': 10272}\n"
     ]
    },
    {
     "name": "stderr",
     "output_type": "stream",
     "text": [
      "2017-10-24 00:54:31,252 root         INFO     Running trial {'tr_num': 54, 'stim': '/root/experiment/stim/bos_syn_tag.wav', 'iti': 10584}\n"
     ]
    },
    {
     "name": "stdout",
     "output_type": "stream",
     "text": [
      "{'tr_num': 54, 'stim': '/root/experiment/stim/bos_syn_tag.wav', 'iti': 10584}\n"
     ]
    },
    {
     "name": "stderr",
     "output_type": "stream",
     "text": [
      "2017-10-24 00:54:43,356 root         INFO     Running trial {'tr_num': 55, 'stim': '/root/experiment/stim/bos_syn_tag.wav', 'iti': 7858}\n"
     ]
    },
    {
     "name": "stdout",
     "output_type": "stream",
     "text": [
      "{'tr_num': 55, 'stim': '/root/experiment/stim/bos_syn_tag.wav', 'iti': 7858}\n"
     ]
    },
    {
     "name": "stderr",
     "output_type": "stream",
     "text": [
      "2017-10-24 00:54:52,335 root         INFO     Running trial {'tr_num': 56, 'stim': '/root/experiment/stim/bos_rev_tag.wav', 'iti': 7506}\n"
     ]
    },
    {
     "name": "stdout",
     "output_type": "stream",
     "text": [
      "{'tr_num': 56, 'stim': '/root/experiment/stim/bos_rev_tag.wav', 'iti': 7506}\n"
     ]
    },
    {
     "name": "stderr",
     "output_type": "stream",
     "text": [
      "2017-10-24 00:55:01,124 root         INFO     Running trial {'tr_num': 57, 'stim': '/root/experiment/stim/bos_syn_tag.wav', 'iti': 5437}\n"
     ]
    },
    {
     "name": "stdout",
     "output_type": "stream",
     "text": [
      "{'tr_num': 57, 'stim': '/root/experiment/stim/bos_syn_tag.wav', 'iti': 5437}\n"
     ]
    },
    {
     "name": "stderr",
     "output_type": "stream",
     "text": [
      "2017-10-24 00:55:07,911 root         INFO     Running trial {'tr_num': 58, 'stim': '/root/experiment/stim/bos_rev_tag.wav', 'iti': 8943}\n"
     ]
    },
    {
     "name": "stdout",
     "output_type": "stream",
     "text": [
      "{'tr_num': 58, 'stim': '/root/experiment/stim/bos_rev_tag.wav', 'iti': 8943}\n"
     ]
    },
    {
     "name": "stderr",
     "output_type": "stream",
     "text": [
      "2017-10-24 00:55:18,049 root         INFO     Running trial {'tr_num': 59, 'stim': '/root/experiment/stim/bos_tag.wav', 'iti': 11649}\n"
     ]
    },
    {
     "name": "stdout",
     "output_type": "stream",
     "text": [
      "{'tr_num': 59, 'stim': '/root/experiment/stim/bos_tag.wav', 'iti': 11649}\n"
     ]
    },
    {
     "name": "stderr",
     "output_type": "stream",
     "text": [
      "2017-10-24 00:55:30,984 root         INFO     Running trial {'tr_num': 60, 'stim': '/root/experiment/stim/bos_tag.wav', 'iti': 6009}\n"
     ]
    },
    {
     "name": "stdout",
     "output_type": "stream",
     "text": [
      "{'tr_num': 60, 'stim': '/root/experiment/stim/bos_tag.wav', 'iti': 6009}\n"
     ]
    },
    {
     "name": "stderr",
     "output_type": "stream",
     "text": [
      "2017-10-24 00:55:38,254 root         INFO     Running trial {'tr_num': 61, 'stim': '/root/experiment/stim/bos_syn_tag.wav', 'iti': 10587}\n"
     ]
    },
    {
     "name": "stdout",
     "output_type": "stream",
     "text": [
      "{'tr_num': 61, 'stim': '/root/experiment/stim/bos_syn_tag.wav', 'iti': 10587}\n"
     ]
    },
    {
     "name": "stderr",
     "output_type": "stream",
     "text": [
      "2017-10-24 00:55:50,059 root         INFO     Running trial {'tr_num': 62, 'stim': '/root/experiment/stim/bos_tag.wav', 'iti': 11207}\n"
     ]
    },
    {
     "name": "stdout",
     "output_type": "stream",
     "text": [
      "{'tr_num': 62, 'stim': '/root/experiment/stim/bos_tag.wav', 'iti': 11207}\n"
     ]
    },
    {
     "name": "stderr",
     "output_type": "stream",
     "text": [
      "2017-10-24 00:56:02,504 root         INFO     Running trial {'tr_num': 63, 'stim': '/root/experiment/stim/con_tag.wav', 'iti': 8849}\n"
     ]
    },
    {
     "name": "stdout",
     "output_type": "stream",
     "text": [
      "{'tr_num': 63, 'stim': '/root/experiment/stim/con_tag.wav', 'iti': 8849}\n"
     ]
    },
    {
     "name": "stderr",
     "output_type": "stream",
     "text": [
      "2017-10-24 00:56:12,651 root         INFO     Running trial {'tr_num': 64, 'stim': '/root/experiment/stim/bos_syn_tag.wav', 'iti': 10785}\n"
     ]
    },
    {
     "name": "stdout",
     "output_type": "stream",
     "text": [
      "{'tr_num': 64, 'stim': '/root/experiment/stim/bos_syn_tag.wav', 'iti': 10785}\n"
     ]
    },
    {
     "name": "stderr",
     "output_type": "stream",
     "text": [
      "2017-10-24 00:56:24,658 root         INFO     Running trial {'tr_num': 65, 'stim': '/root/experiment/stim/bos_syn_tag.wav', 'iti': 6466}\n"
     ]
    },
    {
     "name": "stdout",
     "output_type": "stream",
     "text": [
      "{'tr_num': 65, 'stim': '/root/experiment/stim/bos_syn_tag.wav', 'iti': 6466}\n"
     ]
    },
    {
     "name": "stderr",
     "output_type": "stream",
     "text": [
      "2017-10-24 00:56:32,482 root         INFO     Running trial {'tr_num': 66, 'stim': '/root/experiment/stim/con_tag.wav', 'iti': 6724}\n"
     ]
    },
    {
     "name": "stdout",
     "output_type": "stream",
     "text": [
      "{'tr_num': 66, 'stim': '/root/experiment/stim/con_tag.wav', 'iti': 6724}\n"
     ]
    },
    {
     "name": "stderr",
     "output_type": "stream",
     "text": [
      "2017-10-24 00:56:40,494 root         INFO     Running trial {'tr_num': 67, 'stim': '/root/experiment/stim/con_tag.wav', 'iti': 7207}\n"
     ]
    },
    {
     "name": "stdout",
     "output_type": "stream",
     "text": [
      "{'tr_num': 67, 'stim': '/root/experiment/stim/con_tag.wav', 'iti': 7207}\n"
     ]
    },
    {
     "name": "stderr",
     "output_type": "stream",
     "text": [
      "2017-10-24 00:56:48,998 root         INFO     Running trial {'tr_num': 68, 'stim': '/root/experiment/stim/con_tag.wav', 'iti': 7111}\n"
     ]
    },
    {
     "name": "stdout",
     "output_type": "stream",
     "text": [
      "{'tr_num': 68, 'stim': '/root/experiment/stim/con_tag.wav', 'iti': 7111}\n"
     ]
    },
    {
     "name": "stderr",
     "output_type": "stream",
     "text": [
      "2017-10-24 00:56:57,199 root         INFO     Running trial {'tr_num': 69, 'stim': '/root/experiment/stim/bos_syn_tag.wav', 'iti': 11194}\n"
     ]
    },
    {
     "name": "stdout",
     "output_type": "stream",
     "text": [
      "{'tr_num': 69, 'stim': '/root/experiment/stim/bos_syn_tag.wav', 'iti': 11194}\n"
     ]
    },
    {
     "name": "stderr",
     "output_type": "stream",
     "text": [
      "2017-10-24 00:57:10,008 root         INFO     Running trial {'tr_num': 70, 'stim': '/root/experiment/stim/bos_tag.wav', 'iti': 11501}\n"
     ]
    },
    {
     "name": "stdout",
     "output_type": "stream",
     "text": [
      "{'tr_num': 70, 'stim': '/root/experiment/stim/bos_tag.wav', 'iti': 11501}\n"
     ]
    },
    {
     "name": "stderr",
     "output_type": "stream",
     "text": [
      "2017-10-24 00:57:22,740 root         INFO     Running trial {'tr_num': 71, 'stim': '/root/experiment/stim/bos_rev_tag.wav', 'iti': 6707}\n"
     ]
    },
    {
     "name": "stdout",
     "output_type": "stream",
     "text": [
      "{'tr_num': 71, 'stim': '/root/experiment/stim/bos_rev_tag.wav', 'iti': 6707}\n"
     ]
    },
    {
     "name": "stderr",
     "output_type": "stream",
     "text": [
      "2017-10-24 00:57:30,694 root         INFO     Running trial {'tr_num': 72, 'stim': '/root/experiment/stim/con_tag.wav', 'iti': 8954}\n"
     ]
    },
    {
     "name": "stdout",
     "output_type": "stream",
     "text": [
      "{'tr_num': 72, 'stim': '/root/experiment/stim/con_tag.wav', 'iti': 8954}\n"
     ]
    },
    {
     "name": "stderr",
     "output_type": "stream",
     "text": [
      "2017-10-24 00:57:40,786 root         INFO     Running trial {'tr_num': 73, 'stim': '/root/experiment/stim/con_tag.wav', 'iti': 6061}\n"
     ]
    },
    {
     "name": "stdout",
     "output_type": "stream",
     "text": [
      "{'tr_num': 73, 'stim': '/root/experiment/stim/con_tag.wav', 'iti': 6061}\n"
     ]
    },
    {
     "name": "stderr",
     "output_type": "stream",
     "text": [
      "2017-10-24 00:57:47,995 root         INFO     Running trial {'tr_num': 74, 'stim': '/root/experiment/stim/bos_rev_tag.wav', 'iti': 9607}\n"
     ]
    },
    {
     "name": "stdout",
     "output_type": "stream",
     "text": [
      "{'tr_num': 74, 'stim': '/root/experiment/stim/bos_rev_tag.wav', 'iti': 9607}\n"
     ]
    },
    {
     "name": "stderr",
     "output_type": "stream",
     "text": [
      "2017-10-24 00:57:58,825 root         INFO     Running trial {'tr_num': 75, 'stim': '/root/experiment/stim/bos_syn_tag.wav', 'iti': 11614}\n"
     ]
    },
    {
     "name": "stdout",
     "output_type": "stream",
     "text": [
      "{'tr_num': 75, 'stim': '/root/experiment/stim/bos_syn_tag.wav', 'iti': 11614}\n"
     ]
    },
    {
     "name": "stderr",
     "output_type": "stream",
     "text": [
      "2017-10-24 00:58:12,120 root         INFO     Running trial {'tr_num': 76, 'stim': '/root/experiment/stim/bos_syn_tag.wav', 'iti': 6786}\n"
     ]
    },
    {
     "name": "stdout",
     "output_type": "stream",
     "text": [
      "{'tr_num': 76, 'stim': '/root/experiment/stim/bos_syn_tag.wav', 'iti': 6786}\n"
     ]
    },
    {
     "name": "stderr",
     "output_type": "stream",
     "text": [
      "2017-10-24 00:58:20,109 root         INFO     Running trial {'tr_num': 77, 'stim': '/root/experiment/stim/bos_syn_tag.wav', 'iti': 7385}\n"
     ]
    },
    {
     "name": "stdout",
     "output_type": "stream",
     "text": [
      "{'tr_num': 77, 'stim': '/root/experiment/stim/bos_syn_tag.wav', 'iti': 7385}\n"
     ]
    },
    {
     "name": "stderr",
     "output_type": "stream",
     "text": [
      "2017-10-24 00:58:29,054 root         INFO     Running trial {'tr_num': 78, 'stim': '/root/experiment/stim/bos_tag.wav', 'iti': 8223}\n"
     ]
    },
    {
     "name": "stdout",
     "output_type": "stream",
     "text": [
      "{'tr_num': 78, 'stim': '/root/experiment/stim/bos_tag.wav', 'iti': 8223}\n"
     ]
    },
    {
     "name": "stderr",
     "output_type": "stream",
     "text": [
      "2017-10-24 00:58:38,544 root         INFO     Running trial {'tr_num': 79, 'stim': '/root/experiment/stim/bos_syn_tag.wav', 'iti': 9825}\n"
     ]
    },
    {
     "name": "stdout",
     "output_type": "stream",
     "text": [
      "{'tr_num': 79, 'stim': '/root/experiment/stim/bos_syn_tag.wav', 'iti': 9825}\n"
     ]
    },
    {
     "name": "stderr",
     "output_type": "stream",
     "text": [
      "2017-10-24 00:58:49,725 root         INFO     Running trial {'tr_num': 80, 'stim': '/root/experiment/stim/bos_tag.wav', 'iti': 6627}\n"
     ]
    },
    {
     "name": "stdout",
     "output_type": "stream",
     "text": [
      "{'tr_num': 80, 'stim': '/root/experiment/stim/bos_tag.wav', 'iti': 6627}\n"
     ]
    },
    {
     "name": "stderr",
     "output_type": "stream",
     "text": [
      "2017-10-24 00:58:57,970 root         INFO     Running trial {'tr_num': 81, 'stim': '/root/experiment/stim/bos_tag.wav', 'iti': 8842}\n"
     ]
    },
    {
     "name": "stdout",
     "output_type": "stream",
     "text": [
      "{'tr_num': 81, 'stim': '/root/experiment/stim/bos_tag.wav', 'iti': 8842}\n"
     ]
    },
    {
     "name": "stderr",
     "output_type": "stream",
     "text": [
      "2017-10-24 00:59:08,227 root         INFO     Running trial {'tr_num': 82, 'stim': '/root/experiment/stim/bos_tag.wav', 'iti': 9675}\n"
     ]
    },
    {
     "name": "stdout",
     "output_type": "stream",
     "text": [
      "{'tr_num': 82, 'stim': '/root/experiment/stim/bos_tag.wav', 'iti': 9675}\n"
     ]
    },
    {
     "name": "stderr",
     "output_type": "stream",
     "text": [
      "2017-10-24 00:59:19,149 root         INFO     Running trial {'tr_num': 83, 'stim': '/root/experiment/stim/bos_tag.wav', 'iti': 10702}\n"
     ]
    },
    {
     "name": "stdout",
     "output_type": "stream",
     "text": [
      "{'tr_num': 83, 'stim': '/root/experiment/stim/bos_tag.wav', 'iti': 10702}\n"
     ]
    },
    {
     "name": "stderr",
     "output_type": "stream",
     "text": [
      "2017-10-24 00:59:31,091 root         INFO     Running trial {'tr_num': 84, 'stim': '/root/experiment/stim/bos_rev_tag.wav', 'iti': 11355}\n"
     ]
    },
    {
     "name": "stdout",
     "output_type": "stream",
     "text": [
      "{'tr_num': 84, 'stim': '/root/experiment/stim/bos_rev_tag.wav', 'iti': 11355}\n"
     ]
    },
    {
     "name": "stderr",
     "output_type": "stream",
     "text": [
      "2017-10-24 00:59:43,686 root         INFO     Running trial {'tr_num': 85, 'stim': '/root/experiment/stim/bos_syn_tag.wav', 'iti': 9714}\n"
     ]
    },
    {
     "name": "stdout",
     "output_type": "stream",
     "text": [
      "{'tr_num': 85, 'stim': '/root/experiment/stim/bos_syn_tag.wav', 'iti': 9714}\n"
     ]
    },
    {
     "name": "stderr",
     "output_type": "stream",
     "text": [
      "2017-10-24 00:59:54,667 root         INFO     Running trial {'tr_num': 86, 'stim': '/root/experiment/stim/con_tag.wav', 'iti': 8562}\n"
     ]
    },
    {
     "name": "stdout",
     "output_type": "stream",
     "text": [
      "{'tr_num': 86, 'stim': '/root/experiment/stim/con_tag.wav', 'iti': 8562}\n"
     ]
    },
    {
     "name": "stderr",
     "output_type": "stream",
     "text": [
      "2017-10-24 01:00:04,324 root         INFO     Running trial {'tr_num': 87, 'stim': '/root/experiment/stim/con_tag.wav', 'iti': 7820}\n"
     ]
    },
    {
     "name": "stdout",
     "output_type": "stream",
     "text": [
      "{'tr_num': 87, 'stim': '/root/experiment/stim/con_tag.wav', 'iti': 7820}\n"
     ]
    },
    {
     "name": "stderr",
     "output_type": "stream",
     "text": [
      "2017-10-24 01:00:13,224 root         INFO     Running trial {'tr_num': 88, 'stim': '/root/experiment/stim/bos_tag.wav', 'iti': 5431}\n"
     ]
    },
    {
     "name": "stdout",
     "output_type": "stream",
     "text": [
      "{'tr_num': 88, 'stim': '/root/experiment/stim/bos_tag.wav', 'iti': 5431}\n"
     ]
    },
    {
     "name": "stderr",
     "output_type": "stream",
     "text": [
      "2017-10-24 01:00:19,833 root         INFO     Running trial {'tr_num': 89, 'stim': '/root/experiment/stim/bos_rev_tag.wav', 'iti': 9662}\n"
     ]
    },
    {
     "name": "stdout",
     "output_type": "stream",
     "text": [
      "{'tr_num': 89, 'stim': '/root/experiment/stim/bos_rev_tag.wav', 'iti': 9662}\n"
     ]
    },
    {
     "name": "stderr",
     "output_type": "stream",
     "text": [
      "2017-10-24 01:00:30,778 root         INFO     Running trial {'tr_num': 90, 'stim': '/root/experiment/stim/bos_rev_tag.wav', 'iti': 5028}\n"
     ]
    },
    {
     "name": "stdout",
     "output_type": "stream",
     "text": [
      "{'tr_num': 90, 'stim': '/root/experiment/stim/bos_rev_tag.wav', 'iti': 5028}\n"
     ]
    },
    {
     "name": "stderr",
     "output_type": "stream",
     "text": [
      "2017-10-24 01:00:37,032 root         INFO     Running trial {'tr_num': 91, 'stim': '/root/experiment/stim/con_tag.wav', 'iti': 9880}\n"
     ]
    },
    {
     "name": "stdout",
     "output_type": "stream",
     "text": [
      "{'tr_num': 91, 'stim': '/root/experiment/stim/con_tag.wav', 'iti': 9880}\n"
     ]
    },
    {
     "name": "stderr",
     "output_type": "stream",
     "text": [
      "2017-10-24 01:00:48,485 root         INFO     Running trial {'tr_num': 92, 'stim': '/root/experiment/stim/con_tag.wav', 'iti': 10846}\n"
     ]
    },
    {
     "name": "stdout",
     "output_type": "stream",
     "text": [
      "{'tr_num': 92, 'stim': '/root/experiment/stim/con_tag.wav', 'iti': 10846}\n"
     ]
    },
    {
     "name": "stderr",
     "output_type": "stream",
     "text": [
      "2017-10-24 01:01:00,582 root         INFO     Running trial {'tr_num': 93, 'stim': '/root/experiment/stim/bos_rev_tag.wav', 'iti': 6640}\n"
     ]
    },
    {
     "name": "stdout",
     "output_type": "stream",
     "text": [
      "{'tr_num': 93, 'stim': '/root/experiment/stim/bos_rev_tag.wav', 'iti': 6640}\n"
     ]
    },
    {
     "name": "stderr",
     "output_type": "stream",
     "text": [
      "2017-10-24 01:01:08,500 root         INFO     Running trial {'tr_num': 94, 'stim': '/root/experiment/stim/bos_syn_tag.wav', 'iti': 6328}\n"
     ]
    },
    {
     "name": "stdout",
     "output_type": "stream",
     "text": [
      "{'tr_num': 94, 'stim': '/root/experiment/stim/bos_syn_tag.wav', 'iti': 6328}\n"
     ]
    },
    {
     "name": "stderr",
     "output_type": "stream",
     "text": [
      "2017-10-24 01:01:16,036 root         INFO     Running trial {'tr_num': 95, 'stim': '/root/experiment/stim/bos_syn_tag.wav', 'iti': 9665}\n"
     ]
    },
    {
     "name": "stdout",
     "output_type": "stream",
     "text": [
      "{'tr_num': 95, 'stim': '/root/experiment/stim/bos_syn_tag.wav', 'iti': 9665}\n"
     ]
    },
    {
     "name": "stderr",
     "output_type": "stream",
     "text": [
      "2017-10-24 01:01:26,893 root         INFO     Running trial {'tr_num': 96, 'stim': '/root/experiment/stim/con_tag.wav', 'iti': 10799}\n"
     ]
    },
    {
     "name": "stdout",
     "output_type": "stream",
     "text": [
      "{'tr_num': 96, 'stim': '/root/experiment/stim/con_tag.wav', 'iti': 10799}\n"
     ]
    },
    {
     "name": "stderr",
     "output_type": "stream",
     "text": [
      "2017-10-24 01:01:39,017 root         INFO     Running trial {'tr_num': 97, 'stim': '/root/experiment/stim/con_tag.wav', 'iti': 5715}\n"
     ]
    },
    {
     "name": "stdout",
     "output_type": "stream",
     "text": [
      "{'tr_num': 97, 'stim': '/root/experiment/stim/con_tag.wav', 'iti': 5715}\n"
     ]
    },
    {
     "name": "stderr",
     "output_type": "stream",
     "text": [
      "2017-10-24 01:01:45,863 root         INFO     Running trial {'tr_num': 98, 'stim': '/root/experiment/stim/bos_tag.wav', 'iti': 9896}\n"
     ]
    },
    {
     "name": "stdout",
     "output_type": "stream",
     "text": [
      "{'tr_num': 98, 'stim': '/root/experiment/stim/bos_tag.wav', 'iti': 9896}\n"
     ]
    },
    {
     "name": "stderr",
     "output_type": "stream",
     "text": [
      "2017-10-24 01:01:57,117 root         INFO     Running trial {'tr_num': 99, 'stim': '/root/experiment/stim/con_tag.wav', 'iti': 5036}\n"
     ]
    },
    {
     "name": "stdout",
     "output_type": "stream",
     "text": [
      "{'tr_num': 99, 'stim': '/root/experiment/stim/con_tag.wav', 'iti': 5036}\n"
     ]
    },
    {
     "name": "stderr",
     "output_type": "stream",
     "text": [
      "2017-10-24 01:02:03,465 root         INFO     Running trial {'tr_num': 100, 'stim': '/root/experiment/stim/bos_rev_tag.wav', 'iti': 11512}\n"
     ]
    },
    {
     "name": "stdout",
     "output_type": "stream",
     "text": [
      "{'tr_num': 100, 'stim': '/root/experiment/stim/bos_rev_tag.wav', 'iti': 11512}\n"
     ]
    },
    {
     "name": "stderr",
     "output_type": "stream",
     "text": [
      "2017-10-24 01:02:16,183 root         INFO     Running trial {'tr_num': 101, 'stim': '/root/experiment/stim/con_tag.wav', 'iti': 5628}\n"
     ]
    },
    {
     "name": "stdout",
     "output_type": "stream",
     "text": [
      "{'tr_num': 101, 'stim': '/root/experiment/stim/con_tag.wav', 'iti': 5628}\n"
     ]
    },
    {
     "name": "stderr",
     "output_type": "stream",
     "text": [
      "2017-10-24 01:02:22,910 root         INFO     Running trial {'tr_num': 102, 'stim': '/root/experiment/stim/con_tag.wav', 'iti': 8856}\n"
     ]
    },
    {
     "name": "stdout",
     "output_type": "stream",
     "text": [
      "{'tr_num': 102, 'stim': '/root/experiment/stim/con_tag.wav', 'iti': 8856}\n"
     ]
    },
    {
     "name": "stderr",
     "output_type": "stream",
     "text": [
      "2017-10-24 01:02:32,972 root         INFO     Running trial {'tr_num': 103, 'stim': '/root/experiment/stim/con_tag.wav', 'iti': 5458}\n"
     ]
    },
    {
     "name": "stdout",
     "output_type": "stream",
     "text": [
      "{'tr_num': 103, 'stim': '/root/experiment/stim/con_tag.wav', 'iti': 5458}\n"
     ]
    },
    {
     "name": "stderr",
     "output_type": "stream",
     "text": [
      "2017-10-24 01:02:39,569 root         INFO     Running trial {'tr_num': 104, 'stim': '/root/experiment/stim/bos_rev_tag.wav', 'iti': 10778}\n"
     ]
    },
    {
     "name": "stdout",
     "output_type": "stream",
     "text": [
      "{'tr_num': 104, 'stim': '/root/experiment/stim/bos_rev_tag.wav', 'iti': 10778}\n"
     ]
    },
    {
     "name": "stderr",
     "output_type": "stream",
     "text": [
      "2017-10-24 01:02:51,601 root         INFO     Running trial {'tr_num': 105, 'stim': '/root/experiment/stim/bos_rev_tag.wav', 'iti': 8761}\n"
     ]
    },
    {
     "name": "stdout",
     "output_type": "stream",
     "text": [
      "{'tr_num': 105, 'stim': '/root/experiment/stim/bos_rev_tag.wav', 'iti': 8761}\n"
     ]
    },
    {
     "name": "stderr",
     "output_type": "stream",
     "text": [
      "2017-10-24 01:03:01,701 root         INFO     Running trial {'tr_num': 106, 'stim': '/root/experiment/stim/bos_rev_tag.wav', 'iti': 11454}\n"
     ]
    },
    {
     "name": "stdout",
     "output_type": "stream",
     "text": [
      "{'tr_num': 106, 'stim': '/root/experiment/stim/bos_rev_tag.wav', 'iti': 11454}\n"
     ]
    },
    {
     "name": "stderr",
     "output_type": "stream",
     "text": [
      "2017-10-24 01:03:14,458 root         INFO     Running trial {'tr_num': 107, 'stim': '/root/experiment/stim/con_tag.wav', 'iti': 10558}\n"
     ]
    },
    {
     "name": "stdout",
     "output_type": "stream",
     "text": [
      "{'tr_num': 107, 'stim': '/root/experiment/stim/con_tag.wav', 'iti': 10558}\n"
     ]
    },
    {
     "name": "stderr",
     "output_type": "stream",
     "text": [
      "2017-10-24 01:03:26,165 root         INFO     Running trial {'tr_num': 108, 'stim': '/root/experiment/stim/con_tag.wav', 'iti': 5584}\n"
     ]
    },
    {
     "name": "stdout",
     "output_type": "stream",
     "text": [
      "{'tr_num': 108, 'stim': '/root/experiment/stim/con_tag.wav', 'iti': 5584}\n"
     ]
    },
    {
     "name": "stderr",
     "output_type": "stream",
     "text": [
      "2017-10-24 01:03:33,027 root         INFO     Running trial {'tr_num': 109, 'stim': '/root/experiment/stim/bos_tag.wav', 'iti': 8384}\n"
     ]
    },
    {
     "name": "stdout",
     "output_type": "stream",
     "text": [
      "{'tr_num': 109, 'stim': '/root/experiment/stim/bos_tag.wav', 'iti': 8384}\n"
     ]
    },
    {
     "name": "stderr",
     "output_type": "stream",
     "text": [
      "2017-10-24 01:03:42,605 root         INFO     Running trial {'tr_num': 110, 'stim': '/root/experiment/stim/con_tag.wav', 'iti': 5172}\n"
     ]
    },
    {
     "name": "stdout",
     "output_type": "stream",
     "text": [
      "{'tr_num': 110, 'stim': '/root/experiment/stim/con_tag.wav', 'iti': 5172}\n"
     ]
    },
    {
     "name": "stderr",
     "output_type": "stream",
     "text": [
      "2017-10-24 01:03:48,879 root         INFO     Running trial {'tr_num': 111, 'stim': '/root/experiment/stim/bos_syn_tag.wav', 'iti': 11254}\n"
     ]
    },
    {
     "name": "stdout",
     "output_type": "stream",
     "text": [
      "{'tr_num': 111, 'stim': '/root/experiment/stim/bos_syn_tag.wav', 'iti': 11254}\n"
     ]
    },
    {
     "name": "stderr",
     "output_type": "stream",
     "text": [
      "2017-10-24 01:04:01,330 root         INFO     Running trial {'tr_num': 112, 'stim': '/root/experiment/stim/bos_syn_tag.wav', 'iti': 9929}\n"
     ]
    },
    {
     "name": "stdout",
     "output_type": "stream",
     "text": [
      "{'tr_num': 112, 'stim': '/root/experiment/stim/bos_syn_tag.wav', 'iti': 9929}\n"
     ]
    },
    {
     "name": "stderr",
     "output_type": "stream",
     "text": [
      "2017-10-24 01:04:12,520 root         INFO     Running trial {'tr_num': 113, 'stim': '/root/experiment/stim/con_tag.wav', 'iti': 5690}\n"
     ]
    },
    {
     "name": "stdout",
     "output_type": "stream",
     "text": [
      "{'tr_num': 113, 'stim': '/root/experiment/stim/con_tag.wav', 'iti': 5690}\n"
     ]
    },
    {
     "name": "stderr",
     "output_type": "stream",
     "text": [
      "2017-10-24 01:04:19,405 root         INFO     Running trial {'tr_num': 114, 'stim': '/root/experiment/stim/bos_rev_tag.wav', 'iti': 11841}\n"
     ]
    },
    {
     "name": "stdout",
     "output_type": "stream",
     "text": [
      "{'tr_num': 114, 'stim': '/root/experiment/stim/bos_rev_tag.wav', 'iti': 11841}\n"
     ]
    },
    {
     "name": "stderr",
     "output_type": "stream",
     "text": [
      "2017-10-24 01:04:32,886 root         INFO     Running trial {'tr_num': 115, 'stim': '/root/experiment/stim/con_tag.wav', 'iti': 8526}\n"
     ]
    },
    {
     "name": "stdout",
     "output_type": "stream",
     "text": [
      "{'tr_num': 115, 'stim': '/root/experiment/stim/con_tag.wav', 'iti': 8526}\n"
     ]
    },
    {
     "name": "stderr",
     "output_type": "stream",
     "text": [
      "2017-10-24 01:04:42,542 root         INFO     Running trial {'tr_num': 116, 'stim': '/root/experiment/stim/bos_syn_tag.wav', 'iti': 8941}\n"
     ]
    },
    {
     "name": "stdout",
     "output_type": "stream",
     "text": [
      "{'tr_num': 116, 'stim': '/root/experiment/stim/bos_syn_tag.wav', 'iti': 8941}\n"
     ]
    },
    {
     "name": "stderr",
     "output_type": "stream",
     "text": [
      "2017-10-24 01:04:52,640 root         INFO     Running trial {'tr_num': 117, 'stim': '/root/experiment/stim/con_tag.wav', 'iti': 8599}\n"
     ]
    },
    {
     "name": "stdout",
     "output_type": "stream",
     "text": [
      "{'tr_num': 117, 'stim': '/root/experiment/stim/con_tag.wav', 'iti': 8599}\n"
     ]
    },
    {
     "name": "stderr",
     "output_type": "stream",
     "text": [
      "2017-10-24 01:05:02,418 root         INFO     Running trial {'tr_num': 118, 'stim': '/root/experiment/stim/bos_rev_tag.wav', 'iti': 8373}\n"
     ]
    },
    {
     "name": "stdout",
     "output_type": "stream",
     "text": [
      "{'tr_num': 118, 'stim': '/root/experiment/stim/bos_rev_tag.wav', 'iti': 8373}\n"
     ]
    },
    {
     "name": "stderr",
     "output_type": "stream",
     "text": [
      "2017-10-24 01:05:12,012 root         INFO     Running trial {'tr_num': 119, 'stim': '/root/experiment/stim/bos_tag.wav', 'iti': 6054}\n"
     ]
    },
    {
     "name": "stdout",
     "output_type": "stream",
     "text": [
      "{'tr_num': 119, 'stim': '/root/experiment/stim/bos_tag.wav', 'iti': 6054}\n"
     ]
    },
    {
     "name": "stderr",
     "output_type": "stream",
     "text": [
      "2017-10-24 01:05:19,259 root         INFO     Running trial {'tr_num': 120, 'stim': '/root/experiment/stim/bos_tag.wav', 'iti': 7120}\n"
     ]
    },
    {
     "name": "stdout",
     "output_type": "stream",
     "text": [
      "{'tr_num': 120, 'stim': '/root/experiment/stim/bos_tag.wav', 'iti': 7120}\n"
     ]
    },
    {
     "name": "stderr",
     "output_type": "stream",
     "text": [
      "2017-10-24 01:05:27,727 root         INFO     Running trial {'tr_num': 121, 'stim': '/root/experiment/stim/bos_rev_tag.wav', 'iti': 8248}\n"
     ]
    },
    {
     "name": "stdout",
     "output_type": "stream",
     "text": [
      "{'tr_num': 121, 'stim': '/root/experiment/stim/bos_rev_tag.wav', 'iti': 8248}\n"
     ]
    },
    {
     "name": "stderr",
     "output_type": "stream",
     "text": [
      "2017-10-24 01:05:37,209 root         INFO     Running trial {'tr_num': 122, 'stim': '/root/experiment/stim/bos_rev_tag.wav', 'iti': 9965}\n"
     ]
    },
    {
     "name": "stdout",
     "output_type": "stream",
     "text": [
      "{'tr_num': 122, 'stim': '/root/experiment/stim/bos_rev_tag.wav', 'iti': 9965}\n"
     ]
    },
    {
     "name": "stderr",
     "output_type": "stream",
     "text": [
      "2017-10-24 01:05:48,374 root         INFO     Running trial {'tr_num': 123, 'stim': '/root/experiment/stim/con_tag.wav', 'iti': 7265}\n"
     ]
    },
    {
     "name": "stdout",
     "output_type": "stream",
     "text": [
      "{'tr_num': 123, 'stim': '/root/experiment/stim/con_tag.wav', 'iti': 7265}\n"
     ]
    },
    {
     "name": "stderr",
     "output_type": "stream",
     "text": [
      "2017-10-24 01:05:56,745 root         INFO     Running trial {'tr_num': 124, 'stim': '/root/experiment/stim/bos_tag.wav', 'iti': 10355}\n"
     ]
    },
    {
     "name": "stdout",
     "output_type": "stream",
     "text": [
      "{'tr_num': 124, 'stim': '/root/experiment/stim/bos_tag.wav', 'iti': 10355}\n"
     ]
    },
    {
     "name": "stderr",
     "output_type": "stream",
     "text": [
      "2017-10-24 01:06:08,298 root         INFO     Running trial {'tr_num': 125, 'stim': '/root/experiment/stim/con_tag.wav', 'iti': 9732}\n"
     ]
    },
    {
     "name": "stdout",
     "output_type": "stream",
     "text": [
      "{'tr_num': 125, 'stim': '/root/experiment/stim/con_tag.wav', 'iti': 9732}\n"
     ]
    },
    {
     "name": "stderr",
     "output_type": "stream",
     "text": [
      "2017-10-24 01:06:19,147 root         INFO     Running trial {'tr_num': 126, 'stim': '/root/experiment/stim/bos_syn_tag.wav', 'iti': 6954}\n"
     ]
    },
    {
     "name": "stdout",
     "output_type": "stream",
     "text": [
      "{'tr_num': 126, 'stim': '/root/experiment/stim/bos_syn_tag.wav', 'iti': 6954}\n"
     ]
    },
    {
     "name": "stderr",
     "output_type": "stream",
     "text": [
      "2017-10-24 01:06:27,331 root         INFO     Running trial {'tr_num': 127, 'stim': '/root/experiment/stim/bos_syn_tag.wav', 'iti': 7285}\n"
     ]
    },
    {
     "name": "stdout",
     "output_type": "stream",
     "text": [
      "{'tr_num': 127, 'stim': '/root/experiment/stim/bos_syn_tag.wav', 'iti': 7285}\n"
     ]
    },
    {
     "name": "stderr",
     "output_type": "stream",
     "text": [
      "2017-10-24 01:06:35,832 root         INFO     Running trial {'tr_num': 128, 'stim': '/root/experiment/stim/bos_tag.wav', 'iti': 10370}\n"
     ]
    },
    {
     "name": "stdout",
     "output_type": "stream",
     "text": [
      "{'tr_num': 128, 'stim': '/root/experiment/stim/bos_tag.wav', 'iti': 10370}\n"
     ]
    },
    {
     "name": "stderr",
     "output_type": "stream",
     "text": [
      "2017-10-24 01:06:47,628 root         INFO     Running trial {'tr_num': 129, 'stim': '/root/experiment/stim/con_tag.wav', 'iti': 11729}\n"
     ]
    },
    {
     "name": "stdout",
     "output_type": "stream",
     "text": [
      "{'tr_num': 129, 'stim': '/root/experiment/stim/con_tag.wav', 'iti': 11729}\n"
     ]
    },
    {
     "name": "stderr",
     "output_type": "stream",
     "text": [
      "2017-10-24 01:07:00,751 root         INFO     Running trial {'tr_num': 130, 'stim': '/root/experiment/stim/bos_rev_tag.wav', 'iti': 9459}\n"
     ]
    },
    {
     "name": "stdout",
     "output_type": "stream",
     "text": [
      "{'tr_num': 130, 'stim': '/root/experiment/stim/bos_rev_tag.wav', 'iti': 9459}\n"
     ]
    },
    {
     "name": "stderr",
     "output_type": "stream",
     "text": [
      "2017-10-24 01:07:11,428 root         INFO     Running trial {'tr_num': 131, 'stim': '/root/experiment/stim/bos_syn_tag.wav', 'iti': 8158}\n"
     ]
    },
    {
     "name": "stdout",
     "output_type": "stream",
     "text": [
      "{'tr_num': 131, 'stim': '/root/experiment/stim/bos_syn_tag.wav', 'iti': 8158}\n"
     ]
    },
    {
     "name": "stderr",
     "output_type": "stream",
     "text": [
      "2017-10-24 01:07:20,868 root         INFO     Running trial {'tr_num': 132, 'stim': '/root/experiment/stim/con_tag.wav', 'iti': 6112}\n"
     ]
    },
    {
     "name": "stdout",
     "output_type": "stream",
     "text": [
      "{'tr_num': 132, 'stim': '/root/experiment/stim/con_tag.wav', 'iti': 6112}\n"
     ]
    },
    {
     "name": "stderr",
     "output_type": "stream",
     "text": [
      "2017-10-24 01:07:28,124 root         INFO     Running trial {'tr_num': 133, 'stim': '/root/experiment/stim/bos_tag.wav', 'iti': 7280}\n"
     ]
    },
    {
     "name": "stdout",
     "output_type": "stream",
     "text": [
      "{'tr_num': 133, 'stim': '/root/experiment/stim/bos_tag.wav', 'iti': 7280}\n"
     ]
    },
    {
     "name": "stderr",
     "output_type": "stream",
     "text": [
      "2017-10-24 01:07:36,616 root         INFO     Running trial {'tr_num': 134, 'stim': '/root/experiment/stim/bos_tag.wav', 'iti': 9789}\n"
     ]
    },
    {
     "name": "stdout",
     "output_type": "stream",
     "text": [
      "{'tr_num': 134, 'stim': '/root/experiment/stim/bos_tag.wav', 'iti': 9789}\n"
     ]
    },
    {
     "name": "stderr",
     "output_type": "stream",
     "text": [
      "2017-10-24 01:07:47,602 root         INFO     Running trial {'tr_num': 135, 'stim': '/root/experiment/stim/bos_tag.wav', 'iti': 5394}\n"
     ]
    },
    {
     "name": "stdout",
     "output_type": "stream",
     "text": [
      "{'tr_num': 135, 'stim': '/root/experiment/stim/bos_tag.wav', 'iti': 5394}\n"
     ]
    },
    {
     "name": "stderr",
     "output_type": "stream",
     "text": [
      "2017-10-24 01:07:54,253 root         INFO     Running trial {'tr_num': 136, 'stim': '/root/experiment/stim/bos_rev_tag.wav', 'iti': 9339}\n"
     ]
    },
    {
     "name": "stdout",
     "output_type": "stream",
     "text": [
      "{'tr_num': 136, 'stim': '/root/experiment/stim/bos_rev_tag.wav', 'iti': 9339}\n"
     ]
    },
    {
     "name": "stderr",
     "output_type": "stream",
     "text": [
      "2017-10-24 01:08:04,817 root         INFO     Running trial {'tr_num': 137, 'stim': '/root/experiment/stim/bos_rev_tag.wav', 'iti': 8849}\n"
     ]
    },
    {
     "name": "stdout",
     "output_type": "stream",
     "text": [
      "{'tr_num': 137, 'stim': '/root/experiment/stim/bos_rev_tag.wav', 'iti': 8849}\n"
     ]
    },
    {
     "name": "stderr",
     "output_type": "stream",
     "text": [
      "2017-10-24 01:08:14,887 root         INFO     Running trial {'tr_num': 138, 'stim': '/root/experiment/stim/con_tag.wav', 'iti': 8048}\n"
     ]
    },
    {
     "name": "stdout",
     "output_type": "stream",
     "text": [
      "{'tr_num': 138, 'stim': '/root/experiment/stim/con_tag.wav', 'iti': 8048}\n"
     ]
    },
    {
     "name": "stderr",
     "output_type": "stream",
     "text": [
      "2017-10-24 01:08:24,072 root         INFO     Running trial {'tr_num': 139, 'stim': '/root/experiment/stim/bos_tag.wav', 'iti': 9475}\n"
     ]
    },
    {
     "name": "stdout",
     "output_type": "stream",
     "text": [
      "{'tr_num': 139, 'stim': '/root/experiment/stim/bos_tag.wav', 'iti': 9475}\n"
     ]
    },
    {
     "name": "stderr",
     "output_type": "stream",
     "text": [
      "2017-10-24 01:08:34,773 root         INFO     Running trial {'tr_num': 140, 'stim': '/root/experiment/stim/bos_rev_tag.wav', 'iti': 9874}\n"
     ]
    },
    {
     "name": "stdout",
     "output_type": "stream",
     "text": [
      "{'tr_num': 140, 'stim': '/root/experiment/stim/bos_rev_tag.wav', 'iti': 9874}\n"
     ]
    },
    {
     "name": "stderr",
     "output_type": "stream",
     "text": [
      "2017-10-24 01:08:46,016 root         INFO     Running trial {'tr_num': 141, 'stim': '/root/experiment/stim/bos_rev_tag.wav', 'iti': 10192}\n"
     ]
    },
    {
     "name": "stdout",
     "output_type": "stream",
     "text": [
      "{'tr_num': 141, 'stim': '/root/experiment/stim/bos_rev_tag.wav', 'iti': 10192}\n"
     ]
    },
    {
     "name": "stderr",
     "output_type": "stream",
     "text": [
      "2017-10-24 01:08:57,448 root         INFO     Running trial {'tr_num': 142, 'stim': '/root/experiment/stim/bos_rev_tag.wav', 'iti': 10416}\n"
     ]
    },
    {
     "name": "stdout",
     "output_type": "stream",
     "text": [
      "{'tr_num': 142, 'stim': '/root/experiment/stim/bos_rev_tag.wav', 'iti': 10416}\n"
     ]
    },
    {
     "name": "stderr",
     "output_type": "stream",
     "text": [
      "2017-10-24 01:09:09,133 root         INFO     Running trial {'tr_num': 143, 'stim': '/root/experiment/stim/con_tag.wav', 'iti': 9738}\n"
     ]
    },
    {
     "name": "stdout",
     "output_type": "stream",
     "text": [
      "{'tr_num': 143, 'stim': '/root/experiment/stim/con_tag.wav', 'iti': 9738}\n"
     ]
    },
    {
     "name": "stderr",
     "output_type": "stream",
     "text": [
      "2017-10-24 01:09:21,732 root         INFO     Running trial {'tr_num': 144, 'stim': '/root/experiment/stim/bos_syn_tag.wav', 'iti': 11181}\n"
     ]
    },
    {
     "name": "stdout",
     "output_type": "stream",
     "text": [
      "{'tr_num': 144, 'stim': '/root/experiment/stim/bos_syn_tag.wav', 'iti': 11181}\n"
     ]
    },
    {
     "name": "stderr",
     "output_type": "stream",
     "text": [
      "2017-10-24 01:09:34,158 root         INFO     Running trial {'tr_num': 145, 'stim': '/root/experiment/stim/bos_syn_tag.wav', 'iti': 10379}\n"
     ]
    },
    {
     "name": "stdout",
     "output_type": "stream",
     "text": [
      "{'tr_num': 145, 'stim': '/root/experiment/stim/bos_syn_tag.wav', 'iti': 10379}\n"
     ]
    },
    {
     "name": "stderr",
     "output_type": "stream",
     "text": [
      "2017-10-24 01:09:45,821 root         INFO     Running trial {'tr_num': 146, 'stim': '/root/experiment/stim/con_tag.wav', 'iti': 11283}\n"
     ]
    },
    {
     "name": "stdout",
     "output_type": "stream",
     "text": [
      "{'tr_num': 146, 'stim': '/root/experiment/stim/con_tag.wav', 'iti': 11283}\n"
     ]
    },
    {
     "name": "stderr",
     "output_type": "stream",
     "text": [
      "2017-10-24 01:09:58,421 root         INFO     Running trial {'tr_num': 147, 'stim': '/root/experiment/stim/bos_tag.wav', 'iti': 9562}\n"
     ]
    },
    {
     "name": "stdout",
     "output_type": "stream",
     "text": [
      "{'tr_num': 147, 'stim': '/root/experiment/stim/bos_tag.wav', 'iti': 9562}\n"
     ]
    },
    {
     "name": "stderr",
     "output_type": "stream",
     "text": [
      "2017-10-24 01:10:09,229 root         INFO     Running trial {'tr_num': 148, 'stim': '/root/experiment/stim/bos_rev_tag.wav', 'iti': 9549}\n"
     ]
    },
    {
     "name": "stdout",
     "output_type": "stream",
     "text": [
      "{'tr_num': 148, 'stim': '/root/experiment/stim/bos_rev_tag.wav', 'iti': 9549}\n"
     ]
    },
    {
     "name": "stderr",
     "output_type": "stream",
     "text": [
      "2017-10-24 01:10:20,029 root         INFO     Running trial {'tr_num': 149, 'stim': '/root/experiment/stim/con_tag.wav', 'iti': 11088}\n"
     ]
    },
    {
     "name": "stdout",
     "output_type": "stream",
     "text": [
      "{'tr_num': 149, 'stim': '/root/experiment/stim/con_tag.wav', 'iti': 11088}\n"
     ]
    },
    {
     "name": "stderr",
     "output_type": "stream",
     "text": [
      "2017-10-24 01:10:32,262 root         INFO     Running trial {'tr_num': 150, 'stim': '/root/experiment/stim/bos_syn_tag.wav', 'iti': 9950}\n"
     ]
    },
    {
     "name": "stdout",
     "output_type": "stream",
     "text": [
      "{'tr_num': 150, 'stim': '/root/experiment/stim/bos_syn_tag.wav', 'iti': 9950}\n"
     ]
    },
    {
     "name": "stderr",
     "output_type": "stream",
     "text": [
      "2017-10-24 01:10:43,956 root         INFO     Running trial {'tr_num': 151, 'stim': '/root/experiment/stim/bos_rev_tag.wav', 'iti': 7567}\n"
     ]
    },
    {
     "name": "stdout",
     "output_type": "stream",
     "text": [
      "{'tr_num': 151, 'stim': '/root/experiment/stim/bos_rev_tag.wav', 'iti': 7567}\n"
     ]
    },
    {
     "name": "stderr",
     "output_type": "stream",
     "text": [
      "2017-10-24 01:10:52,761 root         INFO     Running trial {'tr_num': 152, 'stim': '/root/experiment/stim/bos_rev_tag.wav', 'iti': 10151}\n"
     ]
    },
    {
     "name": "stdout",
     "output_type": "stream",
     "text": [
      "{'tr_num': 152, 'stim': '/root/experiment/stim/bos_rev_tag.wav', 'iti': 10151}\n"
     ]
    },
    {
     "name": "stderr",
     "output_type": "stream",
     "text": [
      "2017-10-24 01:11:04,116 root         INFO     Running trial {'tr_num': 153, 'stim': '/root/experiment/stim/bos_rev_tag.wav', 'iti': 11641}\n"
     ]
    },
    {
     "name": "stdout",
     "output_type": "stream",
     "text": [
      "{'tr_num': 153, 'stim': '/root/experiment/stim/bos_rev_tag.wav', 'iti': 11641}\n"
     ]
    },
    {
     "name": "stderr",
     "output_type": "stream",
     "text": [
      "2017-10-24 01:11:16,992 root         INFO     Running trial {'tr_num': 154, 'stim': '/root/experiment/stim/bos_syn_tag.wav', 'iti': 5554}\n"
     ]
    },
    {
     "name": "stdout",
     "output_type": "stream",
     "text": [
      "{'tr_num': 154, 'stim': '/root/experiment/stim/bos_syn_tag.wav', 'iti': 5554}\n"
     ]
    },
    {
     "name": "stderr",
     "output_type": "stream",
     "text": [
      "2017-10-24 01:11:23,800 root         INFO     Running trial {'tr_num': 155, 'stim': '/root/experiment/stim/bos_rev_tag.wav', 'iti': 7143}\n"
     ]
    },
    {
     "name": "stdout",
     "output_type": "stream",
     "text": [
      "{'tr_num': 155, 'stim': '/root/experiment/stim/bos_rev_tag.wav', 'iti': 7143}\n"
     ]
    },
    {
     "name": "stderr",
     "output_type": "stream",
     "text": [
      "2017-10-24 01:11:32,136 root         INFO     Running trial {'tr_num': 156, 'stim': '/root/experiment/stim/bos_rev_tag.wav', 'iti': 10053}\n"
     ]
    },
    {
     "name": "stdout",
     "output_type": "stream",
     "text": [
      "{'tr_num': 156, 'stim': '/root/experiment/stim/bos_rev_tag.wav', 'iti': 10053}\n"
     ]
    },
    {
     "name": "stderr",
     "output_type": "stream",
     "text": [
      "2017-10-24 01:11:43,452 root         INFO     Running trial {'tr_num': 157, 'stim': '/root/experiment/stim/bos_syn_tag.wav', 'iti': 10893}\n"
     ]
    },
    {
     "name": "stdout",
     "output_type": "stream",
     "text": [
      "{'tr_num': 157, 'stim': '/root/experiment/stim/bos_syn_tag.wav', 'iti': 10893}\n"
     ]
    },
    {
     "name": "stderr",
     "output_type": "stream",
     "text": [
      "2017-10-24 01:11:55,612 root         INFO     Running trial {'tr_num': 158, 'stim': '/root/experiment/stim/bos_tag.wav', 'iti': 5004}\n"
     ]
    },
    {
     "name": "stdout",
     "output_type": "stream",
     "text": [
      "{'tr_num': 158, 'stim': '/root/experiment/stim/bos_tag.wav', 'iti': 5004}\n"
     ]
    },
    {
     "name": "stderr",
     "output_type": "stream",
     "text": [
      "2017-10-24 01:12:02,408 root         INFO     Running trial {'tr_num': 159, 'stim': '/root/experiment/stim/bos_rev_tag.wav', 'iti': 8538}\n"
     ]
    },
    {
     "name": "stdout",
     "output_type": "stream",
     "text": [
      "{'tr_num': 159, 'stim': '/root/experiment/stim/bos_rev_tag.wav', 'iti': 8538}\n"
     ]
    },
    {
     "name": "stderr",
     "output_type": "stream",
     "text": [
      "2017-10-24 01:12:12,303 root         INFO     Running trial {'tr_num': 160, 'stim': '/root/experiment/stim/bos_syn_tag.wav', 'iti': 7616}\n"
     ]
    },
    {
     "name": "stdout",
     "output_type": "stream",
     "text": [
      "{'tr_num': 160, 'stim': '/root/experiment/stim/bos_syn_tag.wav', 'iti': 7616}\n"
     ]
    },
    {
     "name": "stderr",
     "output_type": "stream",
     "text": [
      "2017-10-24 01:12:21,270 root         INFO     Running trial {'tr_num': 161, 'stim': '/root/experiment/stim/bos_tag.wav', 'iti': 6589}\n"
     ]
    },
    {
     "name": "stdout",
     "output_type": "stream",
     "text": [
      "{'tr_num': 161, 'stim': '/root/experiment/stim/bos_tag.wav', 'iti': 6589}\n"
     ]
    },
    {
     "name": "stderr",
     "output_type": "stream",
     "text": [
      "2017-10-24 01:12:29,396 root         INFO     Running trial {'tr_num': 162, 'stim': '/root/experiment/stim/bos_syn_tag.wav', 'iti': 7573}\n"
     ]
    },
    {
     "name": "stdout",
     "output_type": "stream",
     "text": [
      "{'tr_num': 162, 'stim': '/root/experiment/stim/bos_syn_tag.wav', 'iti': 7573}\n"
     ]
    },
    {
     "name": "stderr",
     "output_type": "stream",
     "text": [
      "2017-10-24 01:12:38,516 root         INFO     Running trial {'tr_num': 163, 'stim': '/root/experiment/stim/con_tag.wav', 'iti': 7987}\n"
     ]
    },
    {
     "name": "stdout",
     "output_type": "stream",
     "text": [
      "{'tr_num': 163, 'stim': '/root/experiment/stim/con_tag.wav', 'iti': 7987}\n"
     ]
    },
    {
     "name": "stderr",
     "output_type": "stream",
     "text": [
      "2017-10-24 01:12:47,899 root         INFO     Running trial {'tr_num': 164, 'stim': '/root/experiment/stim/bos_tag.wav', 'iti': 7422}\n"
     ]
    },
    {
     "name": "stdout",
     "output_type": "stream",
     "text": [
      "{'tr_num': 164, 'stim': '/root/experiment/stim/bos_tag.wav', 'iti': 7422}\n"
     ]
    },
    {
     "name": "stderr",
     "output_type": "stream",
     "text": [
      "2017-10-24 01:12:56,510 root         INFO     Running trial {'tr_num': 165, 'stim': '/root/experiment/stim/bos_syn_tag.wav', 'iti': 5762}\n"
     ]
    },
    {
     "name": "stdout",
     "output_type": "stream",
     "text": [
      "{'tr_num': 165, 'stim': '/root/experiment/stim/bos_syn_tag.wav', 'iti': 5762}\n"
     ]
    },
    {
     "name": "stderr",
     "output_type": "stream",
     "text": [
      "2017-10-24 01:13:03,558 root         INFO     Running trial {'tr_num': 166, 'stim': '/root/experiment/stim/con_tag.wav', 'iti': 11023}\n"
     ]
    },
    {
     "name": "stdout",
     "output_type": "stream",
     "text": [
      "{'tr_num': 166, 'stim': '/root/experiment/stim/con_tag.wav', 'iti': 11023}\n"
     ]
    },
    {
     "name": "stderr",
     "output_type": "stream",
     "text": [
      "2017-10-24 01:13:15,718 root         INFO     Running trial {'tr_num': 167, 'stim': '/root/experiment/stim/bos_rev_tag.wav', 'iti': 8876}\n"
     ]
    },
    {
     "name": "stdout",
     "output_type": "stream",
     "text": [
      "{'tr_num': 167, 'stim': '/root/experiment/stim/bos_rev_tag.wav', 'iti': 8876}\n"
     ]
    },
    {
     "name": "stderr",
     "output_type": "stream",
     "text": [
      "2017-10-24 01:13:25,804 root         INFO     Running trial {'tr_num': 168, 'stim': '/root/experiment/stim/bos_rev_tag.wav', 'iti': 7980}\n"
     ]
    },
    {
     "name": "stdout",
     "output_type": "stream",
     "text": [
      "{'tr_num': 168, 'stim': '/root/experiment/stim/bos_rev_tag.wav', 'iti': 7980}\n"
     ]
    },
    {
     "name": "stderr",
     "output_type": "stream",
     "text": [
      "2017-10-24 01:13:35,058 root         INFO     Running trial {'tr_num': 169, 'stim': '/root/experiment/stim/bos_tag.wav', 'iti': 11886}\n"
     ]
    },
    {
     "name": "stdout",
     "output_type": "stream",
     "text": [
      "{'tr_num': 169, 'stim': '/root/experiment/stim/bos_tag.wav', 'iti': 11886}\n"
     ]
    },
    {
     "name": "stderr",
     "output_type": "stream",
     "text": [
      "2017-10-24 01:13:48,189 root         INFO     Running trial {'tr_num': 170, 'stim': '/root/experiment/stim/bos_rev_tag.wav', 'iti': 9425}\n"
     ]
    },
    {
     "name": "stdout",
     "output_type": "stream",
     "text": [
      "{'tr_num': 170, 'stim': '/root/experiment/stim/bos_rev_tag.wav', 'iti': 9425}\n"
     ]
    },
    {
     "name": "stderr",
     "output_type": "stream",
     "text": [
      "2017-10-24 01:13:58,911 root         INFO     Running trial {'tr_num': 171, 'stim': '/root/experiment/stim/bos_rev_tag.wav', 'iti': 5052}\n"
     ]
    },
    {
     "name": "stdout",
     "output_type": "stream",
     "text": [
      "{'tr_num': 171, 'stim': '/root/experiment/stim/bos_rev_tag.wav', 'iti': 5052}\n"
     ]
    },
    {
     "name": "stderr",
     "output_type": "stream",
     "text": [
      "2017-10-24 01:14:05,355 root         INFO     Running trial {'tr_num': 172, 'stim': '/root/experiment/stim/bos_tag.wav', 'iti': 10784}\n"
     ]
    },
    {
     "name": "stdout",
     "output_type": "stream",
     "text": [
      "{'tr_num': 172, 'stim': '/root/experiment/stim/bos_tag.wav', 'iti': 10784}\n"
     ]
    },
    {
     "name": "stderr",
     "output_type": "stream",
     "text": [
      "2017-10-24 01:14:17,462 root         INFO     Running trial {'tr_num': 173, 'stim': '/root/experiment/stim/bos_syn_tag.wav', 'iti': 11135}\n"
     ]
    },
    {
     "name": "stdout",
     "output_type": "stream",
     "text": [
      "{'tr_num': 173, 'stim': '/root/experiment/stim/bos_syn_tag.wav', 'iti': 11135}\n"
     ]
    },
    {
     "name": "stderr",
     "output_type": "stream",
     "text": [
      "2017-10-24 01:14:29,889 root         INFO     Running trial {'tr_num': 174, 'stim': '/root/experiment/stim/con_tag.wav', 'iti': 8573}\n"
     ]
    },
    {
     "name": "stdout",
     "output_type": "stream",
     "text": [
      "{'tr_num': 174, 'stim': '/root/experiment/stim/con_tag.wav', 'iti': 8573}\n"
     ]
    },
    {
     "name": "stderr",
     "output_type": "stream",
     "text": [
      "2017-10-24 01:14:39,748 root         INFO     Running trial {'tr_num': 175, 'stim': '/root/experiment/stim/bos_syn_tag.wav', 'iti': 11888}\n"
     ]
    },
    {
     "name": "stdout",
     "output_type": "stream",
     "text": [
      "{'tr_num': 175, 'stim': '/root/experiment/stim/bos_syn_tag.wav', 'iti': 11888}\n"
     ]
    },
    {
     "name": "stderr",
     "output_type": "stream",
     "text": [
      "2017-10-24 01:14:53,065 root         INFO     Running trial {'tr_num': 176, 'stim': '/root/experiment/stim/bos_syn_tag.wav', 'iti': 7436}\n"
     ]
    },
    {
     "name": "stdout",
     "output_type": "stream",
     "text": [
      "{'tr_num': 176, 'stim': '/root/experiment/stim/bos_syn_tag.wav', 'iti': 7436}\n"
     ]
    },
    {
     "name": "stderr",
     "output_type": "stream",
     "text": [
      "2017-10-24 01:15:01,732 root         INFO     Running trial {'tr_num': 177, 'stim': '/root/experiment/stim/con_tag.wav', 'iti': 9229}\n"
     ]
    },
    {
     "name": "stdout",
     "output_type": "stream",
     "text": [
      "{'tr_num': 177, 'stim': '/root/experiment/stim/con_tag.wav', 'iti': 9229}\n"
     ]
    },
    {
     "name": "stderr",
     "output_type": "stream",
     "text": [
      "2017-10-24 01:15:12,172 root         INFO     Running trial {'tr_num': 178, 'stim': '/root/experiment/stim/bos_tag.wav', 'iti': 9966}\n"
     ]
    },
    {
     "name": "stdout",
     "output_type": "stream",
     "text": [
      "{'tr_num': 178, 'stim': '/root/experiment/stim/bos_tag.wav', 'iti': 9966}\n"
     ]
    },
    {
     "name": "stderr",
     "output_type": "stream",
     "text": [
      "2017-10-24 01:15:23,325 root         INFO     Running trial {'tr_num': 179, 'stim': '/root/experiment/stim/bos_rev_tag.wav', 'iti': 6120}\n"
     ]
    },
    {
     "name": "stdout",
     "output_type": "stream",
     "text": [
      "{'tr_num': 179, 'stim': '/root/experiment/stim/bos_rev_tag.wav', 'iti': 6120}\n"
     ]
    },
    {
     "name": "stderr",
     "output_type": "stream",
     "text": [
      "2017-10-24 01:15:30,780 root         INFO     Running trial {'tr_num': 180, 'stim': '/root/experiment/stim/bos_syn_tag.wav', 'iti': 5722}\n"
     ]
    },
    {
     "name": "stdout",
     "output_type": "stream",
     "text": [
      "{'tr_num': 180, 'stim': '/root/experiment/stim/bos_syn_tag.wav', 'iti': 5722}\n"
     ]
    },
    {
     "name": "stderr",
     "output_type": "stream",
     "text": [
      "2017-10-24 01:15:37,774 root         INFO     Running trial {'tr_num': 181, 'stim': '/root/experiment/stim/con_tag.wav', 'iti': 5333}\n"
     ]
    },
    {
     "name": "stdout",
     "output_type": "stream",
     "text": [
      "{'tr_num': 181, 'stim': '/root/experiment/stim/con_tag.wav', 'iti': 5333}\n"
     ]
    },
    {
     "name": "stderr",
     "output_type": "stream",
     "text": [
      "2017-10-24 01:15:44,252 root         INFO     Running trial {'tr_num': 182, 'stim': '/root/experiment/stim/con_tag.wav', 'iti': 5497}\n"
     ]
    },
    {
     "name": "stdout",
     "output_type": "stream",
     "text": [
      "{'tr_num': 182, 'stim': '/root/experiment/stim/con_tag.wav', 'iti': 5497}\n"
     ]
    },
    {
     "name": "stderr",
     "output_type": "stream",
     "text": [
      "2017-10-24 01:15:50,872 root         INFO     Running trial {'tr_num': 183, 'stim': '/root/experiment/stim/con_tag.wav', 'iti': 10132}\n"
     ]
    },
    {
     "name": "stdout",
     "output_type": "stream",
     "text": [
      "{'tr_num': 183, 'stim': '/root/experiment/stim/con_tag.wav', 'iti': 10132}\n"
     ]
    },
    {
     "name": "stderr",
     "output_type": "stream",
     "text": [
      "2017-10-24 01:16:02,370 root         INFO     Running trial {'tr_num': 184, 'stim': '/root/experiment/stim/bos_syn_tag.wav', 'iti': 10504}\n"
     ]
    },
    {
     "name": "stdout",
     "output_type": "stream",
     "text": [
      "{'tr_num': 184, 'stim': '/root/experiment/stim/bos_syn_tag.wav', 'iti': 10504}\n"
     ]
    },
    {
     "name": "stderr",
     "output_type": "stream",
     "text": [
      "2017-10-24 01:16:14,237 root         INFO     Running trial {'tr_num': 185, 'stim': '/root/experiment/stim/bos_syn_tag.wav', 'iti': 8997}\n"
     ]
    },
    {
     "name": "stdout",
     "output_type": "stream",
     "text": [
      "{'tr_num': 185, 'stim': '/root/experiment/stim/bos_syn_tag.wav', 'iti': 8997}\n"
     ]
    },
    {
     "name": "stderr",
     "output_type": "stream",
     "text": [
      "2017-10-24 01:16:24,452 root         INFO     Running trial {'tr_num': 186, 'stim': '/root/experiment/stim/bos_syn_tag.wav', 'iti': 9597}\n"
     ]
    },
    {
     "name": "stdout",
     "output_type": "stream",
     "text": [
      "{'tr_num': 186, 'stim': '/root/experiment/stim/bos_syn_tag.wav', 'iti': 9597}\n"
     ]
    },
    {
     "name": "stderr",
     "output_type": "stream",
     "text": [
      "2017-10-24 01:16:35,288 root         INFO     Running trial {'tr_num': 187, 'stim': '/root/experiment/stim/bos_tag.wav', 'iti': 10290}\n"
     ]
    },
    {
     "name": "stdout",
     "output_type": "stream",
     "text": [
      "{'tr_num': 187, 'stim': '/root/experiment/stim/bos_tag.wav', 'iti': 10290}\n"
     ]
    },
    {
     "name": "stderr",
     "output_type": "stream",
     "text": [
      "2017-10-24 01:16:46,804 root         INFO     Running trial {'tr_num': 188, 'stim': '/root/experiment/stim/bos_syn_tag.wav', 'iti': 10655}\n"
     ]
    },
    {
     "name": "stdout",
     "output_type": "stream",
     "text": [
      "{'tr_num': 188, 'stim': '/root/experiment/stim/bos_syn_tag.wav', 'iti': 10655}\n"
     ]
    },
    {
     "name": "stderr",
     "output_type": "stream",
     "text": [
      "2017-10-24 01:16:58,728 root         INFO     Running trial {'tr_num': 189, 'stim': '/root/experiment/stim/con_tag.wav', 'iti': 10398}\n"
     ]
    },
    {
     "name": "stdout",
     "output_type": "stream",
     "text": [
      "{'tr_num': 189, 'stim': '/root/experiment/stim/con_tag.wav', 'iti': 10398}\n"
     ]
    },
    {
     "name": "stderr",
     "output_type": "stream",
     "text": [
      "2017-10-24 01:17:10,486 root         INFO     Running trial {'tr_num': 190, 'stim': '/root/experiment/stim/bos_rev_tag.wav', 'iti': 5950}\n"
     ]
    },
    {
     "name": "stdout",
     "output_type": "stream",
     "text": [
      "{'tr_num': 190, 'stim': '/root/experiment/stim/bos_rev_tag.wav', 'iti': 5950}\n"
     ]
    },
    {
     "name": "stderr",
     "output_type": "stream",
     "text": [
      "2017-10-24 01:17:17,900 root         INFO     Running trial {'tr_num': 191, 'stim': '/root/experiment/stim/con_tag.wav', 'iti': 8766}\n"
     ]
    },
    {
     "name": "stdout",
     "output_type": "stream",
     "text": [
      "{'tr_num': 191, 'stim': '/root/experiment/stim/con_tag.wav', 'iti': 8766}\n"
     ]
    },
    {
     "name": "stderr",
     "output_type": "stream",
     "text": [
      "2017-10-24 01:17:28,036 root         INFO     Running trial {'tr_num': 192, 'stim': '/root/experiment/stim/bos_syn_tag.wav', 'iti': 7731}\n"
     ]
    },
    {
     "name": "stdout",
     "output_type": "stream",
     "text": [
      "{'tr_num': 192, 'stim': '/root/experiment/stim/bos_syn_tag.wav', 'iti': 7731}\n"
     ]
    },
    {
     "name": "stderr",
     "output_type": "stream",
     "text": [
      "2017-10-24 01:17:36,986 root         INFO     Running trial {'tr_num': 193, 'stim': '/root/experiment/stim/bos_tag.wav', 'iti': 10147}\n"
     ]
    },
    {
     "name": "stdout",
     "output_type": "stream",
     "text": [
      "{'tr_num': 193, 'stim': '/root/experiment/stim/bos_tag.wav', 'iti': 10147}\n"
     ]
    },
    {
     "name": "stderr",
     "output_type": "stream",
     "text": [
      "2017-10-24 01:17:48,640 root         INFO     Running trial {'tr_num': 194, 'stim': '/root/experiment/stim/bos_syn_tag.wav', 'iti': 8946}\n"
     ]
    },
    {
     "name": "stdout",
     "output_type": "stream",
     "text": [
      "{'tr_num': 194, 'stim': '/root/experiment/stim/bos_syn_tag.wav', 'iti': 8946}\n"
     ]
    },
    {
     "name": "stderr",
     "output_type": "stream",
     "text": [
      "2017-10-24 01:17:58,788 root         INFO     Running trial {'tr_num': 195, 'stim': '/root/experiment/stim/con_tag.wav', 'iti': 5984}\n"
     ]
    },
    {
     "name": "stdout",
     "output_type": "stream",
     "text": [
      "{'tr_num': 195, 'stim': '/root/experiment/stim/con_tag.wav', 'iti': 5984}\n"
     ]
    },
    {
     "name": "stderr",
     "output_type": "stream",
     "text": [
      "2017-10-24 01:18:05,934 root         INFO     Running trial {'tr_num': 196, 'stim': '/root/experiment/stim/bos_rev_tag.wav', 'iti': 5214}\n"
     ]
    },
    {
     "name": "stdout",
     "output_type": "stream",
     "text": [
      "{'tr_num': 196, 'stim': '/root/experiment/stim/bos_rev_tag.wav', 'iti': 5214}\n"
     ]
    },
    {
     "name": "stderr",
     "output_type": "stream",
     "text": [
      "2017-10-24 01:18:12,368 root         INFO     Running trial {'tr_num': 197, 'stim': '/root/experiment/stim/bos_tag.wav', 'iti': 8875}\n"
     ]
    },
    {
     "name": "stdout",
     "output_type": "stream",
     "text": [
      "{'tr_num': 197, 'stim': '/root/experiment/stim/bos_tag.wav', 'iti': 8875}\n"
     ]
    },
    {
     "name": "stderr",
     "output_type": "stream",
     "text": [
      "2017-10-24 01:18:22,494 root         INFO     Running trial {'tr_num': 198, 'stim': '/root/experiment/stim/bos_rev_tag.wav', 'iti': 9886}\n"
     ]
    },
    {
     "name": "stdout",
     "output_type": "stream",
     "text": [
      "{'tr_num': 198, 'stim': '/root/experiment/stim/bos_rev_tag.wav', 'iti': 9886}\n"
     ]
    },
    {
     "name": "stderr",
     "output_type": "stream",
     "text": [
      "2017-10-24 01:18:33,713 root         INFO     Running trial {'tr_num': 199, 'stim': '/root/experiment/stim/con_tag.wav', 'iti': 9720}\n"
     ]
    },
    {
     "name": "stdout",
     "output_type": "stream",
     "text": [
      "{'tr_num': 199, 'stim': '/root/experiment/stim/con_tag.wav', 'iti': 9720}\n"
     ]
    },
    {
     "name": "stderr",
     "output_type": "stream",
     "text": [
      "2017-10-24 01:18:44,531 root         INFO     Running trial {'tr_num': 200, 'stim': '/root/experiment/stim/con_tag.wav', 'iti': 10177}\n"
     ]
    },
    {
     "name": "stdout",
     "output_type": "stream",
     "text": [
      "{'tr_num': 200, 'stim': '/root/experiment/stim/con_tag.wav', 'iti': 10177}\n"
     ]
    },
    {
     "name": "stderr",
     "output_type": "stream",
     "text": [
      "2017-10-24 01:18:55,805 root         INFO     Running trial {'tr_num': 201, 'stim': '/root/experiment/stim/bos_rev_tag.wav', 'iti': 8830}\n"
     ]
    },
    {
     "name": "stdout",
     "output_type": "stream",
     "text": [
      "{'tr_num': 201, 'stim': '/root/experiment/stim/bos_rev_tag.wav', 'iti': 8830}\n"
     ]
    },
    {
     "name": "stderr",
     "output_type": "stream",
     "text": [
      "2017-10-24 01:19:06,054 root         INFO     Running trial {'tr_num': 202, 'stim': '/root/experiment/stim/con_tag.wav', 'iti': 10132}\n"
     ]
    },
    {
     "name": "stdout",
     "output_type": "stream",
     "text": [
      "{'tr_num': 202, 'stim': '/root/experiment/stim/con_tag.wav', 'iti': 10132}\n"
     ]
    },
    {
     "name": "stderr",
     "output_type": "stream",
     "text": [
      "2017-10-24 01:19:17,322 root         INFO     Running trial {'tr_num': 203, 'stim': '/root/experiment/stim/bos_syn_tag.wav', 'iti': 6538}\n"
     ]
    },
    {
     "name": "stdout",
     "output_type": "stream",
     "text": [
      "{'tr_num': 203, 'stim': '/root/experiment/stim/bos_syn_tag.wav', 'iti': 6538}\n"
     ]
    },
    {
     "name": "stderr",
     "output_type": "stream",
     "text": [
      "2017-10-24 01:19:25,112 root         INFO     Running trial {'tr_num': 204, 'stim': '/root/experiment/stim/con_tag.wav', 'iti': 7349}\n"
     ]
    },
    {
     "name": "stdout",
     "output_type": "stream",
     "text": [
      "{'tr_num': 204, 'stim': '/root/experiment/stim/con_tag.wav', 'iti': 7349}\n"
     ]
    },
    {
     "name": "stderr",
     "output_type": "stream",
     "text": [
      "2017-10-24 01:19:33,729 root         INFO     Running trial {'tr_num': 205, 'stim': '/root/experiment/stim/bos_syn_tag.wav', 'iti': 6547}\n"
     ]
    },
    {
     "name": "stdout",
     "output_type": "stream",
     "text": [
      "{'tr_num': 205, 'stim': '/root/experiment/stim/bos_syn_tag.wav', 'iti': 6547}\n"
     ]
    },
    {
     "name": "stderr",
     "output_type": "stream",
     "text": [
      "2017-10-24 01:19:41,484 root         INFO     Running trial {'tr_num': 206, 'stim': '/root/experiment/stim/bos_tag.wav', 'iti': 8068}\n"
     ]
    },
    {
     "name": "stdout",
     "output_type": "stream",
     "text": [
      "{'tr_num': 206, 'stim': '/root/experiment/stim/bos_tag.wav', 'iti': 8068}\n"
     ]
    },
    {
     "name": "stderr",
     "output_type": "stream",
     "text": [
      "2017-10-24 01:19:51,136 root         INFO     Running trial {'tr_num': 207, 'stim': '/root/experiment/stim/bos_tag.wav', 'iti': 8117}\n"
     ]
    },
    {
     "name": "stdout",
     "output_type": "stream",
     "text": [
      "{'tr_num': 207, 'stim': '/root/experiment/stim/bos_tag.wav', 'iti': 8117}\n"
     ]
    },
    {
     "name": "stderr",
     "output_type": "stream",
     "text": [
      "2017-10-24 01:20:00,510 root         INFO     Running trial {'tr_num': 208, 'stim': '/root/experiment/stim/bos_syn_tag.wav', 'iti': 11573}\n"
     ]
    },
    {
     "name": "stdout",
     "output_type": "stream",
     "text": [
      "{'tr_num': 208, 'stim': '/root/experiment/stim/bos_syn_tag.wav', 'iti': 11573}\n"
     ]
    },
    {
     "name": "stderr",
     "output_type": "stream",
     "text": [
      "2017-10-24 01:20:13,349 root         INFO     Running trial {'tr_num': 209, 'stim': '/root/experiment/stim/bos_syn_tag.wav', 'iti': 10665}\n"
     ]
    },
    {
     "name": "stdout",
     "output_type": "stream",
     "text": [
      "{'tr_num': 209, 'stim': '/root/experiment/stim/bos_syn_tag.wav', 'iti': 10665}\n"
     ]
    },
    {
     "name": "stderr",
     "output_type": "stream",
     "text": [
      "2017-10-24 01:20:25,312 root         INFO     Running trial {'tr_num': 210, 'stim': '/root/experiment/stim/con_tag.wav', 'iti': 6398}\n"
     ]
    },
    {
     "name": "stdout",
     "output_type": "stream",
     "text": [
      "{'tr_num': 210, 'stim': '/root/experiment/stim/con_tag.wav', 'iti': 6398}\n"
     ]
    },
    {
     "name": "stderr",
     "output_type": "stream",
     "text": [
      "2017-10-24 01:20:32,874 root         INFO     Running trial {'tr_num': 211, 'stim': '/root/experiment/stim/bos_syn_tag.wav', 'iti': 6223}\n"
     ]
    },
    {
     "name": "stdout",
     "output_type": "stream",
     "text": [
      "{'tr_num': 211, 'stim': '/root/experiment/stim/bos_syn_tag.wav', 'iti': 6223}\n"
     ]
    },
    {
     "name": "stderr",
     "output_type": "stream",
     "text": [
      "2017-10-24 01:20:40,376 root         INFO     Running trial {'tr_num': 212, 'stim': '/root/experiment/stim/bos_syn_tag.wav', 'iti': 9337}\n"
     ]
    },
    {
     "name": "stdout",
     "output_type": "stream",
     "text": [
      "{'tr_num': 212, 'stim': '/root/experiment/stim/bos_syn_tag.wav', 'iti': 9337}\n"
     ]
    },
    {
     "name": "stderr",
     "output_type": "stream",
     "text": [
      "2017-10-24 01:20:51,223 root         INFO     Running trial {'tr_num': 213, 'stim': '/root/experiment/stim/bos_tag.wav', 'iti': 8424}\n"
     ]
    },
    {
     "name": "stdout",
     "output_type": "stream",
     "text": [
      "{'tr_num': 213, 'stim': '/root/experiment/stim/bos_tag.wav', 'iti': 8424}\n"
     ]
    },
    {
     "name": "stderr",
     "output_type": "stream",
     "text": [
      "2017-10-24 01:21:00,867 root         INFO     Running trial {'tr_num': 214, 'stim': '/root/experiment/stim/bos_tag.wav', 'iti': 7540}\n"
     ]
    },
    {
     "name": "stdout",
     "output_type": "stream",
     "text": [
      "{'tr_num': 214, 'stim': '/root/experiment/stim/bos_tag.wav', 'iti': 7540}\n"
     ]
    },
    {
     "name": "stderr",
     "output_type": "stream",
     "text": [
      "2017-10-24 01:21:09,765 root         INFO     Running trial {'tr_num': 215, 'stim': '/root/experiment/stim/bos_tag.wav', 'iti': 11992}\n"
     ]
    },
    {
     "name": "stdout",
     "output_type": "stream",
     "text": [
      "{'tr_num': 215, 'stim': '/root/experiment/stim/bos_tag.wav', 'iti': 11992}\n"
     ]
    },
    {
     "name": "stderr",
     "output_type": "stream",
     "text": [
      "2017-10-24 01:21:23,081 root         INFO     Running trial {'tr_num': 216, 'stim': '/root/experiment/stim/bos_tag.wav', 'iti': 5824}\n"
     ]
    },
    {
     "name": "stdout",
     "output_type": "stream",
     "text": [
      "{'tr_num': 216, 'stim': '/root/experiment/stim/bos_tag.wav', 'iti': 5824}\n"
     ]
    },
    {
     "name": "stderr",
     "output_type": "stream",
     "text": [
      "2017-10-24 01:21:30,316 root         INFO     Running trial {'tr_num': 217, 'stim': '/root/experiment/stim/bos_tag.wav', 'iti': 11940}\n"
     ]
    },
    {
     "name": "stdout",
     "output_type": "stream",
     "text": [
      "{'tr_num': 217, 'stim': '/root/experiment/stim/bos_tag.wav', 'iti': 11940}\n"
     ]
    },
    {
     "name": "stderr",
     "output_type": "stream",
     "text": [
      "2017-10-24 01:21:43,642 root         INFO     Running trial {'tr_num': 218, 'stim': '/root/experiment/stim/con_tag.wav', 'iti': 10555}\n"
     ]
    },
    {
     "name": "stdout",
     "output_type": "stream",
     "text": [
      "{'tr_num': 218, 'stim': '/root/experiment/stim/con_tag.wav', 'iti': 10555}\n"
     ]
    },
    {
     "name": "stderr",
     "output_type": "stream",
     "text": [
      "2017-10-24 01:21:55,332 root         INFO     Running trial {'tr_num': 219, 'stim': '/root/experiment/stim/bos_rev_tag.wav', 'iti': 7633}\n"
     ]
    },
    {
     "name": "stdout",
     "output_type": "stream",
     "text": [
      "{'tr_num': 219, 'stim': '/root/experiment/stim/bos_rev_tag.wav', 'iti': 7633}\n"
     ]
    },
    {
     "name": "stderr",
     "output_type": "stream",
     "text": [
      "2017-10-24 01:22:04,491 root         INFO     Running trial {'tr_num': 220, 'stim': '/root/experiment/stim/con_tag.wav', 'iti': 5417}\n"
     ]
    },
    {
     "name": "stdout",
     "output_type": "stream",
     "text": [
      "{'tr_num': 220, 'stim': '/root/experiment/stim/con_tag.wav', 'iti': 5417}\n"
     ]
    },
    {
     "name": "stderr",
     "output_type": "stream",
     "text": [
      "2017-10-24 01:22:11,752 root         INFO     Running trial {'tr_num': 221, 'stim': '/root/experiment/stim/con_tag.wav', 'iti': 9458}\n"
     ]
    },
    {
     "name": "stdout",
     "output_type": "stream",
     "text": [
      "{'tr_num': 221, 'stim': '/root/experiment/stim/con_tag.wav', 'iti': 9458}\n"
     ]
    },
    {
     "name": "stderr",
     "output_type": "stream",
     "text": [
      "2017-10-24 01:22:22,336 root         INFO     Running trial {'tr_num': 222, 'stim': '/root/experiment/stim/bos_rev_tag.wav', 'iti': 8201}\n"
     ]
    },
    {
     "name": "stdout",
     "output_type": "stream",
     "text": [
      "{'tr_num': 222, 'stim': '/root/experiment/stim/bos_rev_tag.wav', 'iti': 8201}\n"
     ]
    },
    {
     "name": "stderr",
     "output_type": "stream",
     "text": [
      "2017-10-24 01:22:31,841 root         INFO     Running trial {'tr_num': 223, 'stim': '/root/experiment/stim/bos_syn_tag.wav', 'iti': 7871}\n"
     ]
    },
    {
     "name": "stdout",
     "output_type": "stream",
     "text": [
      "{'tr_num': 223, 'stim': '/root/experiment/stim/bos_syn_tag.wav', 'iti': 7871}\n"
     ]
    },
    {
     "name": "stderr",
     "output_type": "stream",
     "text": [
      "2017-10-24 01:22:40,918 root         INFO     Running trial {'tr_num': 224, 'stim': '/root/experiment/stim/con_tag.wav', 'iti': 9849}\n"
     ]
    },
    {
     "name": "stdout",
     "output_type": "stream",
     "text": [
      "{'tr_num': 224, 'stim': '/root/experiment/stim/con_tag.wav', 'iti': 9849}\n"
     ]
    },
    {
     "name": "stderr",
     "output_type": "stream",
     "text": [
      "2017-10-24 01:22:53,015 root         INFO     Running trial {'tr_num': 225, 'stim': '/root/experiment/stim/con_tag.wav', 'iti': 8143}\n"
     ]
    },
    {
     "name": "stdout",
     "output_type": "stream",
     "text": [
      "{'tr_num': 225, 'stim': '/root/experiment/stim/con_tag.wav', 'iti': 8143}\n"
     ]
    },
    {
     "name": "stderr",
     "output_type": "stream",
     "text": [
      "2017-10-24 01:23:02,354 root         INFO     Running trial {'tr_num': 226, 'stim': '/root/experiment/stim/con_tag.wav', 'iti': 11740}\n"
     ]
    },
    {
     "name": "stdout",
     "output_type": "stream",
     "text": [
      "{'tr_num': 226, 'stim': '/root/experiment/stim/con_tag.wav', 'iti': 11740}\n"
     ]
    },
    {
     "name": "stderr",
     "output_type": "stream",
     "text": [
      "2017-10-24 01:23:15,213 root         INFO     Running trial {'tr_num': 227, 'stim': '/root/experiment/stim/con_tag.wav', 'iti': 7640}\n"
     ]
    },
    {
     "name": "stdout",
     "output_type": "stream",
     "text": [
      "{'tr_num': 227, 'stim': '/root/experiment/stim/con_tag.wav', 'iti': 7640}\n"
     ]
    },
    {
     "name": "stderr",
     "output_type": "stream",
     "text": [
      "2017-10-24 01:23:24,005 root         INFO     Running trial {'tr_num': 228, 'stim': '/root/experiment/stim/bos_rev_tag.wav', 'iti': 11936}\n"
     ]
    },
    {
     "name": "stdout",
     "output_type": "stream",
     "text": [
      "{'tr_num': 228, 'stim': '/root/experiment/stim/bos_rev_tag.wav', 'iti': 11936}\n"
     ]
    },
    {
     "name": "stderr",
     "output_type": "stream",
     "text": [
      "2017-10-24 01:23:37,257 root         INFO     Running trial {'tr_num': 229, 'stim': '/root/experiment/stim/bos_syn_tag.wav', 'iti': 10310}\n"
     ]
    },
    {
     "name": "stdout",
     "output_type": "stream",
     "text": [
      "{'tr_num': 229, 'stim': '/root/experiment/stim/bos_syn_tag.wav', 'iti': 10310}\n"
     ]
    },
    {
     "name": "stderr",
     "output_type": "stream",
     "text": [
      "2017-10-24 01:23:48,859 root         INFO     Running trial {'tr_num': 230, 'stim': '/root/experiment/stim/bos_tag.wav', 'iti': 7858}\n"
     ]
    },
    {
     "name": "stdout",
     "output_type": "stream",
     "text": [
      "{'tr_num': 230, 'stim': '/root/experiment/stim/bos_tag.wav', 'iti': 7858}\n"
     ]
    },
    {
     "name": "stderr",
     "output_type": "stream",
     "text": [
      "2017-10-24 01:23:58,038 root         INFO     Running trial {'tr_num': 231, 'stim': '/root/experiment/stim/con_tag.wav', 'iti': 8099}\n"
     ]
    },
    {
     "name": "stdout",
     "output_type": "stream",
     "text": [
      "{'tr_num': 231, 'stim': '/root/experiment/stim/con_tag.wav', 'iti': 8099}\n"
     ]
    },
    {
     "name": "stderr",
     "output_type": "stream",
     "text": [
      "2017-10-24 01:24:07,250 root         INFO     Running trial {'tr_num': 232, 'stim': '/root/experiment/stim/bos_syn_tag.wav', 'iti': 8593}\n"
     ]
    },
    {
     "name": "stdout",
     "output_type": "stream",
     "text": [
      "{'tr_num': 232, 'stim': '/root/experiment/stim/bos_syn_tag.wav', 'iti': 8593}\n"
     ]
    },
    {
     "name": "stderr",
     "output_type": "stream",
     "text": [
      "2017-10-24 01:24:17,067 root         INFO     Running trial {'tr_num': 233, 'stim': '/root/experiment/stim/con_tag.wav', 'iti': 10545}\n"
     ]
    },
    {
     "name": "stdout",
     "output_type": "stream",
     "text": [
      "{'tr_num': 233, 'stim': '/root/experiment/stim/con_tag.wav', 'iti': 10545}\n"
     ]
    },
    {
     "name": "stderr",
     "output_type": "stream",
     "text": [
      "2017-10-24 01:24:28,798 root         INFO     Running trial {'tr_num': 234, 'stim': '/root/experiment/stim/bos_tag.wav', 'iti': 11753}\n"
     ]
    },
    {
     "name": "stdout",
     "output_type": "stream",
     "text": [
      "{'tr_num': 234, 'stim': '/root/experiment/stim/bos_tag.wav', 'iti': 11753}\n"
     ]
    },
    {
     "name": "stderr",
     "output_type": "stream",
     "text": [
      "2017-10-24 01:24:41,758 root         INFO     Running trial {'tr_num': 235, 'stim': '/root/experiment/stim/con_tag.wav', 'iti': 11930}\n"
     ]
    },
    {
     "name": "stdout",
     "output_type": "stream",
     "text": [
      "{'tr_num': 235, 'stim': '/root/experiment/stim/con_tag.wav', 'iti': 11930}\n"
     ]
    },
    {
     "name": "stderr",
     "output_type": "stream",
     "text": [
      "2017-10-24 01:24:55,117 root         INFO     Running trial {'tr_num': 236, 'stim': '/root/experiment/stim/bos_syn_tag.wav', 'iti': 5161}\n"
     ]
    },
    {
     "name": "stdout",
     "output_type": "stream",
     "text": [
      "{'tr_num': 236, 'stim': '/root/experiment/stim/bos_syn_tag.wav', 'iti': 5161}\n"
     ]
    },
    {
     "name": "stderr",
     "output_type": "stream",
     "text": [
      "2017-10-24 01:25:01,522 root         INFO     Running trial {'tr_num': 237, 'stim': '/root/experiment/stim/bos_tag.wav', 'iti': 6257}\n"
     ]
    },
    {
     "name": "stdout",
     "output_type": "stream",
     "text": [
      "{'tr_num': 237, 'stim': '/root/experiment/stim/bos_tag.wav', 'iti': 6257}\n"
     ]
    },
    {
     "name": "stderr",
     "output_type": "stream",
     "text": [
      "2017-10-24 01:25:09,313 root         INFO     Running trial {'tr_num': 238, 'stim': '/root/experiment/stim/bos_tag.wav', 'iti': 11986}\n"
     ]
    },
    {
     "name": "stdout",
     "output_type": "stream",
     "text": [
      "{'tr_num': 238, 'stim': '/root/experiment/stim/bos_tag.wav', 'iti': 11986}\n"
     ]
    },
    {
     "name": "stderr",
     "output_type": "stream",
     "text": [
      "2017-10-24 01:25:22,945 root         INFO     Running trial {'tr_num': 239, 'stim': '/root/experiment/stim/bos_rev_tag.wav', 'iti': 6273}\n"
     ]
    },
    {
     "name": "stdout",
     "output_type": "stream",
     "text": [
      "{'tr_num': 239, 'stim': '/root/experiment/stim/bos_rev_tag.wav', 'iti': 6273}\n"
     ]
    },
    {
     "name": "stderr",
     "output_type": "stream",
     "text": [
      "2017-10-24 01:25:30,418 root         INFO     Running trial {'tr_num': 240, 'stim': '/root/experiment/stim/bos_rev_tag.wav', 'iti': 8218}\n"
     ]
    },
    {
     "name": "stdout",
     "output_type": "stream",
     "text": [
      "{'tr_num': 240, 'stim': '/root/experiment/stim/bos_rev_tag.wav', 'iti': 8218}\n"
     ]
    },
    {
     "name": "stderr",
     "output_type": "stream",
     "text": [
      "2017-10-24 01:25:40,280 root         INFO     Running trial {'tr_num': 241, 'stim': '/root/experiment/stim/bos_tag.wav', 'iti': 7513}\n"
     ]
    },
    {
     "name": "stdout",
     "output_type": "stream",
     "text": [
      "{'tr_num': 241, 'stim': '/root/experiment/stim/bos_tag.wav', 'iti': 7513}\n"
     ]
    },
    {
     "name": "stderr",
     "output_type": "stream",
     "text": [
      "2017-10-24 01:25:49,064 root         INFO     Running trial {'tr_num': 242, 'stim': '/root/experiment/stim/con_tag.wav', 'iti': 5805}\n"
     ]
    },
    {
     "name": "stdout",
     "output_type": "stream",
     "text": [
      "{'tr_num': 242, 'stim': '/root/experiment/stim/con_tag.wav', 'iti': 5805}\n"
     ]
    },
    {
     "name": "stderr",
     "output_type": "stream",
     "text": [
      "2017-10-24 01:25:56,081 root         INFO     Running trial {'tr_num': 243, 'stim': '/root/experiment/stim/bos_tag.wav', 'iti': 8038}\n"
     ]
    },
    {
     "name": "stdout",
     "output_type": "stream",
     "text": [
      "{'tr_num': 243, 'stim': '/root/experiment/stim/bos_tag.wav', 'iti': 8038}\n"
     ]
    },
    {
     "name": "stderr",
     "output_type": "stream",
     "text": [
      "2017-10-24 01:26:05,325 root         INFO     Running trial {'tr_num': 244, 'stim': '/root/experiment/stim/bos_rev_tag.wav', 'iti': 7149}\n"
     ]
    },
    {
     "name": "stdout",
     "output_type": "stream",
     "text": [
      "{'tr_num': 244, 'stim': '/root/experiment/stim/bos_rev_tag.wav', 'iti': 7149}\n"
     ]
    },
    {
     "name": "stderr",
     "output_type": "stream",
     "text": [
      "2017-10-24 01:26:13,722 root         INFO     Running trial {'tr_num': 245, 'stim': '/root/experiment/stim/bos_rev_tag.wav', 'iti': 8550}\n"
     ]
    },
    {
     "name": "stdout",
     "output_type": "stream",
     "text": [
      "{'tr_num': 245, 'stim': '/root/experiment/stim/bos_rev_tag.wav', 'iti': 8550}\n"
     ]
    },
    {
     "name": "stderr",
     "output_type": "stream",
     "text": [
      "2017-10-24 01:26:23,500 root         INFO     Running trial {'tr_num': 246, 'stim': '/root/experiment/stim/con_tag.wav', 'iti': 10371}\n"
     ]
    },
    {
     "name": "stdout",
     "output_type": "stream",
     "text": [
      "{'tr_num': 246, 'stim': '/root/experiment/stim/con_tag.wav', 'iti': 10371}\n"
     ]
    },
    {
     "name": "stderr",
     "output_type": "stream",
     "text": [
      "2017-10-24 01:26:34,981 root         INFO     Running trial {'tr_num': 247, 'stim': '/root/experiment/stim/bos_syn_tag.wav', 'iti': 6537}\n"
     ]
    },
    {
     "name": "stdout",
     "output_type": "stream",
     "text": [
      "{'tr_num': 247, 'stim': '/root/experiment/stim/bos_syn_tag.wav', 'iti': 6537}\n"
     ]
    },
    {
     "name": "stderr",
     "output_type": "stream",
     "text": [
      "2017-10-24 01:26:42,749 root         INFO     Running trial {'tr_num': 248, 'stim': '/root/experiment/stim/con_tag.wav', 'iti': 8390}\n"
     ]
    },
    {
     "name": "stdout",
     "output_type": "stream",
     "text": [
      "{'tr_num': 248, 'stim': '/root/experiment/stim/con_tag.wav', 'iti': 8390}\n"
     ]
    },
    {
     "name": "stderr",
     "output_type": "stream",
     "text": [
      "2017-10-24 01:26:52,436 root         INFO     Running trial {'tr_num': 249, 'stim': '/root/experiment/stim/con_tag.wav', 'iti': 8492}\n"
     ]
    },
    {
     "name": "stdout",
     "output_type": "stream",
     "text": [
      "{'tr_num': 249, 'stim': '/root/experiment/stim/con_tag.wav', 'iti': 8492}\n"
     ]
    },
    {
     "name": "stderr",
     "output_type": "stream",
     "text": [
      "2017-10-24 01:27:02,043 root         INFO     Running trial {'tr_num': 250, 'stim': '/root/experiment/stim/bos_tag.wav', 'iti': 11405}\n"
     ]
    },
    {
     "name": "stdout",
     "output_type": "stream",
     "text": [
      "{'tr_num': 250, 'stim': '/root/experiment/stim/bos_tag.wav', 'iti': 11405}\n"
     ]
    },
    {
     "name": "stderr",
     "output_type": "stream",
     "text": [
      "2017-10-24 01:27:14,830 root         INFO     Running trial {'tr_num': 251, 'stim': '/root/experiment/stim/bos_syn_tag.wav', 'iti': 11763}\n"
     ]
    },
    {
     "name": "stdout",
     "output_type": "stream",
     "text": [
      "{'tr_num': 251, 'stim': '/root/experiment/stim/bos_syn_tag.wav', 'iti': 11763}\n"
     ]
    },
    {
     "name": "stderr",
     "output_type": "stream",
     "text": [
      "2017-10-24 01:27:27,801 root         INFO     Running trial {'tr_num': 252, 'stim': '/root/experiment/stim/bos_tag.wav', 'iti': 11469}\n"
     ]
    },
    {
     "name": "stdout",
     "output_type": "stream",
     "text": [
      "{'tr_num': 252, 'stim': '/root/experiment/stim/bos_tag.wav', 'iti': 11469}\n"
     ]
    },
    {
     "name": "stderr",
     "output_type": "stream",
     "text": [
      "2017-10-24 01:27:40,497 root         INFO     Running trial {'tr_num': 253, 'stim': '/root/experiment/stim/con_tag.wav', 'iti': 8930}\n"
     ]
    },
    {
     "name": "stdout",
     "output_type": "stream",
     "text": [
      "{'tr_num': 253, 'stim': '/root/experiment/stim/con_tag.wav', 'iti': 8930}\n"
     ]
    },
    {
     "name": "stderr",
     "output_type": "stream",
     "text": [
      "2017-10-24 01:27:50,568 root         INFO     Running trial {'tr_num': 254, 'stim': '/root/experiment/stim/bos_syn_tag.wav', 'iti': 9732}\n"
     ]
    },
    {
     "name": "stdout",
     "output_type": "stream",
     "text": [
      "{'tr_num': 254, 'stim': '/root/experiment/stim/bos_syn_tag.wav', 'iti': 9732}\n"
     ]
    },
    {
     "name": "stderr",
     "output_type": "stream",
     "text": [
      "2017-10-24 01:28:01,555 root         INFO     Running trial {'tr_num': 255, 'stim': '/root/experiment/stim/bos_rev_tag.wav', 'iti': 9918}\n"
     ]
    },
    {
     "name": "stdout",
     "output_type": "stream",
     "text": [
      "{'tr_num': 255, 'stim': '/root/experiment/stim/bos_rev_tag.wav', 'iti': 9918}\n"
     ]
    },
    {
     "name": "stderr",
     "output_type": "stream",
     "text": [
      "2017-10-24 01:28:12,695 root         INFO     Running trial {'tr_num': 256, 'stim': '/root/experiment/stim/con_tag.wav', 'iti': 8305}\n"
     ]
    },
    {
     "name": "stdout",
     "output_type": "stream",
     "text": [
      "{'tr_num': 256, 'stim': '/root/experiment/stim/con_tag.wav', 'iti': 8305}\n"
     ]
    },
    {
     "name": "stderr",
     "output_type": "stream",
     "text": [
      "2017-10-24 01:28:22,156 root         INFO     Running trial {'tr_num': 257, 'stim': '/root/experiment/stim/bos_syn_tag.wav', 'iti': 10921}\n"
     ]
    },
    {
     "name": "stdout",
     "output_type": "stream",
     "text": [
      "{'tr_num': 257, 'stim': '/root/experiment/stim/bos_syn_tag.wav', 'iti': 10921}\n"
     ]
    },
    {
     "name": "stderr",
     "output_type": "stream",
     "text": [
      "2017-10-24 01:28:34,411 root         INFO     Running trial {'tr_num': 258, 'stim': '/root/experiment/stim/bos_rev_tag.wav', 'iti': 7035}\n"
     ]
    },
    {
     "name": "stdout",
     "output_type": "stream",
     "text": [
      "{'tr_num': 258, 'stim': '/root/experiment/stim/bos_rev_tag.wav', 'iti': 7035}\n"
     ]
    },
    {
     "name": "stderr",
     "output_type": "stream",
     "text": [
      "2017-10-24 01:28:42,638 root         INFO     Running trial {'tr_num': 259, 'stim': '/root/experiment/stim/bos_rev_tag.wav', 'iti': 9099}\n"
     ]
    },
    {
     "name": "stdout",
     "output_type": "stream",
     "text": [
      "{'tr_num': 259, 'stim': '/root/experiment/stim/bos_rev_tag.wav', 'iti': 9099}\n"
     ]
    },
    {
     "name": "stderr",
     "output_type": "stream",
     "text": [
      "2017-10-24 01:28:53,016 root         INFO     Running trial {'tr_num': 260, 'stim': '/root/experiment/stim/bos_rev_tag.wav', 'iti': 5882}\n"
     ]
    },
    {
     "name": "stdout",
     "output_type": "stream",
     "text": [
      "{'tr_num': 260, 'stim': '/root/experiment/stim/bos_rev_tag.wav', 'iti': 5882}\n"
     ]
    },
    {
     "name": "stderr",
     "output_type": "stream",
     "text": [
      "2017-10-24 01:29:00,122 root         INFO     Running trial {'tr_num': 261, 'stim': '/root/experiment/stim/bos_rev_tag.wav', 'iti': 6239}\n"
     ]
    },
    {
     "name": "stdout",
     "output_type": "stream",
     "text": [
      "{'tr_num': 261, 'stim': '/root/experiment/stim/bos_rev_tag.wav', 'iti': 6239}\n"
     ]
    },
    {
     "name": "stderr",
     "output_type": "stream",
     "text": [
      "2017-10-24 01:29:07,732 root         INFO     Running trial {'tr_num': 262, 'stim': '/root/experiment/stim/bos_tag.wav', 'iti': 9467}\n"
     ]
    },
    {
     "name": "stdout",
     "output_type": "stream",
     "text": [
      "{'tr_num': 262, 'stim': '/root/experiment/stim/bos_tag.wav', 'iti': 9467}\n"
     ]
    },
    {
     "name": "stderr",
     "output_type": "stream",
     "text": [
      "2017-10-24 01:29:18,470 root         INFO     Running trial {'tr_num': 263, 'stim': '/root/experiment/stim/bos_syn_tag.wav', 'iti': 11063}\n"
     ]
    },
    {
     "name": "stdout",
     "output_type": "stream",
     "text": [
      "{'tr_num': 263, 'stim': '/root/experiment/stim/bos_syn_tag.wav', 'iti': 11063}\n"
     ]
    },
    {
     "name": "stderr",
     "output_type": "stream",
     "text": [
      "2017-10-24 01:29:30,801 root         INFO     Running trial {'tr_num': 264, 'stim': '/root/experiment/stim/bos_syn_tag.wav', 'iti': 6669}\n"
     ]
    },
    {
     "name": "stdout",
     "output_type": "stream",
     "text": [
      "{'tr_num': 264, 'stim': '/root/experiment/stim/bos_syn_tag.wav', 'iti': 6669}\n"
     ]
    },
    {
     "name": "stderr",
     "output_type": "stream",
     "text": [
      "2017-10-24 01:29:38,681 root         INFO     Running trial {'tr_num': 265, 'stim': '/root/experiment/stim/bos_syn_tag.wav', 'iti': 9789}\n"
     ]
    },
    {
     "name": "stdout",
     "output_type": "stream",
     "text": [
      "{'tr_num': 265, 'stim': '/root/experiment/stim/bos_syn_tag.wav', 'iti': 9789}\n"
     ]
    },
    {
     "name": "stderr",
     "output_type": "stream",
     "text": [
      "2017-10-24 01:29:49,714 root         INFO     Running trial {'tr_num': 266, 'stim': '/root/experiment/stim/con_tag.wav', 'iti': 8313}\n"
     ]
    },
    {
     "name": "stdout",
     "output_type": "stream",
     "text": [
      "{'tr_num': 266, 'stim': '/root/experiment/stim/con_tag.wav', 'iti': 8313}\n"
     ]
    },
    {
     "name": "stderr",
     "output_type": "stream",
     "text": [
      "2017-10-24 01:29:59,178 root         INFO     Running trial {'tr_num': 267, 'stim': '/root/experiment/stim/bos_tag.wav', 'iti': 5421}\n"
     ]
    },
    {
     "name": "stdout",
     "output_type": "stream",
     "text": [
      "{'tr_num': 267, 'stim': '/root/experiment/stim/bos_tag.wav', 'iti': 5421}\n"
     ]
    },
    {
     "name": "stderr",
     "output_type": "stream",
     "text": [
      "2017-10-24 01:30:06,075 root         INFO     Running trial {'tr_num': 268, 'stim': '/root/experiment/stim/bos_rev_tag.wav', 'iti': 11582}\n"
     ]
    },
    {
     "name": "stdout",
     "output_type": "stream",
     "text": [
      "{'tr_num': 268, 'stim': '/root/experiment/stim/bos_rev_tag.wav', 'iti': 11582}\n"
     ]
    },
    {
     "name": "stderr",
     "output_type": "stream",
     "text": [
      "2017-10-24 01:30:19,233 root         INFO     Running trial {'tr_num': 269, 'stim': '/root/experiment/stim/bos_tag.wav', 'iti': 9444}\n"
     ]
    },
    {
     "name": "stdout",
     "output_type": "stream",
     "text": [
      "{'tr_num': 269, 'stim': '/root/experiment/stim/bos_tag.wav', 'iti': 9444}\n"
     ]
    },
    {
     "name": "stderr",
     "output_type": "stream",
     "text": [
      "2017-10-24 01:30:30,017 root         INFO     Running trial {'tr_num': 270, 'stim': '/root/experiment/stim/bos_syn_tag.wav', 'iti': 8151}\n"
     ]
    },
    {
     "name": "stdout",
     "output_type": "stream",
     "text": [
      "{'tr_num': 270, 'stim': '/root/experiment/stim/bos_syn_tag.wav', 'iti': 8151}\n"
     ]
    },
    {
     "name": "stderr",
     "output_type": "stream",
     "text": [
      "2017-10-24 01:30:39,597 root         INFO     Running trial {'tr_num': 271, 'stim': '/root/experiment/stim/bos_syn_tag.wav', 'iti': 11382}\n"
     ]
    },
    {
     "name": "stdout",
     "output_type": "stream",
     "text": [
      "{'tr_num': 271, 'stim': '/root/experiment/stim/bos_syn_tag.wav', 'iti': 11382}\n"
     ]
    },
    {
     "name": "stderr",
     "output_type": "stream",
     "text": [
      "2017-10-24 01:30:52,311 root         INFO     Running trial {'tr_num': 272, 'stim': '/root/experiment/stim/bos_tag.wav', 'iti': 5914}\n"
     ]
    },
    {
     "name": "stdout",
     "output_type": "stream",
     "text": [
      "{'tr_num': 272, 'stim': '/root/experiment/stim/bos_tag.wav', 'iti': 5914}\n"
     ]
    },
    {
     "name": "stderr",
     "output_type": "stream",
     "text": [
      "2017-10-24 01:30:59,584 root         INFO     Running trial {'tr_num': 273, 'stim': '/root/experiment/stim/bos_tag.wav', 'iti': 9176}\n"
     ]
    },
    {
     "name": "stdout",
     "output_type": "stream",
     "text": [
      "{'tr_num': 273, 'stim': '/root/experiment/stim/bos_tag.wav', 'iti': 9176}\n"
     ]
    },
    {
     "name": "stderr",
     "output_type": "stream",
     "text": [
      "2017-10-24 01:31:10,093 root         INFO     Running trial {'tr_num': 274, 'stim': '/root/experiment/stim/bos_syn_tag.wav', 'iti': 7861}\n"
     ]
    },
    {
     "name": "stdout",
     "output_type": "stream",
     "text": [
      "{'tr_num': 274, 'stim': '/root/experiment/stim/bos_syn_tag.wav', 'iti': 7861}\n"
     ]
    },
    {
     "name": "stderr",
     "output_type": "stream",
     "text": [
      "2017-10-24 01:31:19,158 root         INFO     Running trial {'tr_num': 275, 'stim': '/root/experiment/stim/bos_rev_tag.wav', 'iti': 6871}\n"
     ]
    },
    {
     "name": "stdout",
     "output_type": "stream",
     "text": [
      "{'tr_num': 275, 'stim': '/root/experiment/stim/bos_rev_tag.wav', 'iti': 6871}\n"
     ]
    },
    {
     "name": "stderr",
     "output_type": "stream",
     "text": [
      "2017-10-24 01:31:27,301 root         INFO     Running trial {'tr_num': 276, 'stim': '/root/experiment/stim/bos_rev_tag.wav', 'iti': 10658}\n"
     ]
    },
    {
     "name": "stdout",
     "output_type": "stream",
     "text": [
      "{'tr_num': 276, 'stim': '/root/experiment/stim/bos_rev_tag.wav', 'iti': 10658}\n"
     ]
    },
    {
     "name": "stderr",
     "output_type": "stream",
     "text": [
      "2017-10-24 01:31:39,161 root         INFO     Running trial {'tr_num': 277, 'stim': '/root/experiment/stim/con_tag.wav', 'iti': 10110}\n"
     ]
    },
    {
     "name": "stdout",
     "output_type": "stream",
     "text": [
      "{'tr_num': 277, 'stim': '/root/experiment/stim/con_tag.wav', 'iti': 10110}\n"
     ]
    },
    {
     "name": "stderr",
     "output_type": "stream",
     "text": [
      "2017-10-24 01:31:50,366 root         INFO     Running trial {'tr_num': 278, 'stim': '/root/experiment/stim/bos_rev_tag.wav', 'iti': 10405}\n"
     ]
    },
    {
     "name": "stdout",
     "output_type": "stream",
     "text": [
      "{'tr_num': 278, 'stim': '/root/experiment/stim/bos_rev_tag.wav', 'iti': 10405}\n"
     ]
    },
    {
     "name": "stderr",
     "output_type": "stream",
     "text": [
      "2017-10-24 01:32:01,964 root         INFO     Running trial {'tr_num': 279, 'stim': '/root/experiment/stim/bos_tag.wav', 'iti': 6503}\n"
     ]
    },
    {
     "name": "stdout",
     "output_type": "stream",
     "text": [
      "{'tr_num': 279, 'stim': '/root/experiment/stim/bos_tag.wav', 'iti': 6503}\n"
     ]
    },
    {
     "name": "stderr",
     "output_type": "stream",
     "text": [
      "2017-10-24 01:32:09,736 root         INFO     Running trial {'tr_num': 280, 'stim': '/root/experiment/stim/bos_syn_tag.wav', 'iti': 6021}\n"
     ]
    },
    {
     "name": "stdout",
     "output_type": "stream",
     "text": [
      "{'tr_num': 280, 'stim': '/root/experiment/stim/bos_syn_tag.wav', 'iti': 6021}\n"
     ]
    },
    {
     "name": "stderr",
     "output_type": "stream",
     "text": [
      "2017-10-24 01:32:16,958 root         INFO     Running trial {'tr_num': 281, 'stim': '/root/experiment/stim/bos_rev_tag.wav', 'iti': 5141}\n"
     ]
    },
    {
     "name": "stdout",
     "output_type": "stream",
     "text": [
      "{'tr_num': 281, 'stim': '/root/experiment/stim/bos_rev_tag.wav', 'iti': 5141}\n"
     ]
    },
    {
     "name": "stderr",
     "output_type": "stream",
     "text": [
      "2017-10-24 01:32:23,313 root         INFO     Running trial {'tr_num': 282, 'stim': '/root/experiment/stim/bos_tag.wav', 'iti': 8466}\n"
     ]
    },
    {
     "name": "stdout",
     "output_type": "stream",
     "text": [
      "{'tr_num': 282, 'stim': '/root/experiment/stim/bos_tag.wav', 'iti': 8466}\n"
     ]
    },
    {
     "name": "stderr",
     "output_type": "stream",
     "text": [
      "2017-10-24 01:32:33,100 root         INFO     Running trial {'tr_num': 283, 'stim': '/root/experiment/stim/bos_rev_tag.wav', 'iti': 7788}\n"
     ]
    },
    {
     "name": "stdout",
     "output_type": "stream",
     "text": [
      "{'tr_num': 283, 'stim': '/root/experiment/stim/bos_rev_tag.wav', 'iti': 7788}\n"
     ]
    },
    {
     "name": "stderr",
     "output_type": "stream",
     "text": [
      "2017-10-24 01:32:42,278 root         INFO     Running trial {'tr_num': 284, 'stim': '/root/experiment/stim/bos_rev_tag.wav', 'iti': 10549}\n"
     ]
    },
    {
     "name": "stdout",
     "output_type": "stream",
     "text": [
      "{'tr_num': 284, 'stim': '/root/experiment/stim/bos_rev_tag.wav', 'iti': 10549}\n"
     ]
    },
    {
     "name": "stderr",
     "output_type": "stream",
     "text": [
      "2017-10-24 01:32:54,020 root         INFO     Running trial {'tr_num': 285, 'stim': '/root/experiment/stim/bos_rev_tag.wav', 'iti': 7709}\n"
     ]
    },
    {
     "name": "stdout",
     "output_type": "stream",
     "text": [
      "{'tr_num': 285, 'stim': '/root/experiment/stim/bos_rev_tag.wav', 'iti': 7709}\n"
     ]
    },
    {
     "name": "stderr",
     "output_type": "stream",
     "text": [
      "2017-10-24 01:33:02,987 root         INFO     Running trial {'tr_num': 286, 'stim': '/root/experiment/stim/bos_rev_tag.wav', 'iti': 9015}\n"
     ]
    },
    {
     "name": "stdout",
     "output_type": "stream",
     "text": [
      "{'tr_num': 286, 'stim': '/root/experiment/stim/bos_rev_tag.wav', 'iti': 9015}\n"
     ]
    },
    {
     "name": "stderr",
     "output_type": "stream",
     "text": [
      "2017-10-24 01:33:13,285 root         INFO     Running trial {'tr_num': 287, 'stim': '/root/experiment/stim/con_tag.wav', 'iti': 6648}\n"
     ]
    },
    {
     "name": "stdout",
     "output_type": "stream",
     "text": [
      "{'tr_num': 287, 'stim': '/root/experiment/stim/con_tag.wav', 'iti': 6648}\n"
     ]
    },
    {
     "name": "stderr",
     "output_type": "stream",
     "text": [
      "2017-10-24 01:33:21,033 root         INFO     Running trial {'tr_num': 288, 'stim': '/root/experiment/stim/bos_syn_tag.wav', 'iti': 10060}\n"
     ]
    },
    {
     "name": "stdout",
     "output_type": "stream",
     "text": [
      "{'tr_num': 288, 'stim': '/root/experiment/stim/bos_syn_tag.wav', 'iti': 10060}\n"
     ]
    },
    {
     "name": "stderr",
     "output_type": "stream",
     "text": [
      "2017-10-24 01:33:32,404 root         INFO     Running trial {'tr_num': 289, 'stim': '/root/experiment/stim/con_tag.wav', 'iti': 8532}\n"
     ]
    },
    {
     "name": "stdout",
     "output_type": "stream",
     "text": [
      "{'tr_num': 289, 'stim': '/root/experiment/stim/con_tag.wav', 'iti': 8532}\n"
     ]
    },
    {
     "name": "stderr",
     "output_type": "stream",
     "text": [
      "2017-10-24 01:33:42,025 root         INFO     Running trial {'tr_num': 290, 'stim': '/root/experiment/stim/bos_rev_tag.wav', 'iti': 10907}\n"
     ]
    },
    {
     "name": "stdout",
     "output_type": "stream",
     "text": [
      "{'tr_num': 290, 'stim': '/root/experiment/stim/bos_rev_tag.wav', 'iti': 10907}\n"
     ]
    },
    {
     "name": "stderr",
     "output_type": "stream",
     "text": [
      "2017-10-24 01:33:54,295 root         INFO     Running trial {'tr_num': 291, 'stim': '/root/experiment/stim/bos_syn_tag.wav', 'iti': 5212}\n"
     ]
    },
    {
     "name": "stdout",
     "output_type": "stream",
     "text": [
      "{'tr_num': 291, 'stim': '/root/experiment/stim/bos_syn_tag.wav', 'iti': 5212}\n"
     ]
    },
    {
     "name": "stderr",
     "output_type": "stream",
     "text": [
      "2017-10-24 01:34:00,829 root         INFO     Running trial {'tr_num': 292, 'stim': '/root/experiment/stim/bos_syn_tag.wav', 'iti': 6606}\n"
     ]
    },
    {
     "name": "stdout",
     "output_type": "stream",
     "text": [
      "{'tr_num': 292, 'stim': '/root/experiment/stim/bos_syn_tag.wav', 'iti': 6606}\n"
     ]
    },
    {
     "name": "stderr",
     "output_type": "stream",
     "text": [
      "2017-10-24 01:34:08,707 root         INFO     Running trial {'tr_num': 293, 'stim': '/root/experiment/stim/bos_tag.wav', 'iti': 6141}\n"
     ]
    },
    {
     "name": "stdout",
     "output_type": "stream",
     "text": [
      "{'tr_num': 293, 'stim': '/root/experiment/stim/bos_tag.wav', 'iti': 6141}\n"
     ]
    },
    {
     "name": "stderr",
     "output_type": "stream",
     "text": [
      "2017-10-24 01:34:16,049 root         INFO     Running trial {'tr_num': 294, 'stim': '/root/experiment/stim/bos_syn_tag.wav', 'iti': 10896}\n"
     ]
    },
    {
     "name": "stdout",
     "output_type": "stream",
     "text": [
      "{'tr_num': 294, 'stim': '/root/experiment/stim/bos_syn_tag.wav', 'iti': 10896}\n"
     ]
    },
    {
     "name": "stderr",
     "output_type": "stream",
     "text": [
      "2017-10-24 01:34:28,216 root         INFO     Running trial {'tr_num': 295, 'stim': '/root/experiment/stim/bos_syn_tag.wav', 'iti': 5240}\n"
     ]
    },
    {
     "name": "stdout",
     "output_type": "stream",
     "text": [
      "{'tr_num': 295, 'stim': '/root/experiment/stim/bos_syn_tag.wav', 'iti': 5240}\n"
     ]
    },
    {
     "name": "stderr",
     "output_type": "stream",
     "text": [
      "2017-10-24 01:34:37,239 root         INFO     Running trial {'tr_num': 296, 'stim': '/root/experiment/stim/bos_syn_tag.wav', 'iti': 6879}\n"
     ]
    },
    {
     "name": "stdout",
     "output_type": "stream",
     "text": [
      "{'tr_num': 296, 'stim': '/root/experiment/stim/bos_syn_tag.wav', 'iti': 6879}\n"
     ]
    },
    {
     "name": "stderr",
     "output_type": "stream",
     "text": [
      "2017-10-24 01:34:45,912 root         INFO     Running trial {'tr_num': 297, 'stim': '/root/experiment/stim/con_tag.wav', 'iti': 5727}\n"
     ]
    },
    {
     "name": "stdout",
     "output_type": "stream",
     "text": [
      "{'tr_num': 297, 'stim': '/root/experiment/stim/con_tag.wav', 'iti': 5727}\n"
     ]
    },
    {
     "name": "stderr",
     "output_type": "stream",
     "text": [
      "2017-10-24 01:34:52,963 root         INFO     Running trial {'tr_num': 298, 'stim': '/root/experiment/stim/bos_syn_tag.wav', 'iti': 5858}\n"
     ]
    },
    {
     "name": "stdout",
     "output_type": "stream",
     "text": [
      "{'tr_num': 298, 'stim': '/root/experiment/stim/bos_syn_tag.wav', 'iti': 5858}\n"
     ]
    },
    {
     "name": "stderr",
     "output_type": "stream",
     "text": [
      "2017-10-24 01:35:00,023 root         INFO     Running trial {'tr_num': 299, 'stim': '/root/experiment/stim/bos_tag.wav', 'iti': 11857}\n"
     ]
    },
    {
     "name": "stdout",
     "output_type": "stream",
     "text": [
      "{'tr_num': 299, 'stim': '/root/experiment/stim/bos_tag.wav', 'iti': 11857}\n"
     ]
    },
    {
     "name": "stderr",
     "output_type": "stream",
     "text": [
      "2017-10-24 01:35:13,269 root         INFO     Running trial {'tr_num': 300, 'stim': '/root/experiment/stim/bos_rev_tag.wav', 'iti': 8666}\n"
     ]
    },
    {
     "name": "stdout",
     "output_type": "stream",
     "text": [
      "{'tr_num': 300, 'stim': '/root/experiment/stim/bos_rev_tag.wav', 'iti': 8666}\n"
     ]
    },
    {
     "name": "stderr",
     "output_type": "stream",
     "text": [
      "2017-10-24 01:35:23,588 root         INFO     Running trial {'tr_num': 301, 'stim': '/root/experiment/stim/bos_syn_tag.wav', 'iti': 6329}\n"
     ]
    },
    {
     "name": "stdout",
     "output_type": "stream",
     "text": [
      "{'tr_num': 301, 'stim': '/root/experiment/stim/bos_syn_tag.wav', 'iti': 6329}\n"
     ]
    },
    {
     "name": "stderr",
     "output_type": "stream",
     "text": [
      "2017-10-24 01:35:31,226 root         INFO     Running trial {'tr_num': 302, 'stim': '/root/experiment/stim/bos_syn_tag.wav', 'iti': 8324}\n"
     ]
    },
    {
     "name": "stdout",
     "output_type": "stream",
     "text": [
      "{'tr_num': 302, 'stim': '/root/experiment/stim/bos_syn_tag.wav', 'iti': 8324}\n"
     ]
    },
    {
     "name": "stderr",
     "output_type": "stream",
     "text": [
      "2017-10-24 01:35:41,119 root         INFO     Running trial {'tr_num': 303, 'stim': '/root/experiment/stim/bos_rev_tag.wav', 'iti': 7623}\n"
     ]
    },
    {
     "name": "stdout",
     "output_type": "stream",
     "text": [
      "{'tr_num': 303, 'stim': '/root/experiment/stim/bos_rev_tag.wav', 'iti': 7623}\n"
     ]
    },
    {
     "name": "stderr",
     "output_type": "stream",
     "text": [
      "2017-10-24 01:35:49,997 root         INFO     Running trial {'tr_num': 304, 'stim': '/root/experiment/stim/bos_rev_tag.wav', 'iti': 6166}\n"
     ]
    },
    {
     "name": "stdout",
     "output_type": "stream",
     "text": [
      "{'tr_num': 304, 'stim': '/root/experiment/stim/bos_rev_tag.wav', 'iti': 6166}\n"
     ]
    },
    {
     "name": "stderr",
     "output_type": "stream",
     "text": [
      "2017-10-24 01:35:58,008 root         INFO     Running trial {'tr_num': 305, 'stim': '/root/experiment/stim/bos_syn_tag.wav', 'iti': 5978}\n"
     ]
    },
    {
     "name": "stdout",
     "output_type": "stream",
     "text": [
      "{'tr_num': 305, 'stim': '/root/experiment/stim/bos_syn_tag.wav', 'iti': 5978}\n"
     ]
    },
    {
     "name": "stderr",
     "output_type": "stream",
     "text": [
      "2017-10-24 01:36:05,236 root         INFO     Running trial {'tr_num': 306, 'stim': '/root/experiment/stim/con_tag.wav', 'iti': 11986}\n"
     ]
    },
    {
     "name": "stdout",
     "output_type": "stream",
     "text": [
      "{'tr_num': 306, 'stim': '/root/experiment/stim/con_tag.wav', 'iti': 11986}\n"
     ]
    },
    {
     "name": "stderr",
     "output_type": "stream",
     "text": [
      "2017-10-24 01:36:18,357 root         INFO     Running trial {'tr_num': 307, 'stim': '/root/experiment/stim/bos_tag.wav', 'iti': 11666}\n"
     ]
    },
    {
     "name": "stdout",
     "output_type": "stream",
     "text": [
      "{'tr_num': 307, 'stim': '/root/experiment/stim/bos_tag.wav', 'iti': 11666}\n"
     ]
    },
    {
     "name": "stderr",
     "output_type": "stream",
     "text": [
      "2017-10-24 01:36:31,231 root         INFO     Running trial {'tr_num': 308, 'stim': '/root/experiment/stim/bos_tag.wav', 'iti': 10656}\n"
     ]
    },
    {
     "name": "stdout",
     "output_type": "stream",
     "text": [
      "{'tr_num': 308, 'stim': '/root/experiment/stim/bos_tag.wav', 'iti': 10656}\n"
     ]
    },
    {
     "name": "stderr",
     "output_type": "stream",
     "text": [
      "2017-10-24 01:36:43,143 root         INFO     Running trial {'tr_num': 309, 'stim': '/root/experiment/stim/bos_syn_tag.wav', 'iti': 9867}\n"
     ]
    },
    {
     "name": "stdout",
     "output_type": "stream",
     "text": [
      "{'tr_num': 309, 'stim': '/root/experiment/stim/bos_syn_tag.wav', 'iti': 9867}\n"
     ]
    },
    {
     "name": "stderr",
     "output_type": "stream",
     "text": [
      "2017-10-24 01:36:54,246 root         INFO     Running trial {'tr_num': 310, 'stim': '/root/experiment/stim/bos_tag.wav', 'iti': 7033}\n"
     ]
    },
    {
     "name": "stdout",
     "output_type": "stream",
     "text": [
      "{'tr_num': 310, 'stim': '/root/experiment/stim/bos_tag.wav', 'iti': 7033}\n"
     ]
    },
    {
     "name": "stderr",
     "output_type": "stream",
     "text": [
      "2017-10-24 01:37:02,567 root         INFO     Running trial {'tr_num': 311, 'stim': '/root/experiment/stim/bos_rev_tag.wav', 'iti': 9248}\n"
     ]
    },
    {
     "name": "stdout",
     "output_type": "stream",
     "text": [
      "{'tr_num': 311, 'stim': '/root/experiment/stim/bos_rev_tag.wav', 'iti': 9248}\n"
     ]
    },
    {
     "name": "stderr",
     "output_type": "stream",
     "text": [
      "2017-10-24 01:37:13,378 root         INFO     Running trial {'tr_num': 312, 'stim': '/root/experiment/stim/bos_tag.wav', 'iti': 8222}\n"
     ]
    },
    {
     "name": "stdout",
     "output_type": "stream",
     "text": [
      "{'tr_num': 312, 'stim': '/root/experiment/stim/bos_tag.wav', 'iti': 8222}\n"
     ]
    },
    {
     "name": "stderr",
     "output_type": "stream",
     "text": [
      "2017-10-24 01:37:22,804 root         INFO     Running trial {'tr_num': 313, 'stim': '/root/experiment/stim/con_tag.wav', 'iti': 7339}\n"
     ]
    },
    {
     "name": "stdout",
     "output_type": "stream",
     "text": [
      "{'tr_num': 313, 'stim': '/root/experiment/stim/con_tag.wav', 'iti': 7339}\n"
     ]
    },
    {
     "name": "stderr",
     "output_type": "stream",
     "text": [
      "2017-10-24 01:37:31,487 root         INFO     Running trial {'tr_num': 314, 'stim': '/root/experiment/stim/bos_tag.wav', 'iti': 9559}\n"
     ]
    },
    {
     "name": "stdout",
     "output_type": "stream",
     "text": [
      "{'tr_num': 314, 'stim': '/root/experiment/stim/bos_tag.wav', 'iti': 9559}\n"
     ]
    },
    {
     "name": "stderr",
     "output_type": "stream",
     "text": [
      "2017-10-24 01:37:42,372 root         INFO     Running trial {'tr_num': 315, 'stim': '/root/experiment/stim/bos_syn_tag.wav', 'iti': 6240}\n"
     ]
    },
    {
     "name": "stdout",
     "output_type": "stream",
     "text": [
      "{'tr_num': 315, 'stim': '/root/experiment/stim/bos_syn_tag.wav', 'iti': 6240}\n"
     ]
    },
    {
     "name": "stderr",
     "output_type": "stream",
     "text": [
      "2017-10-24 01:37:49,856 root         INFO     Running trial {'tr_num': 316, 'stim': '/root/experiment/stim/con_tag.wav', 'iti': 9816}\n"
     ]
    },
    {
     "name": "stdout",
     "output_type": "stream",
     "text": [
      "{'tr_num': 316, 'stim': '/root/experiment/stim/con_tag.wav', 'iti': 9816}\n"
     ]
    },
    {
     "name": "stderr",
     "output_type": "stream",
     "text": [
      "2017-10-24 01:38:00,880 root         INFO     Running trial {'tr_num': 317, 'stim': '/root/experiment/stim/bos_syn_tag.wav', 'iti': 11236}\n"
     ]
    },
    {
     "name": "stdout",
     "output_type": "stream",
     "text": [
      "{'tr_num': 317, 'stim': '/root/experiment/stim/bos_syn_tag.wav', 'iti': 11236}\n"
     ]
    },
    {
     "name": "stderr",
     "output_type": "stream",
     "text": [
      "2017-10-24 01:38:13,392 root         INFO     Running trial {'tr_num': 318, 'stim': '/root/experiment/stim/con_tag.wav', 'iti': 10074}\n"
     ]
    },
    {
     "name": "stdout",
     "output_type": "stream",
     "text": [
      "{'tr_num': 318, 'stim': '/root/experiment/stim/con_tag.wav', 'iti': 10074}\n"
     ]
    },
    {
     "name": "stderr",
     "output_type": "stream",
     "text": [
      "2017-10-24 01:38:24,573 root         INFO     Running trial {'tr_num': 319, 'stim': '/root/experiment/stim/bos_tag.wav', 'iti': 10741}\n"
     ]
    },
    {
     "name": "stdout",
     "output_type": "stream",
     "text": [
      "{'tr_num': 319, 'stim': '/root/experiment/stim/bos_tag.wav', 'iti': 10741}\n"
     ]
    },
    {
     "name": "stderr",
     "output_type": "stream",
     "text": [
      "2017-10-24 01:38:36,636 root         INFO     Running trial {'tr_num': 320, 'stim': '/root/experiment/stim/bos_syn_tag.wav', 'iti': 10675}\n"
     ]
    },
    {
     "name": "stdout",
     "output_type": "stream",
     "text": [
      "{'tr_num': 320, 'stim': '/root/experiment/stim/bos_syn_tag.wav', 'iti': 10675}\n"
     ]
    },
    {
     "name": "stderr",
     "output_type": "stream",
     "text": [
      "2017-10-24 01:38:49,192 root         INFO     Running trial {'tr_num': 321, 'stim': '/root/experiment/stim/bos_tag.wav', 'iti': 9450}\n"
     ]
    },
    {
     "name": "stdout",
     "output_type": "stream",
     "text": [
      "{'tr_num': 321, 'stim': '/root/experiment/stim/bos_tag.wav', 'iti': 9450}\n"
     ]
    },
    {
     "name": "stderr",
     "output_type": "stream",
     "text": [
      "2017-10-24 01:38:59,849 root         INFO     Running trial {'tr_num': 322, 'stim': '/root/experiment/stim/con_tag.wav', 'iti': 9289}\n"
     ]
    },
    {
     "name": "stdout",
     "output_type": "stream",
     "text": [
      "{'tr_num': 322, 'stim': '/root/experiment/stim/con_tag.wav', 'iti': 9289}\n"
     ]
    },
    {
     "name": "stderr",
     "output_type": "stream",
     "text": [
      "2017-10-24 01:39:10,261 root         INFO     Running trial {'tr_num': 323, 'stim': '/root/experiment/stim/bos_tag.wav', 'iti': 9227}\n"
     ]
    },
    {
     "name": "stdout",
     "output_type": "stream",
     "text": [
      "{'tr_num': 323, 'stim': '/root/experiment/stim/bos_tag.wav', 'iti': 9227}\n"
     ]
    },
    {
     "name": "stderr",
     "output_type": "stream",
     "text": [
      "2017-10-24 01:39:20,679 root         INFO     Running trial {'tr_num': 324, 'stim': '/root/experiment/stim/bos_tag.wav', 'iti': 7546}\n"
     ]
    },
    {
     "name": "stdout",
     "output_type": "stream",
     "text": [
      "{'tr_num': 324, 'stim': '/root/experiment/stim/bos_tag.wav', 'iti': 7546}\n"
     ]
    },
    {
     "name": "stderr",
     "output_type": "stream",
     "text": [
      "2017-10-24 01:39:29,467 root         INFO     Running trial {'tr_num': 325, 'stim': '/root/experiment/stim/bos_syn_tag.wav', 'iti': 5195}\n"
     ]
    },
    {
     "name": "stdout",
     "output_type": "stream",
     "text": [
      "{'tr_num': 325, 'stim': '/root/experiment/stim/bos_syn_tag.wav', 'iti': 5195}\n"
     ]
    },
    {
     "name": "stderr",
     "output_type": "stream",
     "text": [
      "2017-10-24 01:39:35,869 root         INFO     Running trial {'tr_num': 326, 'stim': '/root/experiment/stim/con_tag.wav', 'iti': 8559}\n"
     ]
    },
    {
     "name": "stdout",
     "output_type": "stream",
     "text": [
      "{'tr_num': 326, 'stim': '/root/experiment/stim/con_tag.wav', 'iti': 8559}\n"
     ]
    },
    {
     "name": "stderr",
     "output_type": "stream",
     "text": [
      "2017-10-24 01:39:45,584 root         INFO     Running trial {'tr_num': 327, 'stim': '/root/experiment/stim/bos_rev_tag.wav', 'iti': 9324}\n"
     ]
    },
    {
     "name": "stdout",
     "output_type": "stream",
     "text": [
      "{'tr_num': 327, 'stim': '/root/experiment/stim/bos_rev_tag.wav', 'iti': 9324}\n"
     ]
    },
    {
     "name": "stderr",
     "output_type": "stream",
     "text": [
      "2017-10-24 01:39:56,156 root         INFO     Running trial {'tr_num': 328, 'stim': '/root/experiment/stim/bos_rev_tag.wav', 'iti': 7311}\n"
     ]
    },
    {
     "name": "stdout",
     "output_type": "stream",
     "text": [
      "{'tr_num': 328, 'stim': '/root/experiment/stim/bos_rev_tag.wav', 'iti': 7311}\n"
     ]
    },
    {
     "name": "stderr",
     "output_type": "stream",
     "text": [
      "2017-10-24 01:40:04,764 root         INFO     Running trial {'tr_num': 329, 'stim': '/root/experiment/stim/con_tag.wav', 'iti': 9421}\n"
     ]
    },
    {
     "name": "stdout",
     "output_type": "stream",
     "text": [
      "{'tr_num': 329, 'stim': '/root/experiment/stim/con_tag.wav', 'iti': 9421}\n"
     ]
    },
    {
     "name": "stderr",
     "output_type": "stream",
     "text": [
      "2017-10-24 01:40:15,431 root         INFO     Running trial {'tr_num': 330, 'stim': '/root/experiment/stim/bos_tag.wav', 'iti': 5433}\n"
     ]
    },
    {
     "name": "stdout",
     "output_type": "stream",
     "text": [
      "{'tr_num': 330, 'stim': '/root/experiment/stim/bos_tag.wav', 'iti': 5433}\n"
     ]
    },
    {
     "name": "stderr",
     "output_type": "stream",
     "text": [
      "2017-10-24 01:40:22,106 root         INFO     Running trial {'tr_num': 331, 'stim': '/root/experiment/stim/bos_syn_tag.wav', 'iti': 10512}\n"
     ]
    },
    {
     "name": "stdout",
     "output_type": "stream",
     "text": [
      "{'tr_num': 331, 'stim': '/root/experiment/stim/bos_syn_tag.wav', 'iti': 10512}\n"
     ]
    },
    {
     "name": "stderr",
     "output_type": "stream",
     "text": [
      "2017-10-24 01:40:33,947 root         INFO     Running trial {'tr_num': 332, 'stim': '/root/experiment/stim/con_tag.wav', 'iti': 5755}\n"
     ]
    },
    {
     "name": "stdout",
     "output_type": "stream",
     "text": [
      "{'tr_num': 332, 'stim': '/root/experiment/stim/con_tag.wav', 'iti': 5755}\n"
     ]
    },
    {
     "name": "stderr",
     "output_type": "stream",
     "text": [
      "2017-10-24 01:40:40,869 root         INFO     Running trial {'tr_num': 333, 'stim': '/root/experiment/stim/con_tag.wav', 'iti': 9246}\n"
     ]
    },
    {
     "name": "stdout",
     "output_type": "stream",
     "text": [
      "{'tr_num': 333, 'stim': '/root/experiment/stim/con_tag.wav', 'iti': 9246}\n"
     ]
    },
    {
     "name": "stderr",
     "output_type": "stream",
     "text": [
      "2017-10-24 01:40:51,261 root         INFO     Running trial {'tr_num': 334, 'stim': '/root/experiment/stim/bos_syn_tag.wav', 'iti': 9146}\n"
     ]
    },
    {
     "name": "stdout",
     "output_type": "stream",
     "text": [
      "{'tr_num': 334, 'stim': '/root/experiment/stim/bos_syn_tag.wav', 'iti': 9146}\n"
     ]
    },
    {
     "name": "stderr",
     "output_type": "stream",
     "text": [
      "2017-10-24 01:41:01,628 root         INFO     Running trial {'tr_num': 335, 'stim': '/root/experiment/stim/bos_rev_tag.wav', 'iti': 10913}\n"
     ]
    },
    {
     "name": "stdout",
     "output_type": "stream",
     "text": [
      "{'tr_num': 335, 'stim': '/root/experiment/stim/bos_rev_tag.wav', 'iti': 10913}\n"
     ]
    },
    {
     "name": "stderr",
     "output_type": "stream",
     "text": [
      "2017-10-24 01:41:13,817 root         INFO     Running trial {'tr_num': 336, 'stim': '/root/experiment/stim/bos_tag.wav', 'iti': 8715}\n"
     ]
    },
    {
     "name": "stdout",
     "output_type": "stream",
     "text": [
      "{'tr_num': 336, 'stim': '/root/experiment/stim/bos_tag.wav', 'iti': 8715}\n"
     ]
    },
    {
     "name": "stderr",
     "output_type": "stream",
     "text": [
      "2017-10-24 01:41:23,909 root         INFO     Running trial {'tr_num': 337, 'stim': '/root/experiment/stim/bos_rev_tag.wav', 'iti': 9139}\n"
     ]
    },
    {
     "name": "stdout",
     "output_type": "stream",
     "text": [
      "{'tr_num': 337, 'stim': '/root/experiment/stim/bos_rev_tag.wav', 'iti': 9139}\n"
     ]
    },
    {
     "name": "stderr",
     "output_type": "stream",
     "text": [
      "2017-10-24 01:41:34,268 root         INFO     Running trial {'tr_num': 338, 'stim': '/root/experiment/stim/bos_syn_tag.wav', 'iti': 9511}\n"
     ]
    },
    {
     "name": "stdout",
     "output_type": "stream",
     "text": [
      "{'tr_num': 338, 'stim': '/root/experiment/stim/bos_syn_tag.wav', 'iti': 9511}\n"
     ]
    },
    {
     "name": "stderr",
     "output_type": "stream",
     "text": [
      "2017-10-24 01:41:45,119 root         INFO     Running trial {'tr_num': 339, 'stim': '/root/experiment/stim/bos_syn_tag.wav', 'iti': 6523}\n"
     ]
    },
    {
     "name": "stdout",
     "output_type": "stream",
     "text": [
      "{'tr_num': 339, 'stim': '/root/experiment/stim/bos_syn_tag.wav', 'iti': 6523}\n"
     ]
    },
    {
     "name": "stderr",
     "output_type": "stream",
     "text": [
      "2017-10-24 01:41:53,031 root         INFO     Running trial {'tr_num': 340, 'stim': '/root/experiment/stim/bos_tag.wav', 'iti': 10267}\n"
     ]
    },
    {
     "name": "stdout",
     "output_type": "stream",
     "text": [
      "{'tr_num': 340, 'stim': '/root/experiment/stim/bos_tag.wav', 'iti': 10267}\n"
     ]
    },
    {
     "name": "stderr",
     "output_type": "stream",
     "text": [
      "2017-10-24 01:42:04,695 root         INFO     Running trial {'tr_num': 341, 'stim': '/root/experiment/stim/bos_tag.wav', 'iti': 9223}\n"
     ]
    },
    {
     "name": "stdout",
     "output_type": "stream",
     "text": [
      "{'tr_num': 341, 'stim': '/root/experiment/stim/bos_tag.wav', 'iti': 9223}\n"
     ]
    },
    {
     "name": "stderr",
     "output_type": "stream",
     "text": [
      "2017-10-24 01:42:15,171 root         INFO     Running trial {'tr_num': 342, 'stim': '/root/experiment/stim/bos_rev_tag.wav', 'iti': 9913}\n"
     ]
    },
    {
     "name": "stdout",
     "output_type": "stream",
     "text": [
      "{'tr_num': 342, 'stim': '/root/experiment/stim/bos_rev_tag.wav', 'iti': 9913}\n"
     ]
    },
    {
     "name": "stderr",
     "output_type": "stream",
     "text": [
      "2017-10-24 01:42:26,573 root         INFO     Running trial {'tr_num': 343, 'stim': '/root/experiment/stim/bos_tag.wav', 'iti': 5028}\n"
     ]
    },
    {
     "name": "stdout",
     "output_type": "stream",
     "text": [
      "{'tr_num': 343, 'stim': '/root/experiment/stim/bos_tag.wav', 'iti': 5028}\n"
     ]
    },
    {
     "name": "stderr",
     "output_type": "stream",
     "text": [
      "2017-10-24 01:42:32,846 root         INFO     Running trial {'tr_num': 344, 'stim': '/root/experiment/stim/bos_tag.wav', 'iti': 6650}\n"
     ]
    },
    {
     "name": "stdout",
     "output_type": "stream",
     "text": [
      "{'tr_num': 344, 'stim': '/root/experiment/stim/bos_tag.wav', 'iti': 6650}\n"
     ]
    },
    {
     "name": "stderr",
     "output_type": "stream",
     "text": [
      "2017-10-24 01:42:40,792 root         INFO     Running trial {'tr_num': 345, 'stim': '/root/experiment/stim/con_tag.wav', 'iti': 8455}\n"
     ]
    },
    {
     "name": "stdout",
     "output_type": "stream",
     "text": [
      "{'tr_num': 345, 'stim': '/root/experiment/stim/con_tag.wav', 'iti': 8455}\n"
     ]
    },
    {
     "name": "stderr",
     "output_type": "stream",
     "text": [
      "2017-10-24 01:42:50,394 root         INFO     Running trial {'tr_num': 346, 'stim': '/root/experiment/stim/bos_rev_tag.wav', 'iti': 7738}\n"
     ]
    },
    {
     "name": "stdout",
     "output_type": "stream",
     "text": [
      "{'tr_num': 346, 'stim': '/root/experiment/stim/bos_rev_tag.wav', 'iti': 7738}\n"
     ]
    },
    {
     "name": "stderr",
     "output_type": "stream",
     "text": [
      "2017-10-24 01:42:59,497 root         INFO     Running trial {'tr_num': 347, 'stim': '/root/experiment/stim/bos_syn_tag.wav', 'iti': 11060}\n"
     ]
    },
    {
     "name": "stdout",
     "output_type": "stream",
     "text": [
      "{'tr_num': 347, 'stim': '/root/experiment/stim/bos_syn_tag.wav', 'iti': 11060}\n"
     ]
    },
    {
     "name": "stderr",
     "output_type": "stream",
     "text": [
      "2017-10-24 01:43:11,802 root         INFO     Running trial {'tr_num': 348, 'stim': '/root/experiment/stim/bos_rev_tag.wav', 'iti': 8039}\n"
     ]
    },
    {
     "name": "stdout",
     "output_type": "stream",
     "text": [
      "{'tr_num': 348, 'stim': '/root/experiment/stim/bos_rev_tag.wav', 'iti': 8039}\n"
     ]
    },
    {
     "name": "stderr",
     "output_type": "stream",
     "text": [
      "2017-10-24 01:43:21,100 root         INFO     Running trial {'tr_num': 349, 'stim': '/root/experiment/stim/con_tag.wav', 'iti': 11391}\n"
     ]
    },
    {
     "name": "stdout",
     "output_type": "stream",
     "text": [
      "{'tr_num': 349, 'stim': '/root/experiment/stim/con_tag.wav', 'iti': 11391}\n"
     ]
    },
    {
     "name": "stderr",
     "output_type": "stream",
     "text": [
      "2017-10-24 01:43:33,979 root         INFO     Running trial {'tr_num': 350, 'stim': '/root/experiment/stim/con_tag.wav', 'iti': 7849}\n"
     ]
    },
    {
     "name": "stdout",
     "output_type": "stream",
     "text": [
      "{'tr_num': 350, 'stim': '/root/experiment/stim/con_tag.wav', 'iti': 7849}\n"
     ]
    },
    {
     "name": "stderr",
     "output_type": "stream",
     "text": [
      "2017-10-24 01:43:42,943 root         INFO     Running trial {'tr_num': 351, 'stim': '/root/experiment/stim/bos_rev_tag.wav', 'iti': 11533}\n"
     ]
    },
    {
     "name": "stdout",
     "output_type": "stream",
     "text": [
      "{'tr_num': 351, 'stim': '/root/experiment/stim/bos_rev_tag.wav', 'iti': 11533}\n"
     ]
    },
    {
     "name": "stderr",
     "output_type": "stream",
     "text": [
      "2017-10-24 01:43:55,704 root         INFO     Running trial {'tr_num': 352, 'stim': '/root/experiment/stim/bos_syn_tag.wav', 'iti': 11178}\n"
     ]
    },
    {
     "name": "stdout",
     "output_type": "stream",
     "text": [
      "{'tr_num': 352, 'stim': '/root/experiment/stim/bos_syn_tag.wav', 'iti': 11178}\n"
     ]
    },
    {
     "name": "stderr",
     "output_type": "stream",
     "text": [
      "2017-10-24 01:44:08,088 root         INFO     Running trial {'tr_num': 353, 'stim': '/root/experiment/stim/bos_rev_tag.wav', 'iti': 7790}\n"
     ]
    },
    {
     "name": "stdout",
     "output_type": "stream",
     "text": [
      "{'tr_num': 353, 'stim': '/root/experiment/stim/bos_rev_tag.wav', 'iti': 7790}\n"
     ]
    },
    {
     "name": "stderr",
     "output_type": "stream",
     "text": [
      "2017-10-24 01:44:17,085 root         INFO     Running trial {'tr_num': 354, 'stim': '/root/experiment/stim/bos_tag.wav', 'iti': 9120}\n"
     ]
    },
    {
     "name": "stdout",
     "output_type": "stream",
     "text": [
      "{'tr_num': 354, 'stim': '/root/experiment/stim/bos_tag.wav', 'iti': 9120}\n"
     ]
    },
    {
     "name": "stderr",
     "output_type": "stream",
     "text": [
      "2017-10-24 01:44:27,441 root         INFO     Running trial {'tr_num': 355, 'stim': '/root/experiment/stim/bos_rev_tag.wav', 'iti': 5017}\n"
     ]
    },
    {
     "name": "stdout",
     "output_type": "stream",
     "text": [
      "{'tr_num': 355, 'stim': '/root/experiment/stim/bos_rev_tag.wav', 'iti': 5017}\n"
     ]
    },
    {
     "name": "stderr",
     "output_type": "stream",
     "text": [
      "2017-10-24 01:44:33,852 root         INFO     Running trial {'tr_num': 356, 'stim': '/root/experiment/stim/con_tag.wav', 'iti': 9652}\n"
     ]
    },
    {
     "name": "stdout",
     "output_type": "stream",
     "text": [
      "{'tr_num': 356, 'stim': '/root/experiment/stim/con_tag.wav', 'iti': 9652}\n"
     ]
    },
    {
     "name": "stderr",
     "output_type": "stream",
     "text": [
      "2017-10-24 01:44:44,666 root         INFO     Running trial {'tr_num': 357, 'stim': '/root/experiment/stim/bos_rev_tag.wav', 'iti': 7936}\n"
     ]
    },
    {
     "name": "stdout",
     "output_type": "stream",
     "text": [
      "{'tr_num': 357, 'stim': '/root/experiment/stim/bos_rev_tag.wav', 'iti': 7936}\n"
     ]
    },
    {
     "name": "stderr",
     "output_type": "stream",
     "text": [
      "2017-10-24 01:44:53,988 root         INFO     Running trial {'tr_num': 358, 'stim': '/root/experiment/stim/con_tag.wav', 'iti': 6460}\n"
     ]
    },
    {
     "name": "stdout",
     "output_type": "stream",
     "text": [
      "{'tr_num': 358, 'stim': '/root/experiment/stim/con_tag.wav', 'iti': 6460}\n"
     ]
    },
    {
     "name": "stderr",
     "output_type": "stream",
     "text": [
      "2017-10-24 01:45:01,554 root         INFO     Running trial {'tr_num': 359, 'stim': '/root/experiment/stim/bos_tag.wav', 'iti': 9720}\n"
     ]
    },
    {
     "name": "stdout",
     "output_type": "stream",
     "text": [
      "{'tr_num': 359, 'stim': '/root/experiment/stim/bos_tag.wav', 'iti': 9720}\n"
     ]
    },
    {
     "name": "stderr",
     "output_type": "stream",
     "text": [
      "2017-10-24 01:45:12,636 root         INFO     Running trial {'tr_num': 360, 'stim': '/root/experiment/stim/con_tag.wav', 'iti': 9557}\n"
     ]
    },
    {
     "name": "stdout",
     "output_type": "stream",
     "text": [
      "{'tr_num': 360, 'stim': '/root/experiment/stim/con_tag.wav', 'iti': 9557}\n"
     ]
    },
    {
     "name": "stderr",
     "output_type": "stream",
     "text": [
      "2017-10-24 01:45:24,287 root         INFO     Running trial {'tr_num': 361, 'stim': '/root/experiment/stim/con_tag.wav', 'iti': 5986}\n"
     ]
    },
    {
     "name": "stdout",
     "output_type": "stream",
     "text": [
      "{'tr_num': 361, 'stim': '/root/experiment/stim/con_tag.wav', 'iti': 5986}\n"
     ]
    },
    {
     "name": "stderr",
     "output_type": "stream",
     "text": [
      "2017-10-24 01:45:31,568 root         INFO     Running trial {'tr_num': 362, 'stim': '/root/experiment/stim/bos_rev_tag.wav', 'iti': 9293}\n"
     ]
    },
    {
     "name": "stdout",
     "output_type": "stream",
     "text": [
      "{'tr_num': 362, 'stim': '/root/experiment/stim/bos_rev_tag.wav', 'iti': 9293}\n"
     ]
    },
    {
     "name": "stderr",
     "output_type": "stream",
     "text": [
      "2017-10-24 01:45:42,316 root         INFO     Running trial {'tr_num': 363, 'stim': '/root/experiment/stim/bos_tag.wav', 'iti': 10785}\n"
     ]
    },
    {
     "name": "stdout",
     "output_type": "stream",
     "text": [
      "{'tr_num': 363, 'stim': '/root/experiment/stim/bos_tag.wav', 'iti': 10785}\n"
     ]
    },
    {
     "name": "stderr",
     "output_type": "stream",
     "text": [
      "2017-10-24 01:45:54,819 root         INFO     Running trial {'tr_num': 364, 'stim': '/root/experiment/stim/bos_rev_tag.wav', 'iti': 10587}\n"
     ]
    },
    {
     "name": "stdout",
     "output_type": "stream",
     "text": [
      "{'tr_num': 364, 'stim': '/root/experiment/stim/bos_rev_tag.wav', 'iti': 10587}\n"
     ]
    },
    {
     "name": "stderr",
     "output_type": "stream",
     "text": [
      "2017-10-24 01:46:06,619 root         INFO     Running trial {'tr_num': 365, 'stim': '/root/experiment/stim/bos_syn_tag.wav', 'iti': 6193}\n"
     ]
    },
    {
     "name": "stdout",
     "output_type": "stream",
     "text": [
      "{'tr_num': 365, 'stim': '/root/experiment/stim/bos_syn_tag.wav', 'iti': 6193}\n"
     ]
    },
    {
     "name": "stderr",
     "output_type": "stream",
     "text": [
      "2017-10-24 01:46:14,160 root         INFO     Running trial {'tr_num': 366, 'stim': '/root/experiment/stim/bos_rev_tag.wav', 'iti': 8166}\n"
     ]
    },
    {
     "name": "stdout",
     "output_type": "stream",
     "text": [
      "{'tr_num': 366, 'stim': '/root/experiment/stim/bos_rev_tag.wav', 'iti': 8166}\n"
     ]
    },
    {
     "name": "stderr",
     "output_type": "stream",
     "text": [
      "2017-10-24 01:46:23,801 root         INFO     Running trial {'tr_num': 367, 'stim': '/root/experiment/stim/bos_syn_tag.wav', 'iti': 6646}\n"
     ]
    },
    {
     "name": "stdout",
     "output_type": "stream",
     "text": [
      "{'tr_num': 367, 'stim': '/root/experiment/stim/bos_syn_tag.wav', 'iti': 6646}\n"
     ]
    },
    {
     "name": "stderr",
     "output_type": "stream",
     "text": [
      "2017-10-24 01:46:31,625 root         INFO     Running trial {'tr_num': 368, 'stim': '/root/experiment/stim/con_tag.wav', 'iti': 11032}\n"
     ]
    },
    {
     "name": "stdout",
     "output_type": "stream",
     "text": [
      "{'tr_num': 368, 'stim': '/root/experiment/stim/con_tag.wav', 'iti': 11032}\n"
     ]
    },
    {
     "name": "stderr",
     "output_type": "stream",
     "text": [
      "2017-10-24 01:46:43,980 root         INFO     Running trial {'tr_num': 369, 'stim': '/root/experiment/stim/con_tag.wav', 'iti': 6341}\n"
     ]
    },
    {
     "name": "stdout",
     "output_type": "stream",
     "text": [
      "{'tr_num': 369, 'stim': '/root/experiment/stim/con_tag.wav', 'iti': 6341}\n"
     ]
    },
    {
     "name": "stderr",
     "output_type": "stream",
     "text": [
      "2017-10-24 01:46:51,432 root         INFO     Running trial {'tr_num': 370, 'stim': '/root/experiment/stim/con_tag.wav', 'iti': 5121}\n"
     ]
    },
    {
     "name": "stdout",
     "output_type": "stream",
     "text": [
      "{'tr_num': 370, 'stim': '/root/experiment/stim/con_tag.wav', 'iti': 5121}\n"
     ]
    },
    {
     "name": "stderr",
     "output_type": "stream",
     "text": [
      "2017-10-24 01:46:57,670 root         INFO     Running trial {'tr_num': 371, 'stim': '/root/experiment/stim/bos_rev_tag.wav', 'iti': 7770}\n"
     ]
    },
    {
     "name": "stdout",
     "output_type": "stream",
     "text": [
      "{'tr_num': 371, 'stim': '/root/experiment/stim/bos_rev_tag.wav', 'iti': 7770}\n"
     ]
    },
    {
     "name": "stderr",
     "output_type": "stream",
     "text": [
      "2017-10-24 01:47:06,900 root         INFO     Running trial {'tr_num': 372, 'stim': '/root/experiment/stim/bos_rev_tag.wav', 'iti': 6100}\n"
     ]
    },
    {
     "name": "stdout",
     "output_type": "stream",
     "text": [
      "{'tr_num': 372, 'stim': '/root/experiment/stim/bos_rev_tag.wav', 'iti': 6100}\n"
     ]
    },
    {
     "name": "stderr",
     "output_type": "stream",
     "text": [
      "2017-10-24 01:47:14,397 root         INFO     Running trial {'tr_num': 373, 'stim': '/root/experiment/stim/bos_rev_tag.wav', 'iti': 6729}\n"
     ]
    },
    {
     "name": "stdout",
     "output_type": "stream",
     "text": [
      "{'tr_num': 373, 'stim': '/root/experiment/stim/bos_rev_tag.wav', 'iti': 6729}\n"
     ]
    },
    {
     "name": "stderr",
     "output_type": "stream",
     "text": [
      "2017-10-24 01:47:22,385 root         INFO     Running trial {'tr_num': 374, 'stim': '/root/experiment/stim/bos_rev_tag.wav', 'iti': 5692}\n"
     ]
    },
    {
     "name": "stdout",
     "output_type": "stream",
     "text": [
      "{'tr_num': 374, 'stim': '/root/experiment/stim/bos_rev_tag.wav', 'iti': 5692}\n"
     ]
    },
    {
     "name": "stderr",
     "output_type": "stream",
     "text": [
      "2017-10-24 01:47:29,359 root         INFO     Running trial {'tr_num': 375, 'stim': '/root/experiment/stim/con_tag.wav', 'iti': 5974}\n"
     ]
    },
    {
     "name": "stdout",
     "output_type": "stream",
     "text": [
      "{'tr_num': 375, 'stim': '/root/experiment/stim/con_tag.wav', 'iti': 5974}\n"
     ]
    },
    {
     "name": "stderr",
     "output_type": "stream",
     "text": [
      "2017-10-24 01:47:36,504 root         INFO     Running trial {'tr_num': 376, 'stim': '/root/experiment/stim/bos_tag.wav', 'iti': 11733}\n"
     ]
    },
    {
     "name": "stdout",
     "output_type": "stream",
     "text": [
      "{'tr_num': 376, 'stim': '/root/experiment/stim/bos_tag.wav', 'iti': 11733}\n"
     ]
    },
    {
     "name": "stderr",
     "output_type": "stream",
     "text": [
      "2017-10-24 01:47:49,578 root         INFO     Running trial {'tr_num': 377, 'stim': '/root/experiment/stim/bos_tag.wav', 'iti': 5067}\n"
     ]
    },
    {
     "name": "stdout",
     "output_type": "stream",
     "text": [
      "{'tr_num': 377, 'stim': '/root/experiment/stim/bos_tag.wav', 'iti': 5067}\n"
     ]
    },
    {
     "name": "stderr",
     "output_type": "stream",
     "text": [
      "2017-10-24 01:47:55,864 root         INFO     Running trial {'tr_num': 378, 'stim': '/root/experiment/stim/bos_syn_tag.wav', 'iti': 5025}\n"
     ]
    },
    {
     "name": "stdout",
     "output_type": "stream",
     "text": [
      "{'tr_num': 378, 'stim': '/root/experiment/stim/bos_syn_tag.wav', 'iti': 5025}\n"
     ]
    },
    {
     "name": "stderr",
     "output_type": "stream",
     "text": [
      "2017-10-24 01:48:02,169 root         INFO     Running trial {'tr_num': 379, 'stim': '/root/experiment/stim/bos_syn_tag.wav', 'iti': 6814}\n"
     ]
    },
    {
     "name": "stdout",
     "output_type": "stream",
     "text": [
      "{'tr_num': 379, 'stim': '/root/experiment/stim/bos_syn_tag.wav', 'iti': 6814}\n"
     ]
    },
    {
     "name": "stderr",
     "output_type": "stream",
     "text": [
      "2017-10-24 01:48:10,362 root         INFO     Running trial {'tr_num': 380, 'stim': '/root/experiment/stim/con_tag.wav', 'iti': 5932}\n"
     ]
    },
    {
     "name": "stdout",
     "output_type": "stream",
     "text": [
      "{'tr_num': 380, 'stim': '/root/experiment/stim/con_tag.wav', 'iti': 5932}\n"
     ]
    },
    {
     "name": "stderr",
     "output_type": "stream",
     "text": [
      "2017-10-24 01:48:17,503 root         INFO     Running trial {'tr_num': 381, 'stim': '/root/experiment/stim/bos_rev_tag.wav', 'iti': 11345}\n"
     ]
    },
    {
     "name": "stdout",
     "output_type": "stream",
     "text": [
      "{'tr_num': 381, 'stim': '/root/experiment/stim/bos_rev_tag.wav', 'iti': 11345}\n"
     ]
    },
    {
     "name": "stderr",
     "output_type": "stream",
     "text": [
      "2017-10-24 01:48:30,084 root         INFO     Running trial {'tr_num': 382, 'stim': '/root/experiment/stim/con_tag.wav', 'iti': 8971}\n"
     ]
    },
    {
     "name": "stdout",
     "output_type": "stream",
     "text": [
      "{'tr_num': 382, 'stim': '/root/experiment/stim/con_tag.wav', 'iti': 8971}\n"
     ]
    },
    {
     "name": "stderr",
     "output_type": "stream",
     "text": [
      "2017-10-24 01:48:40,264 root         INFO     Running trial {'tr_num': 383, 'stim': '/root/experiment/stim/bos_tag.wav', 'iti': 5696}\n"
     ]
    },
    {
     "name": "stdout",
     "output_type": "stream",
     "text": [
      "{'tr_num': 383, 'stim': '/root/experiment/stim/bos_tag.wav', 'iti': 5696}\n"
     ]
    },
    {
     "name": "stderr",
     "output_type": "stream",
     "text": [
      "2017-10-24 01:48:47,229 root         INFO     Running trial {'tr_num': 384, 'stim': '/root/experiment/stim/bos_syn_tag.wav', 'iti': 5455}\n"
     ]
    },
    {
     "name": "stdout",
     "output_type": "stream",
     "text": [
      "{'tr_num': 384, 'stim': '/root/experiment/stim/bos_syn_tag.wav', 'iti': 5455}\n"
     ]
    },
    {
     "name": "stderr",
     "output_type": "stream",
     "text": [
      "2017-10-24 01:48:53,947 root         INFO     Running trial {'tr_num': 385, 'stim': '/root/experiment/stim/con_tag.wav', 'iti': 10392}\n"
     ]
    },
    {
     "name": "stdout",
     "output_type": "stream",
     "text": [
      "{'tr_num': 385, 'stim': '/root/experiment/stim/con_tag.wav', 'iti': 10392}\n"
     ]
    },
    {
     "name": "stderr",
     "output_type": "stream",
     "text": [
      "2017-10-24 01:49:05,818 root         INFO     Running trial {'tr_num': 386, 'stim': '/root/experiment/stim/bos_tag.wav', 'iti': 6481}\n"
     ]
    },
    {
     "name": "stdout",
     "output_type": "stream",
     "text": [
      "{'tr_num': 386, 'stim': '/root/experiment/stim/bos_tag.wav', 'iti': 6481}\n"
     ]
    },
    {
     "name": "stderr",
     "output_type": "stream",
     "text": [
      "2017-10-24 01:49:13,607 root         INFO     Running trial {'tr_num': 387, 'stim': '/root/experiment/stim/bos_rev_tag.wav', 'iti': 10362}\n"
     ]
    },
    {
     "name": "stdout",
     "output_type": "stream",
     "text": [
      "{'tr_num': 387, 'stim': '/root/experiment/stim/bos_rev_tag.wav', 'iti': 10362}\n"
     ]
    },
    {
     "name": "stderr",
     "output_type": "stream",
     "text": [
      "2017-10-24 01:49:25,363 root         INFO     Running trial {'tr_num': 388, 'stim': '/root/experiment/stim/bos_tag.wav', 'iti': 7607}\n"
     ]
    },
    {
     "name": "stdout",
     "output_type": "stream",
     "text": [
      "{'tr_num': 388, 'stim': '/root/experiment/stim/bos_tag.wav', 'iti': 7607}\n"
     ]
    },
    {
     "name": "stderr",
     "output_type": "stream",
     "text": [
      "2017-10-24 01:49:34,328 root         INFO     Running trial {'tr_num': 389, 'stim': '/root/experiment/stim/bos_syn_tag.wav', 'iti': 7871}\n"
     ]
    },
    {
     "name": "stdout",
     "output_type": "stream",
     "text": [
      "{'tr_num': 389, 'stim': '/root/experiment/stim/bos_syn_tag.wav', 'iti': 7871}\n"
     ]
    },
    {
     "name": "stderr",
     "output_type": "stream",
     "text": [
      "2017-10-24 01:49:43,590 root         INFO     Running trial {'tr_num': 390, 'stim': '/root/experiment/stim/bos_syn_tag.wav', 'iti': 10849}\n"
     ]
    },
    {
     "name": "stdout",
     "output_type": "stream",
     "text": [
      "{'tr_num': 390, 'stim': '/root/experiment/stim/bos_syn_tag.wav', 'iti': 10849}\n"
     ]
    },
    {
     "name": "stderr",
     "output_type": "stream",
     "text": [
      "2017-10-24 01:49:55,842 root         INFO     Running trial {'tr_num': 391, 'stim': '/root/experiment/stim/bos_syn_tag.wav', 'iti': 10485}\n"
     ]
    },
    {
     "name": "stdout",
     "output_type": "stream",
     "text": [
      "{'tr_num': 391, 'stim': '/root/experiment/stim/bos_syn_tag.wav', 'iti': 10485}\n"
     ]
    },
    {
     "name": "stderr",
     "output_type": "stream",
     "text": [
      "2017-10-24 01:50:07,532 root         INFO     Running trial {'tr_num': 392, 'stim': '/root/experiment/stim/bos_syn_tag.wav', 'iti': 7764}\n"
     ]
    },
    {
     "name": "stdout",
     "output_type": "stream",
     "text": [
      "{'tr_num': 392, 'stim': '/root/experiment/stim/bos_syn_tag.wav', 'iti': 7764}\n"
     ]
    },
    {
     "name": "stderr",
     "output_type": "stream",
     "text": [
      "2017-10-24 01:50:16,597 root         INFO     Running trial {'tr_num': 393, 'stim': '/root/experiment/stim/con_tag.wav', 'iti': 10218}\n"
     ]
    },
    {
     "name": "stdout",
     "output_type": "stream",
     "text": [
      "{'tr_num': 393, 'stim': '/root/experiment/stim/con_tag.wav', 'iti': 10218}\n"
     ]
    },
    {
     "name": "stderr",
     "output_type": "stream",
     "text": [
      "2017-10-24 01:50:28,126 root         INFO     Running trial {'tr_num': 394, 'stim': '/root/experiment/stim/bos_rev_tag.wav', 'iti': 7244}\n"
     ]
    },
    {
     "name": "stdout",
     "output_type": "stream",
     "text": [
      "{'tr_num': 394, 'stim': '/root/experiment/stim/bos_rev_tag.wav', 'iti': 7244}\n"
     ]
    },
    {
     "name": "stderr",
     "output_type": "stream",
     "text": [
      "2017-10-24 01:50:36,756 root         INFO     Running trial {'tr_num': 395, 'stim': '/root/experiment/stim/con_tag.wav', 'iti': 7096}\n"
     ]
    },
    {
     "name": "stdout",
     "output_type": "stream",
     "text": [
      "{'tr_num': 395, 'stim': '/root/experiment/stim/con_tag.wav', 'iti': 7096}\n"
     ]
    },
    {
     "name": "stderr",
     "output_type": "stream",
     "text": [
      "2017-10-24 01:50:45,276 root         INFO     Running trial {'tr_num': 396, 'stim': '/root/experiment/stim/bos_rev_tag.wav', 'iti': 9477}\n"
     ]
    },
    {
     "name": "stdout",
     "output_type": "stream",
     "text": [
      "{'tr_num': 396, 'stim': '/root/experiment/stim/bos_rev_tag.wav', 'iti': 9477}\n"
     ]
    },
    {
     "name": "stderr",
     "output_type": "stream",
     "text": [
      "2017-10-24 01:50:56,372 root         INFO     Running trial {'tr_num': 397, 'stim': '/root/experiment/stim/bos_tag.wav', 'iti': 9640}\n"
     ]
    },
    {
     "name": "stdout",
     "output_type": "stream",
     "text": [
      "{'tr_num': 397, 'stim': '/root/experiment/stim/bos_tag.wav', 'iti': 9640}\n"
     ]
    },
    {
     "name": "stderr",
     "output_type": "stream",
     "text": [
      "2017-10-24 01:51:07,232 root         INFO     Running trial {'tr_num': 398, 'stim': '/root/experiment/stim/bos_tag.wav', 'iti': 11608}\n"
     ]
    },
    {
     "name": "stdout",
     "output_type": "stream",
     "text": [
      "{'tr_num': 398, 'stim': '/root/experiment/stim/bos_tag.wav', 'iti': 11608}\n"
     ]
    },
    {
     "name": "stderr",
     "output_type": "stream",
     "text": [
      "2017-10-24 01:51:20,729 root         INFO     Running trial {'tr_num': 399, 'stim': '/root/experiment/stim/bos_rev_tag.wav', 'iti': 7132}\n"
     ]
    },
    {
     "name": "stdout",
     "output_type": "stream",
     "text": [
      "{'tr_num': 399, 'stim': '/root/experiment/stim/bos_rev_tag.wav', 'iti': 7132}\n"
     ]
    },
    {
     "name": "stderr",
     "output_type": "stream",
     "text": [
      "2017-10-24 01:51:29,071 root         INFO     Running trial {'tr_num': 400, 'stim': '/root/experiment/stim/bos_tag.wav', 'iti': 5062}\n"
     ]
    },
    {
     "name": "stdout",
     "output_type": "stream",
     "text": [
      "{'tr_num': 400, 'stim': '/root/experiment/stim/bos_tag.wav', 'iti': 5062}\n"
     ]
    },
    {
     "name": "stderr",
     "output_type": "stream",
     "text": [
      "2017-10-24 01:51:35,453 root         INFO     Running trial {'tr_num': 401, 'stim': '/root/experiment/stim/con_tag.wav', 'iti': 10068}\n"
     ]
    },
    {
     "name": "stdout",
     "output_type": "stream",
     "text": [
      "{'tr_num': 401, 'stim': '/root/experiment/stim/con_tag.wav', 'iti': 10068}\n"
     ]
    },
    {
     "name": "stderr",
     "output_type": "stream",
     "text": [
      "2017-10-24 01:51:46,693 root         INFO     Running trial {'tr_num': 402, 'stim': '/root/experiment/stim/bos_rev_tag.wav', 'iti': 6510}\n"
     ]
    },
    {
     "name": "stdout",
     "output_type": "stream",
     "text": [
      "{'tr_num': 402, 'stim': '/root/experiment/stim/bos_rev_tag.wav', 'iti': 6510}\n"
     ]
    },
    {
     "name": "stderr",
     "output_type": "stream",
     "text": [
      "2017-10-24 01:51:54,473 root         INFO     Running trial {'tr_num': 403, 'stim': '/root/experiment/stim/bos_syn_tag.wav', 'iti': 11819}\n"
     ]
    },
    {
     "name": "stdout",
     "output_type": "stream",
     "text": [
      "{'tr_num': 403, 'stim': '/root/experiment/stim/bos_syn_tag.wav', 'iti': 11819}\n"
     ]
    },
    {
     "name": "stderr",
     "output_type": "stream",
     "text": [
      "2017-10-24 01:52:07,651 root         INFO     Running trial {'tr_num': 404, 'stim': '/root/experiment/stim/bos_tag.wav', 'iti': 9126}\n"
     ]
    },
    {
     "name": "stdout",
     "output_type": "stream",
     "text": [
      "{'tr_num': 404, 'stim': '/root/experiment/stim/bos_tag.wav', 'iti': 9126}\n"
     ]
    },
    {
     "name": "stderr",
     "output_type": "stream",
     "text": [
      "2017-10-24 01:52:17,998 root         INFO     Running trial {'tr_num': 405, 'stim': '/root/experiment/stim/bos_tag.wav', 'iti': 8148}\n"
     ]
    },
    {
     "name": "stdout",
     "output_type": "stream",
     "text": [
      "{'tr_num': 405, 'stim': '/root/experiment/stim/bos_tag.wav', 'iti': 8148}\n"
     ]
    },
    {
     "name": "stderr",
     "output_type": "stream",
     "text": [
      "2017-10-24 01:52:28,416 root         INFO     Running trial {'tr_num': 406, 'stim': '/root/experiment/stim/bos_rev_tag.wav', 'iti': 11805}\n"
     ]
    },
    {
     "name": "stdout",
     "output_type": "stream",
     "text": [
      "{'tr_num': 406, 'stim': '/root/experiment/stim/bos_rev_tag.wav', 'iti': 11805}\n"
     ]
    },
    {
     "name": "stderr",
     "output_type": "stream",
     "text": [
      "2017-10-24 01:52:42,291 root         INFO     Running trial {'tr_num': 407, 'stim': '/root/experiment/stim/bos_tag.wav', 'iti': 10711}\n"
     ]
    },
    {
     "name": "stdout",
     "output_type": "stream",
     "text": [
      "{'tr_num': 407, 'stim': '/root/experiment/stim/bos_tag.wav', 'iti': 10711}\n"
     ]
    },
    {
     "name": "stderr",
     "output_type": "stream",
     "text": [
      "2017-10-24 01:52:54,490 root         INFO     Running trial {'tr_num': 408, 'stim': '/root/experiment/stim/bos_tag.wav', 'iti': 8882}\n"
     ]
    },
    {
     "name": "stdout",
     "output_type": "stream",
     "text": [
      "{'tr_num': 408, 'stim': '/root/experiment/stim/bos_tag.wav', 'iti': 8882}\n"
     ]
    },
    {
     "name": "stderr",
     "output_type": "stream",
     "text": [
      "2017-10-24 01:53:04,609 root         INFO     Running trial {'tr_num': 409, 'stim': '/root/experiment/stim/con_tag.wav', 'iti': 10029}\n"
     ]
    },
    {
     "name": "stdout",
     "output_type": "stream",
     "text": [
      "{'tr_num': 409, 'stim': '/root/experiment/stim/con_tag.wav', 'iti': 10029}\n"
     ]
    },
    {
     "name": "stderr",
     "output_type": "stream",
     "text": [
      "2017-10-24 01:53:15,806 root         INFO     Running trial {'tr_num': 410, 'stim': '/root/experiment/stim/bos_tag.wav', 'iti': 7174}\n"
     ]
    },
    {
     "name": "stdout",
     "output_type": "stream",
     "text": [
      "{'tr_num': 410, 'stim': '/root/experiment/stim/bos_tag.wav', 'iti': 7174}\n"
     ]
    },
    {
     "name": "stderr",
     "output_type": "stream",
     "text": [
      "2017-10-24 01:53:24,358 root         INFO     Running trial {'tr_num': 411, 'stim': '/root/experiment/stim/con_tag.wav', 'iti': 6756}\n"
     ]
    },
    {
     "name": "stdout",
     "output_type": "stream",
     "text": [
      "{'tr_num': 411, 'stim': '/root/experiment/stim/con_tag.wav', 'iti': 6756}\n"
     ]
    },
    {
     "name": "stderr",
     "output_type": "stream",
     "text": [
      "2017-10-24 01:53:32,283 root         INFO     Running trial {'tr_num': 412, 'stim': '/root/experiment/stim/bos_rev_tag.wav', 'iti': 7214}\n"
     ]
    },
    {
     "name": "stdout",
     "output_type": "stream",
     "text": [
      "{'tr_num': 412, 'stim': '/root/experiment/stim/bos_rev_tag.wav', 'iti': 7214}\n"
     ]
    },
    {
     "name": "stderr",
     "output_type": "stream",
     "text": [
      "2017-10-24 01:53:40,700 root         INFO     Running trial {'tr_num': 413, 'stim': '/root/experiment/stim/con_tag.wav', 'iti': 5128}\n"
     ]
    },
    {
     "name": "stdout",
     "output_type": "stream",
     "text": [
      "{'tr_num': 413, 'stim': '/root/experiment/stim/con_tag.wav', 'iti': 5128}\n"
     ]
    },
    {
     "name": "stderr",
     "output_type": "stream",
     "text": [
      "2017-10-24 01:53:47,355 root         INFO     Running trial {'tr_num': 414, 'stim': '/root/experiment/stim/bos_syn_tag.wav', 'iti': 6508}\n"
     ]
    },
    {
     "name": "stdout",
     "output_type": "stream",
     "text": [
      "{'tr_num': 414, 'stim': '/root/experiment/stim/bos_syn_tag.wav', 'iti': 6508}\n"
     ]
    },
    {
     "name": "stderr",
     "output_type": "stream",
     "text": [
      "2017-10-24 01:53:55,391 root         INFO     Running trial {'tr_num': 415, 'stim': '/root/experiment/stim/bos_tag.wav', 'iti': 9401}\n"
     ]
    },
    {
     "name": "stdout",
     "output_type": "stream",
     "text": [
      "{'tr_num': 415, 'stim': '/root/experiment/stim/bos_tag.wav', 'iti': 9401}\n"
     ]
    },
    {
     "name": "stderr",
     "output_type": "stream",
     "text": [
      "2017-10-24 01:54:06,000 root         INFO     Running trial {'tr_num': 416, 'stim': '/root/experiment/stim/bos_rev_tag.wav', 'iti': 8943}\n"
     ]
    },
    {
     "name": "stdout",
     "output_type": "stream",
     "text": [
      "{'tr_num': 416, 'stim': '/root/experiment/stim/bos_rev_tag.wav', 'iti': 8943}\n"
     ]
    },
    {
     "name": "stderr",
     "output_type": "stream",
     "text": [
      "2017-10-24 01:54:16,243 root         INFO     Running trial {'tr_num': 417, 'stim': '/root/experiment/stim/bos_tag.wav', 'iti': 11930}\n"
     ]
    },
    {
     "name": "stdout",
     "output_type": "stream",
     "text": [
      "{'tr_num': 417, 'stim': '/root/experiment/stim/bos_tag.wav', 'iti': 11930}\n"
     ]
    },
    {
     "name": "stderr",
     "output_type": "stream",
     "text": [
      "2017-10-24 01:54:29,427 root         INFO     Running trial {'tr_num': 418, 'stim': '/root/experiment/stim/bos_tag.wav', 'iti': 7297}\n"
     ]
    },
    {
     "name": "stdout",
     "output_type": "stream",
     "text": [
      "{'tr_num': 418, 'stim': '/root/experiment/stim/bos_tag.wav', 'iti': 7297}\n"
     ]
    },
    {
     "name": "stderr",
     "output_type": "stream",
     "text": [
      "2017-10-24 01:54:37,950 root         INFO     Running trial {'tr_num': 419, 'stim': '/root/experiment/stim/bos_rev_tag.wav', 'iti': 6192}\n"
     ]
    },
    {
     "name": "stdout",
     "output_type": "stream",
     "text": [
      "{'tr_num': 419, 'stim': '/root/experiment/stim/bos_rev_tag.wav', 'iti': 6192}\n"
     ]
    },
    {
     "name": "stderr",
     "output_type": "stream",
     "text": [
      "2017-10-24 01:54:45,503 root         INFO     Running trial {'tr_num': 420, 'stim': '/root/experiment/stim/con_tag.wav', 'iti': 7381}\n"
     ]
    },
    {
     "name": "stdout",
     "output_type": "stream",
     "text": [
      "{'tr_num': 420, 'stim': '/root/experiment/stim/con_tag.wav', 'iti': 7381}\n"
     ]
    },
    {
     "name": "stderr",
     "output_type": "stream",
     "text": [
      "2017-10-24 01:54:53,987 root         INFO     Running trial {'tr_num': 421, 'stim': '/root/experiment/stim/bos_syn_tag.wav', 'iti': 8576}\n"
     ]
    },
    {
     "name": "stdout",
     "output_type": "stream",
     "text": [
      "{'tr_num': 421, 'stim': '/root/experiment/stim/bos_syn_tag.wav', 'iti': 8576}\n"
     ]
    },
    {
     "name": "stderr",
     "output_type": "stream",
     "text": [
      "2017-10-24 01:55:03,845 root         INFO     Running trial {'tr_num': 422, 'stim': '/root/experiment/stim/con_tag.wav', 'iti': 8199}\n"
     ]
    },
    {
     "name": "stdout",
     "output_type": "stream",
     "text": [
      "{'tr_num': 422, 'stim': '/root/experiment/stim/con_tag.wav', 'iti': 8199}\n"
     ]
    },
    {
     "name": "stderr",
     "output_type": "stream",
     "text": [
      "2017-10-24 01:55:13,213 root         INFO     Running trial {'tr_num': 423, 'stim': '/root/experiment/stim/con_tag.wav', 'iti': 8625}\n"
     ]
    },
    {
     "name": "stdout",
     "output_type": "stream",
     "text": [
      "{'tr_num': 423, 'stim': '/root/experiment/stim/con_tag.wav', 'iti': 8625}\n"
     ]
    },
    {
     "name": "stderr",
     "output_type": "stream",
     "text": [
      "2017-10-24 01:55:22,993 root         INFO     Running trial {'tr_num': 424, 'stim': '/root/experiment/stim/con_tag.wav', 'iti': 10950}\n"
     ]
    },
    {
     "name": "stdout",
     "output_type": "stream",
     "text": [
      "{'tr_num': 424, 'stim': '/root/experiment/stim/con_tag.wav', 'iti': 10950}\n"
     ]
    },
    {
     "name": "stderr",
     "output_type": "stream",
     "text": [
      "2017-10-24 01:55:35,038 root         INFO     Running trial {'tr_num': 425, 'stim': '/root/experiment/stim/bos_tag.wav', 'iti': 7594}\n"
     ]
    },
    {
     "name": "stdout",
     "output_type": "stream",
     "text": [
      "{'tr_num': 425, 'stim': '/root/experiment/stim/bos_tag.wav', 'iti': 7594}\n"
     ]
    },
    {
     "name": "stderr",
     "output_type": "stream",
     "text": [
      "2017-10-24 01:55:43,925 root         INFO     Running trial {'tr_num': 426, 'stim': '/root/experiment/stim/bos_rev_tag.wav', 'iti': 9931}\n"
     ]
    },
    {
     "name": "stdout",
     "output_type": "stream",
     "text": [
      "{'tr_num': 426, 'stim': '/root/experiment/stim/bos_rev_tag.wav', 'iti': 9931}\n"
     ]
    },
    {
     "name": "stderr",
     "output_type": "stream",
     "text": [
      "2017-10-24 01:55:55,117 root         INFO     Running trial {'tr_num': 427, 'stim': '/root/experiment/stim/con_tag.wav', 'iti': 5890}\n"
     ]
    },
    {
     "name": "stdout",
     "output_type": "stream",
     "text": [
      "{'tr_num': 427, 'stim': '/root/experiment/stim/con_tag.wav', 'iti': 5890}\n"
     ]
    },
    {
     "name": "stderr",
     "output_type": "stream",
     "text": [
      "2017-10-24 01:56:02,107 root         INFO     Running trial {'tr_num': 428, 'stim': '/root/experiment/stim/bos_syn_tag.wav', 'iti': 6567}\n"
     ]
    },
    {
     "name": "stdout",
     "output_type": "stream",
     "text": [
      "{'tr_num': 428, 'stim': '/root/experiment/stim/bos_syn_tag.wav', 'iti': 6567}\n"
     ]
    },
    {
     "name": "stderr",
     "output_type": "stream",
     "text": [
      "2017-10-24 01:56:09,884 root         INFO     Running trial {'tr_num': 429, 'stim': '/root/experiment/stim/con_tag.wav', 'iti': 8146}\n"
     ]
    },
    {
     "name": "stdout",
     "output_type": "stream",
     "text": [
      "{'tr_num': 429, 'stim': '/root/experiment/stim/con_tag.wav', 'iti': 8146}\n"
     ]
    },
    {
     "name": "stderr",
     "output_type": "stream",
     "text": [
      "2017-10-24 01:56:19,137 root         INFO     Running trial {'tr_num': 430, 'stim': '/root/experiment/stim/bos_tag.wav', 'iti': 8853}\n"
     ]
    },
    {
     "name": "stdout",
     "output_type": "stream",
     "text": [
      "{'tr_num': 430, 'stim': '/root/experiment/stim/bos_tag.wav', 'iti': 8853}\n"
     ]
    },
    {
     "name": "stderr",
     "output_type": "stream",
     "text": [
      "2017-10-24 01:56:29,240 root         INFO     Running trial {'tr_num': 431, 'stim': '/root/experiment/stim/bos_tag.wav', 'iti': 7318}\n"
     ]
    },
    {
     "name": "stdout",
     "output_type": "stream",
     "text": [
      "{'tr_num': 431, 'stim': '/root/experiment/stim/bos_tag.wav', 'iti': 7318}\n"
     ]
    },
    {
     "name": "stderr",
     "output_type": "stream",
     "text": [
      "2017-10-24 01:56:37,901 root         INFO     Running trial {'tr_num': 432, 'stim': '/root/experiment/stim/bos_rev_tag.wav', 'iti': 10179}\n"
     ]
    },
    {
     "name": "stdout",
     "output_type": "stream",
     "text": [
      "{'tr_num': 432, 'stim': '/root/experiment/stim/bos_rev_tag.wav', 'iti': 10179}\n"
     ]
    },
    {
     "name": "stderr",
     "output_type": "stream",
     "text": [
      "2017-10-24 01:56:49,285 root         INFO     Running trial {'tr_num': 433, 'stim': '/root/experiment/stim/bos_syn_tag.wav', 'iti': 7669}\n"
     ]
    },
    {
     "name": "stdout",
     "output_type": "stream",
     "text": [
      "{'tr_num': 433, 'stim': '/root/experiment/stim/bos_syn_tag.wav', 'iti': 7669}\n"
     ]
    },
    {
     "name": "stderr",
     "output_type": "stream",
     "text": [
      "2017-10-24 01:56:58,295 root         INFO     Running trial {'tr_num': 434, 'stim': '/root/experiment/stim/bos_rev_tag.wav', 'iti': 7684}\n"
     ]
    },
    {
     "name": "stdout",
     "output_type": "stream",
     "text": [
      "{'tr_num': 434, 'stim': '/root/experiment/stim/bos_rev_tag.wav', 'iti': 7684}\n"
     ]
    },
    {
     "name": "stderr",
     "output_type": "stream",
     "text": [
      "2017-10-24 01:57:07,458 root         INFO     Running trial {'tr_num': 435, 'stim': '/root/experiment/stim/bos_tag.wav', 'iti': 7152}\n"
     ]
    },
    {
     "name": "stdout",
     "output_type": "stream",
     "text": [
      "{'tr_num': 435, 'stim': '/root/experiment/stim/bos_tag.wav', 'iti': 7152}\n"
     ]
    },
    {
     "name": "stderr",
     "output_type": "stream",
     "text": [
      "2017-10-24 01:57:15,843 root         INFO     Running trial {'tr_num': 436, 'stim': '/root/experiment/stim/bos_tag.wav', 'iti': 5673}\n"
     ]
    },
    {
     "name": "stdout",
     "output_type": "stream",
     "text": [
      "{'tr_num': 436, 'stim': '/root/experiment/stim/bos_tag.wav', 'iti': 5673}\n"
     ]
    },
    {
     "name": "stderr",
     "output_type": "stream",
     "text": [
      "2017-10-24 01:57:22,748 root         INFO     Running trial {'tr_num': 437, 'stim': '/root/experiment/stim/con_tag.wav', 'iti': 11557}\n"
     ]
    },
    {
     "name": "stdout",
     "output_type": "stream",
     "text": [
      "{'tr_num': 437, 'stim': '/root/experiment/stim/con_tag.wav', 'iti': 11557}\n"
     ]
    },
    {
     "name": "stderr",
     "output_type": "stream",
     "text": [
      "2017-10-24 01:57:35,413 root         INFO     Running trial {'tr_num': 438, 'stim': '/root/experiment/stim/con_tag.wav', 'iti': 5465}\n"
     ]
    },
    {
     "name": "stdout",
     "output_type": "stream",
     "text": [
      "{'tr_num': 438, 'stim': '/root/experiment/stim/con_tag.wav', 'iti': 5465}\n"
     ]
    },
    {
     "name": "stderr",
     "output_type": "stream",
     "text": [
      "2017-10-24 01:57:42,061 root         INFO     Running trial {'tr_num': 439, 'stim': '/root/experiment/stim/bos_syn_tag.wav', 'iti': 7300}\n"
     ]
    },
    {
     "name": "stdout",
     "output_type": "stream",
     "text": [
      "{'tr_num': 439, 'stim': '/root/experiment/stim/bos_syn_tag.wav', 'iti': 7300}\n"
     ]
    },
    {
     "name": "stderr",
     "output_type": "stream",
     "text": [
      "2017-10-24 01:57:50,567 root         INFO     Running trial {'tr_num': 440, 'stim': '/root/experiment/stim/bos_tag.wav', 'iti': 8097}\n"
     ]
    },
    {
     "name": "stdout",
     "output_type": "stream",
     "text": [
      "{'tr_num': 440, 'stim': '/root/experiment/stim/bos_tag.wav', 'iti': 8097}\n"
     ]
    },
    {
     "name": "stderr",
     "output_type": "stream",
     "text": [
      "2017-10-24 01:57:59,901 root         INFO     Running trial {'tr_num': 441, 'stim': '/root/experiment/stim/con_tag.wav', 'iti': 6602}\n"
     ]
    },
    {
     "name": "stdout",
     "output_type": "stream",
     "text": [
      "{'tr_num': 441, 'stim': '/root/experiment/stim/con_tag.wav', 'iti': 6602}\n"
     ]
    },
    {
     "name": "stderr",
     "output_type": "stream",
     "text": [
      "2017-10-24 01:58:07,831 root         INFO     Running trial {'tr_num': 442, 'stim': '/root/experiment/stim/bos_rev_tag.wav', 'iti': 9725}\n"
     ]
    },
    {
     "name": "stdout",
     "output_type": "stream",
     "text": [
      "{'tr_num': 442, 'stim': '/root/experiment/stim/bos_rev_tag.wav', 'iti': 9725}\n"
     ]
    },
    {
     "name": "stderr",
     "output_type": "stream",
     "text": [
      "2017-10-24 01:58:19,182 root         INFO     Running trial {'tr_num': 443, 'stim': '/root/experiment/stim/bos_rev_tag.wav', 'iti': 8705}\n"
     ]
    },
    {
     "name": "stdout",
     "output_type": "stream",
     "text": [
      "{'tr_num': 443, 'stim': '/root/experiment/stim/bos_rev_tag.wav', 'iti': 8705}\n"
     ]
    },
    {
     "name": "stderr",
     "output_type": "stream",
     "text": [
      "2017-10-24 01:58:29,075 root         INFO     Running trial {'tr_num': 444, 'stim': '/root/experiment/stim/bos_syn_tag.wav', 'iti': 6640}\n"
     ]
    },
    {
     "name": "stdout",
     "output_type": "stream",
     "text": [
      "{'tr_num': 444, 'stim': '/root/experiment/stim/bos_syn_tag.wav', 'iti': 6640}\n"
     ]
    },
    {
     "name": "stderr",
     "output_type": "stream",
     "text": [
      "2017-10-24 01:58:37,138 root         INFO     Running trial {'tr_num': 445, 'stim': '/root/experiment/stim/bos_syn_tag.wav', 'iti': 5732}\n"
     ]
    },
    {
     "name": "stdout",
     "output_type": "stream",
     "text": [
      "{'tr_num': 445, 'stim': '/root/experiment/stim/bos_syn_tag.wav', 'iti': 5732}\n"
     ]
    },
    {
     "name": "stderr",
     "output_type": "stream",
     "text": [
      "2017-10-24 01:58:44,264 root         INFO     Running trial {'tr_num': 446, 'stim': '/root/experiment/stim/bos_syn_tag.wav', 'iti': 5794}\n"
     ]
    },
    {
     "name": "stdout",
     "output_type": "stream",
     "text": [
      "{'tr_num': 446, 'stim': '/root/experiment/stim/bos_syn_tag.wav', 'iti': 5794}\n"
     ]
    },
    {
     "name": "stderr",
     "output_type": "stream",
     "text": [
      "2017-10-24 01:58:51,275 root         INFO     Running trial {'tr_num': 447, 'stim': '/root/experiment/stim/bos_syn_tag.wav', 'iti': 7573}\n"
     ]
    },
    {
     "name": "stdout",
     "output_type": "stream",
     "text": [
      "{'tr_num': 447, 'stim': '/root/experiment/stim/bos_syn_tag.wav', 'iti': 7573}\n"
     ]
    },
    {
     "name": "stderr",
     "output_type": "stream",
     "text": [
      "2017-10-24 01:59:00,042 root         INFO     Running trial {'tr_num': 448, 'stim': '/root/experiment/stim/bos_tag.wav', 'iti': 6129}\n"
     ]
    },
    {
     "name": "stdout",
     "output_type": "stream",
     "text": [
      "{'tr_num': 448, 'stim': '/root/experiment/stim/bos_tag.wav', 'iti': 6129}\n"
     ]
    },
    {
     "name": "stderr",
     "output_type": "stream",
     "text": [
      "2017-10-24 01:59:07,458 root         INFO     Running trial {'tr_num': 449, 'stim': '/root/experiment/stim/con_tag.wav', 'iti': 7712}\n"
     ]
    },
    {
     "name": "stdout",
     "output_type": "stream",
     "text": [
      "{'tr_num': 449, 'stim': '/root/experiment/stim/con_tag.wav', 'iti': 7712}\n"
     ]
    },
    {
     "name": "stderr",
     "output_type": "stream",
     "text": [
      "2017-10-24 01:59:16,455 root         INFO     Running trial {'tr_num': 450, 'stim': '/root/experiment/stim/bos_syn_tag.wav', 'iti': 8671}\n"
     ]
    },
    {
     "name": "stdout",
     "output_type": "stream",
     "text": [
      "{'tr_num': 450, 'stim': '/root/experiment/stim/bos_syn_tag.wav', 'iti': 8671}\n"
     ]
    },
    {
     "name": "stderr",
     "output_type": "stream",
     "text": [
      "2017-10-24 01:59:26,348 root         INFO     Running trial {'tr_num': 451, 'stim': '/root/experiment/stim/con_tag.wav', 'iti': 11167}\n"
     ]
    },
    {
     "name": "stdout",
     "output_type": "stream",
     "text": [
      "{'tr_num': 451, 'stim': '/root/experiment/stim/con_tag.wav', 'iti': 11167}\n"
     ]
    },
    {
     "name": "stderr",
     "output_type": "stream",
     "text": [
      "2017-10-24 01:59:38,614 root         INFO     Running trial {'tr_num': 452, 'stim': '/root/experiment/stim/con_tag.wav', 'iti': 9368}\n"
     ]
    },
    {
     "name": "stdout",
     "output_type": "stream",
     "text": [
      "{'tr_num': 452, 'stim': '/root/experiment/stim/con_tag.wav', 'iti': 9368}\n"
     ]
    },
    {
     "name": "stderr",
     "output_type": "stream",
     "text": [
      "2017-10-24 01:59:49,230 root         INFO     Running trial {'tr_num': 453, 'stim': '/root/experiment/stim/bos_syn_tag.wav', 'iti': 11898}\n"
     ]
    },
    {
     "name": "stdout",
     "output_type": "stream",
     "text": [
      "{'tr_num': 453, 'stim': '/root/experiment/stim/bos_syn_tag.wav', 'iti': 11898}\n"
     ]
    },
    {
     "name": "stderr",
     "output_type": "stream",
     "text": [
      "2017-10-24 02:00:03,117 root         INFO     Running trial {'tr_num': 454, 'stim': '/root/experiment/stim/bos_syn_tag.wav', 'iti': 7058}\n"
     ]
    },
    {
     "name": "stdout",
     "output_type": "stream",
     "text": [
      "{'tr_num': 454, 'stim': '/root/experiment/stim/bos_syn_tag.wav', 'iti': 7058}\n"
     ]
    },
    {
     "name": "stderr",
     "output_type": "stream",
     "text": [
      "2017-10-24 02:00:11,386 root         INFO     Running trial {'tr_num': 455, 'stim': '/root/experiment/stim/bos_syn_tag.wav', 'iti': 9779}\n"
     ]
    },
    {
     "name": "stdout",
     "output_type": "stream",
     "text": [
      "{'tr_num': 455, 'stim': '/root/experiment/stim/bos_syn_tag.wav', 'iti': 9779}\n"
     ]
    },
    {
     "name": "stderr",
     "output_type": "stream",
     "text": [
      "2017-10-24 02:00:22,451 root         INFO     Running trial {'tr_num': 456, 'stim': '/root/experiment/stim/bos_rev_tag.wav', 'iti': 8433}\n"
     ]
    },
    {
     "name": "stdout",
     "output_type": "stream",
     "text": [
      "{'tr_num': 456, 'stim': '/root/experiment/stim/bos_rev_tag.wav', 'iti': 8433}\n"
     ]
    },
    {
     "name": "stderr",
     "output_type": "stream",
     "text": [
      "2017-10-24 02:00:32,176 root         INFO     Running trial {'tr_num': 457, 'stim': '/root/experiment/stim/bos_rev_tag.wav', 'iti': 8049}\n"
     ]
    },
    {
     "name": "stdout",
     "output_type": "stream",
     "text": [
      "{'tr_num': 457, 'stim': '/root/experiment/stim/bos_rev_tag.wav', 'iti': 8049}\n"
     ]
    },
    {
     "name": "stderr",
     "output_type": "stream",
     "text": [
      "2017-10-24 02:00:41,649 root         INFO     Running trial {'tr_num': 458, 'stim': '/root/experiment/stim/bos_rev_tag.wav', 'iti': 11472}\n"
     ]
    },
    {
     "name": "stdout",
     "output_type": "stream",
     "text": [
      "{'tr_num': 458, 'stim': '/root/experiment/stim/bos_rev_tag.wav', 'iti': 11472}\n"
     ]
    },
    {
     "name": "stderr",
     "output_type": "stream",
     "text": [
      "2017-10-24 02:00:54,376 root         INFO     Running trial {'tr_num': 459, 'stim': '/root/experiment/stim/bos_rev_tag.wav', 'iti': 11365}\n"
     ]
    },
    {
     "name": "stdout",
     "output_type": "stream",
     "text": [
      "{'tr_num': 459, 'stim': '/root/experiment/stim/bos_rev_tag.wav', 'iti': 11365}\n"
     ]
    },
    {
     "name": "stderr",
     "output_type": "stream",
     "text": [
      "2017-10-24 02:01:06,988 root         INFO     Running trial {'tr_num': 460, 'stim': '/root/experiment/stim/bos_rev_tag.wav', 'iti': 6195}\n"
     ]
    },
    {
     "name": "stdout",
     "output_type": "stream",
     "text": [
      "{'tr_num': 460, 'stim': '/root/experiment/stim/bos_rev_tag.wav', 'iti': 6195}\n"
     ]
    },
    {
     "name": "stderr",
     "output_type": "stream",
     "text": [
      "2017-10-24 02:01:14,375 root         INFO     Running trial {'tr_num': 461, 'stim': '/root/experiment/stim/con_tag.wav', 'iti': 11909}\n"
     ]
    },
    {
     "name": "stdout",
     "output_type": "stream",
     "text": [
      "{'tr_num': 461, 'stim': '/root/experiment/stim/con_tag.wav', 'iti': 11909}\n"
     ]
    },
    {
     "name": "stderr",
     "output_type": "stream",
     "text": [
      "2017-10-24 02:01:27,406 root         INFO     Running trial {'tr_num': 462, 'stim': '/root/experiment/stim/bos_tag.wav', 'iti': 8579}\n"
     ]
    },
    {
     "name": "stdout",
     "output_type": "stream",
     "text": [
      "{'tr_num': 462, 'stim': '/root/experiment/stim/bos_tag.wav', 'iti': 8579}\n"
     ]
    },
    {
     "name": "stderr",
     "output_type": "stream",
     "text": [
      "2017-10-24 02:01:37,272 root         INFO     Running trial {'tr_num': 463, 'stim': '/root/experiment/stim/con_tag.wav', 'iti': 6251}\n"
     ]
    },
    {
     "name": "stdout",
     "output_type": "stream",
     "text": [
      "{'tr_num': 463, 'stim': '/root/experiment/stim/con_tag.wav', 'iti': 6251}\n"
     ]
    },
    {
     "name": "stderr",
     "output_type": "stream",
     "text": [
      "2017-10-24 02:01:44,688 root         INFO     Running trial {'tr_num': 464, 'stim': '/root/experiment/stim/bos_tag.wav', 'iti': 10307}\n"
     ]
    },
    {
     "name": "stdout",
     "output_type": "stream",
     "text": [
      "{'tr_num': 464, 'stim': '/root/experiment/stim/bos_tag.wav', 'iti': 10307}\n"
     ]
    },
    {
     "name": "stderr",
     "output_type": "stream",
     "text": [
      "2017-10-24 02:01:56,221 root         INFO     Running trial {'tr_num': 465, 'stim': '/root/experiment/stim/con_tag.wav', 'iti': 5614}\n"
     ]
    },
    {
     "name": "stdout",
     "output_type": "stream",
     "text": [
      "{'tr_num': 465, 'stim': '/root/experiment/stim/con_tag.wav', 'iti': 5614}\n"
     ]
    },
    {
     "name": "stderr",
     "output_type": "stream",
     "text": [
      "2017-10-24 02:02:03,269 root         INFO     Running trial {'tr_num': 466, 'stim': '/root/experiment/stim/bos_rev_tag.wav', 'iti': 10124}\n"
     ]
    },
    {
     "name": "stdout",
     "output_type": "stream",
     "text": [
      "{'tr_num': 466, 'stim': '/root/experiment/stim/bos_rev_tag.wav', 'iti': 10124}\n"
     ]
    },
    {
     "name": "stderr",
     "output_type": "stream",
     "text": [
      "2017-10-24 02:02:14,720 root         INFO     Running trial {'tr_num': 467, 'stim': '/root/experiment/stim/bos_tag.wav', 'iti': 9315}\n"
     ]
    },
    {
     "name": "stdout",
     "output_type": "stream",
     "text": [
      "{'tr_num': 467, 'stim': '/root/experiment/stim/bos_tag.wav', 'iti': 9315}\n"
     ]
    },
    {
     "name": "stderr",
     "output_type": "stream",
     "text": [
      "2017-10-24 02:02:25,347 root         INFO     Running trial {'tr_num': 468, 'stim': '/root/experiment/stim/bos_tag.wav', 'iti': 7266}\n"
     ]
    },
    {
     "name": "stdout",
     "output_type": "stream",
     "text": [
      "{'tr_num': 468, 'stim': '/root/experiment/stim/bos_tag.wav', 'iti': 7266}\n"
     ]
    },
    {
     "name": "stderr",
     "output_type": "stream",
     "text": [
      "2017-10-24 02:02:33,846 root         INFO     Running trial {'tr_num': 469, 'stim': '/root/experiment/stim/bos_syn_tag.wav', 'iti': 6526}\n"
     ]
    },
    {
     "name": "stdout",
     "output_type": "stream",
     "text": [
      "{'tr_num': 469, 'stim': '/root/experiment/stim/bos_syn_tag.wav', 'iti': 6526}\n"
     ]
    },
    {
     "name": "stderr",
     "output_type": "stream",
     "text": [
      "2017-10-24 02:02:41,660 root         INFO     Running trial {'tr_num': 470, 'stim': '/root/experiment/stim/bos_syn_tag.wav', 'iti': 7881}\n"
     ]
    },
    {
     "name": "stdout",
     "output_type": "stream",
     "text": [
      "{'tr_num': 470, 'stim': '/root/experiment/stim/bos_syn_tag.wav', 'iti': 7881}\n"
     ]
    },
    {
     "name": "stderr",
     "output_type": "stream",
     "text": [
      "2017-10-24 02:02:50,738 root         INFO     Running trial {'tr_num': 471, 'stim': '/root/experiment/stim/bos_tag.wav', 'iti': 7897}\n"
     ]
    },
    {
     "name": "stdout",
     "output_type": "stream",
     "text": [
      "{'tr_num': 471, 'stim': '/root/experiment/stim/bos_tag.wav', 'iti': 7897}\n"
     ]
    },
    {
     "name": "stderr",
     "output_type": "stream",
     "text": [
      "2017-10-24 02:02:59,833 root         INFO     Running trial {'tr_num': 472, 'stim': '/root/experiment/stim/bos_rev_tag.wav', 'iti': 8222}\n"
     ]
    },
    {
     "name": "stdout",
     "output_type": "stream",
     "text": [
      "{'tr_num': 472, 'stim': '/root/experiment/stim/bos_rev_tag.wav', 'iti': 8222}\n"
     ]
    },
    {
     "name": "stderr",
     "output_type": "stream",
     "text": [
      "2017-10-24 02:03:09,327 root         INFO     Running trial {'tr_num': 473, 'stim': '/root/experiment/stim/bos_rev_tag.wav', 'iti': 5870}\n"
     ]
    },
    {
     "name": "stdout",
     "output_type": "stream",
     "text": [
      "{'tr_num': 473, 'stim': '/root/experiment/stim/bos_rev_tag.wav', 'iti': 5870}\n"
     ]
    },
    {
     "name": "stderr",
     "output_type": "stream",
     "text": [
      "2017-10-24 02:03:16,401 root         INFO     Running trial {'tr_num': 474, 'stim': '/root/experiment/stim/bos_rev_tag.wav', 'iti': 5068}\n"
     ]
    },
    {
     "name": "stdout",
     "output_type": "stream",
     "text": [
      "{'tr_num': 474, 'stim': '/root/experiment/stim/bos_rev_tag.wav', 'iti': 5068}\n"
     ]
    },
    {
     "name": "stderr",
     "output_type": "stream",
     "text": [
      "2017-10-24 02:03:22,703 root         INFO     Running trial {'tr_num': 475, 'stim': '/root/experiment/stim/bos_tag.wav', 'iti': 5647}\n"
     ]
    },
    {
     "name": "stdout",
     "output_type": "stream",
     "text": [
      "{'tr_num': 475, 'stim': '/root/experiment/stim/bos_tag.wav', 'iti': 5647}\n"
     ]
    },
    {
     "name": "stderr",
     "output_type": "stream",
     "text": [
      "2017-10-24 02:03:29,557 root         INFO     Running trial {'tr_num': 476, 'stim': '/root/experiment/stim/bos_tag.wav', 'iti': 10597}\n"
     ]
    },
    {
     "name": "stdout",
     "output_type": "stream",
     "text": [
      "{'tr_num': 476, 'stim': '/root/experiment/stim/bos_tag.wav', 'iti': 10597}\n"
     ]
    },
    {
     "name": "stderr",
     "output_type": "stream",
     "text": [
      "2017-10-24 02:03:41,576 root         INFO     Running trial {'tr_num': 477, 'stim': '/root/experiment/stim/bos_rev_tag.wav', 'iti': 6605}\n"
     ]
    },
    {
     "name": "stdout",
     "output_type": "stream",
     "text": [
      "{'tr_num': 477, 'stim': '/root/experiment/stim/bos_rev_tag.wav', 'iti': 6605}\n"
     ]
    },
    {
     "name": "stderr",
     "output_type": "stream",
     "text": [
      "2017-10-24 02:03:49,728 root         INFO     Running trial {'tr_num': 478, 'stim': '/root/experiment/stim/con_tag.wav', 'iti': 11180}\n"
     ]
    },
    {
     "name": "stdout",
     "output_type": "stream",
     "text": [
      "{'tr_num': 478, 'stim': '/root/experiment/stim/con_tag.wav', 'iti': 11180}\n"
     ]
    },
    {
     "name": "stderr",
     "output_type": "stream",
     "text": [
      "2017-10-24 02:04:02,022 root         INFO     Running trial {'tr_num': 479, 'stim': '/root/experiment/stim/bos_rev_tag.wav', 'iti': 5203}\n"
     ]
    },
    {
     "name": "stdout",
     "output_type": "stream",
     "text": [
      "{'tr_num': 479, 'stim': '/root/experiment/stim/bos_rev_tag.wav', 'iti': 5203}\n"
     ]
    },
    {
     "name": "stderr",
     "output_type": "stream",
     "text": [
      "2017-10-24 02:04:08,497 root         INFO     Running trial {'tr_num': 480, 'stim': '/root/experiment/stim/bos_syn_tag.wav', 'iti': 9474}\n"
     ]
    },
    {
     "name": "stdout",
     "output_type": "stream",
     "text": [
      "{'tr_num': 480, 'stim': '/root/experiment/stim/bos_syn_tag.wav', 'iti': 9474}\n"
     ]
    },
    {
     "name": "stderr",
     "output_type": "stream",
     "text": [
      "2017-10-24 02:04:19,202 root         INFO     Running trial {'tr_num': 481, 'stim': '/root/experiment/stim/con_tag.wav', 'iti': 7138}\n"
     ]
    },
    {
     "name": "stdout",
     "output_type": "stream",
     "text": [
      "{'tr_num': 481, 'stim': '/root/experiment/stim/con_tag.wav', 'iti': 7138}\n"
     ]
    },
    {
     "name": "stderr",
     "output_type": "stream",
     "text": [
      "2017-10-24 02:04:27,436 root         INFO     Running trial {'tr_num': 482, 'stim': '/root/experiment/stim/bos_tag.wav', 'iti': 9938}\n"
     ]
    },
    {
     "name": "stdout",
     "output_type": "stream",
     "text": [
      "{'tr_num': 482, 'stim': '/root/experiment/stim/bos_tag.wav', 'iti': 9938}\n"
     ]
    },
    {
     "name": "stderr",
     "output_type": "stream",
     "text": [
      "2017-10-24 02:04:38,593 root         INFO     Running trial {'tr_num': 483, 'stim': '/root/experiment/stim/bos_rev_tag.wav', 'iti': 6248}\n"
     ]
    },
    {
     "name": "stdout",
     "output_type": "stream",
     "text": [
      "{'tr_num': 483, 'stim': '/root/experiment/stim/bos_rev_tag.wav', 'iti': 6248}\n"
     ]
    },
    {
     "name": "stderr",
     "output_type": "stream",
     "text": [
      "2017-10-24 02:04:46,333 root         INFO     Running trial {'tr_num': 484, 'stim': '/root/experiment/stim/bos_rev_tag.wav', 'iti': 10588}\n"
     ]
    },
    {
     "name": "stdout",
     "output_type": "stream",
     "text": [
      "{'tr_num': 484, 'stim': '/root/experiment/stim/bos_rev_tag.wav', 'iti': 10588}\n"
     ]
    },
    {
     "name": "stderr",
     "output_type": "stream",
     "text": [
      "2017-10-24 02:04:58,134 root         INFO     Running trial {'tr_num': 485, 'stim': '/root/experiment/stim/bos_rev_tag.wav', 'iti': 7738}\n"
     ]
    },
    {
     "name": "stdout",
     "output_type": "stream",
     "text": [
      "{'tr_num': 485, 'stim': '/root/experiment/stim/bos_rev_tag.wav', 'iti': 7738}\n"
     ]
    },
    {
     "name": "stderr",
     "output_type": "stream",
     "text": [
      "2017-10-24 02:05:07,096 root         INFO     Running trial {'tr_num': 486, 'stim': '/root/experiment/stim/con_tag.wav', 'iti': 10946}\n"
     ]
    },
    {
     "name": "stdout",
     "output_type": "stream",
     "text": [
      "{'tr_num': 486, 'stim': '/root/experiment/stim/con_tag.wav', 'iti': 10946}\n"
     ]
    },
    {
     "name": "stderr",
     "output_type": "stream",
     "text": [
      "2017-10-24 02:05:19,284 root         INFO     Running trial {'tr_num': 487, 'stim': '/root/experiment/stim/bos_tag.wav', 'iti': 9790}\n"
     ]
    },
    {
     "name": "stdout",
     "output_type": "stream",
     "text": [
      "{'tr_num': 487, 'stim': '/root/experiment/stim/bos_tag.wav', 'iti': 9790}\n"
     ]
    },
    {
     "name": "stderr",
     "output_type": "stream",
     "text": [
      "2017-10-24 02:05:30,373 root         INFO     Running trial {'tr_num': 488, 'stim': '/root/experiment/stim/bos_tag.wav', 'iti': 7431}\n"
     ]
    },
    {
     "name": "stdout",
     "output_type": "stream",
     "text": [
      "{'tr_num': 488, 'stim': '/root/experiment/stim/bos_tag.wav', 'iti': 7431}\n"
     ]
    },
    {
     "name": "stderr",
     "output_type": "stream",
     "text": [
      "2017-10-24 02:05:39,004 root         INFO     Running trial {'tr_num': 489, 'stim': '/root/experiment/stim/bos_syn_tag.wav', 'iti': 7404}\n"
     ]
    },
    {
     "name": "stdout",
     "output_type": "stream",
     "text": [
      "{'tr_num': 489, 'stim': '/root/experiment/stim/bos_syn_tag.wav', 'iti': 7404}\n"
     ]
    },
    {
     "name": "stderr",
     "output_type": "stream",
     "text": [
      "2017-10-24 02:05:47,657 root         INFO     Running trial {'tr_num': 490, 'stim': '/root/experiment/stim/bos_tag.wav', 'iti': 10307}\n"
     ]
    },
    {
     "name": "stdout",
     "output_type": "stream",
     "text": [
      "{'tr_num': 490, 'stim': '/root/experiment/stim/bos_tag.wav', 'iti': 10307}\n"
     ]
    },
    {
     "name": "stderr",
     "output_type": "stream",
     "text": [
      "2017-10-24 02:05:59,386 root         INFO     Running trial {'tr_num': 491, 'stim': '/root/experiment/stim/con_tag.wav', 'iti': 5875}\n"
     ]
    },
    {
     "name": "stdout",
     "output_type": "stream",
     "text": [
      "{'tr_num': 491, 'stim': '/root/experiment/stim/con_tag.wav', 'iti': 5875}\n"
     ]
    },
    {
     "name": "stderr",
     "output_type": "stream",
     "text": [
      "2017-10-24 02:06:06,444 root         INFO     Running trial {'tr_num': 492, 'stim': '/root/experiment/stim/bos_tag.wav', 'iti': 8814}\n"
     ]
    },
    {
     "name": "stdout",
     "output_type": "stream",
     "text": [
      "{'tr_num': 492, 'stim': '/root/experiment/stim/bos_tag.wav', 'iti': 8814}\n"
     ]
    },
    {
     "name": "stderr",
     "output_type": "stream",
     "text": [
      "2017-10-24 02:06:16,555 root         INFO     Running trial {'tr_num': 493, 'stim': '/root/experiment/stim/bos_tag.wav', 'iti': 5224}\n"
     ]
    },
    {
     "name": "stdout",
     "output_type": "stream",
     "text": [
      "{'tr_num': 493, 'stim': '/root/experiment/stim/bos_tag.wav', 'iti': 5224}\n"
     ]
    },
    {
     "name": "stderr",
     "output_type": "stream",
     "text": [
      "2017-10-24 02:06:23,004 root         INFO     Running trial {'tr_num': 494, 'stim': '/root/experiment/stim/bos_syn_tag.wav', 'iti': 9955}\n"
     ]
    },
    {
     "name": "stdout",
     "output_type": "stream",
     "text": [
      "{'tr_num': 494, 'stim': '/root/experiment/stim/bos_syn_tag.wav', 'iti': 9955}\n"
     ]
    },
    {
     "name": "stderr",
     "output_type": "stream",
     "text": [
      "2017-10-24 02:06:34,391 root         INFO     Running trial {'tr_num': 495, 'stim': '/root/experiment/stim/bos_syn_tag.wav', 'iti': 8622}\n"
     ]
    },
    {
     "name": "stdout",
     "output_type": "stream",
     "text": [
      "{'tr_num': 495, 'stim': '/root/experiment/stim/bos_syn_tag.wav', 'iti': 8622}\n"
     ]
    },
    {
     "name": "stderr",
     "output_type": "stream",
     "text": [
      "2017-10-24 02:06:44,272 root         INFO     Running trial {'tr_num': 496, 'stim': '/root/experiment/stim/bos_rev_tag.wav', 'iti': 10498}\n"
     ]
    },
    {
     "name": "stdout",
     "output_type": "stream",
     "text": [
      "{'tr_num': 496, 'stim': '/root/experiment/stim/bos_rev_tag.wav', 'iti': 10498}\n"
     ]
    },
    {
     "name": "stderr",
     "output_type": "stream",
     "text": [
      "2017-10-24 02:06:56,099 root         INFO     Running trial {'tr_num': 497, 'stim': '/root/experiment/stim/bos_rev_tag.wav', 'iti': 7256}\n"
     ]
    },
    {
     "name": "stdout",
     "output_type": "stream",
     "text": [
      "{'tr_num': 497, 'stim': '/root/experiment/stim/bos_rev_tag.wav', 'iti': 7256}\n"
     ]
    },
    {
     "name": "stderr",
     "output_type": "stream",
     "text": [
      "2017-10-24 02:07:04,573 root         INFO     Running trial {'tr_num': 498, 'stim': '/root/experiment/stim/con_tag.wav', 'iti': 5261}\n"
     ]
    },
    {
     "name": "stdout",
     "output_type": "stream",
     "text": [
      "{'tr_num': 498, 'stim': '/root/experiment/stim/con_tag.wav', 'iti': 5261}\n"
     ]
    },
    {
     "name": "stderr",
     "output_type": "stream",
     "text": [
      "2017-10-24 02:07:10,998 root         INFO     Running trial {'tr_num': 499, 'stim': '/root/experiment/stim/bos_syn_tag.wav', 'iti': 7854}\n"
     ]
    },
    {
     "name": "stdout",
     "output_type": "stream",
     "text": [
      "{'tr_num': 499, 'stim': '/root/experiment/stim/bos_syn_tag.wav', 'iti': 7854}\n"
     ]
    },
    {
     "name": "stderr",
     "output_type": "stream",
     "text": [
      "2017-10-24 02:07:20,095 root         INFO     Running trial {'tr_num': 500, 'stim': '/root/experiment/stim/bos_syn_tag.wav', 'iti': 7306}\n"
     ]
    },
    {
     "name": "stdout",
     "output_type": "stream",
     "text": [
      "{'tr_num': 500, 'stim': '/root/experiment/stim/bos_syn_tag.wav', 'iti': 7306}\n"
     ]
    },
    {
     "name": "stderr",
     "output_type": "stream",
     "text": [
      "2017-10-24 02:07:29,031 root         INFO     Running trial {'tr_num': 501, 'stim': '/root/experiment/stim/bos_rev_tag.wav', 'iti': 6456}\n"
     ]
    },
    {
     "name": "stdout",
     "output_type": "stream",
     "text": [
      "{'tr_num': 501, 'stim': '/root/experiment/stim/bos_rev_tag.wav', 'iti': 6456}\n"
     ]
    },
    {
     "name": "stderr",
     "output_type": "stream",
     "text": [
      "2017-10-24 02:07:36,737 root         INFO     Running trial {'tr_num': 502, 'stim': '/root/experiment/stim/bos_tag.wav', 'iti': 6780}\n"
     ]
    },
    {
     "name": "stdout",
     "output_type": "stream",
     "text": [
      "{'tr_num': 502, 'stim': '/root/experiment/stim/bos_tag.wav', 'iti': 6780}\n"
     ]
    },
    {
     "name": "stderr",
     "output_type": "stream",
     "text": [
      "2017-10-24 02:07:44,752 root         INFO     Running trial {'tr_num': 503, 'stim': '/root/experiment/stim/bos_tag.wav', 'iti': 11085}\n"
     ]
    },
    {
     "name": "stdout",
     "output_type": "stream",
     "text": [
      "{'tr_num': 503, 'stim': '/root/experiment/stim/bos_tag.wav', 'iti': 11085}\n"
     ]
    },
    {
     "name": "stderr",
     "output_type": "stream",
     "text": [
      "2017-10-24 02:07:57,055 root         INFO     Running trial {'tr_num': 504, 'stim': '/root/experiment/stim/con_tag.wav', 'iti': 5086}\n"
     ]
    },
    {
     "name": "stdout",
     "output_type": "stream",
     "text": [
      "{'tr_num': 504, 'stim': '/root/experiment/stim/con_tag.wav', 'iti': 5086}\n"
     ]
    },
    {
     "name": "stderr",
     "output_type": "stream",
     "text": [
      "2017-10-24 02:08:03,246 root         INFO     Running trial {'tr_num': 505, 'stim': '/root/experiment/stim/bos_tag.wav', 'iti': 6173}\n"
     ]
    },
    {
     "name": "stdout",
     "output_type": "stream",
     "text": [
      "{'tr_num': 505, 'stim': '/root/experiment/stim/bos_tag.wav', 'iti': 6173}\n"
     ]
    },
    {
     "name": "stderr",
     "output_type": "stream",
     "text": [
      "2017-10-24 02:08:10,792 root         INFO     Running trial {'tr_num': 506, 'stim': '/root/experiment/stim/bos_syn_tag.wav', 'iti': 5471}\n"
     ]
    },
    {
     "name": "stdout",
     "output_type": "stream",
     "text": [
      "{'tr_num': 506, 'stim': '/root/experiment/stim/bos_syn_tag.wav', 'iti': 5471}\n"
     ]
    },
    {
     "name": "stderr",
     "output_type": "stream",
     "text": [
      "2017-10-24 02:08:17,477 root         INFO     Running trial {'tr_num': 507, 'stim': '/root/experiment/stim/bos_rev_tag.wav', 'iti': 11988}\n"
     ]
    },
    {
     "name": "stdout",
     "output_type": "stream",
     "text": [
      "{'tr_num': 507, 'stim': '/root/experiment/stim/bos_rev_tag.wav', 'iti': 11988}\n"
     ]
    },
    {
     "name": "stderr",
     "output_type": "stream",
     "text": [
      "2017-10-24 02:08:30,708 root         INFO     Running trial {'tr_num': 508, 'stim': '/root/experiment/stim/bos_rev_tag.wav', 'iti': 8880}\n"
     ]
    },
    {
     "name": "stdout",
     "output_type": "stream",
     "text": [
      "{'tr_num': 508, 'stim': '/root/experiment/stim/bos_rev_tag.wav', 'iti': 8880}\n"
     ]
    },
    {
     "name": "stderr",
     "output_type": "stream",
     "text": [
      "2017-10-24 02:08:40,808 root         INFO     Running trial {'tr_num': 509, 'stim': '/root/experiment/stim/bos_syn_tag.wav', 'iti': 11490}\n"
     ]
    },
    {
     "name": "stdout",
     "output_type": "stream",
     "text": [
      "{'tr_num': 509, 'stim': '/root/experiment/stim/bos_syn_tag.wav', 'iti': 11490}\n"
     ]
    },
    {
     "name": "stderr",
     "output_type": "stream",
     "text": [
      "2017-10-24 02:08:53,696 root         INFO     Running trial {'tr_num': 510, 'stim': '/root/experiment/stim/con_tag.wav', 'iti': 10490}\n"
     ]
    },
    {
     "name": "stdout",
     "output_type": "stream",
     "text": [
      "{'tr_num': 510, 'stim': '/root/experiment/stim/con_tag.wav', 'iti': 10490}\n"
     ]
    },
    {
     "name": "stderr",
     "output_type": "stream",
     "text": [
      "2017-10-24 02:09:05,291 root         INFO     Running trial {'tr_num': 511, 'stim': '/root/experiment/stim/bos_tag.wav', 'iti': 10298}\n"
     ]
    },
    {
     "name": "stdout",
     "output_type": "stream",
     "text": [
      "{'tr_num': 511, 'stim': '/root/experiment/stim/bos_tag.wav', 'iti': 10298}\n"
     ]
    },
    {
     "name": "stderr",
     "output_type": "stream",
     "text": [
      "2017-10-24 02:09:16,948 root         INFO     Running trial {'tr_num': 512, 'stim': '/root/experiment/stim/bos_rev_tag.wav', 'iti': 7063}\n"
     ]
    },
    {
     "name": "stdout",
     "output_type": "stream",
     "text": [
      "{'tr_num': 512, 'stim': '/root/experiment/stim/bos_rev_tag.wav', 'iti': 7063}\n"
     ]
    },
    {
     "name": "stderr",
     "output_type": "stream",
     "text": [
      "2017-10-24 02:09:25,195 root         INFO     Running trial {'tr_num': 513, 'stim': '/root/experiment/stim/con_tag.wav', 'iti': 7048}\n"
     ]
    },
    {
     "name": "stdout",
     "output_type": "stream",
     "text": [
      "{'tr_num': 513, 'stim': '/root/experiment/stim/con_tag.wav', 'iti': 7048}\n"
     ]
    },
    {
     "name": "stderr",
     "output_type": "stream",
     "text": [
      "2017-10-24 02:09:33,356 root         INFO     Running trial {'tr_num': 514, 'stim': '/root/experiment/stim/bos_rev_tag.wav', 'iti': 7200}\n"
     ]
    },
    {
     "name": "stdout",
     "output_type": "stream",
     "text": [
      "{'tr_num': 514, 'stim': '/root/experiment/stim/bos_rev_tag.wav', 'iti': 7200}\n"
     ]
    },
    {
     "name": "stderr",
     "output_type": "stream",
     "text": [
      "2017-10-24 02:09:42,046 root         INFO     Running trial {'tr_num': 515, 'stim': '/root/experiment/stim/con_tag.wav', 'iti': 10611}\n"
     ]
    },
    {
     "name": "stdout",
     "output_type": "stream",
     "text": [
      "{'tr_num': 515, 'stim': '/root/experiment/stim/con_tag.wav', 'iti': 10611}\n"
     ]
    },
    {
     "name": "stderr",
     "output_type": "stream",
     "text": [
      "2017-10-24 02:09:53,821 root         INFO     Running trial {'tr_num': 516, 'stim': '/root/experiment/stim/bos_tag.wav', 'iti': 9175}\n"
     ]
    },
    {
     "name": "stdout",
     "output_type": "stream",
     "text": [
      "{'tr_num': 516, 'stim': '/root/experiment/stim/bos_tag.wav', 'iti': 9175}\n"
     ]
    },
    {
     "name": "stderr",
     "output_type": "stream",
     "text": [
      "2017-10-24 02:10:04,304 root         INFO     Running trial {'tr_num': 517, 'stim': '/root/experiment/stim/bos_rev_tag.wav', 'iti': 5122}\n"
     ]
    },
    {
     "name": "stdout",
     "output_type": "stream",
     "text": [
      "{'tr_num': 517, 'stim': '/root/experiment/stim/bos_rev_tag.wav', 'iti': 5122}\n"
     ]
    },
    {
     "name": "stderr",
     "output_type": "stream",
     "text": [
      "2017-10-24 02:10:11,358 root         INFO     Running trial {'tr_num': 518, 'stim': '/root/experiment/stim/bos_rev_tag.wav', 'iti': 10028}\n"
     ]
    },
    {
     "name": "stdout",
     "output_type": "stream",
     "text": [
      "{'tr_num': 518, 'stim': '/root/experiment/stim/bos_rev_tag.wav', 'iti': 10028}\n"
     ]
    },
    {
     "name": "stderr",
     "output_type": "stream",
     "text": [
      "2017-10-24 02:10:22,756 root         INFO     Running trial {'tr_num': 519, 'stim': '/root/experiment/stim/con_tag.wav', 'iti': 6368}\n"
     ]
    },
    {
     "name": "stdout",
     "output_type": "stream",
     "text": [
      "{'tr_num': 519, 'stim': '/root/experiment/stim/con_tag.wav', 'iti': 6368}\n"
     ]
    },
    {
     "name": "stderr",
     "output_type": "stream",
     "text": [
      "2017-10-24 02:10:30,247 root         INFO     Running trial {'tr_num': 520, 'stim': '/root/experiment/stim/bos_tag.wav', 'iti': 5123}\n"
     ]
    },
    {
     "name": "stdout",
     "output_type": "stream",
     "text": [
      "{'tr_num': 520, 'stim': '/root/experiment/stim/bos_tag.wav', 'iti': 5123}\n"
     ]
    },
    {
     "name": "stderr",
     "output_type": "stream",
     "text": [
      "2017-10-24 02:10:36,668 root         INFO     Running trial {'tr_num': 521, 'stim': '/root/experiment/stim/bos_tag.wav', 'iti': 9594}\n"
     ]
    },
    {
     "name": "stdout",
     "output_type": "stream",
     "text": [
      "{'tr_num': 521, 'stim': '/root/experiment/stim/bos_tag.wav', 'iti': 9594}\n"
     ]
    },
    {
     "name": "stderr",
     "output_type": "stream",
     "text": [
      "2017-10-24 02:10:47,482 root         INFO     Running trial {'tr_num': 522, 'stim': '/root/experiment/stim/bos_tag.wav', 'iti': 6212}\n"
     ]
    },
    {
     "name": "stdout",
     "output_type": "stream",
     "text": [
      "{'tr_num': 522, 'stim': '/root/experiment/stim/bos_tag.wav', 'iti': 6212}\n"
     ]
    },
    {
     "name": "stderr",
     "output_type": "stream",
     "text": [
      "2017-10-24 02:10:55,058 root         INFO     Running trial {'tr_num': 523, 'stim': '/root/experiment/stim/bos_tag.wav', 'iti': 5572}\n"
     ]
    },
    {
     "name": "stdout",
     "output_type": "stream",
     "text": [
      "{'tr_num': 523, 'stim': '/root/experiment/stim/bos_tag.wav', 'iti': 5572}\n"
     ]
    },
    {
     "name": "stderr",
     "output_type": "stream",
     "text": [
      "2017-10-24 02:11:01,921 root         INFO     Running trial {'tr_num': 524, 'stim': '/root/experiment/stim/con_tag.wav', 'iti': 8423}\n"
     ]
    },
    {
     "name": "stdout",
     "output_type": "stream",
     "text": [
      "{'tr_num': 524, 'stim': '/root/experiment/stim/con_tag.wav', 'iti': 8423}\n"
     ]
    },
    {
     "name": "stderr",
     "output_type": "stream",
     "text": [
      "2017-10-24 02:11:11,597 root         INFO     Running trial {'tr_num': 525, 'stim': '/root/experiment/stim/con_tag.wav', 'iti': 7004}\n"
     ]
    },
    {
     "name": "stdout",
     "output_type": "stream",
     "text": [
      "{'tr_num': 525, 'stim': '/root/experiment/stim/con_tag.wav', 'iti': 7004}\n"
     ]
    },
    {
     "name": "stderr",
     "output_type": "stream",
     "text": [
      "2017-10-24 02:11:19,929 root         INFO     Running trial {'tr_num': 526, 'stim': '/root/experiment/stim/bos_rev_tag.wav', 'iti': 5485}\n"
     ]
    },
    {
     "name": "stdout",
     "output_type": "stream",
     "text": [
      "{'tr_num': 526, 'stim': '/root/experiment/stim/bos_rev_tag.wav', 'iti': 5485}\n"
     ]
    },
    {
     "name": "stderr",
     "output_type": "stream",
     "text": [
      "2017-10-24 02:11:26,672 root         INFO     Running trial {'tr_num': 527, 'stim': '/root/experiment/stim/bos_syn_tag.wav', 'iti': 11811}\n"
     ]
    },
    {
     "name": "stdout",
     "output_type": "stream",
     "text": [
      "{'tr_num': 527, 'stim': '/root/experiment/stim/bos_syn_tag.wav', 'iti': 11811}\n"
     ]
    },
    {
     "name": "stderr",
     "output_type": "stream",
     "text": [
      "2017-10-24 02:11:39,764 root         INFO     Running trial {'tr_num': 528, 'stim': '/root/experiment/stim/con_tag.wav', 'iti': 10581}\n"
     ]
    },
    {
     "name": "stdout",
     "output_type": "stream",
     "text": [
      "{'tr_num': 528, 'stim': '/root/experiment/stim/con_tag.wav', 'iti': 10581}\n"
     ]
    },
    {
     "name": "stderr",
     "output_type": "stream",
     "text": [
      "2017-10-24 02:11:51,755 root         INFO     Running trial {'tr_num': 529, 'stim': '/root/experiment/stim/bos_syn_tag.wav', 'iti': 9023}\n"
     ]
    },
    {
     "name": "stdout",
     "output_type": "stream",
     "text": [
      "{'tr_num': 529, 'stim': '/root/experiment/stim/bos_syn_tag.wav', 'iti': 9023}\n"
     ]
    },
    {
     "name": "stderr",
     "output_type": "stream",
     "text": [
      "2017-10-24 02:12:01,985 root         INFO     Running trial {'tr_num': 530, 'stim': '/root/experiment/stim/bos_rev_tag.wav', 'iti': 6380}\n"
     ]
    },
    {
     "name": "stdout",
     "output_type": "stream",
     "text": [
      "{'tr_num': 530, 'stim': '/root/experiment/stim/bos_rev_tag.wav', 'iti': 6380}\n"
     ]
    },
    {
     "name": "stderr",
     "output_type": "stream",
     "text": [
      "2017-10-24 02:12:09,764 root         INFO     Running trial {'tr_num': 531, 'stim': '/root/experiment/stim/bos_tag.wav', 'iti': 10753}\n"
     ]
    },
    {
     "name": "stdout",
     "output_type": "stream",
     "text": [
      "{'tr_num': 531, 'stim': '/root/experiment/stim/bos_tag.wav', 'iti': 10753}\n"
     ]
    },
    {
     "name": "stderr",
     "output_type": "stream",
     "text": [
      "2017-10-24 02:12:22,182 root         INFO     Running trial {'tr_num': 532, 'stim': '/root/experiment/stim/con_tag.wav', 'iti': 11421}\n"
     ]
    },
    {
     "name": "stdout",
     "output_type": "stream",
     "text": [
      "{'tr_num': 532, 'stim': '/root/experiment/stim/con_tag.wav', 'iti': 11421}\n"
     ]
    },
    {
     "name": "stderr",
     "output_type": "stream",
     "text": [
      "2017-10-24 02:12:34,768 root         INFO     Running trial {'tr_num': 533, 'stim': '/root/experiment/stim/bos_tag.wav', 'iti': 5883}\n"
     ]
    },
    {
     "name": "stdout",
     "output_type": "stream",
     "text": [
      "{'tr_num': 533, 'stim': '/root/experiment/stim/bos_tag.wav', 'iti': 5883}\n"
     ]
    },
    {
     "name": "stderr",
     "output_type": "stream",
     "text": [
      "2017-10-24 02:12:41,940 root         INFO     Running trial {'tr_num': 534, 'stim': '/root/experiment/stim/bos_tag.wav', 'iti': 11334}\n"
     ]
    },
    {
     "name": "stdout",
     "output_type": "stream",
     "text": [
      "{'tr_num': 534, 'stim': '/root/experiment/stim/bos_tag.wav', 'iti': 11334}\n"
     ]
    },
    {
     "name": "stderr",
     "output_type": "stream",
     "text": [
      "2017-10-24 02:12:54,471 root         INFO     Running trial {'tr_num': 535, 'stim': '/root/experiment/stim/bos_syn_tag.wav', 'iti': 7594}\n"
     ]
    },
    {
     "name": "stdout",
     "output_type": "stream",
     "text": [
      "{'tr_num': 535, 'stim': '/root/experiment/stim/bos_syn_tag.wav', 'iti': 7594}\n"
     ]
    },
    {
     "name": "stderr",
     "output_type": "stream",
     "text": [
      "2017-10-24 02:13:03,255 root         INFO     Running trial {'tr_num': 536, 'stim': '/root/experiment/stim/con_tag.wav', 'iti': 8098}\n"
     ]
    },
    {
     "name": "stdout",
     "output_type": "stream",
     "text": [
      "{'tr_num': 536, 'stim': '/root/experiment/stim/con_tag.wav', 'iti': 8098}\n"
     ]
    },
    {
     "name": "stderr",
     "output_type": "stream",
     "text": [
      "2017-10-24 02:13:12,771 root         INFO     Running trial {'tr_num': 537, 'stim': '/root/experiment/stim/bos_tag.wav', 'iti': 9298}\n"
     ]
    },
    {
     "name": "stdout",
     "output_type": "stream",
     "text": [
      "{'tr_num': 537, 'stim': '/root/experiment/stim/bos_tag.wav', 'iti': 9298}\n"
     ]
    },
    {
     "name": "stderr",
     "output_type": "stream",
     "text": [
      "2017-10-24 02:13:23,422 root         INFO     Running trial {'tr_num': 538, 'stim': '/root/experiment/stim/bos_syn_tag.wav', 'iti': 6411}\n"
     ]
    },
    {
     "name": "stdout",
     "output_type": "stream",
     "text": [
      "{'tr_num': 538, 'stim': '/root/experiment/stim/bos_syn_tag.wav', 'iti': 6411}\n"
     ]
    },
    {
     "name": "stderr",
     "output_type": "stream",
     "text": [
      "2017-10-24 02:13:31,064 root         INFO     Running trial {'tr_num': 539, 'stim': '/root/experiment/stim/bos_syn_tag.wav', 'iti': 5016}\n"
     ]
    },
    {
     "name": "stdout",
     "output_type": "stream",
     "text": [
      "{'tr_num': 539, 'stim': '/root/experiment/stim/bos_syn_tag.wav', 'iti': 5016}\n"
     ]
    },
    {
     "name": "stderr",
     "output_type": "stream",
     "text": [
      "2017-10-24 02:13:37,652 root         INFO     Running trial {'tr_num': 540, 'stim': '/root/experiment/stim/bos_syn_tag.wav', 'iti': 5293}\n"
     ]
    },
    {
     "name": "stdout",
     "output_type": "stream",
     "text": [
      "{'tr_num': 540, 'stim': '/root/experiment/stim/bos_syn_tag.wav', 'iti': 5293}\n"
     ]
    },
    {
     "name": "stderr",
     "output_type": "stream",
     "text": [
      "2017-10-24 02:13:44,558 root         INFO     Running trial {'tr_num': 541, 'stim': '/root/experiment/stim/bos_rev_tag.wav', 'iti': 11730}\n"
     ]
    },
    {
     "name": "stdout",
     "output_type": "stream",
     "text": [
      "{'tr_num': 541, 'stim': '/root/experiment/stim/bos_rev_tag.wav', 'iti': 11730}\n"
     ]
    },
    {
     "name": "stderr",
     "output_type": "stream",
     "text": [
      "2017-10-24 02:13:57,849 root         INFO     Running trial {'tr_num': 542, 'stim': '/root/experiment/stim/bos_syn_tag.wav', 'iti': 11664}\n"
     ]
    },
    {
     "name": "stdout",
     "output_type": "stream",
     "text": [
      "{'tr_num': 542, 'stim': '/root/experiment/stim/bos_syn_tag.wav', 'iti': 11664}\n"
     ]
    },
    {
     "name": "stderr",
     "output_type": "stream",
     "text": [
      "2017-10-24 02:14:10,726 root         INFO     Running trial {'tr_num': 543, 'stim': '/root/experiment/stim/bos_tag.wav', 'iti': 5395}\n"
     ]
    },
    {
     "name": "stdout",
     "output_type": "stream",
     "text": [
      "{'tr_num': 543, 'stim': '/root/experiment/stim/bos_tag.wav', 'iti': 5395}\n"
     ]
    },
    {
     "name": "stderr",
     "output_type": "stream",
     "text": [
      "2017-10-24 02:14:17,482 root         INFO     Running trial {'tr_num': 544, 'stim': '/root/experiment/stim/bos_syn_tag.wav', 'iti': 6570}\n"
     ]
    },
    {
     "name": "stdout",
     "output_type": "stream",
     "text": [
      "{'tr_num': 544, 'stim': '/root/experiment/stim/bos_syn_tag.wav', 'iti': 6570}\n"
     ]
    },
    {
     "name": "stderr",
     "output_type": "stream",
     "text": [
      "2017-10-24 02:14:25,829 root         INFO     Running trial {'tr_num': 545, 'stim': '/root/experiment/stim/bos_syn_tag.wav', 'iti': 8479}\n"
     ]
    },
    {
     "name": "stdout",
     "output_type": "stream",
     "text": [
      "{'tr_num': 545, 'stim': '/root/experiment/stim/bos_syn_tag.wav', 'iti': 8479}\n"
     ]
    },
    {
     "name": "stderr",
     "output_type": "stream",
     "text": [
      "2017-10-24 02:14:35,622 root         INFO     Running trial {'tr_num': 546, 'stim': '/root/experiment/stim/con_tag.wav', 'iti': 6510}\n"
     ]
    },
    {
     "name": "stdout",
     "output_type": "stream",
     "text": [
      "{'tr_num': 546, 'stim': '/root/experiment/stim/con_tag.wav', 'iti': 6510}\n"
     ]
    },
    {
     "name": "stderr",
     "output_type": "stream",
     "text": [
      "2017-10-24 02:14:43,436 root         INFO     Running trial {'tr_num': 547, 'stim': '/root/experiment/stim/bos_rev_tag.wav', 'iti': 10989}\n"
     ]
    },
    {
     "name": "stdout",
     "output_type": "stream",
     "text": [
      "{'tr_num': 547, 'stim': '/root/experiment/stim/bos_rev_tag.wav', 'iti': 10989}\n"
     ]
    },
    {
     "name": "stderr",
     "output_type": "stream",
     "text": [
      "2017-10-24 02:14:55,957 root         INFO     Running trial {'tr_num': 548, 'stim': '/root/experiment/stim/bos_rev_tag.wav', 'iti': 11326}\n"
     ]
    },
    {
     "name": "stdout",
     "output_type": "stream",
     "text": [
      "{'tr_num': 548, 'stim': '/root/experiment/stim/bos_rev_tag.wav', 'iti': 11326}\n"
     ]
    },
    {
     "name": "stderr",
     "output_type": "stream",
     "text": [
      "2017-10-24 02:15:08,705 root         INFO     Running trial {'tr_num': 549, 'stim': '/root/experiment/stim/bos_syn_tag.wav', 'iti': 6300}\n"
     ]
    },
    {
     "name": "stdout",
     "output_type": "stream",
     "text": [
      "{'tr_num': 549, 'stim': '/root/experiment/stim/bos_syn_tag.wav', 'iti': 6300}\n"
     ]
    },
    {
     "name": "stderr",
     "output_type": "stream",
     "text": [
      "2017-10-24 02:15:16,274 root         INFO     Running trial {'tr_num': 550, 'stim': '/root/experiment/stim/bos_syn_tag.wav', 'iti': 10068}\n"
     ]
    },
    {
     "name": "stdout",
     "output_type": "stream",
     "text": [
      "{'tr_num': 550, 'stim': '/root/experiment/stim/bos_syn_tag.wav', 'iti': 10068}\n"
     ]
    },
    {
     "name": "stderr",
     "output_type": "stream",
     "text": [
      "2017-10-24 02:15:27,644 root         INFO     Running trial {'tr_num': 551, 'stim': '/root/experiment/stim/con_tag.wav', 'iti': 8351}\n"
     ]
    },
    {
     "name": "stdout",
     "output_type": "stream",
     "text": [
      "{'tr_num': 551, 'stim': '/root/experiment/stim/con_tag.wav', 'iti': 8351}\n"
     ]
    },
    {
     "name": "stderr",
     "output_type": "stream",
     "text": [
      "2017-10-24 02:15:37,124 root         INFO     Running trial {'tr_num': 552, 'stim': '/root/experiment/stim/bos_syn_tag.wav', 'iti': 8314}\n"
     ]
    },
    {
     "name": "stdout",
     "output_type": "stream",
     "text": [
      "{'tr_num': 552, 'stim': '/root/experiment/stim/bos_syn_tag.wav', 'iti': 8314}\n"
     ]
    },
    {
     "name": "stderr",
     "output_type": "stream",
     "text": [
      "2017-10-24 02:15:46,667 root         INFO     Running trial {'tr_num': 553, 'stim': '/root/experiment/stim/bos_tag.wav', 'iti': 9987}\n"
     ]
    },
    {
     "name": "stdout",
     "output_type": "stream",
     "text": [
      "{'tr_num': 553, 'stim': '/root/experiment/stim/bos_tag.wav', 'iti': 9987}\n"
     ]
    },
    {
     "name": "stderr",
     "output_type": "stream",
     "text": [
      "2017-10-24 02:15:57,852 root         INFO     Running trial {'tr_num': 554, 'stim': '/root/experiment/stim/con_tag.wav', 'iti': 9308}\n"
     ]
    },
    {
     "name": "stdout",
     "output_type": "stream",
     "text": [
      "{'tr_num': 554, 'stim': '/root/experiment/stim/con_tag.wav', 'iti': 9308}\n"
     ]
    },
    {
     "name": "stderr",
     "output_type": "stream",
     "text": [
      "2017-10-24 02:16:08,257 root         INFO     Running trial {'tr_num': 555, 'stim': '/root/experiment/stim/con_tag.wav', 'iti': 7378}\n"
     ]
    },
    {
     "name": "stdout",
     "output_type": "stream",
     "text": [
      "{'tr_num': 555, 'stim': '/root/experiment/stim/con_tag.wav', 'iti': 7378}\n"
     ]
    },
    {
     "name": "stderr",
     "output_type": "stream",
     "text": [
      "2017-10-24 02:16:16,749 root         INFO     Running trial {'tr_num': 556, 'stim': '/root/experiment/stim/bos_rev_tag.wav', 'iti': 10453}\n"
     ]
    },
    {
     "name": "stdout",
     "output_type": "stream",
     "text": [
      "{'tr_num': 556, 'stim': '/root/experiment/stim/bos_rev_tag.wav', 'iti': 10453}\n"
     ]
    },
    {
     "name": "stderr",
     "output_type": "stream",
     "text": [
      "2017-10-24 02:16:28,428 root         INFO     Running trial {'tr_num': 557, 'stim': '/root/experiment/stim/bos_tag.wav', 'iti': 6683}\n"
     ]
    },
    {
     "name": "stdout",
     "output_type": "stream",
     "text": [
      "{'tr_num': 557, 'stim': '/root/experiment/stim/bos_tag.wav', 'iti': 6683}\n"
     ]
    },
    {
     "name": "stderr",
     "output_type": "stream",
     "text": [
      "2017-10-24 02:16:36,409 root         INFO     Running trial {'tr_num': 558, 'stim': '/root/experiment/stim/bos_syn_tag.wav', 'iti': 9847}\n"
     ]
    },
    {
     "name": "stdout",
     "output_type": "stream",
     "text": [
      "{'tr_num': 558, 'stim': '/root/experiment/stim/bos_syn_tag.wav', 'iti': 9847}\n"
     ]
    },
    {
     "name": "stderr",
     "output_type": "stream",
     "text": [
      "2017-10-24 02:16:47,601 root         INFO     Running trial {'tr_num': 559, 'stim': '/root/experiment/stim/bos_tag.wav', 'iti': 6830}\n"
     ]
    },
    {
     "name": "stdout",
     "output_type": "stream",
     "text": [
      "{'tr_num': 559, 'stim': '/root/experiment/stim/bos_tag.wav', 'iti': 6830}\n"
     ]
    },
    {
     "name": "stderr",
     "output_type": "stream",
     "text": [
      "2017-10-24 02:16:55,730 root         INFO     Running trial {'tr_num': 560, 'stim': '/root/experiment/stim/bos_rev_tag.wav', 'iti': 11195}\n"
     ]
    },
    {
     "name": "stdout",
     "output_type": "stream",
     "text": [
      "{'tr_num': 560, 'stim': '/root/experiment/stim/bos_rev_tag.wav', 'iti': 11195}\n"
     ]
    },
    {
     "name": "stderr",
     "output_type": "stream",
     "text": [
      "2017-10-24 02:17:08,152 root         INFO     Running trial {'tr_num': 561, 'stim': '/root/experiment/stim/bos_syn_tag.wav', 'iti': 6453}\n"
     ]
    },
    {
     "name": "stdout",
     "output_type": "stream",
     "text": [
      "{'tr_num': 561, 'stim': '/root/experiment/stim/bos_syn_tag.wav', 'iti': 6453}\n"
     ]
    },
    {
     "name": "stderr",
     "output_type": "stream",
     "text": [
      "2017-10-24 02:17:15,927 root         INFO     Running trial {'tr_num': 562, 'stim': '/root/experiment/stim/bos_tag.wav', 'iti': 10251}\n"
     ]
    },
    {
     "name": "stdout",
     "output_type": "stream",
     "text": [
      "{'tr_num': 562, 'stim': '/root/experiment/stim/bos_tag.wav', 'iti': 10251}\n"
     ]
    },
    {
     "name": "stderr",
     "output_type": "stream",
     "text": [
      "2017-10-24 02:17:27,384 root         INFO     Running trial {'tr_num': 563, 'stim': '/root/experiment/stim/bos_tag.wav', 'iti': 11465}\n"
     ]
    },
    {
     "name": "stdout",
     "output_type": "stream",
     "text": [
      "{'tr_num': 563, 'stim': '/root/experiment/stim/bos_tag.wav', 'iti': 11465}\n"
     ]
    },
    {
     "name": "stderr",
     "output_type": "stream",
     "text": [
      "2017-10-24 02:17:40,214 root         INFO     Running trial {'tr_num': 564, 'stim': '/root/experiment/stim/bos_tag.wav', 'iti': 8843}\n"
     ]
    },
    {
     "name": "stdout",
     "output_type": "stream",
     "text": [
      "{'tr_num': 564, 'stim': '/root/experiment/stim/bos_tag.wav', 'iti': 8843}\n"
     ]
    },
    {
     "name": "stderr",
     "output_type": "stream",
     "text": [
      "2017-10-24 02:17:50,589 root         INFO     Running trial {'tr_num': 565, 'stim': '/root/experiment/stim/bos_syn_tag.wav', 'iti': 11035}\n"
     ]
    },
    {
     "name": "stdout",
     "output_type": "stream",
     "text": [
      "{'tr_num': 565, 'stim': '/root/experiment/stim/bos_syn_tag.wav', 'iti': 11035}\n"
     ]
    },
    {
     "name": "stderr",
     "output_type": "stream",
     "text": [
      "2017-10-24 02:18:02,830 root         INFO     Running trial {'tr_num': 566, 'stim': '/root/experiment/stim/bos_syn_tag.wav', 'iti': 6893}\n"
     ]
    },
    {
     "name": "stdout",
     "output_type": "stream",
     "text": [
      "{'tr_num': 566, 'stim': '/root/experiment/stim/bos_syn_tag.wav', 'iti': 6893}\n"
     ]
    },
    {
     "name": "stderr",
     "output_type": "stream",
     "text": [
      "2017-10-24 02:18:11,056 root         INFO     Running trial {'tr_num': 567, 'stim': '/root/experiment/stim/bos_rev_tag.wav', 'iti': 6572}\n"
     ]
    },
    {
     "name": "stdout",
     "output_type": "stream",
     "text": [
      "{'tr_num': 567, 'stim': '/root/experiment/stim/bos_rev_tag.wav', 'iti': 6572}\n"
     ]
    },
    {
     "name": "stderr",
     "output_type": "stream",
     "text": [
      "2017-10-24 02:18:18,990 root         INFO     Running trial {'tr_num': 568, 'stim': '/root/experiment/stim/bos_rev_tag.wav', 'iti': 9790}\n"
     ]
    },
    {
     "name": "stdout",
     "output_type": "stream",
     "text": [
      "{'tr_num': 568, 'stim': '/root/experiment/stim/bos_rev_tag.wav', 'iti': 9790}\n"
     ]
    },
    {
     "name": "stderr",
     "output_type": "stream",
     "text": [
      "2017-10-24 02:18:30,497 root         INFO     Running trial {'tr_num': 569, 'stim': '/root/experiment/stim/con_tag.wav', 'iti': 6699}\n"
     ]
    },
    {
     "name": "stdout",
     "output_type": "stream",
     "text": [
      "{'tr_num': 569, 'stim': '/root/experiment/stim/con_tag.wav', 'iti': 6699}\n"
     ]
    },
    {
     "name": "stderr",
     "output_type": "stream",
     "text": [
      "2017-10-24 02:18:38,357 root         INFO     Running trial {'tr_num': 570, 'stim': '/root/experiment/stim/bos_rev_tag.wav', 'iti': 8252}\n"
     ]
    },
    {
     "name": "stdout",
     "output_type": "stream",
     "text": [
      "{'tr_num': 570, 'stim': '/root/experiment/stim/bos_rev_tag.wav', 'iti': 8252}\n"
     ]
    },
    {
     "name": "stderr",
     "output_type": "stream",
     "text": [
      "2017-10-24 02:18:47,836 root         INFO     Running trial {'tr_num': 571, 'stim': '/root/experiment/stim/bos_syn_tag.wav', 'iti': 10034}\n"
     ]
    },
    {
     "name": "stdout",
     "output_type": "stream",
     "text": [
      "{'tr_num': 571, 'stim': '/root/experiment/stim/bos_syn_tag.wav', 'iti': 10034}\n"
     ]
    },
    {
     "name": "stderr",
     "output_type": "stream",
     "text": [
      "2017-10-24 02:18:59,731 root         INFO     Running trial {'tr_num': 572, 'stim': '/root/experiment/stim/bos_syn_tag.wav', 'iti': 10546}\n"
     ]
    },
    {
     "name": "stdout",
     "output_type": "stream",
     "text": [
      "{'tr_num': 572, 'stim': '/root/experiment/stim/bos_syn_tag.wav', 'iti': 10546}\n"
     ]
    },
    {
     "name": "stderr",
     "output_type": "stream",
     "text": [
      "2017-10-24 02:19:11,592 root         INFO     Running trial {'tr_num': 573, 'stim': '/root/experiment/stim/bos_tag.wav', 'iti': 5971}\n"
     ]
    },
    {
     "name": "stdout",
     "output_type": "stream",
     "text": [
      "{'tr_num': 573, 'stim': '/root/experiment/stim/bos_tag.wav', 'iti': 5971}\n"
     ]
    },
    {
     "name": "stderr",
     "output_type": "stream",
     "text": [
      "2017-10-24 02:19:18,923 root         INFO     Running trial {'tr_num': 574, 'stim': '/root/experiment/stim/bos_syn_tag.wav', 'iti': 5238}\n"
     ]
    },
    {
     "name": "stdout",
     "output_type": "stream",
     "text": [
      "{'tr_num': 574, 'stim': '/root/experiment/stim/bos_syn_tag.wav', 'iti': 5238}\n"
     ]
    },
    {
     "name": "stderr",
     "output_type": "stream",
     "text": [
      "2017-10-24 02:19:25,554 root         INFO     Running trial {'tr_num': 575, 'stim': '/root/experiment/stim/bos_syn_tag.wav', 'iti': 5718}\n"
     ]
    },
    {
     "name": "stdout",
     "output_type": "stream",
     "text": [
      "{'tr_num': 575, 'stim': '/root/experiment/stim/bos_syn_tag.wav', 'iti': 5718}\n"
     ]
    },
    {
     "name": "stderr",
     "output_type": "stream",
     "text": [
      "2017-10-24 02:19:32,525 root         INFO     Running trial {'tr_num': 576, 'stim': '/root/experiment/stim/bos_tag.wav', 'iti': 7325}\n"
     ]
    },
    {
     "name": "stdout",
     "output_type": "stream",
     "text": [
      "{'tr_num': 576, 'stim': '/root/experiment/stim/bos_tag.wav', 'iti': 7325}\n"
     ]
    },
    {
     "name": "stderr",
     "output_type": "stream",
     "text": [
      "2017-10-24 02:19:41,104 root         INFO     Running trial {'tr_num': 577, 'stim': '/root/experiment/stim/bos_tag.wav', 'iti': 7105}\n"
     ]
    },
    {
     "name": "stdout",
     "output_type": "stream",
     "text": [
      "{'tr_num': 577, 'stim': '/root/experiment/stim/bos_tag.wav', 'iti': 7105}\n"
     ]
    },
    {
     "name": "stderr",
     "output_type": "stream",
     "text": [
      "2017-10-24 02:19:49,578 root         INFO     Running trial {'tr_num': 578, 'stim': '/root/experiment/stim/bos_rev_tag.wav', 'iti': 9168}\n"
     ]
    },
    {
     "name": "stdout",
     "output_type": "stream",
     "text": [
      "{'tr_num': 578, 'stim': '/root/experiment/stim/bos_rev_tag.wav', 'iti': 9168}\n"
     ]
    },
    {
     "name": "stderr",
     "output_type": "stream",
     "text": [
      "2017-10-24 02:19:59,970 root         INFO     Running trial {'tr_num': 579, 'stim': '/root/experiment/stim/bos_tag.wav', 'iti': 5375}\n"
     ]
    },
    {
     "name": "stdout",
     "output_type": "stream",
     "text": [
      "{'tr_num': 579, 'stim': '/root/experiment/stim/bos_tag.wav', 'iti': 5375}\n"
     ]
    },
    {
     "name": "stderr",
     "output_type": "stream",
     "text": [
      "2017-10-24 02:20:06,592 root         INFO     Running trial {'tr_num': 580, 'stim': '/root/experiment/stim/con_tag.wav', 'iti': 6108}\n"
     ]
    },
    {
     "name": "stdout",
     "output_type": "stream",
     "text": [
      "{'tr_num': 580, 'stim': '/root/experiment/stim/con_tag.wav', 'iti': 6108}\n"
     ]
    },
    {
     "name": "stderr",
     "output_type": "stream",
     "text": [
      "2017-10-24 02:20:13,895 root         INFO     Running trial {'tr_num': 581, 'stim': '/root/experiment/stim/bos_rev_tag.wav', 'iti': 7456}\n"
     ]
    },
    {
     "name": "stdout",
     "output_type": "stream",
     "text": [
      "{'tr_num': 581, 'stim': '/root/experiment/stim/bos_rev_tag.wav', 'iti': 7456}\n"
     ]
    },
    {
     "name": "stderr",
     "output_type": "stream",
     "text": [
      "2017-10-24 02:20:22,630 root         INFO     Running trial {'tr_num': 582, 'stim': '/root/experiment/stim/bos_tag.wav', 'iti': 6745}\n"
     ]
    },
    {
     "name": "stdout",
     "output_type": "stream",
     "text": [
      "{'tr_num': 582, 'stim': '/root/experiment/stim/bos_tag.wav', 'iti': 6745}\n"
     ]
    },
    {
     "name": "stderr",
     "output_type": "stream",
     "text": [
      "2017-10-24 02:20:30,875 root         INFO     Running trial {'tr_num': 583, 'stim': '/root/experiment/stim/bos_syn_tag.wav', 'iti': 6617}\n"
     ]
    },
    {
     "name": "stdout",
     "output_type": "stream",
     "text": [
      "{'tr_num': 583, 'stim': '/root/experiment/stim/bos_syn_tag.wav', 'iti': 6617}\n"
     ]
    },
    {
     "name": "stderr",
     "output_type": "stream",
     "text": [
      "2017-10-24 02:20:39,132 root         INFO     Running trial {'tr_num': 584, 'stim': '/root/experiment/stim/bos_rev_tag.wav', 'iti': 10383}\n"
     ]
    },
    {
     "name": "stdout",
     "output_type": "stream",
     "text": [
      "{'tr_num': 584, 'stim': '/root/experiment/stim/bos_rev_tag.wav', 'iti': 10383}\n"
     ]
    },
    {
     "name": "stderr",
     "output_type": "stream",
     "text": [
      "2017-10-24 02:20:50,717 root         INFO     Running trial {'tr_num': 585, 'stim': '/root/experiment/stim/bos_tag.wav', 'iti': 8845}\n"
     ]
    },
    {
     "name": "stdout",
     "output_type": "stream",
     "text": [
      "{'tr_num': 585, 'stim': '/root/experiment/stim/bos_tag.wav', 'iti': 8845}\n"
     ]
    },
    {
     "name": "stderr",
     "output_type": "stream",
     "text": [
      "2017-10-24 02:21:00,798 root         INFO     Running trial {'tr_num': 586, 'stim': '/root/experiment/stim/bos_syn_tag.wav', 'iti': 5774}\n"
     ]
    },
    {
     "name": "stdout",
     "output_type": "stream",
     "text": [
      "{'tr_num': 586, 'stim': '/root/experiment/stim/bos_syn_tag.wav', 'iti': 5774}\n"
     ]
    },
    {
     "name": "stderr",
     "output_type": "stream",
     "text": [
      "2017-10-24 02:21:07,906 root         INFO     Running trial {'tr_num': 587, 'stim': '/root/experiment/stim/bos_tag.wav', 'iti': 10501}\n"
     ]
    },
    {
     "name": "stdout",
     "output_type": "stream",
     "text": [
      "{'tr_num': 587, 'stim': '/root/experiment/stim/bos_tag.wav', 'iti': 10501}\n"
     ]
    },
    {
     "name": "stderr",
     "output_type": "stream",
     "text": [
      "2017-10-24 02:21:19,876 root         INFO     Running trial {'tr_num': 588, 'stim': '/root/experiment/stim/con_tag.wav', 'iti': 9959}\n"
     ]
    },
    {
     "name": "stdout",
     "output_type": "stream",
     "text": [
      "{'tr_num': 588, 'stim': '/root/experiment/stim/con_tag.wav', 'iti': 9959}\n"
     ]
    },
    {
     "name": "stderr",
     "output_type": "stream",
     "text": [
      "2017-10-24 02:21:30,987 root         INFO     Running trial {'tr_num': 589, 'stim': '/root/experiment/stim/bos_tag.wav', 'iti': 9799}\n"
     ]
    },
    {
     "name": "stdout",
     "output_type": "stream",
     "text": [
      "{'tr_num': 589, 'stim': '/root/experiment/stim/bos_tag.wav', 'iti': 9799}\n"
     ]
    },
    {
     "name": "stderr",
     "output_type": "stream",
     "text": [
      "2017-10-24 02:21:41,992 root         INFO     Running trial {'tr_num': 590, 'stim': '/root/experiment/stim/bos_rev_tag.wav', 'iti': 7457}\n"
     ]
    },
    {
     "name": "stdout",
     "output_type": "stream",
     "text": [
      "{'tr_num': 590, 'stim': '/root/experiment/stim/bos_rev_tag.wav', 'iti': 7457}\n"
     ]
    },
    {
     "name": "stderr",
     "output_type": "stream",
     "text": [
      "2017-10-24 02:21:50,664 root         INFO     Running trial {'tr_num': 591, 'stim': '/root/experiment/stim/con_tag.wav', 'iti': 10756}\n"
     ]
    },
    {
     "name": "stdout",
     "output_type": "stream",
     "text": [
      "{'tr_num': 591, 'stim': '/root/experiment/stim/con_tag.wav', 'iti': 10756}\n"
     ]
    },
    {
     "name": "stderr",
     "output_type": "stream",
     "text": [
      "2017-10-24 02:22:02,582 root         INFO     Running trial {'tr_num': 592, 'stim': '/root/experiment/stim/bos_syn_tag.wav', 'iti': 5887}\n"
     ]
    },
    {
     "name": "stdout",
     "output_type": "stream",
     "text": [
      "{'tr_num': 592, 'stim': '/root/experiment/stim/bos_syn_tag.wav', 'iti': 5887}\n"
     ]
    },
    {
     "name": "stderr",
     "output_type": "stream",
     "text": [
      "2017-10-24 02:22:09,664 root         INFO     Running trial {'tr_num': 593, 'stim': '/root/experiment/stim/con_tag.wav', 'iti': 9509}\n"
     ]
    },
    {
     "name": "stdout",
     "output_type": "stream",
     "text": [
      "{'tr_num': 593, 'stim': '/root/experiment/stim/con_tag.wav', 'iti': 9509}\n"
     ]
    },
    {
     "name": "stderr",
     "output_type": "stream",
     "text": [
      "2017-10-24 02:22:20,492 root         INFO     Running trial {'tr_num': 594, 'stim': '/root/experiment/stim/bos_rev_tag.wav', 'iti': 6688}\n"
     ]
    },
    {
     "name": "stdout",
     "output_type": "stream",
     "text": [
      "{'tr_num': 594, 'stim': '/root/experiment/stim/bos_rev_tag.wav', 'iti': 6688}\n"
     ]
    },
    {
     "name": "stderr",
     "output_type": "stream",
     "text": [
      "2017-10-24 02:22:28,638 root         INFO     Running trial {'tr_num': 595, 'stim': '/root/experiment/stim/bos_tag.wav', 'iti': 10239}\n"
     ]
    },
    {
     "name": "stdout",
     "output_type": "stream",
     "text": [
      "{'tr_num': 595, 'stim': '/root/experiment/stim/bos_tag.wav', 'iti': 10239}\n"
     ]
    },
    {
     "name": "stderr",
     "output_type": "stream",
     "text": [
      "2017-10-24 02:22:40,595 root         INFO     Running trial {'tr_num': 596, 'stim': '/root/experiment/stim/bos_syn_tag.wav', 'iti': 6653}\n"
     ]
    },
    {
     "name": "stdout",
     "output_type": "stream",
     "text": [
      "{'tr_num': 596, 'stim': '/root/experiment/stim/bos_syn_tag.wav', 'iti': 6653}\n"
     ]
    },
    {
     "name": "stderr",
     "output_type": "stream",
     "text": [
      "2017-10-24 02:22:48,662 root         INFO     Running trial {'tr_num': 597, 'stim': '/root/experiment/stim/bos_syn_tag.wav', 'iti': 5995}\n"
     ]
    },
    {
     "name": "stdout",
     "output_type": "stream",
     "text": [
      "{'tr_num': 597, 'stim': '/root/experiment/stim/bos_syn_tag.wav', 'iti': 5995}\n"
     ]
    },
    {
     "name": "stderr",
     "output_type": "stream",
     "text": [
      "2017-10-24 02:22:56,179 root         INFO     Running trial {'tr_num': 598, 'stim': '/root/experiment/stim/bos_rev_tag.wav', 'iti': 5606}\n"
     ]
    },
    {
     "name": "stdout",
     "output_type": "stream",
     "text": [
      "{'tr_num': 598, 'stim': '/root/experiment/stim/bos_rev_tag.wav', 'iti': 5606}\n"
     ]
    },
    {
     "name": "stderr",
     "output_type": "stream",
     "text": [
      "2017-10-24 02:23:03,021 root         INFO     Running trial {'tr_num': 599, 'stim': '/root/experiment/stim/bos_tag.wav', 'iti': 5361}\n"
     ]
    },
    {
     "name": "stdout",
     "output_type": "stream",
     "text": [
      "{'tr_num': 599, 'stim': '/root/experiment/stim/bos_tag.wav', 'iti': 5361}\n"
     ]
    },
    {
     "name": "stderr",
     "output_type": "stream",
     "text": [
      "2017-10-24 02:23:09,593 root         INFO     Stop recording Forced\n",
      "2017-10-24 02:23:09,616 root         INFO     Stopped recording\n"
     ]
    },
    {
     "name": "stdout",
     "output_type": "stream",
     "text": [
      "finished block\n",
      "Runner stopping recording\n",
      "Recording stopped\n"
     ]
    },
    {
     "name": "stderr",
     "output_type": "stream",
     "text": [
      "2017-10-24 02:51:15,978 root         INFO     Starting to record\n",
      "2017-10-24 02:51:15,980 root         INFO     Initializing recorder\n"
     ]
    },
    {
     "name": "stdout",
     "output_type": "stream",
     "text": [
      "Starting block 0\n",
      "OK to start\n",
      "Recording path: /usr/local/experiment/raw_data/z028/asleep_stim_2017-10-24_02-51-15_225\n"
     ]
    },
    {
     "name": "stderr",
     "output_type": "stream",
     "text": [
      "2017-10-24 02:51:18,042 root         INFO     Starting block\n",
      "2017-10-24 02:51:18,454 root         INFO     Initializing block\n",
      "2017-10-24 02:51:18,596 root         INFO     Running trial {'tr_num': 0, 'stim': '/root/experiment/stim/con_tag.wav', 'iti': 3051}\n"
     ]
    },
    {
     "name": "stdout",
     "output_type": "stream",
     "text": [
      "Starting Block\n",
      "{'tr_num': 0, 'stim': '/root/experiment/stim/con_tag.wav', 'iti': 3051}\n"
     ]
    },
    {
     "name": "stderr",
     "output_type": "stream",
     "text": [
      "2017-10-24 02:51:22,895 root         INFO     Running trial {'tr_num': 1, 'stim': '/root/experiment/stim/bos_syn_tag.wav', 'iti': 5771}\n"
     ]
    },
    {
     "name": "stdout",
     "output_type": "stream",
     "text": [
      "{'tr_num': 1, 'stim': '/root/experiment/stim/bos_syn_tag.wav', 'iti': 5771}\n"
     ]
    },
    {
     "name": "stderr",
     "output_type": "stream",
     "text": [
      "2017-10-24 02:51:29,908 root         INFO     Running trial {'tr_num': 2, 'stim': '/root/experiment/stim/bos_syn_tag.wav', 'iti': 5306}\n"
     ]
    },
    {
     "name": "stdout",
     "output_type": "stream",
     "text": [
      "{'tr_num': 2, 'stim': '/root/experiment/stim/bos_syn_tag.wav', 'iti': 5306}\n"
     ]
    },
    {
     "name": "stderr",
     "output_type": "stream",
     "text": [
      "2017-10-24 02:51:36,508 root         INFO     Running trial {'tr_num': 3, 'stim': '/root/experiment/stim/bos_tag.wav', 'iti': 2480}\n"
     ]
    },
    {
     "name": "stdout",
     "output_type": "stream",
     "text": [
      "{'tr_num': 3, 'stim': '/root/experiment/stim/bos_tag.wav', 'iti': 2480}\n"
     ]
    },
    {
     "name": "stderr",
     "output_type": "stream",
     "text": [
      "2017-10-24 02:51:40,191 root         INFO     Running trial {'tr_num': 4, 'stim': '/root/experiment/stim/bos_tag.wav', 'iti': 5076}\n"
     ]
    },
    {
     "name": "stdout",
     "output_type": "stream",
     "text": [
      "{'tr_num': 4, 'stim': '/root/experiment/stim/bos_tag.wav', 'iti': 5076}\n"
     ]
    },
    {
     "name": "stderr",
     "output_type": "stream",
     "text": [
      "2017-10-24 02:51:46,769 root         INFO     Running trial {'tr_num': 5, 'stim': '/root/experiment/stim/bos_syn_tag.wav', 'iti': 2856}\n"
     ]
    },
    {
     "name": "stdout",
     "output_type": "stream",
     "text": [
      "{'tr_num': 5, 'stim': '/root/experiment/stim/bos_syn_tag.wav', 'iti': 2856}\n"
     ]
    },
    {
     "name": "stderr",
     "output_type": "stream",
     "text": [
      "2017-10-24 02:51:50,995 root         INFO     Running trial {'tr_num': 6, 'stim': '/root/experiment/stim/bos_syn_tag.wav', 'iti': 2827}\n"
     ]
    },
    {
     "name": "stdout",
     "output_type": "stream",
     "text": [
      "{'tr_num': 6, 'stim': '/root/experiment/stim/bos_syn_tag.wav', 'iti': 2827}\n"
     ]
    },
    {
     "name": "stderr",
     "output_type": "stream",
     "text": [
      "2017-10-24 02:51:55,261 root         INFO     Running trial {'tr_num': 7, 'stim': '/root/experiment/stim/bos_rev_tag.wav', 'iti': 3147}\n"
     ]
    },
    {
     "name": "stdout",
     "output_type": "stream",
     "text": [
      "{'tr_num': 7, 'stim': '/root/experiment/stim/bos_rev_tag.wav', 'iti': 3147}\n"
     ]
    },
    {
     "name": "stderr",
     "output_type": "stream",
     "text": [
      "2017-10-24 02:51:59,603 root         INFO     Running trial {'tr_num': 8, 'stim': '/root/experiment/stim/bos_rev_tag.wav', 'iti': 3325}\n"
     ]
    },
    {
     "name": "stdout",
     "output_type": "stream",
     "text": [
      "{'tr_num': 8, 'stim': '/root/experiment/stim/bos_rev_tag.wav', 'iti': 3325}\n"
     ]
    },
    {
     "name": "stderr",
     "output_type": "stream",
     "text": [
      "2017-10-24 02:52:04,411 root         INFO     Running trial {'tr_num': 9, 'stim': '/root/experiment/stim/bos_rev_tag.wav', 'iti': 4563}\n"
     ]
    },
    {
     "name": "stdout",
     "output_type": "stream",
     "text": [
      "{'tr_num': 9, 'stim': '/root/experiment/stim/bos_rev_tag.wav', 'iti': 4563}\n"
     ]
    },
    {
     "name": "stderr",
     "output_type": "stream",
     "text": [
      "2017-10-24 02:52:10,257 root         INFO     Running trial {'tr_num': 10, 'stim': '/root/experiment/stim/con_tag.wav', 'iti': 2943}\n"
     ]
    },
    {
     "name": "stdout",
     "output_type": "stream",
     "text": [
      "{'tr_num': 10, 'stim': '/root/experiment/stim/con_tag.wav', 'iti': 2943}\n"
     ]
    },
    {
     "name": "stderr",
     "output_type": "stream",
     "text": [
      "2017-10-24 02:52:14,302 root         INFO     Running trial {'tr_num': 11, 'stim': '/root/experiment/stim/bos_rev_tag.wav', 'iti': 3686}\n"
     ]
    },
    {
     "name": "stdout",
     "output_type": "stream",
     "text": [
      "{'tr_num': 11, 'stim': '/root/experiment/stim/bos_rev_tag.wav', 'iti': 3686}\n"
     ]
    },
    {
     "name": "stderr",
     "output_type": "stream",
     "text": [
      "2017-10-24 02:52:19,253 root         INFO     Running trial {'tr_num': 12, 'stim': '/root/experiment/stim/bos_tag.wav', 'iti': 3863}\n"
     ]
    },
    {
     "name": "stdout",
     "output_type": "stream",
     "text": [
      "{'tr_num': 12, 'stim': '/root/experiment/stim/bos_tag.wav', 'iti': 3863}\n"
     ]
    },
    {
     "name": "stderr",
     "output_type": "stream",
     "text": [
      "2017-10-24 02:52:24,399 root         INFO     Running trial {'tr_num': 13, 'stim': '/root/experiment/stim/bos_rev_tag.wav', 'iti': 6571}\n"
     ]
    },
    {
     "name": "stdout",
     "output_type": "stream",
     "text": [
      "{'tr_num': 13, 'stim': '/root/experiment/stim/bos_rev_tag.wav', 'iti': 6571}\n"
     ]
    },
    {
     "name": "stderr",
     "output_type": "stream",
     "text": [
      "2017-10-24 02:52:32,163 root         INFO     Running trial {'tr_num': 14, 'stim': '/root/experiment/stim/bos_rev_tag.wav', 'iti': 3047}\n"
     ]
    },
    {
     "name": "stdout",
     "output_type": "stream",
     "text": [
      "{'tr_num': 14, 'stim': '/root/experiment/stim/bos_rev_tag.wav', 'iti': 3047}\n"
     ]
    },
    {
     "name": "stderr",
     "output_type": "stream",
     "text": [
      "2017-10-24 02:52:36,547 root         INFO     Running trial {'tr_num': 15, 'stim': '/root/experiment/stim/con_tag.wav', 'iti': 5893}\n"
     ]
    },
    {
     "name": "stdout",
     "output_type": "stream",
     "text": [
      "{'tr_num': 15, 'stim': '/root/experiment/stim/con_tag.wav', 'iti': 5893}\n"
     ]
    },
    {
     "name": "stderr",
     "output_type": "stream",
     "text": [
      "2017-10-24 02:52:43,641 root         INFO     Running trial {'tr_num': 16, 'stim': '/root/experiment/stim/con_tag.wav', 'iti': 4385}\n"
     ]
    },
    {
     "name": "stdout",
     "output_type": "stream",
     "text": [
      "{'tr_num': 16, 'stim': '/root/experiment/stim/con_tag.wav', 'iti': 4385}\n"
     ]
    },
    {
     "name": "stderr",
     "output_type": "stream",
     "text": [
      "2017-10-24 02:52:49,219 root         INFO     Running trial {'tr_num': 17, 'stim': '/root/experiment/stim/bos_tag.wav', 'iti': 2255}\n"
     ]
    },
    {
     "name": "stdout",
     "output_type": "stream",
     "text": [
      "{'tr_num': 17, 'stim': '/root/experiment/stim/bos_tag.wav', 'iti': 2255}\n"
     ]
    },
    {
     "name": "stderr",
     "output_type": "stream",
     "text": [
      "2017-10-24 02:52:52,763 root         INFO     Running trial {'tr_num': 18, 'stim': '/root/experiment/stim/con_tag.wav', 'iti': 2234}\n"
     ]
    },
    {
     "name": "stdout",
     "output_type": "stream",
     "text": [
      "{'tr_num': 18, 'stim': '/root/experiment/stim/con_tag.wav', 'iti': 2234}\n"
     ]
    },
    {
     "name": "stderr",
     "output_type": "stream",
     "text": [
      "2017-10-24 02:52:56,424 root         INFO     Running trial {'tr_num': 19, 'stim': '/root/experiment/stim/bos_syn_tag.wav', 'iti': 3107}\n"
     ]
    },
    {
     "name": "stdout",
     "output_type": "stream",
     "text": [
      "{'tr_num': 19, 'stim': '/root/experiment/stim/bos_syn_tag.wav', 'iti': 3107}\n"
     ]
    },
    {
     "name": "stderr",
     "output_type": "stream",
     "text": [
      "2017-10-24 02:53:00,800 root         INFO     Running trial {'tr_num': 20, 'stim': '/root/experiment/stim/bos_tag.wav', 'iti': 6739}\n"
     ]
    },
    {
     "name": "stdout",
     "output_type": "stream",
     "text": [
      "{'tr_num': 20, 'stim': '/root/experiment/stim/bos_tag.wav', 'iti': 6739}\n"
     ]
    },
    {
     "name": "stderr",
     "output_type": "stream",
     "text": [
      "2017-10-24 02:53:09,092 root         INFO     Running trial {'tr_num': 21, 'stim': '/root/experiment/stim/bos_syn_tag.wav', 'iti': 6921}\n"
     ]
    },
    {
     "name": "stdout",
     "output_type": "stream",
     "text": [
      "{'tr_num': 21, 'stim': '/root/experiment/stim/bos_syn_tag.wav', 'iti': 6921}\n"
     ]
    },
    {
     "name": "stderr",
     "output_type": "stream",
     "text": [
      "2017-10-24 02:53:17,673 root         INFO     Running trial {'tr_num': 22, 'stim': '/root/experiment/stim/bos_tag.wav', 'iti': 6300}\n"
     ]
    },
    {
     "name": "stdout",
     "output_type": "stream",
     "text": [
      "{'tr_num': 22, 'stim': '/root/experiment/stim/bos_tag.wav', 'iti': 6300}\n"
     ]
    },
    {
     "name": "stderr",
     "output_type": "stream",
     "text": [
      "2017-10-24 02:53:25,209 root         INFO     Running trial {'tr_num': 23, 'stim': '/root/experiment/stim/bos_syn_tag.wav', 'iti': 5968}\n"
     ]
    },
    {
     "name": "stdout",
     "output_type": "stream",
     "text": [
      "{'tr_num': 23, 'stim': '/root/experiment/stim/bos_syn_tag.wav', 'iti': 5968}\n"
     ]
    },
    {
     "name": "stderr",
     "output_type": "stream",
     "text": [
      "2017-10-24 02:53:32,712 root         INFO     Running trial {'tr_num': 24, 'stim': '/root/experiment/stim/bos_tag.wav', 'iti': 5381}\n"
     ]
    },
    {
     "name": "stdout",
     "output_type": "stream",
     "text": [
      "{'tr_num': 24, 'stim': '/root/experiment/stim/bos_tag.wav', 'iti': 5381}\n"
     ]
    },
    {
     "name": "stderr",
     "output_type": "stream",
     "text": [
      "2017-10-24 02:53:39,382 root         INFO     Running trial {'tr_num': 25, 'stim': '/root/experiment/stim/bos_tag.wav', 'iti': 2537}\n"
     ]
    },
    {
     "name": "stdout",
     "output_type": "stream",
     "text": [
      "{'tr_num': 25, 'stim': '/root/experiment/stim/bos_tag.wav', 'iti': 2537}\n"
     ]
    },
    {
     "name": "stderr",
     "output_type": "stream",
     "text": [
      "2017-10-24 02:53:43,196 root         INFO     Running trial {'tr_num': 26, 'stim': '/root/experiment/stim/bos_rev_tag.wav', 'iti': 5690}\n"
     ]
    },
    {
     "name": "stdout",
     "output_type": "stream",
     "text": [
      "{'tr_num': 26, 'stim': '/root/experiment/stim/bos_rev_tag.wav', 'iti': 5690}\n"
     ]
    },
    {
     "name": "stderr",
     "output_type": "stream",
     "text": [
      "2017-10-24 02:53:50,271 root         INFO     Running trial {'tr_num': 27, 'stim': '/root/experiment/stim/con_tag.wav', 'iti': 5014}\n"
     ]
    },
    {
     "name": "stdout",
     "output_type": "stream",
     "text": [
      "{'tr_num': 27, 'stim': '/root/experiment/stim/con_tag.wav', 'iti': 5014}\n"
     ]
    },
    {
     "name": "stderr",
     "output_type": "stream",
     "text": [
      "2017-10-24 02:53:56,469 root         INFO     Running trial {'tr_num': 28, 'stim': '/root/experiment/stim/bos_syn_tag.wav', 'iti': 2439}\n"
     ]
    },
    {
     "name": "stdout",
     "output_type": "stream",
     "text": [
      "{'tr_num': 28, 'stim': '/root/experiment/stim/bos_syn_tag.wav', 'iti': 2439}\n"
     ]
    },
    {
     "name": "stderr",
     "output_type": "stream",
     "text": [
      "2017-10-24 02:54:00,199 root         INFO     Running trial {'tr_num': 29, 'stim': '/root/experiment/stim/con_tag.wav', 'iti': 6407}\n"
     ]
    },
    {
     "name": "stdout",
     "output_type": "stream",
     "text": [
      "{'tr_num': 29, 'stim': '/root/experiment/stim/con_tag.wav', 'iti': 6407}\n"
     ]
    },
    {
     "name": "stderr",
     "output_type": "stream",
     "text": [
      "2017-10-24 02:54:08,670 root         INFO     Running trial {'tr_num': 30, 'stim': '/root/experiment/stim/bos_syn_tag.wav', 'iti': 5076}\n"
     ]
    },
    {
     "name": "stdout",
     "output_type": "stream",
     "text": [
      "{'tr_num': 30, 'stim': '/root/experiment/stim/bos_syn_tag.wav', 'iti': 5076}\n"
     ]
    },
    {
     "name": "stderr",
     "output_type": "stream",
     "text": [
      "2017-10-24 02:54:14,950 root         INFO     Running trial {'tr_num': 31, 'stim': '/root/experiment/stim/bos_rev_tag.wav', 'iti': 6334}\n"
     ]
    },
    {
     "name": "stdout",
     "output_type": "stream",
     "text": [
      "{'tr_num': 31, 'stim': '/root/experiment/stim/bos_rev_tag.wav', 'iti': 6334}\n"
     ]
    },
    {
     "name": "stderr",
     "output_type": "stream",
     "text": [
      "2017-10-24 02:54:22,490 root         INFO     Running trial {'tr_num': 32, 'stim': '/root/experiment/stim/bos_tag.wav', 'iti': 2624}\n"
     ]
    },
    {
     "name": "stdout",
     "output_type": "stream",
     "text": [
      "{'tr_num': 32, 'stim': '/root/experiment/stim/bos_tag.wav', 'iti': 2624}\n"
     ]
    },
    {
     "name": "stderr",
     "output_type": "stream",
     "text": [
      "2017-10-24 02:54:26,338 root         INFO     Running trial {'tr_num': 33, 'stim': '/root/experiment/stim/bos_tag.wav', 'iti': 3706}\n"
     ]
    },
    {
     "name": "stdout",
     "output_type": "stream",
     "text": [
      "{'tr_num': 33, 'stim': '/root/experiment/stim/bos_tag.wav', 'iti': 3706}\n"
     ]
    },
    {
     "name": "stderr",
     "output_type": "stream",
     "text": [
      "2017-10-24 02:54:31,378 root         INFO     Running trial {'tr_num': 34, 'stim': '/root/experiment/stim/bos_syn_tag.wav', 'iti': 5348}\n"
     ]
    },
    {
     "name": "stdout",
     "output_type": "stream",
     "text": [
      "{'tr_num': 34, 'stim': '/root/experiment/stim/bos_syn_tag.wav', 'iti': 5348}\n"
     ]
    },
    {
     "name": "stderr",
     "output_type": "stream",
     "text": [
      "2017-10-24 02:54:37,884 root         INFO     Running trial {'tr_num': 35, 'stim': '/root/experiment/stim/con_tag.wav', 'iti': 2752}\n"
     ]
    },
    {
     "name": "stdout",
     "output_type": "stream",
     "text": [
      "{'tr_num': 35, 'stim': '/root/experiment/stim/con_tag.wav', 'iti': 2752}\n"
     ]
    },
    {
     "name": "stderr",
     "output_type": "stream",
     "text": [
      "2017-10-24 02:54:41,925 root         INFO     Running trial {'tr_num': 36, 'stim': '/root/experiment/stim/bos_rev_tag.wav', 'iti': 4076}\n"
     ]
    },
    {
     "name": "stdout",
     "output_type": "stream",
     "text": [
      "{'tr_num': 36, 'stim': '/root/experiment/stim/bos_rev_tag.wav', 'iti': 4076}\n"
     ]
    },
    {
     "name": "stderr",
     "output_type": "stream",
     "text": [
      "2017-10-24 02:54:47,221 root         INFO     Running trial {'tr_num': 37, 'stim': '/root/experiment/stim/bos_syn_tag.wav', 'iti': 3122}\n"
     ]
    },
    {
     "name": "stdout",
     "output_type": "stream",
     "text": [
      "{'tr_num': 37, 'stim': '/root/experiment/stim/bos_syn_tag.wav', 'iti': 3122}\n"
     ]
    },
    {
     "name": "stderr",
     "output_type": "stream",
     "text": [
      "2017-10-24 02:54:51,580 root         INFO     Running trial {'tr_num': 38, 'stim': '/root/experiment/stim/bos_tag.wav', 'iti': 3636}\n"
     ]
    },
    {
     "name": "stdout",
     "output_type": "stream",
     "text": [
      "{'tr_num': 38, 'stim': '/root/experiment/stim/bos_tag.wav', 'iti': 3636}\n"
     ]
    },
    {
     "name": "stderr",
     "output_type": "stream",
     "text": [
      "2017-10-24 02:54:56,479 root         INFO     Running trial {'tr_num': 39, 'stim': '/root/experiment/stim/bos_tag.wav', 'iti': 6385}\n"
     ]
    },
    {
     "name": "stdout",
     "output_type": "stream",
     "text": [
      "{'tr_num': 39, 'stim': '/root/experiment/stim/bos_tag.wav', 'iti': 6385}\n"
     ]
    },
    {
     "name": "stderr",
     "output_type": "stream",
     "text": [
      "2017-10-24 02:55:04,480 root         INFO     Running trial {'tr_num': 40, 'stim': '/root/experiment/stim/bos_rev_tag.wav', 'iti': 5261}\n"
     ]
    },
    {
     "name": "stdout",
     "output_type": "stream",
     "text": [
      "{'tr_num': 40, 'stim': '/root/experiment/stim/bos_rev_tag.wav', 'iti': 5261}\n"
     ]
    },
    {
     "name": "stderr",
     "output_type": "stream",
     "text": [
      "2017-10-24 02:55:11,050 root         INFO     Running trial {'tr_num': 41, 'stim': '/root/experiment/stim/bos_tag.wav', 'iti': 3170}\n"
     ]
    },
    {
     "name": "stdout",
     "output_type": "stream",
     "text": [
      "{'tr_num': 41, 'stim': '/root/experiment/stim/bos_tag.wav', 'iti': 3170}\n"
     ]
    },
    {
     "name": "stderr",
     "output_type": "stream",
     "text": [
      "2017-10-24 02:55:15,487 root         INFO     Running trial {'tr_num': 42, 'stim': '/root/experiment/stim/bos_tag.wav', 'iti': 3936}\n"
     ]
    },
    {
     "name": "stdout",
     "output_type": "stream",
     "text": [
      "{'tr_num': 42, 'stim': '/root/experiment/stim/bos_tag.wav', 'iti': 3936}\n"
     ]
    },
    {
     "name": "stderr",
     "output_type": "stream",
     "text": [
      "2017-10-24 02:55:20,688 root         INFO     Running trial {'tr_num': 43, 'stim': '/root/experiment/stim/con_tag.wav', 'iti': 5374}\n"
     ]
    },
    {
     "name": "stdout",
     "output_type": "stream",
     "text": [
      "{'tr_num': 43, 'stim': '/root/experiment/stim/con_tag.wav', 'iti': 5374}\n"
     ]
    },
    {
     "name": "stderr",
     "output_type": "stream",
     "text": [
      "2017-10-24 02:55:27,269 root         INFO     Running trial {'tr_num': 44, 'stim': '/root/experiment/stim/bos_tag.wav', 'iti': 3388}\n"
     ]
    },
    {
     "name": "stdout",
     "output_type": "stream",
     "text": [
      "{'tr_num': 44, 'stim': '/root/experiment/stim/bos_tag.wav', 'iti': 3388}\n"
     ]
    },
    {
     "name": "stderr",
     "output_type": "stream",
     "text": [
      "2017-10-24 02:55:31,878 root         INFO     Running trial {'tr_num': 45, 'stim': '/root/experiment/stim/bos_syn_tag.wav', 'iti': 4003}\n"
     ]
    },
    {
     "name": "stdout",
     "output_type": "stream",
     "text": [
      "{'tr_num': 45, 'stim': '/root/experiment/stim/bos_syn_tag.wav', 'iti': 4003}\n"
     ]
    },
    {
     "name": "stderr",
     "output_type": "stream",
     "text": [
      "2017-10-24 02:55:37,176 root         INFO     Running trial {'tr_num': 46, 'stim': '/root/experiment/stim/con_tag.wav', 'iti': 3410}\n"
     ]
    },
    {
     "name": "stdout",
     "output_type": "stream",
     "text": [
      "{'tr_num': 46, 'stim': '/root/experiment/stim/con_tag.wav', 'iti': 3410}\n"
     ]
    },
    {
     "name": "stderr",
     "output_type": "stream",
     "text": [
      "2017-10-24 02:55:41,842 root         INFO     Running trial {'tr_num': 47, 'stim': '/root/experiment/stim/bos_syn_tag.wav', 'iti': 3787}\n"
     ]
    },
    {
     "name": "stdout",
     "output_type": "stream",
     "text": [
      "{'tr_num': 47, 'stim': '/root/experiment/stim/bos_syn_tag.wav', 'iti': 3787}\n"
     ]
    },
    {
     "name": "stderr",
     "output_type": "stream",
     "text": [
      "2017-10-24 02:55:46,829 root         INFO     Running trial {'tr_num': 48, 'stim': '/root/experiment/stim/con_tag.wav', 'iti': 3774}\n"
     ]
    },
    {
     "name": "stdout",
     "output_type": "stream",
     "text": [
      "{'tr_num': 48, 'stim': '/root/experiment/stim/con_tag.wav', 'iti': 3774}\n"
     ]
    },
    {
     "name": "stderr",
     "output_type": "stream",
     "text": [
      "2017-10-24 02:55:51,724 root         INFO     Running trial {'tr_num': 49, 'stim': '/root/experiment/stim/bos_rev_tag.wav', 'iti': 5628}\n"
     ]
    },
    {
     "name": "stdout",
     "output_type": "stream",
     "text": [
      "{'tr_num': 49, 'stim': '/root/experiment/stim/bos_rev_tag.wav', 'iti': 5628}\n"
     ]
    },
    {
     "name": "stderr",
     "output_type": "stream",
     "text": [
      "2017-10-24 02:55:58,583 root         INFO     Running trial {'tr_num': 50, 'stim': '/root/experiment/stim/bos_syn_tag.wav', 'iti': 3523}\n"
     ]
    },
    {
     "name": "stdout",
     "output_type": "stream",
     "text": [
      "{'tr_num': 50, 'stim': '/root/experiment/stim/bos_syn_tag.wav', 'iti': 3523}\n"
     ]
    },
    {
     "name": "stderr",
     "output_type": "stream",
     "text": [
      "2017-10-24 02:56:03,376 root         INFO     Running trial {'tr_num': 51, 'stim': '/root/experiment/stim/bos_tag.wav', 'iti': 2309}\n"
     ]
    },
    {
     "name": "stdout",
     "output_type": "stream",
     "text": [
      "{'tr_num': 51, 'stim': '/root/experiment/stim/bos_tag.wav', 'iti': 2309}\n"
     ]
    },
    {
     "name": "stderr",
     "output_type": "stream",
     "text": [
      "2017-10-24 02:56:06,956 root         INFO     Running trial {'tr_num': 52, 'stim': '/root/experiment/stim/bos_rev_tag.wav', 'iti': 4734}\n"
     ]
    },
    {
     "name": "stdout",
     "output_type": "stream",
     "text": [
      "{'tr_num': 52, 'stim': '/root/experiment/stim/bos_rev_tag.wav', 'iti': 4734}\n"
     ]
    },
    {
     "name": "stderr",
     "output_type": "stream",
     "text": [
      "2017-10-24 02:56:12,924 root         INFO     Running trial {'tr_num': 53, 'stim': '/root/experiment/stim/bos_rev_tag.wav', 'iti': 5561}\n"
     ]
    },
    {
     "name": "stdout",
     "output_type": "stream",
     "text": [
      "{'tr_num': 53, 'stim': '/root/experiment/stim/bos_rev_tag.wav', 'iti': 5561}\n"
     ]
    },
    {
     "name": "stderr",
     "output_type": "stream",
     "text": [
      "2017-10-24 02:56:19,773 root         INFO     Running trial {'tr_num': 54, 'stim': '/root/experiment/stim/bos_rev_tag.wav', 'iti': 4971}\n"
     ]
    },
    {
     "name": "stdout",
     "output_type": "stream",
     "text": [
      "{'tr_num': 54, 'stim': '/root/experiment/stim/bos_rev_tag.wav', 'iti': 4971}\n"
     ]
    },
    {
     "name": "stderr",
     "output_type": "stream",
     "text": [
      "2017-10-24 02:56:26,276 root         INFO     Running trial {'tr_num': 55, 'stim': '/root/experiment/stim/con_tag.wav', 'iti': 5844}\n"
     ]
    },
    {
     "name": "stdout",
     "output_type": "stream",
     "text": [
      "{'tr_num': 55, 'stim': '/root/experiment/stim/con_tag.wav', 'iti': 5844}\n"
     ]
    },
    {
     "name": "stderr",
     "output_type": "stream",
     "text": [
      "2017-10-24 02:56:33,341 root         INFO     Running trial {'tr_num': 56, 'stim': '/root/experiment/stim/bos_rev_tag.wav', 'iti': 5559}\n"
     ]
    },
    {
     "name": "stdout",
     "output_type": "stream",
     "text": [
      "{'tr_num': 56, 'stim': '/root/experiment/stim/bos_rev_tag.wav', 'iti': 5559}\n"
     ]
    },
    {
     "name": "stderr",
     "output_type": "stream",
     "text": [
      "2017-10-24 02:56:40,136 root         INFO     Running trial {'tr_num': 57, 'stim': '/root/experiment/stim/bos_syn_tag.wav', 'iti': 2513}\n"
     ]
    },
    {
     "name": "stdout",
     "output_type": "stream",
     "text": [
      "{'tr_num': 57, 'stim': '/root/experiment/stim/bos_syn_tag.wav', 'iti': 2513}\n"
     ]
    },
    {
     "name": "stderr",
     "output_type": "stream",
     "text": [
      "2017-10-24 02:56:43,875 root         INFO     Running trial {'tr_num': 58, 'stim': '/root/experiment/stim/con_tag.wav', 'iti': 4332}\n"
     ]
    },
    {
     "name": "stdout",
     "output_type": "stream",
     "text": [
      "{'tr_num': 58, 'stim': '/root/experiment/stim/con_tag.wav', 'iti': 4332}\n"
     ]
    },
    {
     "name": "stderr",
     "output_type": "stream",
     "text": [
      "2017-10-24 02:56:49,391 root         INFO     Running trial {'tr_num': 59, 'stim': '/root/experiment/stim/bos_tag.wav', 'iti': 2826}\n"
     ]
    },
    {
     "name": "stdout",
     "output_type": "stream",
     "text": [
      "{'tr_num': 59, 'stim': '/root/experiment/stim/bos_tag.wav', 'iti': 2826}\n"
     ]
    },
    {
     "name": "stderr",
     "output_type": "stream",
     "text": [
      "2017-10-24 02:56:53,413 root         INFO     Running trial {'tr_num': 60, 'stim': '/root/experiment/stim/bos_tag.wav', 'iti': 2859}\n"
     ]
    },
    {
     "name": "stdout",
     "output_type": "stream",
     "text": [
      "{'tr_num': 60, 'stim': '/root/experiment/stim/bos_tag.wav', 'iti': 2859}\n"
     ]
    },
    {
     "name": "stderr",
     "output_type": "stream",
     "text": [
      "2017-10-24 02:56:57,608 root         INFO     Running trial {'tr_num': 61, 'stim': '/root/experiment/stim/bos_syn_tag.wav', 'iti': 5417}\n"
     ]
    },
    {
     "name": "stdout",
     "output_type": "stream",
     "text": [
      "{'tr_num': 61, 'stim': '/root/experiment/stim/bos_syn_tag.wav', 'iti': 5417}\n"
     ]
    },
    {
     "name": "stderr",
     "output_type": "stream",
     "text": [
      "2017-10-24 02:57:05,240 root         INFO     Running trial {'tr_num': 62, 'stim': '/root/experiment/stim/bos_rev_tag.wav', 'iti': 2825}\n"
     ]
    },
    {
     "name": "stdout",
     "output_type": "stream",
     "text": [
      "{'tr_num': 62, 'stim': '/root/experiment/stim/bos_rev_tag.wav', 'iti': 2825}\n"
     ]
    },
    {
     "name": "stderr",
     "output_type": "stream",
     "text": [
      "2017-10-24 02:57:09,287 root         INFO     Running trial {'tr_num': 63, 'stim': '/root/experiment/stim/con_tag.wav', 'iti': 2298}\n"
     ]
    },
    {
     "name": "stdout",
     "output_type": "stream",
     "text": [
      "{'tr_num': 63, 'stim': '/root/experiment/stim/con_tag.wav', 'iti': 2298}\n"
     ]
    },
    {
     "name": "stderr",
     "output_type": "stream",
     "text": [
      "2017-10-24 02:57:12,833 root         INFO     Running trial {'tr_num': 64, 'stim': '/root/experiment/stim/con_tag.wav', 'iti': 3576}\n"
     ]
    },
    {
     "name": "stdout",
     "output_type": "stream",
     "text": [
      "{'tr_num': 64, 'stim': '/root/experiment/stim/con_tag.wav', 'iti': 3576}\n"
     ]
    },
    {
     "name": "stderr",
     "output_type": "stream",
     "text": [
      "2017-10-24 02:57:17,540 root         INFO     Running trial {'tr_num': 65, 'stim': '/root/experiment/stim/bos_rev_tag.wav', 'iti': 2800}\n"
     ]
    },
    {
     "name": "stdout",
     "output_type": "stream",
     "text": [
      "{'tr_num': 65, 'stim': '/root/experiment/stim/bos_rev_tag.wav', 'iti': 2800}\n"
     ]
    },
    {
     "name": "stderr",
     "output_type": "stream",
     "text": [
      "2017-10-24 02:57:21,765 root         INFO     Running trial {'tr_num': 66, 'stim': '/root/experiment/stim/con_tag.wav', 'iti': 5562}\n"
     ]
    },
    {
     "name": "stdout",
     "output_type": "stream",
     "text": [
      "{'tr_num': 66, 'stim': '/root/experiment/stim/con_tag.wav', 'iti': 5562}\n"
     ]
    },
    {
     "name": "stderr",
     "output_type": "stream",
     "text": [
      "2017-10-24 02:57:28,416 root         INFO     Running trial {'tr_num': 67, 'stim': '/root/experiment/stim/bos_syn_tag.wav', 'iti': 4285}\n"
     ]
    },
    {
     "name": "stdout",
     "output_type": "stream",
     "text": [
      "{'tr_num': 67, 'stim': '/root/experiment/stim/bos_syn_tag.wav', 'iti': 4285}\n"
     ]
    },
    {
     "name": "stderr",
     "output_type": "stream",
     "text": [
      "2017-10-24 02:57:34,087 root         INFO     Running trial {'tr_num': 68, 'stim': '/root/experiment/stim/bos_syn_tag.wav', 'iti': 5004}\n"
     ]
    },
    {
     "name": "stdout",
     "output_type": "stream",
     "text": [
      "{'tr_num': 68, 'stim': '/root/experiment/stim/bos_syn_tag.wav', 'iti': 5004}\n"
     ]
    },
    {
     "name": "stderr",
     "output_type": "stream",
     "text": [
      "2017-10-24 02:57:40,556 root         INFO     Running trial {'tr_num': 69, 'stim': '/root/experiment/stim/con_tag.wav', 'iti': 6498}\n"
     ]
    },
    {
     "name": "stdout",
     "output_type": "stream",
     "text": [
      "{'tr_num': 69, 'stim': '/root/experiment/stim/con_tag.wav', 'iti': 6498}\n"
     ]
    },
    {
     "name": "stderr",
     "output_type": "stream",
     "text": [
      "2017-10-24 02:57:48,241 root         INFO     Running trial {'tr_num': 70, 'stim': '/root/experiment/stim/bos_syn_tag.wav', 'iti': 4794}\n"
     ]
    },
    {
     "name": "stdout",
     "output_type": "stream",
     "text": [
      "{'tr_num': 70, 'stim': '/root/experiment/stim/bos_syn_tag.wav', 'iti': 4794}\n"
     ]
    },
    {
     "name": "stderr",
     "output_type": "stream",
     "text": [
      "2017-10-24 02:57:54,311 root         INFO     Running trial {'tr_num': 71, 'stim': '/root/experiment/stim/con_tag.wav', 'iti': 4613}\n"
     ]
    },
    {
     "name": "stdout",
     "output_type": "stream",
     "text": [
      "{'tr_num': 71, 'stim': '/root/experiment/stim/con_tag.wav', 'iti': 4613}\n"
     ]
    },
    {
     "name": "stderr",
     "output_type": "stream",
     "text": [
      "2017-10-24 02:58:00,069 root         INFO     Running trial {'tr_num': 72, 'stim': '/root/experiment/stim/bos_tag.wav', 'iti': 6966}\n"
     ]
    },
    {
     "name": "stdout",
     "output_type": "stream",
     "text": [
      "{'tr_num': 72, 'stim': '/root/experiment/stim/bos_tag.wav', 'iti': 6966}\n"
     ]
    },
    {
     "name": "stderr",
     "output_type": "stream",
     "text": [
      "2017-10-24 02:58:08,231 root         INFO     Running trial {'tr_num': 73, 'stim': '/root/experiment/stim/bos_tag.wav', 'iti': 2224}\n"
     ]
    },
    {
     "name": "stdout",
     "output_type": "stream",
     "text": [
      "{'tr_num': 73, 'stim': '/root/experiment/stim/bos_tag.wav', 'iti': 2224}\n"
     ]
    },
    {
     "name": "stderr",
     "output_type": "stream",
     "text": [
      "2017-10-24 02:58:11,720 root         INFO     Running trial {'tr_num': 74, 'stim': '/root/experiment/stim/con_tag.wav', 'iti': 6124}\n"
     ]
    },
    {
     "name": "stdout",
     "output_type": "stream",
     "text": [
      "{'tr_num': 74, 'stim': '/root/experiment/stim/con_tag.wav', 'iti': 6124}\n"
     ]
    },
    {
     "name": "stderr",
     "output_type": "stream",
     "text": [
      "2017-10-24 02:58:19,117 root         INFO     Running trial {'tr_num': 75, 'stim': '/root/experiment/stim/bos_tag.wav', 'iti': 6473}\n"
     ]
    },
    {
     "name": "stdout",
     "output_type": "stream",
     "text": [
      "{'tr_num': 75, 'stim': '/root/experiment/stim/bos_tag.wav', 'iti': 6473}\n"
     ]
    },
    {
     "name": "stderr",
     "output_type": "stream",
     "text": [
      "2017-10-24 02:58:26,786 root         INFO     Running trial {'tr_num': 76, 'stim': '/root/experiment/stim/bos_tag.wav', 'iti': 6236}\n"
     ]
    },
    {
     "name": "stdout",
     "output_type": "stream",
     "text": [
      "{'tr_num': 76, 'stim': '/root/experiment/stim/bos_tag.wav', 'iti': 6236}\n"
     ]
    },
    {
     "name": "stderr",
     "output_type": "stream",
     "text": [
      "2017-10-24 02:58:34,248 root         INFO     Running trial {'tr_num': 77, 'stim': '/root/experiment/stim/bos_tag.wav', 'iti': 4065}\n"
     ]
    },
    {
     "name": "stdout",
     "output_type": "stream",
     "text": [
      "{'tr_num': 77, 'stim': '/root/experiment/stim/bos_tag.wav', 'iti': 4065}\n"
     ]
    },
    {
     "name": "stderr",
     "output_type": "stream",
     "text": [
      "2017-10-24 02:58:39,546 root         INFO     Running trial {'tr_num': 78, 'stim': '/root/experiment/stim/bos_tag.wav', 'iti': 3757}\n"
     ]
    },
    {
     "name": "stdout",
     "output_type": "stream",
     "text": [
      "{'tr_num': 78, 'stim': '/root/experiment/stim/bos_tag.wav', 'iti': 3757}\n"
     ]
    },
    {
     "name": "stderr",
     "output_type": "stream",
     "text": [
      "2017-10-24 02:58:44,602 root         INFO     Running trial {'tr_num': 79, 'stim': '/root/experiment/stim/bos_tag.wav', 'iti': 4552}\n"
     ]
    },
    {
     "name": "stdout",
     "output_type": "stream",
     "text": [
      "{'tr_num': 79, 'stim': '/root/experiment/stim/bos_tag.wav', 'iti': 4552}\n"
     ]
    },
    {
     "name": "stderr",
     "output_type": "stream",
     "text": [
      "2017-10-24 02:58:50,422 root         INFO     Running trial {'tr_num': 80, 'stim': '/root/experiment/stim/bos_syn_tag.wav', 'iti': 4465}\n"
     ]
    },
    {
     "name": "stdout",
     "output_type": "stream",
     "text": [
      "{'tr_num': 80, 'stim': '/root/experiment/stim/bos_syn_tag.wav', 'iti': 4465}\n"
     ]
    },
    {
     "name": "stderr",
     "output_type": "stream",
     "text": [
      "2017-10-24 02:58:56,136 root         INFO     Running trial {'tr_num': 81, 'stim': '/root/experiment/stim/con_tag.wav', 'iti': 3497}\n"
     ]
    },
    {
     "name": "stdout",
     "output_type": "stream",
     "text": [
      "{'tr_num': 81, 'stim': '/root/experiment/stim/con_tag.wav', 'iti': 3497}\n"
     ]
    },
    {
     "name": "stderr",
     "output_type": "stream",
     "text": [
      "2017-10-24 02:59:00,755 root         INFO     Running trial {'tr_num': 82, 'stim': '/root/experiment/stim/con_tag.wav', 'iti': 3393}\n"
     ]
    },
    {
     "name": "stdout",
     "output_type": "stream",
     "text": [
      "{'tr_num': 82, 'stim': '/root/experiment/stim/con_tag.wav', 'iti': 3393}\n"
     ]
    },
    {
     "name": "stderr",
     "output_type": "stream",
     "text": [
      "2017-10-24 02:59:05,246 root         INFO     Running trial {'tr_num': 83, 'stim': '/root/experiment/stim/bos_tag.wav', 'iti': 5137}\n"
     ]
    },
    {
     "name": "stdout",
     "output_type": "stream",
     "text": [
      "{'tr_num': 83, 'stim': '/root/experiment/stim/bos_tag.wav', 'iti': 5137}\n"
     ]
    },
    {
     "name": "stderr",
     "output_type": "stream",
     "text": [
      "2017-10-24 02:59:11,557 root         INFO     Running trial {'tr_num': 84, 'stim': '/root/experiment/stim/bos_syn_tag.wav', 'iti': 3574}\n"
     ]
    },
    {
     "name": "stdout",
     "output_type": "stream",
     "text": [
      "{'tr_num': 84, 'stim': '/root/experiment/stim/bos_syn_tag.wav', 'iti': 3574}\n"
     ]
    },
    {
     "name": "stderr",
     "output_type": "stream",
     "text": [
      "2017-10-24 02:59:16,342 root         INFO     Running trial {'tr_num': 85, 'stim': '/root/experiment/stim/con_tag.wav', 'iti': 2427}\n"
     ]
    },
    {
     "name": "stdout",
     "output_type": "stream",
     "text": [
      "{'tr_num': 85, 'stim': '/root/experiment/stim/con_tag.wav', 'iti': 2427}\n"
     ]
    },
    {
     "name": "stderr",
     "output_type": "stream",
     "text": [
      "2017-10-24 02:59:19,925 root         INFO     Running trial {'tr_num': 86, 'stim': '/root/experiment/stim/bos_tag.wav', 'iti': 5446}\n"
     ]
    },
    {
     "name": "stdout",
     "output_type": "stream",
     "text": [
      "{'tr_num': 86, 'stim': '/root/experiment/stim/bos_tag.wav', 'iti': 5446}\n"
     ]
    },
    {
     "name": "stderr",
     "output_type": "stream",
     "text": [
      "2017-10-24 02:59:26,586 root         INFO     Running trial {'tr_num': 87, 'stim': '/root/experiment/stim/bos_rev_tag.wav', 'iti': 4521}\n"
     ]
    },
    {
     "name": "stdout",
     "output_type": "stream",
     "text": [
      "{'tr_num': 87, 'stim': '/root/experiment/stim/bos_rev_tag.wav', 'iti': 4521}\n"
     ]
    },
    {
     "name": "stderr",
     "output_type": "stream",
     "text": [
      "2017-10-24 02:59:32,425 root         INFO     Running trial {'tr_num': 88, 'stim': '/root/experiment/stim/bos_rev_tag.wav', 'iti': 3969}\n"
     ]
    },
    {
     "name": "stdout",
     "output_type": "stream",
     "text": [
      "{'tr_num': 88, 'stim': '/root/experiment/stim/bos_rev_tag.wav', 'iti': 3969}\n"
     ]
    },
    {
     "name": "stderr",
     "output_type": "stream",
     "text": [
      "2017-10-24 02:59:37,724 root         INFO     Running trial {'tr_num': 89, 'stim': '/root/experiment/stim/bos_tag.wav', 'iti': 2062}\n"
     ]
    },
    {
     "name": "stdout",
     "output_type": "stream",
     "text": [
      "{'tr_num': 89, 'stim': '/root/experiment/stim/bos_tag.wav', 'iti': 2062}\n"
     ]
    },
    {
     "name": "stderr",
     "output_type": "stream",
     "text": [
      "2017-10-24 02:59:41,057 root         INFO     Running trial {'tr_num': 90, 'stim': '/root/experiment/stim/bos_syn_tag.wav', 'iti': 6651}\n"
     ]
    },
    {
     "name": "stdout",
     "output_type": "stream",
     "text": [
      "{'tr_num': 90, 'stim': '/root/experiment/stim/bos_syn_tag.wav', 'iti': 6651}\n"
     ]
    },
    {
     "name": "stderr",
     "output_type": "stream",
     "text": [
      "2017-10-24 02:59:49,191 root         INFO     Running trial {'tr_num': 91, 'stim': '/root/experiment/stim/bos_rev_tag.wav', 'iti': 5597}\n"
     ]
    },
    {
     "name": "stdout",
     "output_type": "stream",
     "text": [
      "{'tr_num': 91, 'stim': '/root/experiment/stim/bos_rev_tag.wav', 'iti': 5597}\n"
     ]
    },
    {
     "name": "stderr",
     "output_type": "stream",
     "text": [
      "2017-10-24 02:59:56,079 root         INFO     Running trial {'tr_num': 92, 'stim': '/root/experiment/stim/bos_rev_tag.wav', 'iti': 5487}\n"
     ]
    },
    {
     "name": "stdout",
     "output_type": "stream",
     "text": [
      "{'tr_num': 92, 'stim': '/root/experiment/stim/bos_rev_tag.wav', 'iti': 5487}\n"
     ]
    },
    {
     "name": "stderr",
     "output_type": "stream",
     "text": [
      "2017-10-24 03:00:02,768 root         INFO     Running trial {'tr_num': 93, 'stim': '/root/experiment/stim/bos_tag.wav', 'iti': 2216}\n"
     ]
    },
    {
     "name": "stdout",
     "output_type": "stream",
     "text": [
      "{'tr_num': 93, 'stim': '/root/experiment/stim/bos_tag.wav', 'iti': 2216}\n"
     ]
    },
    {
     "name": "stderr",
     "output_type": "stream",
     "text": [
      "2017-10-24 03:00:06,543 root         INFO     Running trial {'tr_num': 94, 'stim': '/root/experiment/stim/con_tag.wav', 'iti': 4569}\n"
     ]
    },
    {
     "name": "stdout",
     "output_type": "stream",
     "text": [
      "{'tr_num': 94, 'stim': '/root/experiment/stim/con_tag.wav', 'iti': 4569}\n"
     ]
    },
    {
     "name": "stderr",
     "output_type": "stream",
     "text": [
      "2017-10-24 03:00:12,931 root         INFO     Running trial {'tr_num': 95, 'stim': '/root/experiment/stim/bos_rev_tag.wav', 'iti': 2177}\n"
     ]
    },
    {
     "name": "stdout",
     "output_type": "stream",
     "text": [
      "{'tr_num': 95, 'stim': '/root/experiment/stim/bos_rev_tag.wav', 'iti': 2177}\n"
     ]
    },
    {
     "name": "stderr",
     "output_type": "stream",
     "text": [
      "2017-10-24 03:00:16,751 root         INFO     Running trial {'tr_num': 96, 'stim': '/root/experiment/stim/bos_tag.wav', 'iti': 6139}\n"
     ]
    },
    {
     "name": "stdout",
     "output_type": "stream",
     "text": [
      "{'tr_num': 96, 'stim': '/root/experiment/stim/bos_tag.wav', 'iti': 6139}\n"
     ]
    },
    {
     "name": "stderr",
     "output_type": "stream",
     "text": [
      "2017-10-24 03:00:24,164 root         INFO     Running trial {'tr_num': 97, 'stim': '/root/experiment/stim/bos_rev_tag.wav', 'iti': 6331}\n"
     ]
    },
    {
     "name": "stdout",
     "output_type": "stream",
     "text": [
      "{'tr_num': 97, 'stim': '/root/experiment/stim/bos_rev_tag.wav', 'iti': 6331}\n"
     ]
    },
    {
     "name": "stderr",
     "output_type": "stream",
     "text": [
      "2017-10-24 03:00:31,724 root         INFO     Running trial {'tr_num': 98, 'stim': '/root/experiment/stim/bos_tag.wav', 'iti': 4495}\n"
     ]
    },
    {
     "name": "stdout",
     "output_type": "stream",
     "text": [
      "{'tr_num': 98, 'stim': '/root/experiment/stim/bos_tag.wav', 'iti': 4495}\n"
     ]
    },
    {
     "name": "stderr",
     "output_type": "stream",
     "text": [
      "2017-10-24 03:00:37,682 root         INFO     Running trial {'tr_num': 99, 'stim': '/root/experiment/stim/bos_syn_tag.wav', 'iti': 5015}\n"
     ]
    },
    {
     "name": "stdout",
     "output_type": "stream",
     "text": [
      "{'tr_num': 99, 'stim': '/root/experiment/stim/bos_syn_tag.wav', 'iti': 5015}\n"
     ]
    },
    {
     "name": "stderr",
     "output_type": "stream",
     "text": [
      "2017-10-24 03:00:43,898 root         INFO     Running trial {'tr_num': 100, 'stim': '/root/experiment/stim/bos_syn_tag.wav', 'iti': 5787}\n"
     ]
    },
    {
     "name": "stdout",
     "output_type": "stream",
     "text": [
      "{'tr_num': 100, 'stim': '/root/experiment/stim/bos_syn_tag.wav', 'iti': 5787}\n"
     ]
    },
    {
     "name": "stderr",
     "output_type": "stream",
     "text": [
      "2017-10-24 03:00:50,904 root         INFO     Running trial {'tr_num': 101, 'stim': '/root/experiment/stim/bos_rev_tag.wav', 'iti': 6509}\n"
     ]
    },
    {
     "name": "stdout",
     "output_type": "stream",
     "text": [
      "{'tr_num': 101, 'stim': '/root/experiment/stim/bos_rev_tag.wav', 'iti': 6509}\n"
     ]
    },
    {
     "name": "stderr",
     "output_type": "stream",
     "text": [
      "2017-10-24 03:00:58,694 root         INFO     Running trial {'tr_num': 102, 'stim': '/root/experiment/stim/con_tag.wav', 'iti': 5718}\n"
     ]
    },
    {
     "name": "stdout",
     "output_type": "stream",
     "text": [
      "{'tr_num': 102, 'stim': '/root/experiment/stim/con_tag.wav', 'iti': 5718}\n"
     ]
    },
    {
     "name": "stderr",
     "output_type": "stream",
     "text": [
      "2017-10-24 03:01:05,948 root         INFO     Running trial {'tr_num': 103, 'stim': '/root/experiment/stim/bos_syn_tag.wav', 'iti': 4258}\n"
     ]
    },
    {
     "name": "stdout",
     "output_type": "stream",
     "text": [
      "{'tr_num': 103, 'stim': '/root/experiment/stim/bos_syn_tag.wav', 'iti': 4258}\n"
     ]
    },
    {
     "name": "stderr",
     "output_type": "stream",
     "text": [
      "2017-10-24 03:01:11,888 root         INFO     Running trial {'tr_num': 104, 'stim': '/root/experiment/stim/con_tag.wav', 'iti': 2442}\n"
     ]
    },
    {
     "name": "stdout",
     "output_type": "stream",
     "text": [
      "{'tr_num': 104, 'stim': '/root/experiment/stim/con_tag.wav', 'iti': 2442}\n"
     ]
    },
    {
     "name": "stderr",
     "output_type": "stream",
     "text": [
      "2017-10-24 03:01:15,609 root         INFO     Running trial {'tr_num': 105, 'stim': '/root/experiment/stim/bos_tag.wav', 'iti': 5445}\n"
     ]
    },
    {
     "name": "stdout",
     "output_type": "stream",
     "text": [
      "{'tr_num': 105, 'stim': '/root/experiment/stim/bos_tag.wav', 'iti': 5445}\n"
     ]
    },
    {
     "name": "stderr",
     "output_type": "stream",
     "text": [
      "2017-10-24 03:01:22,401 root         INFO     Running trial {'tr_num': 106, 'stim': '/root/experiment/stim/bos_rev_tag.wav', 'iti': 5147}\n"
     ]
    },
    {
     "name": "stdout",
     "output_type": "stream",
     "text": [
      "{'tr_num': 106, 'stim': '/root/experiment/stim/bos_rev_tag.wav', 'iti': 5147}\n"
     ]
    },
    {
     "name": "stderr",
     "output_type": "stream",
     "text": [
      "2017-10-24 03:01:28,754 root         INFO     Running trial {'tr_num': 107, 'stim': '/root/experiment/stim/con_tag.wav', 'iti': 4283}\n"
     ]
    },
    {
     "name": "stdout",
     "output_type": "stream",
     "text": [
      "{'tr_num': 107, 'stim': '/root/experiment/stim/con_tag.wav', 'iti': 4283}\n"
     ]
    },
    {
     "name": "stderr",
     "output_type": "stream",
     "text": [
      "2017-10-24 03:01:34,541 root         INFO     Running trial {'tr_num': 108, 'stim': '/root/experiment/stim/bos_tag.wav', 'iti': 5388}\n"
     ]
    },
    {
     "name": "stdout",
     "output_type": "stream",
     "text": [
      "{'tr_num': 108, 'stim': '/root/experiment/stim/bos_tag.wav', 'iti': 5388}\n"
     ]
    },
    {
     "name": "stderr",
     "output_type": "stream",
     "text": [
      "2017-10-24 03:01:41,152 root         INFO     Running trial {'tr_num': 109, 'stim': '/root/experiment/stim/bos_syn_tag.wav', 'iti': 3024}\n"
     ]
    },
    {
     "name": "stdout",
     "output_type": "stream",
     "text": [
      "{'tr_num': 109, 'stim': '/root/experiment/stim/bos_syn_tag.wav', 'iti': 3024}\n"
     ]
    },
    {
     "name": "stderr",
     "output_type": "stream",
     "text": [
      "2017-10-24 03:01:45,398 root         INFO     Running trial {'tr_num': 110, 'stim': '/root/experiment/stim/bos_tag.wav', 'iti': 3449}\n"
     ]
    },
    {
     "name": "stdout",
     "output_type": "stream",
     "text": [
      "{'tr_num': 110, 'stim': '/root/experiment/stim/bos_tag.wav', 'iti': 3449}\n"
     ]
    },
    {
     "name": "stderr",
     "output_type": "stream",
     "text": [
      "2017-10-24 03:01:50,074 root         INFO     Running trial {'tr_num': 111, 'stim': '/root/experiment/stim/bos_tag.wav', 'iti': 2703}\n"
     ]
    },
    {
     "name": "stdout",
     "output_type": "stream",
     "text": [
      "{'tr_num': 111, 'stim': '/root/experiment/stim/bos_tag.wav', 'iti': 2703}\n"
     ]
    },
    {
     "name": "stderr",
     "output_type": "stream",
     "text": [
      "2017-10-24 03:01:53,980 root         INFO     Running trial {'tr_num': 112, 'stim': '/root/experiment/stim/bos_syn_tag.wav', 'iti': 4134}\n"
     ]
    },
    {
     "name": "stdout",
     "output_type": "stream",
     "text": [
      "{'tr_num': 112, 'stim': '/root/experiment/stim/bos_syn_tag.wav', 'iti': 4134}\n"
     ]
    },
    {
     "name": "stderr",
     "output_type": "stream",
     "text": [
      "2017-10-24 03:01:59,329 root         INFO     Running trial {'tr_num': 113, 'stim': '/root/experiment/stim/bos_tag.wav', 'iti': 5330}\n"
     ]
    },
    {
     "name": "stdout",
     "output_type": "stream",
     "text": [
      "{'tr_num': 113, 'stim': '/root/experiment/stim/bos_tag.wav', 'iti': 5330}\n"
     ]
    },
    {
     "name": "stderr",
     "output_type": "stream",
     "text": [
      "2017-10-24 03:02:05,895 root         INFO     Running trial {'tr_num': 114, 'stim': '/root/experiment/stim/bos_rev_tag.wav', 'iti': 3324}\n"
     ]
    },
    {
     "name": "stdout",
     "output_type": "stream",
     "text": [
      "{'tr_num': 114, 'stim': '/root/experiment/stim/bos_rev_tag.wav', 'iti': 3324}\n"
     ]
    },
    {
     "name": "stderr",
     "output_type": "stream",
     "text": [
      "2017-10-24 03:02:10,501 root         INFO     Running trial {'tr_num': 115, 'stim': '/root/experiment/stim/con_tag.wav', 'iti': 6927}\n"
     ]
    },
    {
     "name": "stdout",
     "output_type": "stream",
     "text": [
      "{'tr_num': 115, 'stim': '/root/experiment/stim/con_tag.wav', 'iti': 6927}\n"
     ]
    },
    {
     "name": "stderr",
     "output_type": "stream",
     "text": [
      "2017-10-24 03:02:18,530 root         INFO     Running trial {'tr_num': 116, 'stim': '/root/experiment/stim/bos_rev_tag.wav', 'iti': 2290}\n"
     ]
    },
    {
     "name": "stdout",
     "output_type": "stream",
     "text": [
      "{'tr_num': 116, 'stim': '/root/experiment/stim/bos_rev_tag.wav', 'iti': 2290}\n"
     ]
    },
    {
     "name": "stderr",
     "output_type": "stream",
     "text": [
      "2017-10-24 03:02:22,258 root         INFO     Running trial {'tr_num': 117, 'stim': '/root/experiment/stim/con_tag.wav', 'iti': 3240}\n"
     ]
    },
    {
     "name": "stdout",
     "output_type": "stream",
     "text": [
      "{'tr_num': 117, 'stim': '/root/experiment/stim/con_tag.wav', 'iti': 3240}\n"
     ]
    },
    {
     "name": "stderr",
     "output_type": "stream",
     "text": [
      "2017-10-24 03:02:26,676 root         INFO     Running trial {'tr_num': 118, 'stim': '/root/experiment/stim/bos_rev_tag.wav', 'iti': 3671}\n"
     ]
    },
    {
     "name": "stdout",
     "output_type": "stream",
     "text": [
      "{'tr_num': 118, 'stim': '/root/experiment/stim/bos_rev_tag.wav', 'iti': 3671}\n"
     ]
    },
    {
     "name": "stderr",
     "output_type": "stream",
     "text": [
      "2017-10-24 03:02:31,626 root         INFO     Running trial {'tr_num': 119, 'stim': '/root/experiment/stim/bos_syn_tag.wav', 'iti': 3899}\n"
     ]
    },
    {
     "name": "stdout",
     "output_type": "stream",
     "text": [
      "{'tr_num': 119, 'stim': '/root/experiment/stim/bos_syn_tag.wav', 'iti': 3899}\n"
     ]
    },
    {
     "name": "stderr",
     "output_type": "stream",
     "text": [
      "2017-10-24 03:02:36,886 root         INFO     Running trial {'tr_num': 120, 'stim': '/root/experiment/stim/bos_tag.wav', 'iti': 2099}\n"
     ]
    },
    {
     "name": "stdout",
     "output_type": "stream",
     "text": [
      "{'tr_num': 120, 'stim': '/root/experiment/stim/bos_tag.wav', 'iti': 2099}\n"
     ]
    },
    {
     "name": "stderr",
     "output_type": "stream",
     "text": [
      "2017-10-24 03:02:40,304 root         INFO     Running trial {'tr_num': 121, 'stim': '/root/experiment/stim/bos_syn_tag.wav', 'iti': 5827}\n"
     ]
    },
    {
     "name": "stdout",
     "output_type": "stream",
     "text": [
      "{'tr_num': 121, 'stim': '/root/experiment/stim/bos_syn_tag.wav', 'iti': 5827}\n"
     ]
    },
    {
     "name": "stderr",
     "output_type": "stream",
     "text": [
      "2017-10-24 03:02:47,696 root         INFO     Running trial {'tr_num': 122, 'stim': '/root/experiment/stim/bos_rev_tag.wav', 'iti': 5626}\n"
     ]
    },
    {
     "name": "stdout",
     "output_type": "stream",
     "text": [
      "{'tr_num': 122, 'stim': '/root/experiment/stim/bos_rev_tag.wav', 'iti': 5626}\n"
     ]
    },
    {
     "name": "stderr",
     "output_type": "stream",
     "text": [
      "2017-10-24 03:02:54,624 root         INFO     Running trial {'tr_num': 123, 'stim': '/root/experiment/stim/bos_syn_tag.wav', 'iti': 5936}\n"
     ]
    },
    {
     "name": "stdout",
     "output_type": "stream",
     "text": [
      "{'tr_num': 123, 'stim': '/root/experiment/stim/bos_syn_tag.wav', 'iti': 5936}\n"
     ]
    },
    {
     "name": "stderr",
     "output_type": "stream",
     "text": [
      "2017-10-24 03:03:01,809 root         INFO     Running trial {'tr_num': 124, 'stim': '/root/experiment/stim/bos_rev_tag.wav', 'iti': 2768}\n"
     ]
    },
    {
     "name": "stdout",
     "output_type": "stream",
     "text": [
      "{'tr_num': 124, 'stim': '/root/experiment/stim/bos_rev_tag.wav', 'iti': 2768}\n"
     ]
    },
    {
     "name": "stderr",
     "output_type": "stream",
     "text": [
      "2017-10-24 03:03:05,808 root         INFO     Running trial {'tr_num': 125, 'stim': '/root/experiment/stim/bos_tag.wav', 'iti': 2566}\n"
     ]
    },
    {
     "name": "stdout",
     "output_type": "stream",
     "text": [
      "{'tr_num': 125, 'stim': '/root/experiment/stim/bos_tag.wav', 'iti': 2566}\n"
     ]
    },
    {
     "name": "stderr",
     "output_type": "stream",
     "text": [
      "2017-10-24 03:03:09,752 root         INFO     Running trial {'tr_num': 126, 'stim': '/root/experiment/stim/bos_syn_tag.wav', 'iti': 2401}\n"
     ]
    },
    {
     "name": "stdout",
     "output_type": "stream",
     "text": [
      "{'tr_num': 126, 'stim': '/root/experiment/stim/bos_syn_tag.wav', 'iti': 2401}\n"
     ]
    },
    {
     "name": "stderr",
     "output_type": "stream",
     "text": [
      "2017-10-24 03:03:13,400 root         INFO     Running trial {'tr_num': 127, 'stim': '/root/experiment/stim/bos_syn_tag.wav', 'iti': 3362}\n"
     ]
    },
    {
     "name": "stdout",
     "output_type": "stream",
     "text": [
      "{'tr_num': 127, 'stim': '/root/experiment/stim/bos_syn_tag.wav', 'iti': 3362}\n"
     ]
    },
    {
     "name": "stderr",
     "output_type": "stream",
     "text": [
      "2017-10-24 03:03:18,012 root         INFO     Running trial {'tr_num': 128, 'stim': '/root/experiment/stim/bos_syn_tag.wav', 'iti': 5428}\n"
     ]
    },
    {
     "name": "stdout",
     "output_type": "stream",
     "text": [
      "{'tr_num': 128, 'stim': '/root/experiment/stim/bos_syn_tag.wav', 'iti': 5428}\n"
     ]
    },
    {
     "name": "stderr",
     "output_type": "stream",
     "text": [
      "2017-10-24 03:03:24,716 root         INFO     Running trial {'tr_num': 129, 'stim': '/root/experiment/stim/con_tag.wav', 'iti': 6218}\n"
     ]
    },
    {
     "name": "stdout",
     "output_type": "stream",
     "text": [
      "{'tr_num': 129, 'stim': '/root/experiment/stim/con_tag.wav', 'iti': 6218}\n"
     ]
    },
    {
     "name": "stderr",
     "output_type": "stream",
     "text": [
      "2017-10-24 03:03:32,575 root         INFO     Running trial {'tr_num': 130, 'stim': '/root/experiment/stim/bos_tag.wav', 'iti': 5518}\n"
     ]
    },
    {
     "name": "stdout",
     "output_type": "stream",
     "text": [
      "{'tr_num': 130, 'stim': '/root/experiment/stim/bos_tag.wav', 'iti': 5518}\n"
     ]
    },
    {
     "name": "stderr",
     "output_type": "stream",
     "text": [
      "2017-10-24 03:03:39,429 root         INFO     Running trial {'tr_num': 131, 'stim': '/root/experiment/stim/con_tag.wav', 'iti': 4945}\n"
     ]
    },
    {
     "name": "stdout",
     "output_type": "stream",
     "text": [
      "{'tr_num': 131, 'stim': '/root/experiment/stim/con_tag.wav', 'iti': 4945}\n"
     ]
    },
    {
     "name": "stderr",
     "output_type": "stream",
     "text": [
      "2017-10-24 03:03:46,251 root         INFO     Running trial {'tr_num': 132, 'stim': '/root/experiment/stim/bos_rev_tag.wav', 'iti': 4456}\n"
     ]
    },
    {
     "name": "stdout",
     "output_type": "stream",
     "text": [
      "{'tr_num': 132, 'stim': '/root/experiment/stim/bos_rev_tag.wav', 'iti': 4456}\n"
     ]
    },
    {
     "name": "stderr",
     "output_type": "stream",
     "text": [
      "2017-10-24 03:03:52,139 root         INFO     Running trial {'tr_num': 133, 'stim': '/root/experiment/stim/bos_rev_tag.wav', 'iti': 4936}\n"
     ]
    },
    {
     "name": "stdout",
     "output_type": "stream",
     "text": [
      "{'tr_num': 133, 'stim': '/root/experiment/stim/bos_rev_tag.wav', 'iti': 4936}\n"
     ]
    },
    {
     "name": "stderr",
     "output_type": "stream",
     "text": [
      "2017-10-24 03:03:58,393 root         INFO     Running trial {'tr_num': 134, 'stim': '/root/experiment/stim/bos_syn_tag.wav', 'iti': 5954}\n"
     ]
    },
    {
     "name": "stdout",
     "output_type": "stream",
     "text": [
      "{'tr_num': 134, 'stim': '/root/experiment/stim/bos_syn_tag.wav', 'iti': 5954}\n"
     ]
    },
    {
     "name": "stderr",
     "output_type": "stream",
     "text": [
      "2017-10-24 03:04:06,141 root         INFO     Running trial {'tr_num': 135, 'stim': '/root/experiment/stim/bos_rev_tag.wav', 'iti': 3589}\n"
     ]
    },
    {
     "name": "stdout",
     "output_type": "stream",
     "text": [
      "{'tr_num': 135, 'stim': '/root/experiment/stim/bos_rev_tag.wav', 'iti': 3589}\n"
     ]
    },
    {
     "name": "stderr",
     "output_type": "stream",
     "text": [
      "2017-10-24 03:04:11,064 root         INFO     Running trial {'tr_num': 136, 'stim': '/root/experiment/stim/bos_syn_tag.wav', 'iti': 3179}\n"
     ]
    },
    {
     "name": "stdout",
     "output_type": "stream",
     "text": [
      "{'tr_num': 136, 'stim': '/root/experiment/stim/bos_syn_tag.wav', 'iti': 3179}\n"
     ]
    },
    {
     "name": "stderr",
     "output_type": "stream",
     "text": [
      "2017-10-24 03:04:15,605 root         INFO     Running trial {'tr_num': 137, 'stim': '/root/experiment/stim/bos_tag.wav', 'iti': 3643}\n"
     ]
    },
    {
     "name": "stdout",
     "output_type": "stream",
     "text": [
      "{'tr_num': 137, 'stim': '/root/experiment/stim/bos_tag.wav', 'iti': 3643}\n"
     ]
    },
    {
     "name": "stderr",
     "output_type": "stream",
     "text": [
      "2017-10-24 03:04:20,485 root         INFO     Running trial {'tr_num': 138, 'stim': '/root/experiment/stim/bos_rev_tag.wav', 'iti': 2693}\n"
     ]
    },
    {
     "name": "stdout",
     "output_type": "stream",
     "text": [
      "{'tr_num': 138, 'stim': '/root/experiment/stim/bos_rev_tag.wav', 'iti': 2693}\n"
     ]
    },
    {
     "name": "stderr",
     "output_type": "stream",
     "text": [
      "2017-10-24 03:04:24,372 root         INFO     Running trial {'tr_num': 139, 'stim': '/root/experiment/stim/bos_syn_tag.wav', 'iti': 6942}\n"
     ]
    },
    {
     "name": "stdout",
     "output_type": "stream",
     "text": [
      "{'tr_num': 139, 'stim': '/root/experiment/stim/bos_syn_tag.wav', 'iti': 6942}\n"
     ]
    },
    {
     "name": "stderr",
     "output_type": "stream",
     "text": [
      "2017-10-24 03:04:32,880 root         INFO     Running trial {'tr_num': 140, 'stim': '/root/experiment/stim/con_tag.wav', 'iti': 3139}\n"
     ]
    },
    {
     "name": "stdout",
     "output_type": "stream",
     "text": [
      "{'tr_num': 140, 'stim': '/root/experiment/stim/con_tag.wav', 'iti': 3139}\n"
     ]
    },
    {
     "name": "stderr",
     "output_type": "stream",
     "text": [
      "2017-10-24 03:04:37,164 root         INFO     Running trial {'tr_num': 141, 'stim': '/root/experiment/stim/bos_tag.wav', 'iti': 6891}\n"
     ]
    },
    {
     "name": "stdout",
     "output_type": "stream",
     "text": [
      "{'tr_num': 141, 'stim': '/root/experiment/stim/bos_tag.wav', 'iti': 6891}\n"
     ]
    },
    {
     "name": "stderr",
     "output_type": "stream",
     "text": [
      "2017-10-24 03:04:45,422 root         INFO     Running trial {'tr_num': 142, 'stim': '/root/experiment/stim/con_tag.wav', 'iti': 3898}\n"
     ]
    },
    {
     "name": "stdout",
     "output_type": "stream",
     "text": [
      "{'tr_num': 142, 'stim': '/root/experiment/stim/con_tag.wav', 'iti': 3898}\n"
     ]
    },
    {
     "name": "stderr",
     "output_type": "stream",
     "text": [
      "2017-10-24 03:04:50,604 root         INFO     Running trial {'tr_num': 143, 'stim': '/root/experiment/stim/bos_syn_tag.wav', 'iti': 5340}\n"
     ]
    },
    {
     "name": "stdout",
     "output_type": "stream",
     "text": [
      "{'tr_num': 143, 'stim': '/root/experiment/stim/bos_syn_tag.wav', 'iti': 5340}\n"
     ]
    },
    {
     "name": "stderr",
     "output_type": "stream",
     "text": [
      "2017-10-24 03:04:57,249 root         INFO     Running trial {'tr_num': 144, 'stim': '/root/experiment/stim/con_tag.wav', 'iti': 3890}\n"
     ]
    },
    {
     "name": "stdout",
     "output_type": "stream",
     "text": [
      "{'tr_num': 144, 'stim': '/root/experiment/stim/con_tag.wav', 'iti': 3890}\n"
     ]
    },
    {
     "name": "stderr",
     "output_type": "stream",
     "text": [
      "2017-10-24 03:05:02,498 root         INFO     Running trial {'tr_num': 145, 'stim': '/root/experiment/stim/con_tag.wav', 'iti': 4640}\n"
     ]
    },
    {
     "name": "stdout",
     "output_type": "stream",
     "text": [
      "{'tr_num': 145, 'stim': '/root/experiment/stim/con_tag.wav', 'iti': 4640}\n"
     ]
    },
    {
     "name": "stderr",
     "output_type": "stream",
     "text": [
      "2017-10-24 03:05:08,324 root         INFO     Running trial {'tr_num': 146, 'stim': '/root/experiment/stim/bos_rev_tag.wav', 'iti': 6201}\n"
     ]
    },
    {
     "name": "stdout",
     "output_type": "stream",
     "text": [
      "{'tr_num': 146, 'stim': '/root/experiment/stim/bos_rev_tag.wav', 'iti': 6201}\n"
     ]
    },
    {
     "name": "stderr",
     "output_type": "stream",
     "text": [
      "2017-10-24 03:05:15,770 root         INFO     Running trial {'tr_num': 147, 'stim': '/root/experiment/stim/bos_tag.wav', 'iti': 3033}\n"
     ]
    },
    {
     "name": "stdout",
     "output_type": "stream",
     "text": [
      "{'tr_num': 147, 'stim': '/root/experiment/stim/bos_tag.wav', 'iti': 3033}\n"
     ]
    },
    {
     "name": "stderr",
     "output_type": "stream",
     "text": [
      "2017-10-24 03:05:20,057 root         INFO     Running trial {'tr_num': 148, 'stim': '/root/experiment/stim/bos_rev_tag.wav', 'iti': 3643}\n"
     ]
    },
    {
     "name": "stdout",
     "output_type": "stream",
     "text": [
      "{'tr_num': 148, 'stim': '/root/experiment/stim/bos_rev_tag.wav', 'iti': 3643}\n"
     ]
    },
    {
     "name": "stderr",
     "output_type": "stream",
     "text": [
      "2017-10-24 03:05:25,471 root         INFO     Running trial {'tr_num': 149, 'stim': '/root/experiment/stim/bos_syn_tag.wav', 'iti': 2628}\n"
     ]
    },
    {
     "name": "stdout",
     "output_type": "stream",
     "text": [
      "{'tr_num': 149, 'stim': '/root/experiment/stim/bos_syn_tag.wav', 'iti': 2628}\n"
     ]
    },
    {
     "name": "stderr",
     "output_type": "stream",
     "text": [
      "2017-10-24 03:05:29,306 root         INFO     Running trial {'tr_num': 150, 'stim': '/root/experiment/stim/bos_rev_tag.wav', 'iti': 4875}\n"
     ]
    },
    {
     "name": "stdout",
     "output_type": "stream",
     "text": [
      "{'tr_num': 150, 'stim': '/root/experiment/stim/bos_rev_tag.wav', 'iti': 4875}\n"
     ]
    },
    {
     "name": "stderr",
     "output_type": "stream",
     "text": [
      "2017-10-24 03:05:35,411 root         INFO     Running trial {'tr_num': 151, 'stim': '/root/experiment/stim/con_tag.wav', 'iti': 5494}\n"
     ]
    },
    {
     "name": "stdout",
     "output_type": "stream",
     "text": [
      "{'tr_num': 151, 'stim': '/root/experiment/stim/con_tag.wav', 'iti': 5494}\n"
     ]
    },
    {
     "name": "stderr",
     "output_type": "stream",
     "text": [
      "2017-10-24 03:05:42,031 root         INFO     Running trial {'tr_num': 152, 'stim': '/root/experiment/stim/con_tag.wav', 'iti': 4905}\n"
     ]
    },
    {
     "name": "stdout",
     "output_type": "stream",
     "text": [
      "{'tr_num': 152, 'stim': '/root/experiment/stim/con_tag.wav', 'iti': 4905}\n"
     ]
    },
    {
     "name": "stderr",
     "output_type": "stream",
     "text": [
      "2017-10-24 03:05:48,230 root         INFO     Running trial {'tr_num': 153, 'stim': '/root/experiment/stim/bos_syn_tag.wav', 'iti': 3078}\n"
     ]
    },
    {
     "name": "stdout",
     "output_type": "stream",
     "text": [
      "{'tr_num': 153, 'stim': '/root/experiment/stim/bos_syn_tag.wav', 'iti': 3078}\n"
     ]
    },
    {
     "name": "stderr",
     "output_type": "stream",
     "text": [
      "2017-10-24 03:05:52,805 root         INFO     Running trial {'tr_num': 154, 'stim': '/root/experiment/stim/bos_tag.wav', 'iti': 5867}\n"
     ]
    },
    {
     "name": "stdout",
     "output_type": "stream",
     "text": [
      "{'tr_num': 154, 'stim': '/root/experiment/stim/bos_tag.wav', 'iti': 5867}\n"
     ]
    },
    {
     "name": "stderr",
     "output_type": "stream",
     "text": [
      "2017-10-24 03:06:00,349 root         INFO     Running trial {'tr_num': 155, 'stim': '/root/experiment/stim/bos_syn_tag.wav', 'iti': 6971}\n"
     ]
    },
    {
     "name": "stdout",
     "output_type": "stream",
     "text": [
      "{'tr_num': 155, 'stim': '/root/experiment/stim/bos_syn_tag.wav', 'iti': 6971}\n"
     ]
    },
    {
     "name": "stderr",
     "output_type": "stream",
     "text": [
      "2017-10-24 03:06:08,451 root         INFO     Running trial {'tr_num': 156, 'stim': '/root/experiment/stim/con_tag.wav', 'iti': 3263}\n"
     ]
    },
    {
     "name": "stdout",
     "output_type": "stream",
     "text": [
      "{'tr_num': 156, 'stim': '/root/experiment/stim/con_tag.wav', 'iti': 3263}\n"
     ]
    },
    {
     "name": "stderr",
     "output_type": "stream",
     "text": [
      "2017-10-24 03:06:12,824 root         INFO     Running trial {'tr_num': 157, 'stim': '/root/experiment/stim/bos_rev_tag.wav', 'iti': 6057}\n"
     ]
    },
    {
     "name": "stdout",
     "output_type": "stream",
     "text": [
      "{'tr_num': 157, 'stim': '/root/experiment/stim/bos_rev_tag.wav', 'iti': 6057}\n"
     ]
    },
    {
     "name": "stderr",
     "output_type": "stream",
     "text": [
      "2017-10-24 03:06:20,099 root         INFO     Running trial {'tr_num': 158, 'stim': '/root/experiment/stim/bos_rev_tag.wav', 'iti': 2218}\n"
     ]
    },
    {
     "name": "stdout",
     "output_type": "stream",
     "text": [
      "{'tr_num': 158, 'stim': '/root/experiment/stim/bos_rev_tag.wav', 'iti': 2218}\n"
     ]
    },
    {
     "name": "stderr",
     "output_type": "stream",
     "text": [
      "2017-10-24 03:06:23,527 root         INFO     Running trial {'tr_num': 159, 'stim': '/root/experiment/stim/bos_tag.wav', 'iti': 2566}\n"
     ]
    },
    {
     "name": "stdout",
     "output_type": "stream",
     "text": [
      "{'tr_num': 159, 'stim': '/root/experiment/stim/bos_tag.wav', 'iti': 2566}\n"
     ]
    },
    {
     "name": "stderr",
     "output_type": "stream",
     "text": [
      "2017-10-24 03:06:27,360 root         INFO     Running trial {'tr_num': 160, 'stim': '/root/experiment/stim/bos_syn_tag.wav', 'iti': 3046}\n"
     ]
    },
    {
     "name": "stdout",
     "output_type": "stream",
     "text": [
      "{'tr_num': 160, 'stim': '/root/experiment/stim/bos_syn_tag.wav', 'iti': 3046}\n"
     ]
    },
    {
     "name": "stderr",
     "output_type": "stream",
     "text": [
      "2017-10-24 03:06:31,680 root         INFO     Running trial {'tr_num': 161, 'stim': '/root/experiment/stim/bos_rev_tag.wav', 'iti': 3324}\n"
     ]
    },
    {
     "name": "stdout",
     "output_type": "stream",
     "text": [
      "{'tr_num': 161, 'stim': '/root/experiment/stim/bos_rev_tag.wav', 'iti': 3324}\n"
     ]
    },
    {
     "name": "stderr",
     "output_type": "stream",
     "text": [
      "2017-10-24 03:06:36,447 root         INFO     Running trial {'tr_num': 162, 'stim': '/root/experiment/stim/con_tag.wav', 'iti': 6978}\n"
     ]
    },
    {
     "name": "stdout",
     "output_type": "stream",
     "text": [
      "{'tr_num': 162, 'stim': '/root/experiment/stim/con_tag.wav', 'iti': 6978}\n"
     ]
    },
    {
     "name": "stderr",
     "output_type": "stream",
     "text": [
      "2017-10-24 03:06:44,521 root         INFO     Running trial {'tr_num': 163, 'stim': '/root/experiment/stim/con_tag.wav', 'iti': 6754}\n"
     ]
    },
    {
     "name": "stdout",
     "output_type": "stream",
     "text": [
      "{'tr_num': 163, 'stim': '/root/experiment/stim/con_tag.wav', 'iti': 6754}\n"
     ]
    },
    {
     "name": "stderr",
     "output_type": "stream",
     "text": [
      "2017-10-24 03:06:52,511 root         INFO     Running trial {'tr_num': 164, 'stim': '/root/experiment/stim/con_tag.wav', 'iti': 2903}\n"
     ]
    },
    {
     "name": "stdout",
     "output_type": "stream",
     "text": [
      "{'tr_num': 164, 'stim': '/root/experiment/stim/con_tag.wav', 'iti': 2903}\n"
     ]
    },
    {
     "name": "stderr",
     "output_type": "stream",
     "text": [
      "2017-10-24 03:06:56,717 root         INFO     Running trial {'tr_num': 165, 'stim': '/root/experiment/stim/bos_rev_tag.wav', 'iti': 6317}\n"
     ]
    },
    {
     "name": "stdout",
     "output_type": "stream",
     "text": [
      "{'tr_num': 165, 'stim': '/root/experiment/stim/bos_rev_tag.wav', 'iti': 6317}\n"
     ]
    },
    {
     "name": "stderr",
     "output_type": "stream",
     "text": [
      "2017-10-24 03:07:04,472 root         INFO     Running trial {'tr_num': 166, 'stim': '/root/experiment/stim/con_tag.wav', 'iti': 2309}\n"
     ]
    },
    {
     "name": "stdout",
     "output_type": "stream",
     "text": [
      "{'tr_num': 166, 'stim': '/root/experiment/stim/con_tag.wav', 'iti': 2309}\n"
     ]
    },
    {
     "name": "stderr",
     "output_type": "stream",
     "text": [
      "2017-10-24 03:07:07,965 root         INFO     Running trial {'tr_num': 167, 'stim': '/root/experiment/stim/bos_tag.wav', 'iti': 4077}\n"
     ]
    },
    {
     "name": "stdout",
     "output_type": "stream",
     "text": [
      "{'tr_num': 167, 'stim': '/root/experiment/stim/bos_tag.wav', 'iti': 4077}\n"
     ]
    },
    {
     "name": "stderr",
     "output_type": "stream",
     "text": [
      "2017-10-24 03:07:14,403 root         INFO     Running trial {'tr_num': 168, 'stim': '/root/experiment/stim/con_tag.wav', 'iti': 6606}\n"
     ]
    },
    {
     "name": "stdout",
     "output_type": "stream",
     "text": [
      "{'tr_num': 168, 'stim': '/root/experiment/stim/con_tag.wav', 'iti': 6606}\n"
     ]
    },
    {
     "name": "stderr",
     "output_type": "stream",
     "text": [
      "2017-10-24 03:07:23,064 root         INFO     Running trial {'tr_num': 169, 'stim': '/root/experiment/stim/bos_syn_tag.wav', 'iti': 4268}\n"
     ]
    },
    {
     "name": "stdout",
     "output_type": "stream",
     "text": [
      "{'tr_num': 169, 'stim': '/root/experiment/stim/bos_syn_tag.wav', 'iti': 4268}\n"
     ]
    },
    {
     "name": "stderr",
     "output_type": "stream",
     "text": [
      "2017-10-24 03:07:28,534 root         INFO     Running trial {'tr_num': 170, 'stim': '/root/experiment/stim/con_tag.wav', 'iti': 5737}\n"
     ]
    },
    {
     "name": "stdout",
     "output_type": "stream",
     "text": [
      "{'tr_num': 170, 'stim': '/root/experiment/stim/con_tag.wav', 'iti': 5737}\n"
     ]
    },
    {
     "name": "stderr",
     "output_type": "stream",
     "text": [
      "2017-10-24 03:07:35,460 root         INFO     Running trial {'tr_num': 171, 'stim': '/root/experiment/stim/bos_tag.wav', 'iti': 5264}\n"
     ]
    },
    {
     "name": "stdout",
     "output_type": "stream",
     "text": [
      "{'tr_num': 171, 'stim': '/root/experiment/stim/bos_tag.wav', 'iti': 5264}\n"
     ]
    },
    {
     "name": "stderr",
     "output_type": "stream",
     "text": [
      "2017-10-24 03:07:42,106 root         INFO     Running trial {'tr_num': 172, 'stim': '/root/experiment/stim/bos_rev_tag.wav', 'iti': 5009}\n"
     ]
    },
    {
     "name": "stdout",
     "output_type": "stream",
     "text": [
      "{'tr_num': 172, 'stim': '/root/experiment/stim/bos_rev_tag.wav', 'iti': 5009}\n"
     ]
    },
    {
     "name": "stderr",
     "output_type": "stream",
     "text": [
      "2017-10-24 03:07:48,352 root         INFO     Running trial {'tr_num': 173, 'stim': '/root/experiment/stim/con_tag.wav', 'iti': 3500}\n"
     ]
    },
    {
     "name": "stdout",
     "output_type": "stream",
     "text": [
      "{'tr_num': 173, 'stim': '/root/experiment/stim/con_tag.wav', 'iti': 3500}\n"
     ]
    },
    {
     "name": "stderr",
     "output_type": "stream",
     "text": [
      "2017-10-24 03:07:53,313 root         INFO     Running trial {'tr_num': 174, 'stim': '/root/experiment/stim/bos_rev_tag.wav', 'iti': 4356}\n"
     ]
    },
    {
     "name": "stdout",
     "output_type": "stream",
     "text": [
      "{'tr_num': 174, 'stim': '/root/experiment/stim/bos_rev_tag.wav', 'iti': 4356}\n"
     ]
    },
    {
     "name": "stderr",
     "output_type": "stream",
     "text": [
      "2017-10-24 03:07:59,351 root         INFO     Running trial {'tr_num': 175, 'stim': '/root/experiment/stim/con_tag.wav', 'iti': 3287}\n"
     ]
    },
    {
     "name": "stdout",
     "output_type": "stream",
     "text": [
      "{'tr_num': 175, 'stim': '/root/experiment/stim/con_tag.wav', 'iti': 3287}\n"
     ]
    },
    {
     "name": "stderr",
     "output_type": "stream",
     "text": [
      "2017-10-24 03:08:04,202 root         INFO     Running trial {'tr_num': 176, 'stim': '/root/experiment/stim/bos_syn_tag.wav', 'iti': 4077}\n"
     ]
    },
    {
     "name": "stdout",
     "output_type": "stream",
     "text": [
      "{'tr_num': 176, 'stim': '/root/experiment/stim/bos_syn_tag.wav', 'iti': 4077}\n"
     ]
    },
    {
     "name": "stderr",
     "output_type": "stream",
     "text": [
      "2017-10-24 03:08:09,720 root         INFO     Running trial {'tr_num': 177, 'stim': '/root/experiment/stim/bos_syn_tag.wav', 'iti': 6985}\n"
     ]
    },
    {
     "name": "stdout",
     "output_type": "stream",
     "text": [
      "{'tr_num': 177, 'stim': '/root/experiment/stim/bos_syn_tag.wav', 'iti': 6985}\n"
     ]
    },
    {
     "name": "stderr",
     "output_type": "stream",
     "text": [
      "2017-10-24 03:08:17,944 root         INFO     Running trial {'tr_num': 178, 'stim': '/root/experiment/stim/bos_syn_tag.wav', 'iti': 2594}\n"
     ]
    },
    {
     "name": "stdout",
     "output_type": "stream",
     "text": [
      "{'tr_num': 178, 'stim': '/root/experiment/stim/bos_syn_tag.wav', 'iti': 2594}\n"
     ]
    },
    {
     "name": "stderr",
     "output_type": "stream",
     "text": [
      "2017-10-24 03:08:21,850 root         INFO     Running trial {'tr_num': 179, 'stim': '/root/experiment/stim/bos_rev_tag.wav', 'iti': 5920}\n"
     ]
    },
    {
     "name": "stdout",
     "output_type": "stream",
     "text": [
      "{'tr_num': 179, 'stim': '/root/experiment/stim/bos_rev_tag.wav', 'iti': 5920}\n"
     ]
    },
    {
     "name": "stderr",
     "output_type": "stream",
     "text": [
      "2017-10-24 03:08:28,964 root         INFO     Running trial {'tr_num': 180, 'stim': '/root/experiment/stim/bos_syn_tag.wav', 'iti': 5319}\n"
     ]
    },
    {
     "name": "stdout",
     "output_type": "stream",
     "text": [
      "{'tr_num': 180, 'stim': '/root/experiment/stim/bos_syn_tag.wav', 'iti': 5319}\n"
     ]
    },
    {
     "name": "stderr",
     "output_type": "stream",
     "text": [
      "2017-10-24 03:08:35,568 root         INFO     Running trial {'tr_num': 181, 'stim': '/root/experiment/stim/bos_tag.wav', 'iti': 3354}\n"
     ]
    },
    {
     "name": "stdout",
     "output_type": "stream",
     "text": [
      "{'tr_num': 181, 'stim': '/root/experiment/stim/bos_tag.wav', 'iti': 3354}\n"
     ]
    },
    {
     "name": "stderr",
     "output_type": "stream",
     "text": [
      "2017-10-24 03:08:40,240 root         INFO     Running trial {'tr_num': 182, 'stim': '/root/experiment/stim/con_tag.wav', 'iti': 5278}\n"
     ]
    },
    {
     "name": "stdout",
     "output_type": "stream",
     "text": [
      "{'tr_num': 182, 'stim': '/root/experiment/stim/con_tag.wav', 'iti': 5278}\n"
     ]
    },
    {
     "name": "stderr",
     "output_type": "stream",
     "text": [
      "2017-10-24 03:08:46,892 root         INFO     Running trial {'tr_num': 183, 'stim': '/root/experiment/stim/con_tag.wav', 'iti': 6462}\n"
     ]
    },
    {
     "name": "stdout",
     "output_type": "stream",
     "text": [
      "{'tr_num': 183, 'stim': '/root/experiment/stim/con_tag.wav', 'iti': 6462}\n"
     ]
    },
    {
     "name": "stderr",
     "output_type": "stream",
     "text": [
      "2017-10-24 03:08:54,506 root         INFO     Running trial {'tr_num': 184, 'stim': '/root/experiment/stim/bos_rev_tag.wav', 'iti': 2853}\n"
     ]
    },
    {
     "name": "stdout",
     "output_type": "stream",
     "text": [
      "{'tr_num': 184, 'stim': '/root/experiment/stim/bos_rev_tag.wav', 'iti': 2853}\n"
     ]
    },
    {
     "name": "stderr",
     "output_type": "stream",
     "text": [
      "2017-10-24 03:08:58,625 root         INFO     Running trial {'tr_num': 185, 'stim': '/root/experiment/stim/bos_tag.wav', 'iti': 4135}\n"
     ]
    },
    {
     "name": "stdout",
     "output_type": "stream",
     "text": [
      "{'tr_num': 185, 'stim': '/root/experiment/stim/bos_tag.wav', 'iti': 4135}\n"
     ]
    },
    {
     "name": "stderr",
     "output_type": "stream",
     "text": [
      "2017-10-24 03:09:03,963 root         INFO     Running trial {'tr_num': 186, 'stim': '/root/experiment/stim/con_tag.wav', 'iti': 4234}\n"
     ]
    },
    {
     "name": "stdout",
     "output_type": "stream",
     "text": [
      "{'tr_num': 186, 'stim': '/root/experiment/stim/con_tag.wav', 'iti': 4234}\n"
     ]
    },
    {
     "name": "stderr",
     "output_type": "stream",
     "text": [
      "2017-10-24 03:09:09,378 root         INFO     Running trial {'tr_num': 187, 'stim': '/root/experiment/stim/bos_rev_tag.wav', 'iti': 6200}\n"
     ]
    },
    {
     "name": "stdout",
     "output_type": "stream",
     "text": [
      "{'tr_num': 187, 'stim': '/root/experiment/stim/bos_rev_tag.wav', 'iti': 6200}\n"
     ]
    },
    {
     "name": "stderr",
     "output_type": "stream",
     "text": [
      "2017-10-24 03:09:16,908 root         INFO     Running trial {'tr_num': 188, 'stim': '/root/experiment/stim/bos_tag.wav', 'iti': 5909}\n"
     ]
    },
    {
     "name": "stdout",
     "output_type": "stream",
     "text": [
      "{'tr_num': 188, 'stim': '/root/experiment/stim/bos_tag.wav', 'iti': 5909}\n"
     ]
    },
    {
     "name": "stderr",
     "output_type": "stream",
     "text": [
      "2017-10-24 03:09:24,322 root         INFO     Running trial {'tr_num': 189, 'stim': '/root/experiment/stim/bos_rev_tag.wav', 'iti': 3205}\n"
     ]
    },
    {
     "name": "stdout",
     "output_type": "stream",
     "text": [
      "{'tr_num': 189, 'stim': '/root/experiment/stim/bos_rev_tag.wav', 'iti': 3205}\n"
     ]
    },
    {
     "name": "stderr",
     "output_type": "stream",
     "text": [
      "2017-10-24 03:09:28,904 root         INFO     Running trial {'tr_num': 190, 'stim': '/root/experiment/stim/bos_syn_tag.wav', 'iti': 4214}\n"
     ]
    },
    {
     "name": "stdout",
     "output_type": "stream",
     "text": [
      "{'tr_num': 190, 'stim': '/root/experiment/stim/bos_syn_tag.wav', 'iti': 4214}\n"
     ]
    },
    {
     "name": "stderr",
     "output_type": "stream",
     "text": [
      "2017-10-24 03:09:34,381 root         INFO     Running trial {'tr_num': 191, 'stim': '/root/experiment/stim/bos_syn_tag.wav', 'iti': 2047}\n"
     ]
    },
    {
     "name": "stdout",
     "output_type": "stream",
     "text": [
      "{'tr_num': 191, 'stim': '/root/experiment/stim/bos_syn_tag.wav', 'iti': 2047}\n"
     ]
    },
    {
     "name": "stderr",
     "output_type": "stream",
     "text": [
      "2017-10-24 03:09:37,866 root         INFO     Running trial {'tr_num': 192, 'stim': '/root/experiment/stim/con_tag.wav', 'iti': 4375}\n"
     ]
    },
    {
     "name": "stdout",
     "output_type": "stream",
     "text": [
      "{'tr_num': 192, 'stim': '/root/experiment/stim/con_tag.wav', 'iti': 4375}\n"
     ]
    },
    {
     "name": "stderr",
     "output_type": "stream",
     "text": [
      "2017-10-24 03:09:43,563 root         INFO     Running trial {'tr_num': 193, 'stim': '/root/experiment/stim/bos_syn_tag.wav', 'iti': 4308}\n"
     ]
    },
    {
     "name": "stdout",
     "output_type": "stream",
     "text": [
      "{'tr_num': 193, 'stim': '/root/experiment/stim/bos_syn_tag.wav', 'iti': 4308}\n"
     ]
    },
    {
     "name": "stderr",
     "output_type": "stream",
     "text": [
      "2017-10-24 03:09:49,641 root         INFO     Running trial {'tr_num': 194, 'stim': '/root/experiment/stim/bos_syn_tag.wav', 'iti': 5214}\n"
     ]
    },
    {
     "name": "stdout",
     "output_type": "stream",
     "text": [
      "{'tr_num': 194, 'stim': '/root/experiment/stim/bos_syn_tag.wav', 'iti': 5214}\n"
     ]
    },
    {
     "name": "stderr",
     "output_type": "stream",
     "text": [
      "2017-10-24 03:09:56,524 root         INFO     Running trial {'tr_num': 195, 'stim': '/root/experiment/stim/bos_rev_tag.wav', 'iti': 2030}\n"
     ]
    },
    {
     "name": "stdout",
     "output_type": "stream",
     "text": [
      "{'tr_num': 195, 'stim': '/root/experiment/stim/bos_rev_tag.wav', 'iti': 2030}\n"
     ]
    },
    {
     "name": "stderr",
     "output_type": "stream",
     "text": [
      "2017-10-24 03:09:59,794 root         INFO     Running trial {'tr_num': 196, 'stim': '/root/experiment/stim/bos_rev_tag.wav', 'iti': 4880}\n"
     ]
    },
    {
     "name": "stdout",
     "output_type": "stream",
     "text": [
      "{'tr_num': 196, 'stim': '/root/experiment/stim/bos_rev_tag.wav', 'iti': 4880}\n"
     ]
    },
    {
     "name": "stderr",
     "output_type": "stream",
     "text": [
      "2017-10-24 03:10:05,926 root         INFO     Running trial {'tr_num': 197, 'stim': '/root/experiment/stim/con_tag.wav', 'iti': 2168}\n"
     ]
    },
    {
     "name": "stdout",
     "output_type": "stream",
     "text": [
      "{'tr_num': 197, 'stim': '/root/experiment/stim/con_tag.wav', 'iti': 2168}\n"
     ]
    },
    {
     "name": "stderr",
     "output_type": "stream",
     "text": [
      "2017-10-24 03:10:09,860 root         INFO     Running trial {'tr_num': 198, 'stim': '/root/experiment/stim/con_tag.wav', 'iti': 5238}\n"
     ]
    },
    {
     "name": "stdout",
     "output_type": "stream",
     "text": [
      "{'tr_num': 198, 'stim': '/root/experiment/stim/con_tag.wav', 'iti': 5238}\n"
     ]
    },
    {
     "name": "stderr",
     "output_type": "stream",
     "text": [
      "2017-10-24 03:10:16,324 root         INFO     Running trial {'tr_num': 199, 'stim': '/root/experiment/stim/bos_syn_tag.wav', 'iti': 4539}\n"
     ]
    },
    {
     "name": "stdout",
     "output_type": "stream",
     "text": [
      "{'tr_num': 199, 'stim': '/root/experiment/stim/bos_syn_tag.wav', 'iti': 4539}\n"
     ]
    },
    {
     "name": "stderr",
     "output_type": "stream",
     "text": [
      "2017-10-24 03:10:22,157 root         INFO     Running trial {'tr_num': 200, 'stim': '/root/experiment/stim/bos_syn_tag.wav', 'iti': 3183}\n"
     ]
    },
    {
     "name": "stdout",
     "output_type": "stream",
     "text": [
      "{'tr_num': 200, 'stim': '/root/experiment/stim/bos_syn_tag.wav', 'iti': 3183}\n"
     ]
    },
    {
     "name": "stderr",
     "output_type": "stream",
     "text": [
      "2017-10-24 03:10:26,791 root         INFO     Running trial {'tr_num': 201, 'stim': '/root/experiment/stim/bos_rev_tag.wav', 'iti': 3651}\n"
     ]
    },
    {
     "name": "stdout",
     "output_type": "stream",
     "text": [
      "{'tr_num': 201, 'stim': '/root/experiment/stim/bos_rev_tag.wav', 'iti': 3651}\n"
     ]
    },
    {
     "name": "stderr",
     "output_type": "stream",
     "text": [
      "2017-10-24 03:10:31,997 root         INFO     Running trial {'tr_num': 202, 'stim': '/root/experiment/stim/bos_rev_tag.wav', 'iti': 6843}\n"
     ]
    },
    {
     "name": "stdout",
     "output_type": "stream",
     "text": [
      "{'tr_num': 202, 'stim': '/root/experiment/stim/bos_rev_tag.wav', 'iti': 6843}\n"
     ]
    },
    {
     "name": "stderr",
     "output_type": "stream",
     "text": [
      "2017-10-24 03:10:40,145 root         INFO     Running trial {'tr_num': 203, 'stim': '/root/experiment/stim/con_tag.wav', 'iti': 2033}\n"
     ]
    },
    {
     "name": "stdout",
     "output_type": "stream",
     "text": [
      "{'tr_num': 203, 'stim': '/root/experiment/stim/con_tag.wav', 'iti': 2033}\n"
     ]
    },
    {
     "name": "stderr",
     "output_type": "stream",
     "text": [
      "2017-10-24 03:10:43,389 root         INFO     Running trial {'tr_num': 204, 'stim': '/root/experiment/stim/bos_tag.wav', 'iti': 6687}\n"
     ]
    },
    {
     "name": "stdout",
     "output_type": "stream",
     "text": [
      "{'tr_num': 204, 'stim': '/root/experiment/stim/bos_tag.wav', 'iti': 6687}\n"
     ]
    },
    {
     "name": "stderr",
     "output_type": "stream",
     "text": [
      "2017-10-24 03:10:51,284 root         INFO     Running trial {'tr_num': 205, 'stim': '/root/experiment/stim/bos_syn_tag.wav', 'iti': 5477}\n"
     ]
    },
    {
     "name": "stdout",
     "output_type": "stream",
     "text": [
      "{'tr_num': 205, 'stim': '/root/experiment/stim/bos_syn_tag.wav', 'iti': 5477}\n"
     ]
    },
    {
     "name": "stderr",
     "output_type": "stream",
     "text": [
      "2017-10-24 03:10:58,123 root         INFO     Running trial {'tr_num': 206, 'stim': '/root/experiment/stim/bos_tag.wav', 'iti': 5656}\n"
     ]
    },
    {
     "name": "stdout",
     "output_type": "stream",
     "text": [
      "{'tr_num': 206, 'stim': '/root/experiment/stim/bos_tag.wav', 'iti': 5656}\n"
     ]
    },
    {
     "name": "stderr",
     "output_type": "stream",
     "text": [
      "2017-10-24 03:11:04,985 root         INFO     Running trial {'tr_num': 207, 'stim': '/root/experiment/stim/bos_rev_tag.wav', 'iti': 5934}\n"
     ]
    },
    {
     "name": "stdout",
     "output_type": "stream",
     "text": [
      "{'tr_num': 207, 'stim': '/root/experiment/stim/bos_rev_tag.wav', 'iti': 5934}\n"
     ]
    },
    {
     "name": "stderr",
     "output_type": "stream",
     "text": [
      "2017-10-24 03:11:12,195 root         INFO     Running trial {'tr_num': 208, 'stim': '/root/experiment/stim/bos_tag.wav', 'iti': 2665}\n"
     ]
    },
    {
     "name": "stdout",
     "output_type": "stream",
     "text": [
      "{'tr_num': 208, 'stim': '/root/experiment/stim/bos_tag.wav', 'iti': 2665}\n"
     ]
    },
    {
     "name": "stderr",
     "output_type": "stream",
     "text": [
      "2017-10-24 03:11:16,429 root         INFO     Running trial {'tr_num': 209, 'stim': '/root/experiment/stim/con_tag.wav', 'iti': 3433}\n"
     ]
    },
    {
     "name": "stdout",
     "output_type": "stream",
     "text": [
      "{'tr_num': 209, 'stim': '/root/experiment/stim/con_tag.wav', 'iti': 3433}\n"
     ]
    },
    {
     "name": "stderr",
     "output_type": "stream",
     "text": [
      "2017-10-24 03:11:20,967 root         INFO     Stop recording Forced\n",
      "2017-10-24 03:11:20,983 root         INFO     Stopped recording\n"
     ]
    },
    {
     "name": "stdout",
     "output_type": "stream",
     "text": [
      "finished block\n",
      "Runner stopping recording\n",
      "Recording stopped\n",
      "Block 0 finished\n"
     ]
    },
    {
     "name": "stderr",
     "output_type": "stream",
     "text": [
      "2017-10-24 03:51:19,635 root         INFO     Starting to record\n",
      "2017-10-24 03:51:19,636 root         INFO     Initializing recorder\n"
     ]
    },
    {
     "name": "stdout",
     "output_type": "stream",
     "text": [
      "Starting block 1\n",
      "OK to start\n",
      "Recording path: /usr/local/experiment/raw_data/z028/asleep_stim_2017-10-24_03-51-19_225\n"
     ]
    },
    {
     "name": "stderr",
     "output_type": "stream",
     "text": [
      "2017-10-24 03:51:21,641 root         INFO     Starting block\n",
      "2017-10-24 03:51:21,660 root         INFO     Initializing block\n",
      "2017-10-24 03:51:21,734 root         INFO     Running trial {'tr_num': 0, 'stim': '/root/experiment/stim/bos_syn_tag.wav', 'iti': 4635}\n"
     ]
    },
    {
     "name": "stdout",
     "output_type": "stream",
     "text": [
      "Starting Block\n",
      "{'tr_num': 0, 'stim': '/root/experiment/stim/bos_syn_tag.wav', 'iti': 4635}\n"
     ]
    },
    {
     "name": "stderr",
     "output_type": "stream",
     "text": [
      "2017-10-24 03:51:27,792 root         INFO     Running trial {'tr_num': 1, 'stim': '/root/experiment/stim/con_tag.wav', 'iti': 3917}\n"
     ]
    },
    {
     "name": "stdout",
     "output_type": "stream",
     "text": [
      "{'tr_num': 1, 'stim': '/root/experiment/stim/con_tag.wav', 'iti': 3917}\n"
     ]
    },
    {
     "name": "stderr",
     "output_type": "stream",
     "text": [
      "2017-10-24 03:51:32,944 root         INFO     Running trial {'tr_num': 2, 'stim': '/root/experiment/stim/bos_syn_tag.wav', 'iti': 3420}\n"
     ]
    },
    {
     "name": "stdout",
     "output_type": "stream",
     "text": [
      "{'tr_num': 2, 'stim': '/root/experiment/stim/bos_syn_tag.wav', 'iti': 3420}\n"
     ]
    },
    {
     "name": "stderr",
     "output_type": "stream",
     "text": [
      "2017-10-24 03:51:37,601 root         INFO     Running trial {'tr_num': 3, 'stim': '/root/experiment/stim/bos_rev_tag.wav', 'iti': 6792}\n"
     ]
    },
    {
     "name": "stdout",
     "output_type": "stream",
     "text": [
      "{'tr_num': 3, 'stim': '/root/experiment/stim/bos_rev_tag.wav', 'iti': 6792}\n"
     ]
    },
    {
     "name": "stderr",
     "output_type": "stream",
     "text": [
      "2017-10-24 03:51:45,589 root         INFO     Running trial {'tr_num': 4, 'stim': '/root/experiment/stim/con_tag.wav', 'iti': 5235}\n"
     ]
    },
    {
     "name": "stdout",
     "output_type": "stream",
     "text": [
      "{'tr_num': 4, 'stim': '/root/experiment/stim/con_tag.wav', 'iti': 5235}\n"
     ]
    },
    {
     "name": "stderr",
     "output_type": "stream",
     "text": [
      "2017-10-24 03:51:52,103 root         INFO     Running trial {'tr_num': 5, 'stim': '/root/experiment/stim/bos_tag.wav', 'iti': 6198}\n"
     ]
    },
    {
     "name": "stdout",
     "output_type": "stream",
     "text": [
      "{'tr_num': 5, 'stim': '/root/experiment/stim/bos_tag.wav', 'iti': 6198}\n"
     ]
    },
    {
     "name": "stderr",
     "output_type": "stream",
     "text": [
      "2017-10-24 03:52:00,004 root         INFO     Running trial {'tr_num': 6, 'stim': '/root/experiment/stim/bos_tag.wav', 'iti': 2350}\n"
     ]
    },
    {
     "name": "stdout",
     "output_type": "stream",
     "text": [
      "{'tr_num': 6, 'stim': '/root/experiment/stim/bos_tag.wav', 'iti': 2350}\n"
     ]
    },
    {
     "name": "stderr",
     "output_type": "stream",
     "text": [
      "2017-10-24 03:52:03,588 root         INFO     Running trial {'tr_num': 7, 'stim': '/root/experiment/stim/bos_rev_tag.wav', 'iti': 6601}\n"
     ]
    },
    {
     "name": "stdout",
     "output_type": "stream",
     "text": [
      "{'tr_num': 7, 'stim': '/root/experiment/stim/bos_rev_tag.wav', 'iti': 6601}\n"
     ]
    },
    {
     "name": "stderr",
     "output_type": "stream",
     "text": [
      "2017-10-24 03:52:11,534 root         INFO     Running trial {'tr_num': 8, 'stim': '/root/experiment/stim/bos_tag.wav', 'iti': 5792}\n"
     ]
    },
    {
     "name": "stdout",
     "output_type": "stream",
     "text": [
      "{'tr_num': 8, 'stim': '/root/experiment/stim/bos_tag.wav', 'iti': 5792}\n"
     ]
    },
    {
     "name": "stderr",
     "output_type": "stream",
     "text": [
      "2017-10-24 03:52:18,551 root         INFO     Running trial {'tr_num': 9, 'stim': '/root/experiment/stim/bos_tag.wav', 'iti': 6793}\n"
     ]
    },
    {
     "name": "stdout",
     "output_type": "stream",
     "text": [
      "{'tr_num': 9, 'stim': '/root/experiment/stim/bos_tag.wav', 'iti': 6793}\n"
     ]
    },
    {
     "name": "stderr",
     "output_type": "stream",
     "text": [
      "2017-10-24 03:52:26,652 root         INFO     Running trial {'tr_num': 10, 'stim': '/root/experiment/stim/bos_tag.wav', 'iti': 4016}\n"
     ]
    },
    {
     "name": "stdout",
     "output_type": "stream",
     "text": [
      "{'tr_num': 10, 'stim': '/root/experiment/stim/bos_tag.wav', 'iti': 4016}\n"
     ]
    },
    {
     "name": "stderr",
     "output_type": "stream",
     "text": [
      "2017-10-24 03:52:31,886 root         INFO     Running trial {'tr_num': 11, 'stim': '/root/experiment/stim/bos_rev_tag.wav', 'iti': 3477}\n"
     ]
    },
    {
     "name": "stdout",
     "output_type": "stream",
     "text": [
      "{'tr_num': 11, 'stim': '/root/experiment/stim/bos_rev_tag.wav', 'iti': 3477}\n"
     ]
    },
    {
     "name": "stderr",
     "output_type": "stream",
     "text": [
      "2017-10-24 03:52:36,601 root         INFO     Running trial {'tr_num': 12, 'stim': '/root/experiment/stim/con_tag.wav', 'iti': 4527}\n"
     ]
    },
    {
     "name": "stdout",
     "output_type": "stream",
     "text": [
      "{'tr_num': 12, 'stim': '/root/experiment/stim/con_tag.wav', 'iti': 4527}\n"
     ]
    },
    {
     "name": "stderr",
     "output_type": "stream",
     "text": [
      "2017-10-24 03:52:42,266 root         INFO     Running trial {'tr_num': 13, 'stim': '/root/experiment/stim/bos_tag.wav', 'iti': 5075}\n"
     ]
    },
    {
     "name": "stdout",
     "output_type": "stream",
     "text": [
      "{'tr_num': 13, 'stim': '/root/experiment/stim/bos_tag.wav', 'iti': 5075}\n"
     ]
    },
    {
     "name": "stderr",
     "output_type": "stream",
     "text": [
      "2017-10-24 03:52:48,616 root         INFO     Running trial {'tr_num': 14, 'stim': '/root/experiment/stim/bos_syn_tag.wav', 'iti': 4554}\n"
     ]
    },
    {
     "name": "stdout",
     "output_type": "stream",
     "text": [
      "{'tr_num': 14, 'stim': '/root/experiment/stim/bos_syn_tag.wav', 'iti': 4554}\n"
     ]
    },
    {
     "name": "stderr",
     "output_type": "stream",
     "text": [
      "2017-10-24 03:52:54,476 root         INFO     Running trial {'tr_num': 15, 'stim': '/root/experiment/stim/bos_syn_tag.wav', 'iti': 5614}\n"
     ]
    },
    {
     "name": "stdout",
     "output_type": "stream",
     "text": [
      "{'tr_num': 15, 'stim': '/root/experiment/stim/bos_syn_tag.wav', 'iti': 5614}\n"
     ]
    },
    {
     "name": "stderr",
     "output_type": "stream",
     "text": [
      "2017-10-24 03:53:01,470 root         INFO     Running trial {'tr_num': 16, 'stim': '/root/experiment/stim/bos_tag.wav', 'iti': 5856}\n"
     ]
    },
    {
     "name": "stdout",
     "output_type": "stream",
     "text": [
      "{'tr_num': 16, 'stim': '/root/experiment/stim/bos_tag.wav', 'iti': 5856}\n"
     ]
    },
    {
     "name": "stderr",
     "output_type": "stream",
     "text": [
      "2017-10-24 03:53:08,616 root         INFO     Running trial {'tr_num': 17, 'stim': '/root/experiment/stim/bos_tag.wav', 'iti': 6214}\n"
     ]
    },
    {
     "name": "stdout",
     "output_type": "stream",
     "text": [
      "{'tr_num': 17, 'stim': '/root/experiment/stim/bos_tag.wav', 'iti': 6214}\n"
     ]
    },
    {
     "name": "stderr",
     "output_type": "stream",
     "text": [
      "2017-10-24 03:53:16,173 root         INFO     Running trial {'tr_num': 18, 'stim': '/root/experiment/stim/bos_tag.wav', 'iti': 4567}\n"
     ]
    },
    {
     "name": "stdout",
     "output_type": "stream",
     "text": [
      "{'tr_num': 18, 'stim': '/root/experiment/stim/bos_tag.wav', 'iti': 4567}\n"
     ]
    },
    {
     "name": "stderr",
     "output_type": "stream",
     "text": [
      "2017-10-24 03:53:22,007 root         INFO     Running trial {'tr_num': 19, 'stim': '/root/experiment/stim/bos_tag.wav', 'iti': 6469}\n"
     ]
    },
    {
     "name": "stdout",
     "output_type": "stream",
     "text": [
      "{'tr_num': 19, 'stim': '/root/experiment/stim/bos_tag.wav', 'iti': 6469}\n"
     ]
    },
    {
     "name": "stderr",
     "output_type": "stream",
     "text": [
      "2017-10-24 03:53:29,686 root         INFO     Running trial {'tr_num': 20, 'stim': '/root/experiment/stim/bos_rev_tag.wav', 'iti': 4279}\n"
     ]
    },
    {
     "name": "stdout",
     "output_type": "stream",
     "text": [
      "{'tr_num': 20, 'stim': '/root/experiment/stim/bos_rev_tag.wav', 'iti': 4279}\n"
     ]
    },
    {
     "name": "stderr",
     "output_type": "stream",
     "text": [
      "2017-10-24 03:53:35,176 root         INFO     Running trial {'tr_num': 21, 'stim': '/root/experiment/stim/bos_tag.wav', 'iti': 5080}\n"
     ]
    },
    {
     "name": "stdout",
     "output_type": "stream",
     "text": [
      "{'tr_num': 21, 'stim': '/root/experiment/stim/bos_tag.wav', 'iti': 5080}\n"
     ]
    },
    {
     "name": "stderr",
     "output_type": "stream",
     "text": [
      "2017-10-24 03:53:41,511 root         INFO     Running trial {'tr_num': 22, 'stim': '/root/experiment/stim/bos_syn_tag.wav', 'iti': 3565}\n"
     ]
    },
    {
     "name": "stdout",
     "output_type": "stream",
     "text": [
      "{'tr_num': 22, 'stim': '/root/experiment/stim/bos_syn_tag.wav', 'iti': 3565}\n"
     ]
    },
    {
     "name": "stderr",
     "output_type": "stream",
     "text": [
      "2017-10-24 03:53:46,283 root         INFO     Running trial {'tr_num': 23, 'stim': '/root/experiment/stim/bos_tag.wav', 'iti': 6052}\n"
     ]
    },
    {
     "name": "stdout",
     "output_type": "stream",
     "text": [
      "{'tr_num': 23, 'stim': '/root/experiment/stim/bos_tag.wav', 'iti': 6052}\n"
     ]
    },
    {
     "name": "stderr",
     "output_type": "stream",
     "text": [
      "2017-10-24 03:53:54,543 root         INFO     Running trial {'tr_num': 24, 'stim': '/root/experiment/stim/bos_syn_tag.wav', 'iti': 4486}\n"
     ]
    },
    {
     "name": "stdout",
     "output_type": "stream",
     "text": [
      "{'tr_num': 24, 'stim': '/root/experiment/stim/bos_syn_tag.wav', 'iti': 4486}\n"
     ]
    },
    {
     "name": "stderr",
     "output_type": "stream",
     "text": [
      "2017-10-24 03:54:00,321 root         INFO     Running trial {'tr_num': 25, 'stim': '/root/experiment/stim/bos_tag.wav', 'iti': 6304}\n"
     ]
    },
    {
     "name": "stdout",
     "output_type": "stream",
     "text": [
      "{'tr_num': 25, 'stim': '/root/experiment/stim/bos_tag.wav', 'iti': 6304}\n"
     ]
    },
    {
     "name": "stderr",
     "output_type": "stream",
     "text": [
      "2017-10-24 03:54:08,160 root         INFO     Running trial {'tr_num': 26, 'stim': '/root/experiment/stim/bos_tag.wav', 'iti': 4432}\n"
     ]
    },
    {
     "name": "stdout",
     "output_type": "stream",
     "text": [
      "{'tr_num': 26, 'stim': '/root/experiment/stim/bos_tag.wav', 'iti': 4432}\n"
     ]
    },
    {
     "name": "stderr",
     "output_type": "stream",
     "text": [
      "2017-10-24 03:54:13,860 root         INFO     Running trial {'tr_num': 27, 'stim': '/root/experiment/stim/bos_syn_tag.wav', 'iti': 3714}\n"
     ]
    },
    {
     "name": "stdout",
     "output_type": "stream",
     "text": [
      "{'tr_num': 27, 'stim': '/root/experiment/stim/bos_syn_tag.wav', 'iti': 3714}\n"
     ]
    },
    {
     "name": "stderr",
     "output_type": "stream",
     "text": [
      "2017-10-24 03:54:18,775 root         INFO     Running trial {'tr_num': 28, 'stim': '/root/experiment/stim/bos_syn_tag.wav', 'iti': 6075}\n"
     ]
    },
    {
     "name": "stdout",
     "output_type": "stream",
     "text": [
      "{'tr_num': 28, 'stim': '/root/experiment/stim/bos_syn_tag.wav', 'iti': 6075}\n"
     ]
    },
    {
     "name": "stderr",
     "output_type": "stream",
     "text": [
      "2017-10-24 03:54:26,105 root         INFO     Running trial {'tr_num': 29, 'stim': '/root/experiment/stim/bos_rev_tag.wav', 'iti': 5208}\n"
     ]
    },
    {
     "name": "stdout",
     "output_type": "stream",
     "text": [
      "{'tr_num': 29, 'stim': '/root/experiment/stim/bos_rev_tag.wav', 'iti': 5208}\n"
     ]
    },
    {
     "name": "stderr",
     "output_type": "stream",
     "text": [
      "2017-10-24 03:54:32,537 root         INFO     Running trial {'tr_num': 30, 'stim': '/root/experiment/stim/bos_tag.wav', 'iti': 2152}\n"
     ]
    },
    {
     "name": "stdout",
     "output_type": "stream",
     "text": [
      "{'tr_num': 30, 'stim': '/root/experiment/stim/bos_tag.wav', 'iti': 2152}\n"
     ]
    },
    {
     "name": "stderr",
     "output_type": "stream",
     "text": [
      "2017-10-24 03:54:35,939 root         INFO     Running trial {'tr_num': 31, 'stim': '/root/experiment/stim/con_tag.wav', 'iti': 5469}\n"
     ]
    },
    {
     "name": "stdout",
     "output_type": "stream",
     "text": [
      "{'tr_num': 31, 'stim': '/root/experiment/stim/con_tag.wav', 'iti': 5469}\n"
     ]
    },
    {
     "name": "stderr",
     "output_type": "stream",
     "text": [
      "2017-10-24 03:54:42,578 root         INFO     Running trial {'tr_num': 32, 'stim': '/root/experiment/stim/bos_rev_tag.wav', 'iti': 2047}\n"
     ]
    },
    {
     "name": "stdout",
     "output_type": "stream",
     "text": [
      "{'tr_num': 32, 'stim': '/root/experiment/stim/bos_rev_tag.wav', 'iti': 2047}\n"
     ]
    },
    {
     "name": "stderr",
     "output_type": "stream",
     "text": [
      "2017-10-24 03:54:45,838 root         INFO     Running trial {'tr_num': 33, 'stim': '/root/experiment/stim/bos_syn_tag.wav', 'iti': 6600}\n"
     ]
    },
    {
     "name": "stdout",
     "output_type": "stream",
     "text": [
      "{'tr_num': 33, 'stim': '/root/experiment/stim/bos_syn_tag.wav', 'iti': 6600}\n"
     ]
    },
    {
     "name": "stderr",
     "output_type": "stream",
     "text": [
      "2017-10-24 03:54:53,657 root         INFO     Running trial {'tr_num': 34, 'stim': '/root/experiment/stim/bos_rev_tag.wav', 'iti': 4398}\n"
     ]
    },
    {
     "name": "stdout",
     "output_type": "stream",
     "text": [
      "{'tr_num': 34, 'stim': '/root/experiment/stim/bos_rev_tag.wav', 'iti': 4398}\n"
     ]
    },
    {
     "name": "stderr",
     "output_type": "stream",
     "text": [
      "2017-10-24 03:54:59,372 root         INFO     Running trial {'tr_num': 35, 'stim': '/root/experiment/stim/bos_tag.wav', 'iti': 6649}\n"
     ]
    },
    {
     "name": "stdout",
     "output_type": "stream",
     "text": [
      "{'tr_num': 35, 'stim': '/root/experiment/stim/bos_tag.wav', 'iti': 6649}\n"
     ]
    },
    {
     "name": "stderr",
     "output_type": "stream",
     "text": [
      "2017-10-24 03:55:07,240 root         INFO     Running trial {'tr_num': 36, 'stim': '/root/experiment/stim/bos_syn_tag.wav', 'iti': 6041}\n"
     ]
    },
    {
     "name": "stdout",
     "output_type": "stream",
     "text": [
      "{'tr_num': 36, 'stim': '/root/experiment/stim/bos_syn_tag.wav', 'iti': 6041}\n"
     ]
    },
    {
     "name": "stderr",
     "output_type": "stream",
     "text": [
      "2017-10-24 03:55:14,489 root         INFO     Running trial {'tr_num': 37, 'stim': '/root/experiment/stim/bos_syn_tag.wav', 'iti': 6670}\n"
     ]
    },
    {
     "name": "stdout",
     "output_type": "stream",
     "text": [
      "{'tr_num': 37, 'stim': '/root/experiment/stim/bos_syn_tag.wav', 'iti': 6670}\n"
     ]
    },
    {
     "name": "stderr",
     "output_type": "stream",
     "text": [
      "2017-10-24 03:55:22,456 root         INFO     Running trial {'tr_num': 38, 'stim': '/root/experiment/stim/bos_rev_tag.wav', 'iti': 3210}\n"
     ]
    },
    {
     "name": "stdout",
     "output_type": "stream",
     "text": [
      "{'tr_num': 38, 'stim': '/root/experiment/stim/bos_rev_tag.wav', 'iti': 3210}\n"
     ]
    },
    {
     "name": "stderr",
     "output_type": "stream",
     "text": [
      "2017-10-24 03:55:26,908 root         INFO     Running trial {'tr_num': 39, 'stim': '/root/experiment/stim/bos_syn_tag.wav', 'iti': 6612}\n"
     ]
    },
    {
     "name": "stdout",
     "output_type": "stream",
     "text": [
      "{'tr_num': 39, 'stim': '/root/experiment/stim/bos_syn_tag.wav', 'iti': 6612}\n"
     ]
    },
    {
     "name": "stderr",
     "output_type": "stream",
     "text": [
      "2017-10-24 03:55:34,844 root         INFO     Running trial {'tr_num': 40, 'stim': '/root/experiment/stim/bos_rev_tag.wav', 'iti': 2050}\n"
     ]
    },
    {
     "name": "stdout",
     "output_type": "stream",
     "text": [
      "{'tr_num': 40, 'stim': '/root/experiment/stim/bos_rev_tag.wav', 'iti': 2050}\n"
     ]
    },
    {
     "name": "stderr",
     "output_type": "stream",
     "text": [
      "2017-10-24 03:55:38,350 root         INFO     Running trial {'tr_num': 41, 'stim': '/root/experiment/stim/bos_rev_tag.wav', 'iti': 6072}\n"
     ]
    },
    {
     "name": "stdout",
     "output_type": "stream",
     "text": [
      "{'tr_num': 41, 'stim': '/root/experiment/stim/bos_rev_tag.wav', 'iti': 6072}\n"
     ]
    },
    {
     "name": "stderr",
     "output_type": "stream",
     "text": [
      "2017-10-24 03:55:45,977 root         INFO     Running trial {'tr_num': 42, 'stim': '/root/experiment/stim/bos_rev_tag.wav', 'iti': 5631}\n"
     ]
    },
    {
     "name": "stdout",
     "output_type": "stream",
     "text": [
      "{'tr_num': 42, 'stim': '/root/experiment/stim/bos_rev_tag.wav', 'iti': 5631}\n"
     ]
    },
    {
     "name": "stderr",
     "output_type": "stream",
     "text": [
      "2017-10-24 03:55:53,081 root         INFO     Running trial {'tr_num': 43, 'stim': '/root/experiment/stim/bos_tag.wav', 'iti': 2573}\n"
     ]
    },
    {
     "name": "stdout",
     "output_type": "stream",
     "text": [
      "{'tr_num': 43, 'stim': '/root/experiment/stim/bos_tag.wav', 'iti': 2573}\n"
     ]
    },
    {
     "name": "stderr",
     "output_type": "stream",
     "text": [
      "2017-10-24 03:55:56,862 root         INFO     Running trial {'tr_num': 44, 'stim': '/root/experiment/stim/bos_syn_tag.wav', 'iti': 4621}\n"
     ]
    },
    {
     "name": "stdout",
     "output_type": "stream",
     "text": [
      "{'tr_num': 44, 'stim': '/root/experiment/stim/bos_syn_tag.wav', 'iti': 4621}\n"
     ]
    },
    {
     "name": "stderr",
     "output_type": "stream",
     "text": [
      "2017-10-24 03:56:02,839 root         INFO     Running trial {'tr_num': 45, 'stim': '/root/experiment/stim/con_tag.wav', 'iti': 4151}\n"
     ]
    },
    {
     "name": "stdout",
     "output_type": "stream",
     "text": [
      "{'tr_num': 45, 'stim': '/root/experiment/stim/con_tag.wav', 'iti': 4151}\n"
     ]
    },
    {
     "name": "stderr",
     "output_type": "stream",
     "text": [
      "2017-10-24 03:56:09,342 root         INFO     Running trial {'tr_num': 46, 'stim': '/root/experiment/stim/bos_syn_tag.wav', 'iti': 6879}\n"
     ]
    },
    {
     "name": "stdout",
     "output_type": "stream",
     "text": [
      "{'tr_num': 46, 'stim': '/root/experiment/stim/bos_syn_tag.wav', 'iti': 6879}\n"
     ]
    },
    {
     "name": "stderr",
     "output_type": "stream",
     "text": [
      "2017-10-24 03:56:17,460 root         INFO     Running trial {'tr_num': 47, 'stim': '/root/experiment/stim/con_tag.wav', 'iti': 2781}\n"
     ]
    },
    {
     "name": "stdout",
     "output_type": "stream",
     "text": [
      "{'tr_num': 47, 'stim': '/root/experiment/stim/con_tag.wav', 'iti': 2781}\n"
     ]
    },
    {
     "name": "stderr",
     "output_type": "stream",
     "text": [
      "2017-10-24 03:56:21,368 root         INFO     Running trial {'tr_num': 48, 'stim': '/root/experiment/stim/bos_syn_tag.wav', 'iti': 6160}\n"
     ]
    },
    {
     "name": "stdout",
     "output_type": "stream",
     "text": [
      "{'tr_num': 48, 'stim': '/root/experiment/stim/bos_syn_tag.wav', 'iti': 6160}\n"
     ]
    },
    {
     "name": "stderr",
     "output_type": "stream",
     "text": [
      "2017-10-24 03:56:28,735 root         INFO     Running trial {'tr_num': 49, 'stim': '/root/experiment/stim/con_tag.wav', 'iti': 4842}\n"
     ]
    },
    {
     "name": "stdout",
     "output_type": "stream",
     "text": [
      "{'tr_num': 49, 'stim': '/root/experiment/stim/con_tag.wav', 'iti': 4842}\n"
     ]
    },
    {
     "name": "stderr",
     "output_type": "stream",
     "text": [
      "2017-10-24 03:56:34,698 root         INFO     Running trial {'tr_num': 50, 'stim': '/root/experiment/stim/con_tag.wav', 'iti': 6482}\n"
     ]
    },
    {
     "name": "stdout",
     "output_type": "stream",
     "text": [
      "{'tr_num': 50, 'stim': '/root/experiment/stim/con_tag.wav', 'iti': 6482}\n"
     ]
    },
    {
     "name": "stderr",
     "output_type": "stream",
     "text": [
      "2017-10-24 03:56:42,339 root         INFO     Running trial {'tr_num': 51, 'stim': '/root/experiment/stim/con_tag.wav', 'iti': 4997}\n"
     ]
    },
    {
     "name": "stdout",
     "output_type": "stream",
     "text": [
      "{'tr_num': 51, 'stim': '/root/experiment/stim/con_tag.wav', 'iti': 4997}\n"
     ]
    },
    {
     "name": "stderr",
     "output_type": "stream",
     "text": [
      "2017-10-24 03:56:48,427 root         INFO     Running trial {'tr_num': 52, 'stim': '/root/experiment/stim/bos_tag.wav', 'iti': 6398}\n"
     ]
    },
    {
     "name": "stdout",
     "output_type": "stream",
     "text": [
      "{'tr_num': 52, 'stim': '/root/experiment/stim/bos_tag.wav', 'iti': 6398}\n"
     ]
    },
    {
     "name": "stderr",
     "output_type": "stream",
     "text": [
      "2017-10-24 03:56:56,057 root         INFO     Running trial {'tr_num': 53, 'stim': '/root/experiment/stim/bos_syn_tag.wav', 'iti': 3368}\n"
     ]
    },
    {
     "name": "stdout",
     "output_type": "stream",
     "text": [
      "{'tr_num': 53, 'stim': '/root/experiment/stim/bos_syn_tag.wav', 'iti': 3368}\n"
     ]
    },
    {
     "name": "stderr",
     "output_type": "stream",
     "text": [
      "2017-10-24 03:57:00,534 root         INFO     Running trial {'tr_num': 54, 'stim': '/root/experiment/stim/con_tag.wav', 'iti': 6658}\n"
     ]
    },
    {
     "name": "stdout",
     "output_type": "stream",
     "text": [
      "{'tr_num': 54, 'stim': '/root/experiment/stim/con_tag.wav', 'iti': 6658}\n"
     ]
    },
    {
     "name": "stderr",
     "output_type": "stream",
     "text": [
      "2017-10-24 03:57:08,340 root         INFO     Running trial {'tr_num': 55, 'stim': '/root/experiment/stim/bos_rev_tag.wav', 'iti': 5709}\n"
     ]
    },
    {
     "name": "stdout",
     "output_type": "stream",
     "text": [
      "{'tr_num': 55, 'stim': '/root/experiment/stim/bos_rev_tag.wav', 'iti': 5709}\n"
     ]
    },
    {
     "name": "stderr",
     "output_type": "stream",
     "text": [
      "2017-10-24 03:57:16,492 root         INFO     Running trial {'tr_num': 56, 'stim': '/root/experiment/stim/bos_tag.wav', 'iti': 2917}\n"
     ]
    },
    {
     "name": "stdout",
     "output_type": "stream",
     "text": [
      "{'tr_num': 56, 'stim': '/root/experiment/stim/bos_tag.wav', 'iti': 2917}\n"
     ]
    },
    {
     "name": "stderr",
     "output_type": "stream",
     "text": [
      "2017-10-24 03:57:21,732 root         INFO     Running trial {'tr_num': 57, 'stim': '/root/experiment/stim/bos_rev_tag.wav', 'iti': 2546}\n"
     ]
    },
    {
     "name": "stdout",
     "output_type": "stream",
     "text": [
      "{'tr_num': 57, 'stim': '/root/experiment/stim/bos_rev_tag.wav', 'iti': 2546}\n"
     ]
    },
    {
     "name": "stderr",
     "output_type": "stream",
     "text": [
      "2017-10-24 03:57:25,852 root         INFO     Running trial {'tr_num': 58, 'stim': '/root/experiment/stim/bos_syn_tag.wav', 'iti': 4683}\n"
     ]
    },
    {
     "name": "stdout",
     "output_type": "stream",
     "text": [
      "{'tr_num': 58, 'stim': '/root/experiment/stim/bos_syn_tag.wav', 'iti': 4683}\n"
     ]
    },
    {
     "name": "stderr",
     "output_type": "stream",
     "text": [
      "2017-10-24 03:57:31,889 root         INFO     Running trial {'tr_num': 59, 'stim': '/root/experiment/stim/con_tag.wav', 'iti': 4401}\n"
     ]
    },
    {
     "name": "stdout",
     "output_type": "stream",
     "text": [
      "{'tr_num': 59, 'stim': '/root/experiment/stim/con_tag.wav', 'iti': 4401}\n"
     ]
    },
    {
     "name": "stderr",
     "output_type": "stream",
     "text": [
      "2017-10-24 03:57:37,444 root         INFO     Running trial {'tr_num': 60, 'stim': '/root/experiment/stim/con_tag.wav', 'iti': 2409}\n"
     ]
    },
    {
     "name": "stdout",
     "output_type": "stream",
     "text": [
      "{'tr_num': 60, 'stim': '/root/experiment/stim/con_tag.wav', 'iti': 2409}\n"
     ]
    },
    {
     "name": "stderr",
     "output_type": "stream",
     "text": [
      "2017-10-24 03:57:41,228 root         INFO     Running trial {'tr_num': 61, 'stim': '/root/experiment/stim/bos_rev_tag.wav', 'iti': 3450}\n"
     ]
    },
    {
     "name": "stdout",
     "output_type": "stream",
     "text": [
      "{'tr_num': 61, 'stim': '/root/experiment/stim/bos_rev_tag.wav', 'iti': 3450}\n"
     ]
    },
    {
     "name": "stderr",
     "output_type": "stream",
     "text": [
      "2017-10-24 03:57:45,957 root         INFO     Running trial {'tr_num': 62, 'stim': '/root/experiment/stim/bos_syn_tag.wav', 'iti': 3073}\n"
     ]
    },
    {
     "name": "stdout",
     "output_type": "stream",
     "text": [
      "{'tr_num': 62, 'stim': '/root/experiment/stim/bos_syn_tag.wav', 'iti': 3073}\n"
     ]
    },
    {
     "name": "stderr",
     "output_type": "stream",
     "text": [
      "2017-10-24 03:57:50,737 root         INFO     Running trial {'tr_num': 63, 'stim': '/root/experiment/stim/con_tag.wav', 'iti': 6412}\n"
     ]
    },
    {
     "name": "stdout",
     "output_type": "stream",
     "text": [
      "{'tr_num': 63, 'stim': '/root/experiment/stim/con_tag.wav', 'iti': 6412}\n"
     ]
    },
    {
     "name": "stderr",
     "output_type": "stream",
     "text": [
      "2017-10-24 03:57:58,617 root         INFO     Running trial {'tr_num': 64, 'stim': '/root/experiment/stim/bos_rev_tag.wav', 'iti': 5134}\n"
     ]
    },
    {
     "name": "stdout",
     "output_type": "stream",
     "text": [
      "{'tr_num': 64, 'stim': '/root/experiment/stim/bos_rev_tag.wav', 'iti': 5134}\n"
     ]
    },
    {
     "name": "stderr",
     "output_type": "stream",
     "text": [
      "2017-10-24 03:58:05,027 root         INFO     Running trial {'tr_num': 65, 'stim': '/root/experiment/stim/bos_rev_tag.wav', 'iti': 4751}\n"
     ]
    },
    {
     "name": "stdout",
     "output_type": "stream",
     "text": [
      "{'tr_num': 65, 'stim': '/root/experiment/stim/bos_rev_tag.wav', 'iti': 4751}\n"
     ]
    },
    {
     "name": "stderr",
     "output_type": "stream",
     "text": [
      "2017-10-24 03:58:11,032 root         INFO     Running trial {'tr_num': 66, 'stim': '/root/experiment/stim/bos_syn_tag.wav', 'iti': 6129}\n"
     ]
    },
    {
     "name": "stdout",
     "output_type": "stream",
     "text": [
      "{'tr_num': 66, 'stim': '/root/experiment/stim/bos_syn_tag.wav', 'iti': 6129}\n"
     ]
    },
    {
     "name": "stderr",
     "output_type": "stream",
     "text": [
      "2017-10-24 03:58:18,485 root         INFO     Running trial {'tr_num': 67, 'stim': '/root/experiment/stim/bos_rev_tag.wav', 'iti': 4000}\n"
     ]
    },
    {
     "name": "stdout",
     "output_type": "stream",
     "text": [
      "{'tr_num': 67, 'stim': '/root/experiment/stim/bos_rev_tag.wav', 'iti': 4000}\n"
     ]
    },
    {
     "name": "stderr",
     "output_type": "stream",
     "text": [
      "2017-10-24 03:58:23,785 root         INFO     Running trial {'tr_num': 68, 'stim': '/root/experiment/stim/con_tag.wav', 'iti': 4525}\n"
     ]
    },
    {
     "name": "stdout",
     "output_type": "stream",
     "text": [
      "{'tr_num': 68, 'stim': '/root/experiment/stim/con_tag.wav', 'iti': 4525}\n"
     ]
    },
    {
     "name": "stderr",
     "output_type": "stream",
     "text": [
      "2017-10-24 03:58:29,418 root         INFO     Running trial {'tr_num': 69, 'stim': '/root/experiment/stim/con_tag.wav', 'iti': 6359}\n"
     ]
    },
    {
     "name": "stdout",
     "output_type": "stream",
     "text": [
      "{'tr_num': 69, 'stim': '/root/experiment/stim/con_tag.wav', 'iti': 6359}\n"
     ]
    },
    {
     "name": "stderr",
     "output_type": "stream",
     "text": [
      "2017-10-24 03:58:37,220 root         INFO     Running trial {'tr_num': 70, 'stim': '/root/experiment/stim/bos_syn_tag.wav', 'iti': 5201}\n"
     ]
    },
    {
     "name": "stdout",
     "output_type": "stream",
     "text": [
      "{'tr_num': 70, 'stim': '/root/experiment/stim/bos_syn_tag.wav', 'iti': 5201}\n"
     ]
    },
    {
     "name": "stderr",
     "output_type": "stream",
     "text": [
      "2017-10-24 03:58:43,728 root         INFO     Running trial {'tr_num': 71, 'stim': '/root/experiment/stim/con_tag.wav', 'iti': 2597}\n"
     ]
    },
    {
     "name": "stdout",
     "output_type": "stream",
     "text": [
      "{'tr_num': 71, 'stim': '/root/experiment/stim/con_tag.wav', 'iti': 2597}\n"
     ]
    },
    {
     "name": "stderr",
     "output_type": "stream",
     "text": [
      "2017-10-24 03:58:47,520 root         INFO     Running trial {'tr_num': 72, 'stim': '/root/experiment/stim/bos_syn_tag.wav', 'iti': 5710}\n"
     ]
    },
    {
     "name": "stdout",
     "output_type": "stream",
     "text": [
      "{'tr_num': 72, 'stim': '/root/experiment/stim/bos_syn_tag.wav', 'iti': 5710}\n"
     ]
    },
    {
     "name": "stderr",
     "output_type": "stream",
     "text": [
      "2017-10-24 03:58:54,638 root         INFO     Running trial {'tr_num': 73, 'stim': '/root/experiment/stim/bos_syn_tag.wav', 'iti': 3767}\n"
     ]
    },
    {
     "name": "stdout",
     "output_type": "stream",
     "text": [
      "{'tr_num': 73, 'stim': '/root/experiment/stim/bos_syn_tag.wav', 'iti': 3767}\n"
     ]
    },
    {
     "name": "stderr",
     "output_type": "stream",
     "text": [
      "2017-10-24 03:58:59,765 root         INFO     Running trial {'tr_num': 74, 'stim': '/root/experiment/stim/bos_syn_tag.wav', 'iti': 2000}\n"
     ]
    },
    {
     "name": "stdout",
     "output_type": "stream",
     "text": [
      "{'tr_num': 74, 'stim': '/root/experiment/stim/bos_syn_tag.wav', 'iti': 2000}\n"
     ]
    },
    {
     "name": "stderr",
     "output_type": "stream",
     "text": [
      "2017-10-24 03:59:03,103 root         INFO     Running trial {'tr_num': 75, 'stim': '/root/experiment/stim/con_tag.wav', 'iti': 5482}\n"
     ]
    },
    {
     "name": "stdout",
     "output_type": "stream",
     "text": [
      "{'tr_num': 75, 'stim': '/root/experiment/stim/con_tag.wav', 'iti': 5482}\n"
     ]
    },
    {
     "name": "stderr",
     "output_type": "stream",
     "text": [
      "2017-10-24 03:59:09,700 root         INFO     Running trial {'tr_num': 76, 'stim': '/root/experiment/stim/con_tag.wav', 'iti': 4044}\n"
     ]
    },
    {
     "name": "stdout",
     "output_type": "stream",
     "text": [
      "{'tr_num': 76, 'stim': '/root/experiment/stim/con_tag.wav', 'iti': 4044}\n"
     ]
    },
    {
     "name": "stderr",
     "output_type": "stream",
     "text": [
      "2017-10-24 03:59:14,862 root         INFO     Running trial {'tr_num': 77, 'stim': '/root/experiment/stim/bos_tag.wav', 'iti': 6780}\n"
     ]
    },
    {
     "name": "stdout",
     "output_type": "stream",
     "text": [
      "{'tr_num': 77, 'stim': '/root/experiment/stim/bos_tag.wav', 'iti': 6780}\n"
     ]
    },
    {
     "name": "stderr",
     "output_type": "stream",
     "text": [
      "2017-10-24 03:59:23,056 root         INFO     Running trial {'tr_num': 78, 'stim': '/root/experiment/stim/bos_syn_tag.wav', 'iti': 2416}\n"
     ]
    },
    {
     "name": "stdout",
     "output_type": "stream",
     "text": [
      "{'tr_num': 78, 'stim': '/root/experiment/stim/bos_syn_tag.wav', 'iti': 2416}\n"
     ]
    },
    {
     "name": "stderr",
     "output_type": "stream",
     "text": [
      "2017-10-24 03:59:26,934 root         INFO     Running trial {'tr_num': 79, 'stim': '/root/experiment/stim/bos_rev_tag.wav', 'iti': 2774}\n"
     ]
    },
    {
     "name": "stdout",
     "output_type": "stream",
     "text": [
      "{'tr_num': 79, 'stim': '/root/experiment/stim/bos_rev_tag.wav', 'iti': 2774}\n"
     ]
    },
    {
     "name": "stderr",
     "output_type": "stream",
     "text": [
      "2017-10-24 03:59:31,305 root         INFO     Running trial {'tr_num': 80, 'stim': '/root/experiment/stim/bos_rev_tag.wav', 'iti': 3763}\n"
     ]
    },
    {
     "name": "stdout",
     "output_type": "stream",
     "text": [
      "{'tr_num': 80, 'stim': '/root/experiment/stim/bos_rev_tag.wav', 'iti': 3763}\n"
     ]
    },
    {
     "name": "stderr",
     "output_type": "stream",
     "text": [
      "2017-10-24 03:59:36,293 root         INFO     Running trial {'tr_num': 81, 'stim': '/root/experiment/stim/bos_rev_tag.wav', 'iti': 6210}\n"
     ]
    },
    {
     "name": "stdout",
     "output_type": "stream",
     "text": [
      "{'tr_num': 81, 'stim': '/root/experiment/stim/bos_rev_tag.wav', 'iti': 6210}\n"
     ]
    },
    {
     "name": "stderr",
     "output_type": "stream",
     "text": [
      "2017-10-24 03:59:43,865 root         INFO     Running trial {'tr_num': 82, 'stim': '/root/experiment/stim/bos_rev_tag.wav', 'iti': 3012}\n"
     ]
    },
    {
     "name": "stdout",
     "output_type": "stream",
     "text": [
      "{'tr_num': 82, 'stim': '/root/experiment/stim/bos_rev_tag.wav', 'iti': 3012}\n"
     ]
    },
    {
     "name": "stderr",
     "output_type": "stream",
     "text": [
      "2017-10-24 03:59:48,324 root         INFO     Running trial {'tr_num': 83, 'stim': '/root/experiment/stim/bos_rev_tag.wav', 'iti': 4521}\n"
     ]
    },
    {
     "name": "stdout",
     "output_type": "stream",
     "text": [
      "{'tr_num': 83, 'stim': '/root/experiment/stim/bos_rev_tag.wav', 'iti': 4521}\n"
     ]
    },
    {
     "name": "stderr",
     "output_type": "stream",
     "text": [
      "2017-10-24 03:59:54,082 root         INFO     Running trial {'tr_num': 84, 'stim': '/root/experiment/stim/bos_syn_tag.wav', 'iti': 6692}\n"
     ]
    },
    {
     "name": "stdout",
     "output_type": "stream",
     "text": [
      "{'tr_num': 84, 'stim': '/root/experiment/stim/bos_syn_tag.wav', 'iti': 6692}\n"
     ]
    },
    {
     "name": "stderr",
     "output_type": "stream",
     "text": [
      "2017-10-24 04:00:01,948 root         INFO     Running trial {'tr_num': 85, 'stim': '/root/experiment/stim/bos_tag.wav', 'iti': 5694}\n"
     ]
    },
    {
     "name": "stdout",
     "output_type": "stream",
     "text": [
      "{'tr_num': 85, 'stim': '/root/experiment/stim/bos_tag.wav', 'iti': 5694}\n"
     ]
    },
    {
     "name": "stderr",
     "output_type": "stream",
     "text": [
      "2017-10-24 04:00:08,875 root         INFO     Running trial {'tr_num': 86, 'stim': '/root/experiment/stim/bos_syn_tag.wav', 'iti': 4748}\n"
     ]
    },
    {
     "name": "stdout",
     "output_type": "stream",
     "text": [
      "{'tr_num': 86, 'stim': '/root/experiment/stim/bos_syn_tag.wav', 'iti': 4748}\n"
     ]
    },
    {
     "name": "stderr",
     "output_type": "stream",
     "text": [
      "2017-10-24 04:00:14,926 root         INFO     Running trial {'tr_num': 87, 'stim': '/root/experiment/stim/bos_syn_tag.wav', 'iti': 2797}\n"
     ]
    },
    {
     "name": "stdout",
     "output_type": "stream",
     "text": [
      "{'tr_num': 87, 'stim': '/root/experiment/stim/bos_syn_tag.wav', 'iti': 2797}\n"
     ]
    },
    {
     "name": "stderr",
     "output_type": "stream",
     "text": [
      "2017-10-24 04:00:18,884 root         INFO     Running trial {'tr_num': 88, 'stim': '/root/experiment/stim/bos_syn_tag.wav', 'iti': 6383}\n"
     ]
    },
    {
     "name": "stdout",
     "output_type": "stream",
     "text": [
      "{'tr_num': 88, 'stim': '/root/experiment/stim/bos_syn_tag.wav', 'iti': 6383}\n"
     ]
    },
    {
     "name": "stderr",
     "output_type": "stream",
     "text": [
      "2017-10-24 04:00:26,553 root         INFO     Running trial {'tr_num': 89, 'stim': '/root/experiment/stim/con_tag.wav', 'iti': 2298}\n"
     ]
    },
    {
     "name": "stdout",
     "output_type": "stream",
     "text": [
      "{'tr_num': 89, 'stim': '/root/experiment/stim/con_tag.wav', 'iti': 2298}\n"
     ]
    },
    {
     "name": "stderr",
     "output_type": "stream",
     "text": [
      "2017-10-24 04:00:30,040 root         INFO     Running trial {'tr_num': 90, 'stim': '/root/experiment/stim/con_tag.wav', 'iti': 4591}\n"
     ]
    },
    {
     "name": "stdout",
     "output_type": "stream",
     "text": [
      "{'tr_num': 90, 'stim': '/root/experiment/stim/con_tag.wav', 'iti': 4591}\n"
     ]
    },
    {
     "name": "stderr",
     "output_type": "stream",
     "text": [
      "2017-10-24 04:00:35,845 root         INFO     Running trial {'tr_num': 91, 'stim': '/root/experiment/stim/bos_tag.wav', 'iti': 2113}\n"
     ]
    },
    {
     "name": "stdout",
     "output_type": "stream",
     "text": [
      "{'tr_num': 91, 'stim': '/root/experiment/stim/bos_tag.wav', 'iti': 2113}\n"
     ]
    },
    {
     "name": "stderr",
     "output_type": "stream",
     "text": [
      "2017-10-24 04:00:39,161 root         INFO     Running trial {'tr_num': 92, 'stim': '/root/experiment/stim/con_tag.wav', 'iti': 2399}\n"
     ]
    },
    {
     "name": "stdout",
     "output_type": "stream",
     "text": [
      "{'tr_num': 92, 'stim': '/root/experiment/stim/con_tag.wav', 'iti': 2399}\n"
     ]
    },
    {
     "name": "stderr",
     "output_type": "stream",
     "text": [
      "2017-10-24 04:00:43,079 root         INFO     Running trial {'tr_num': 93, 'stim': '/root/experiment/stim/bos_tag.wav', 'iti': 6715}\n"
     ]
    },
    {
     "name": "stdout",
     "output_type": "stream",
     "text": [
      "{'tr_num': 93, 'stim': '/root/experiment/stim/bos_tag.wav', 'iti': 6715}\n"
     ]
    },
    {
     "name": "stderr",
     "output_type": "stream",
     "text": [
      "2017-10-24 04:00:51,012 root         INFO     Running trial {'tr_num': 94, 'stim': '/root/experiment/stim/con_tag.wav', 'iti': 3107}\n"
     ]
    },
    {
     "name": "stdout",
     "output_type": "stream",
     "text": [
      "{'tr_num': 94, 'stim': '/root/experiment/stim/con_tag.wav', 'iti': 3107}\n"
     ]
    },
    {
     "name": "stderr",
     "output_type": "stream",
     "text": [
      "2017-10-24 04:00:55,252 root         INFO     Running trial {'tr_num': 95, 'stim': '/root/experiment/stim/con_tag.wav', 'iti': 2954}\n"
     ]
    },
    {
     "name": "stdout",
     "output_type": "stream",
     "text": [
      "{'tr_num': 95, 'stim': '/root/experiment/stim/con_tag.wav', 'iti': 2954}\n"
     ]
    },
    {
     "name": "stderr",
     "output_type": "stream",
     "text": [
      "2017-10-24 04:00:59,326 root         INFO     Running trial {'tr_num': 96, 'stim': '/root/experiment/stim/con_tag.wav', 'iti': 5597}\n"
     ]
    },
    {
     "name": "stdout",
     "output_type": "stream",
     "text": [
      "{'tr_num': 96, 'stim': '/root/experiment/stim/con_tag.wav', 'iti': 5597}\n"
     ]
    },
    {
     "name": "stderr",
     "output_type": "stream",
     "text": [
      "2017-10-24 04:01:06,074 root         INFO     Running trial {'tr_num': 97, 'stim': '/root/experiment/stim/bos_syn_tag.wav', 'iti': 5004}\n"
     ]
    },
    {
     "name": "stdout",
     "output_type": "stream",
     "text": [
      "{'tr_num': 97, 'stim': '/root/experiment/stim/bos_syn_tag.wav', 'iti': 5004}\n"
     ]
    },
    {
     "name": "stderr",
     "output_type": "stream",
     "text": [
      "2017-10-24 04:01:12,346 root         INFO     Running trial {'tr_num': 98, 'stim': '/root/experiment/stim/con_tag.wav', 'iti': 6739}\n"
     ]
    },
    {
     "name": "stdout",
     "output_type": "stream",
     "text": [
      "{'tr_num': 98, 'stim': '/root/experiment/stim/con_tag.wav', 'iti': 6739}\n"
     ]
    },
    {
     "name": "stderr",
     "output_type": "stream",
     "text": [
      "2017-10-24 04:01:20,465 root         INFO     Running trial {'tr_num': 99, 'stim': '/root/experiment/stim/bos_tag.wav', 'iti': 2050}\n"
     ]
    },
    {
     "name": "stdout",
     "output_type": "stream",
     "text": [
      "{'tr_num': 99, 'stim': '/root/experiment/stim/bos_tag.wav', 'iti': 2050}\n"
     ]
    },
    {
     "name": "stderr",
     "output_type": "stream",
     "text": [
      "2017-10-24 04:01:23,882 root         INFO     Running trial {'tr_num': 100, 'stim': '/root/experiment/stim/bos_rev_tag.wav', 'iti': 5306}\n"
     ]
    },
    {
     "name": "stdout",
     "output_type": "stream",
     "text": [
      "{'tr_num': 100, 'stim': '/root/experiment/stim/bos_rev_tag.wav', 'iti': 5306}\n"
     ]
    },
    {
     "name": "stderr",
     "output_type": "stream",
     "text": [
      "2017-10-24 04:01:30,654 root         INFO     Running trial {'tr_num': 101, 'stim': '/root/experiment/stim/bos_tag.wav', 'iti': 2329}\n"
     ]
    },
    {
     "name": "stdout",
     "output_type": "stream",
     "text": [
      "{'tr_num': 101, 'stim': '/root/experiment/stim/bos_tag.wav', 'iti': 2329}\n"
     ]
    },
    {
     "name": "stderr",
     "output_type": "stream",
     "text": [
      "2017-10-24 04:01:34,650 root         INFO     Running trial {'tr_num': 102, 'stim': '/root/experiment/stim/bos_tag.wav', 'iti': 6665}\n"
     ]
    },
    {
     "name": "stdout",
     "output_type": "stream",
     "text": [
      "{'tr_num': 102, 'stim': '/root/experiment/stim/bos_tag.wav', 'iti': 6665}\n"
     ]
    },
    {
     "name": "stderr",
     "output_type": "stream",
     "text": [
      "2017-10-24 04:01:42,592 root         INFO     Running trial {'tr_num': 103, 'stim': '/root/experiment/stim/con_tag.wav', 'iti': 4370}\n"
     ]
    },
    {
     "name": "stdout",
     "output_type": "stream",
     "text": [
      "{'tr_num': 103, 'stim': '/root/experiment/stim/con_tag.wav', 'iti': 4370}\n"
     ]
    },
    {
     "name": "stderr",
     "output_type": "stream",
     "text": [
      "2017-10-24 04:01:48,165 root         INFO     Running trial {'tr_num': 104, 'stim': '/root/experiment/stim/bos_rev_tag.wav', 'iti': 3926}\n"
     ]
    },
    {
     "name": "stdout",
     "output_type": "stream",
     "text": [
      "{'tr_num': 104, 'stim': '/root/experiment/stim/bos_rev_tag.wav', 'iti': 3926}\n"
     ]
    },
    {
     "name": "stderr",
     "output_type": "stream",
     "text": [
      "2017-10-24 04:01:53,398 root         INFO     Running trial {'tr_num': 105, 'stim': '/root/experiment/stim/bos_tag.wav', 'iti': 3890}\n"
     ]
    },
    {
     "name": "stdout",
     "output_type": "stream",
     "text": [
      "{'tr_num': 105, 'stim': '/root/experiment/stim/bos_tag.wav', 'iti': 3890}\n"
     ]
    },
    {
     "name": "stderr",
     "output_type": "stream",
     "text": [
      "2017-10-24 04:01:58,567 root         INFO     Running trial {'tr_num': 106, 'stim': '/root/experiment/stim/bos_syn_tag.wav', 'iti': 3437}\n"
     ]
    },
    {
     "name": "stdout",
     "output_type": "stream",
     "text": [
      "{'tr_num': 106, 'stim': '/root/experiment/stim/bos_syn_tag.wav', 'iti': 3437}\n"
     ]
    },
    {
     "name": "stderr",
     "output_type": "stream",
     "text": [
      "2017-10-24 04:02:03,227 root         INFO     Running trial {'tr_num': 107, 'stim': '/root/experiment/stim/bos_rev_tag.wav', 'iti': 2367}\n"
     ]
    },
    {
     "name": "stdout",
     "output_type": "stream",
     "text": [
      "{'tr_num': 107, 'stim': '/root/experiment/stim/bos_rev_tag.wav', 'iti': 2367}\n"
     ]
    },
    {
     "name": "stderr",
     "output_type": "stream",
     "text": [
      "2017-10-24 04:02:06,896 root         INFO     Running trial {'tr_num': 108, 'stim': '/root/experiment/stim/bos_syn_tag.wav', 'iti': 2086}\n"
     ]
    },
    {
     "name": "stdout",
     "output_type": "stream",
     "text": [
      "{'tr_num': 108, 'stim': '/root/experiment/stim/bos_syn_tag.wav', 'iti': 2086}\n"
     ]
    },
    {
     "name": "stderr",
     "output_type": "stream",
     "text": [
      "2017-10-24 04:02:10,227 root         INFO     Running trial {'tr_num': 109, 'stim': '/root/experiment/stim/bos_tag.wav', 'iti': 4659}\n"
     ]
    },
    {
     "name": "stdout",
     "output_type": "stream",
     "text": [
      "{'tr_num': 109, 'stim': '/root/experiment/stim/bos_tag.wav', 'iti': 4659}\n"
     ]
    },
    {
     "name": "stderr",
     "output_type": "stream",
     "text": [
      "2017-10-24 04:02:16,099 root         INFO     Running trial {'tr_num': 110, 'stim': '/root/experiment/stim/bos_syn_tag.wav', 'iti': 6107}\n"
     ]
    },
    {
     "name": "stdout",
     "output_type": "stream",
     "text": [
      "{'tr_num': 110, 'stim': '/root/experiment/stim/bos_syn_tag.wav', 'iti': 6107}\n"
     ]
    },
    {
     "name": "stderr",
     "output_type": "stream",
     "text": [
      "2017-10-24 04:02:23,605 root         INFO     Running trial {'tr_num': 111, 'stim': '/root/experiment/stim/bos_rev_tag.wav', 'iti': 2347}\n"
     ]
    },
    {
     "name": "stdout",
     "output_type": "stream",
     "text": [
      "{'tr_num': 111, 'stim': '/root/experiment/stim/bos_rev_tag.wav', 'iti': 2347}\n"
     ]
    },
    {
     "name": "stderr",
     "output_type": "stream",
     "text": [
      "2017-10-24 04:02:27,326 root         INFO     Running trial {'tr_num': 112, 'stim': '/root/experiment/stim/bos_rev_tag.wav', 'iti': 4774}\n"
     ]
    },
    {
     "name": "stdout",
     "output_type": "stream",
     "text": [
      "{'tr_num': 112, 'stim': '/root/experiment/stim/bos_rev_tag.wav', 'iti': 4774}\n"
     ]
    },
    {
     "name": "stderr",
     "output_type": "stream",
     "text": [
      "2017-10-24 04:02:33,314 root         INFO     Running trial {'tr_num': 113, 'stim': '/root/experiment/stim/bos_tag.wav', 'iti': 6123}\n"
     ]
    },
    {
     "name": "stdout",
     "output_type": "stream",
     "text": [
      "{'tr_num': 113, 'stim': '/root/experiment/stim/bos_tag.wav', 'iti': 6123}\n"
     ]
    },
    {
     "name": "stderr",
     "output_type": "stream",
     "text": [
      "2017-10-24 04:02:40,684 root         INFO     Running trial {'tr_num': 114, 'stim': '/root/experiment/stim/con_tag.wav', 'iti': 3225}\n"
     ]
    },
    {
     "name": "stdout",
     "output_type": "stream",
     "text": [
      "{'tr_num': 114, 'stim': '/root/experiment/stim/con_tag.wav', 'iti': 3225}\n"
     ]
    },
    {
     "name": "stderr",
     "output_type": "stream",
     "text": [
      "2017-10-24 04:02:45,002 root         INFO     Running trial {'tr_num': 115, 'stim': '/root/experiment/stim/bos_rev_tag.wav', 'iti': 6227}\n"
     ]
    },
    {
     "name": "stdout",
     "output_type": "stream",
     "text": [
      "{'tr_num': 115, 'stim': '/root/experiment/stim/bos_rev_tag.wav', 'iti': 6227}\n"
     ]
    },
    {
     "name": "stderr",
     "output_type": "stream",
     "text": [
      "2017-10-24 04:02:52,472 root         INFO     Running trial {'tr_num': 116, 'stim': '/root/experiment/stim/bos_syn_tag.wav', 'iti': 4276}\n"
     ]
    },
    {
     "name": "stdout",
     "output_type": "stream",
     "text": [
      "{'tr_num': 116, 'stim': '/root/experiment/stim/bos_syn_tag.wav', 'iti': 4276}\n"
     ]
    },
    {
     "name": "stderr",
     "output_type": "stream",
     "text": [
      "2017-10-24 04:02:57,922 root         INFO     Running trial {'tr_num': 117, 'stim': '/root/experiment/stim/con_tag.wav', 'iti': 3440}\n"
     ]
    },
    {
     "name": "stdout",
     "output_type": "stream",
     "text": [
      "{'tr_num': 117, 'stim': '/root/experiment/stim/con_tag.wav', 'iti': 3440}\n"
     ]
    },
    {
     "name": "stderr",
     "output_type": "stream",
     "text": [
      "2017-10-24 04:03:02,529 root         INFO     Running trial {'tr_num': 118, 'stim': '/root/experiment/stim/con_tag.wav', 'iti': 3833}\n"
     ]
    },
    {
     "name": "stdout",
     "output_type": "stream",
     "text": [
      "{'tr_num': 118, 'stim': '/root/experiment/stim/con_tag.wav', 'iti': 3833}\n"
     ]
    },
    {
     "name": "stderr",
     "output_type": "stream",
     "text": [
      "2017-10-24 04:03:07,571 root         INFO     Running trial {'tr_num': 119, 'stim': '/root/experiment/stim/bos_tag.wav', 'iti': 3477}\n"
     ]
    },
    {
     "name": "stdout",
     "output_type": "stream",
     "text": [
      "{'tr_num': 119, 'stim': '/root/experiment/stim/bos_tag.wav', 'iti': 3477}\n"
     ]
    },
    {
     "name": "stderr",
     "output_type": "stream",
     "text": [
      "2017-10-24 04:03:12,257 root         INFO     Running trial {'tr_num': 120, 'stim': '/root/experiment/stim/bos_syn_tag.wav', 'iti': 4542}\n"
     ]
    },
    {
     "name": "stdout",
     "output_type": "stream",
     "text": [
      "{'tr_num': 120, 'stim': '/root/experiment/stim/bos_syn_tag.wav', 'iti': 4542}\n"
     ]
    },
    {
     "name": "stderr",
     "output_type": "stream",
     "text": [
      "2017-10-24 04:03:18,072 root         INFO     Running trial {'tr_num': 121, 'stim': '/root/experiment/stim/bos_tag.wav', 'iti': 3237}\n"
     ]
    },
    {
     "name": "stdout",
     "output_type": "stream",
     "text": [
      "{'tr_num': 121, 'stim': '/root/experiment/stim/bos_tag.wav', 'iti': 3237}\n"
     ]
    },
    {
     "name": "stderr",
     "output_type": "stream",
     "text": [
      "2017-10-24 04:03:22,624 root         INFO     Running trial {'tr_num': 122, 'stim': '/root/experiment/stim/con_tag.wav', 'iti': 4893}\n"
     ]
    },
    {
     "name": "stdout",
     "output_type": "stream",
     "text": [
      "{'tr_num': 122, 'stim': '/root/experiment/stim/con_tag.wav', 'iti': 4893}\n"
     ]
    },
    {
     "name": "stderr",
     "output_type": "stream",
     "text": [
      "2017-10-24 04:03:28,810 root         INFO     Running trial {'tr_num': 123, 'stim': '/root/experiment/stim/bos_rev_tag.wav', 'iti': 2556}\n"
     ]
    },
    {
     "name": "stdout",
     "output_type": "stream",
     "text": [
      "{'tr_num': 123, 'stim': '/root/experiment/stim/bos_rev_tag.wav', 'iti': 2556}\n"
     ]
    },
    {
     "name": "stderr",
     "output_type": "stream",
     "text": [
      "2017-10-24 04:03:32,664 root         INFO     Running trial {'tr_num': 124, 'stim': '/root/experiment/stim/bos_rev_tag.wav', 'iti': 2974}\n"
     ]
    },
    {
     "name": "stdout",
     "output_type": "stream",
     "text": [
      "{'tr_num': 124, 'stim': '/root/experiment/stim/bos_rev_tag.wav', 'iti': 2974}\n"
     ]
    },
    {
     "name": "stderr",
     "output_type": "stream",
     "text": [
      "2017-10-24 04:03:37,063 root         INFO     Running trial {'tr_num': 125, 'stim': '/root/experiment/stim/bos_rev_tag.wav', 'iti': 5044}\n"
     ]
    },
    {
     "name": "stdout",
     "output_type": "stream",
     "text": [
      "{'tr_num': 125, 'stim': '/root/experiment/stim/bos_rev_tag.wav', 'iti': 5044}\n"
     ]
    },
    {
     "name": "stderr",
     "output_type": "stream",
     "text": [
      "2017-10-24 04:03:43,686 root         INFO     Running trial {'tr_num': 126, 'stim': '/root/experiment/stim/bos_tag.wav', 'iti': 5954}\n"
     ]
    },
    {
     "name": "stdout",
     "output_type": "stream",
     "text": [
      "{'tr_num': 126, 'stim': '/root/experiment/stim/bos_tag.wav', 'iti': 5954}\n"
     ]
    },
    {
     "name": "stderr",
     "output_type": "stream",
     "text": [
      "2017-10-24 04:03:50,872 root         INFO     Running trial {'tr_num': 127, 'stim': '/root/experiment/stim/bos_rev_tag.wav', 'iti': 6061}\n"
     ]
    },
    {
     "name": "stdout",
     "output_type": "stream",
     "text": [
      "{'tr_num': 127, 'stim': '/root/experiment/stim/bos_rev_tag.wav', 'iti': 6061}\n"
     ]
    },
    {
     "name": "stderr",
     "output_type": "stream",
     "text": [
      "2017-10-24 04:03:58,184 root         INFO     Running trial {'tr_num': 128, 'stim': '/root/experiment/stim/con_tag.wav', 'iti': 2043}\n"
     ]
    },
    {
     "name": "stdout",
     "output_type": "stream",
     "text": [
      "{'tr_num': 128, 'stim': '/root/experiment/stim/con_tag.wav', 'iti': 2043}\n"
     ]
    },
    {
     "name": "stderr",
     "output_type": "stream",
     "text": [
      "2017-10-24 04:04:01,369 root         INFO     Running trial {'tr_num': 129, 'stim': '/root/experiment/stim/bos_syn_tag.wav', 'iti': 5903}\n"
     ]
    },
    {
     "name": "stdout",
     "output_type": "stream",
     "text": [
      "{'tr_num': 129, 'stim': '/root/experiment/stim/bos_syn_tag.wav', 'iti': 5903}\n"
     ]
    },
    {
     "name": "stderr",
     "output_type": "stream",
     "text": [
      "2017-10-24 04:04:08,484 root         INFO     Running trial {'tr_num': 130, 'stim': '/root/experiment/stim/bos_syn_tag.wav', 'iti': 3286}\n"
     ]
    },
    {
     "name": "stdout",
     "output_type": "stream",
     "text": [
      "{'tr_num': 130, 'stim': '/root/experiment/stim/bos_syn_tag.wav', 'iti': 3286}\n"
     ]
    },
    {
     "name": "stderr",
     "output_type": "stream",
     "text": [
      "2017-10-24 04:04:13,016 root         INFO     Running trial {'tr_num': 131, 'stim': '/root/experiment/stim/bos_rev_tag.wav', 'iti': 3273}\n"
     ]
    },
    {
     "name": "stdout",
     "output_type": "stream",
     "text": [
      "{'tr_num': 131, 'stim': '/root/experiment/stim/bos_rev_tag.wav', 'iti': 3273}\n"
     ]
    },
    {
     "name": "stderr",
     "output_type": "stream",
     "text": [
      "2017-10-24 04:04:17,497 root         INFO     Running trial {'tr_num': 132, 'stim': '/root/experiment/stim/bos_rev_tag.wav', 'iti': 3870}\n"
     ]
    },
    {
     "name": "stdout",
     "output_type": "stream",
     "text": [
      "{'tr_num': 132, 'stim': '/root/experiment/stim/bos_rev_tag.wav', 'iti': 3870}\n"
     ]
    },
    {
     "name": "stderr",
     "output_type": "stream",
     "text": [
      "2017-10-24 04:04:22,726 root         INFO     Running trial {'tr_num': 133, 'stim': '/root/experiment/stim/bos_rev_tag.wav', 'iti': 6415}\n"
     ]
    },
    {
     "name": "stdout",
     "output_type": "stream",
     "text": [
      "{'tr_num': 133, 'stim': '/root/experiment/stim/bos_rev_tag.wav', 'iti': 6415}\n"
     ]
    },
    {
     "name": "stderr",
     "output_type": "stream",
     "text": [
      "2017-10-24 04:04:30,379 root         INFO     Running trial {'tr_num': 134, 'stim': '/root/experiment/stim/bos_tag.wav', 'iti': 3909}\n"
     ]
    },
    {
     "name": "stdout",
     "output_type": "stream",
     "text": [
      "{'tr_num': 134, 'stim': '/root/experiment/stim/bos_tag.wav', 'iti': 3909}\n"
     ]
    },
    {
     "name": "stderr",
     "output_type": "stream",
     "text": [
      "2017-10-24 04:04:35,551 root         INFO     Running trial {'tr_num': 135, 'stim': '/root/experiment/stim/bos_tag.wav', 'iti': 4522}\n"
     ]
    },
    {
     "name": "stdout",
     "output_type": "stream",
     "text": [
      "{'tr_num': 135, 'stim': '/root/experiment/stim/bos_tag.wav', 'iti': 4522}\n"
     ]
    },
    {
     "name": "stderr",
     "output_type": "stream",
     "text": [
      "2017-10-24 04:04:41,313 root         INFO     Running trial {'tr_num': 136, 'stim': '/root/experiment/stim/con_tag.wav', 'iti': 4407}\n"
     ]
    },
    {
     "name": "stdout",
     "output_type": "stream",
     "text": [
      "{'tr_num': 136, 'stim': '/root/experiment/stim/con_tag.wav', 'iti': 4407}\n"
     ]
    },
    {
     "name": "stderr",
     "output_type": "stream",
     "text": [
      "2017-10-24 04:04:46,856 root         INFO     Running trial {'tr_num': 137, 'stim': '/root/experiment/stim/bos_tag.wav', 'iti': 5308}\n"
     ]
    },
    {
     "name": "stdout",
     "output_type": "stream",
     "text": [
      "{'tr_num': 137, 'stim': '/root/experiment/stim/bos_tag.wav', 'iti': 5308}\n"
     ]
    },
    {
     "name": "stderr",
     "output_type": "stream",
     "text": [
      "2017-10-24 04:04:53,520 root         INFO     Running trial {'tr_num': 138, 'stim': '/root/experiment/stim/bos_syn_tag.wav', 'iti': 6629}\n"
     ]
    },
    {
     "name": "stdout",
     "output_type": "stream",
     "text": [
      "{'tr_num': 138, 'stim': '/root/experiment/stim/bos_syn_tag.wav', 'iti': 6629}\n"
     ]
    },
    {
     "name": "stderr",
     "output_type": "stream",
     "text": [
      "2017-10-24 04:05:01,632 root         INFO     Running trial {'tr_num': 139, 'stim': '/root/experiment/stim/bos_rev_tag.wav', 'iti': 5037}\n"
     ]
    },
    {
     "name": "stdout",
     "output_type": "stream",
     "text": [
      "{'tr_num': 139, 'stim': '/root/experiment/stim/bos_rev_tag.wav', 'iti': 5037}\n"
     ]
    },
    {
     "name": "stderr",
     "output_type": "stream",
     "text": [
      "2017-10-24 04:05:08,088 root         INFO     Running trial {'tr_num': 140, 'stim': '/root/experiment/stim/bos_rev_tag.wav', 'iti': 5188}\n"
     ]
    },
    {
     "name": "stdout",
     "output_type": "stream",
     "text": [
      "{'tr_num': 140, 'stim': '/root/experiment/stim/bos_rev_tag.wav', 'iti': 5188}\n"
     ]
    },
    {
     "name": "stderr",
     "output_type": "stream",
     "text": [
      "2017-10-24 04:05:14,747 root         INFO     Running trial {'tr_num': 141, 'stim': '/root/experiment/stim/bos_tag.wav', 'iti': 5688}\n"
     ]
    },
    {
     "name": "stdout",
     "output_type": "stream",
     "text": [
      "{'tr_num': 141, 'stim': '/root/experiment/stim/bos_tag.wav', 'iti': 5688}\n"
     ]
    },
    {
     "name": "stderr",
     "output_type": "stream",
     "text": [
      "2017-10-24 04:05:21,705 root         INFO     Running trial {'tr_num': 142, 'stim': '/root/experiment/stim/con_tag.wav', 'iti': 3642}\n"
     ]
    },
    {
     "name": "stdout",
     "output_type": "stream",
     "text": [
      "{'tr_num': 142, 'stim': '/root/experiment/stim/con_tag.wav', 'iti': 3642}\n"
     ]
    },
    {
     "name": "stderr",
     "output_type": "stream",
     "text": [
      "2017-10-24 04:05:27,032 root         INFO     Running trial {'tr_num': 143, 'stim': '/root/experiment/stim/bos_tag.wav', 'iti': 5461}\n"
     ]
    },
    {
     "name": "stdout",
     "output_type": "stream",
     "text": [
      "{'tr_num': 143, 'stim': '/root/experiment/stim/bos_tag.wav', 'iti': 5461}\n"
     ]
    },
    {
     "name": "stderr",
     "output_type": "stream",
     "text": [
      "2017-10-24 04:05:33,664 root         INFO     Running trial {'tr_num': 144, 'stim': '/root/experiment/stim/bos_rev_tag.wav', 'iti': 6803}\n"
     ]
    },
    {
     "name": "stdout",
     "output_type": "stream",
     "text": [
      "{'tr_num': 144, 'stim': '/root/experiment/stim/bos_rev_tag.wav', 'iti': 6803}\n"
     ]
    },
    {
     "name": "stderr",
     "output_type": "stream",
     "text": [
      "2017-10-24 04:05:41,719 root         INFO     Running trial {'tr_num': 145, 'stim': '/root/experiment/stim/con_tag.wav', 'iti': 2603}\n"
     ]
    },
    {
     "name": "stdout",
     "output_type": "stream",
     "text": [
      "{'tr_num': 145, 'stim': '/root/experiment/stim/con_tag.wav', 'iti': 2603}\n"
     ]
    },
    {
     "name": "stderr",
     "output_type": "stream",
     "text": [
      "2017-10-24 04:05:45,561 root         INFO     Running trial {'tr_num': 146, 'stim': '/root/experiment/stim/bos_rev_tag.wav', 'iti': 4448}\n"
     ]
    },
    {
     "name": "stdout",
     "output_type": "stream",
     "text": [
      "{'tr_num': 146, 'stim': '/root/experiment/stim/bos_rev_tag.wav', 'iti': 4448}\n"
     ]
    },
    {
     "name": "stderr",
     "output_type": "stream",
     "text": [
      "2017-10-24 04:05:51,202 root         INFO     Running trial {'tr_num': 147, 'stim': '/root/experiment/stim/bos_tag.wav', 'iti': 3810}\n"
     ]
    },
    {
     "name": "stdout",
     "output_type": "stream",
     "text": [
      "{'tr_num': 147, 'stim': '/root/experiment/stim/bos_tag.wav', 'iti': 3810}\n"
     ]
    },
    {
     "name": "stderr",
     "output_type": "stream",
     "text": [
      "2017-10-24 04:05:56,339 root         INFO     Running trial {'tr_num': 148, 'stim': '/root/experiment/stim/con_tag.wav', 'iti': 6753}\n"
     ]
    },
    {
     "name": "stdout",
     "output_type": "stream",
     "text": [
      "{'tr_num': 148, 'stim': '/root/experiment/stim/con_tag.wav', 'iti': 6753}\n"
     ]
    },
    {
     "name": "stderr",
     "output_type": "stream",
     "text": [
      "2017-10-24 04:06:04,329 root         INFO     Running trial {'tr_num': 149, 'stim': '/root/experiment/stim/con_tag.wav', 'iti': 2502}\n"
     ]
    },
    {
     "name": "stdout",
     "output_type": "stream",
     "text": [
      "{'tr_num': 149, 'stim': '/root/experiment/stim/con_tag.wav', 'iti': 2502}\n"
     ]
    },
    {
     "name": "stderr",
     "output_type": "stream",
     "text": [
      "2017-10-24 04:06:08,138 root         INFO     Running trial {'tr_num': 150, 'stim': '/root/experiment/stim/bos_tag.wav', 'iti': 2304}\n"
     ]
    },
    {
     "name": "stdout",
     "output_type": "stream",
     "text": [
      "{'tr_num': 150, 'stim': '/root/experiment/stim/bos_tag.wav', 'iti': 2304}\n"
     ]
    },
    {
     "name": "stderr",
     "output_type": "stream",
     "text": [
      "2017-10-24 04:06:11,695 root         INFO     Running trial {'tr_num': 151, 'stim': '/root/experiment/stim/bos_tag.wav', 'iti': 6172}\n"
     ]
    },
    {
     "name": "stdout",
     "output_type": "stream",
     "text": [
      "{'tr_num': 151, 'stim': '/root/experiment/stim/bos_tag.wav', 'iti': 6172}\n"
     ]
    },
    {
     "name": "stderr",
     "output_type": "stream",
     "text": [
      "2017-10-24 04:06:19,073 root         INFO     Running trial {'tr_num': 152, 'stim': '/root/experiment/stim/bos_syn_tag.wav', 'iti': 2030}\n"
     ]
    },
    {
     "name": "stdout",
     "output_type": "stream",
     "text": [
      "{'tr_num': 152, 'stim': '/root/experiment/stim/bos_syn_tag.wav', 'iti': 2030}\n"
     ]
    },
    {
     "name": "stderr",
     "output_type": "stream",
     "text": [
      "2017-10-24 04:06:22,477 root         INFO     Running trial {'tr_num': 153, 'stim': '/root/experiment/stim/bos_tag.wav', 'iti': 2310}\n"
     ]
    },
    {
     "name": "stdout",
     "output_type": "stream",
     "text": [
      "{'tr_num': 153, 'stim': '/root/experiment/stim/bos_tag.wav', 'iti': 2310}\n"
     ]
    },
    {
     "name": "stderr",
     "output_type": "stream",
     "text": [
      "2017-10-24 04:06:26,219 root         INFO     Running trial {'tr_num': 154, 'stim': '/root/experiment/stim/con_tag.wav', 'iti': 3550}\n"
     ]
    },
    {
     "name": "stdout",
     "output_type": "stream",
     "text": [
      "{'tr_num': 154, 'stim': '/root/experiment/stim/con_tag.wav', 'iti': 3550}\n"
     ]
    },
    {
     "name": "stderr",
     "output_type": "stream",
     "text": [
      "2017-10-24 04:06:31,154 root         INFO     Running trial {'tr_num': 155, 'stim': '/root/experiment/stim/bos_syn_tag.wav', 'iti': 6279}\n"
     ]
    },
    {
     "name": "stdout",
     "output_type": "stream",
     "text": [
      "{'tr_num': 155, 'stim': '/root/experiment/stim/bos_syn_tag.wav', 'iti': 6279}\n"
     ]
    },
    {
     "name": "stderr",
     "output_type": "stream",
     "text": [
      "2017-10-24 04:06:38,666 root         INFO     Running trial {'tr_num': 156, 'stim': '/root/experiment/stim/bos_syn_tag.wav', 'iti': 6316}\n"
     ]
    },
    {
     "name": "stdout",
     "output_type": "stream",
     "text": [
      "{'tr_num': 156, 'stim': '/root/experiment/stim/bos_syn_tag.wav', 'iti': 6316}\n"
     ]
    },
    {
     "name": "stderr",
     "output_type": "stream",
     "text": [
      "2017-10-24 04:06:46,318 root         INFO     Running trial {'tr_num': 157, 'stim': '/root/experiment/stim/bos_tag.wav', 'iti': 3857}\n"
     ]
    },
    {
     "name": "stdout",
     "output_type": "stream",
     "text": [
      "{'tr_num': 157, 'stim': '/root/experiment/stim/bos_tag.wav', 'iti': 3857}\n"
     ]
    },
    {
     "name": "stderr",
     "output_type": "stream",
     "text": [
      "2017-10-24 04:06:51,617 root         INFO     Running trial {'tr_num': 158, 'stim': '/root/experiment/stim/bos_syn_tag.wav', 'iti': 2798}\n"
     ]
    },
    {
     "name": "stdout",
     "output_type": "stream",
     "text": [
      "{'tr_num': 158, 'stim': '/root/experiment/stim/bos_syn_tag.wav', 'iti': 2798}\n"
     ]
    },
    {
     "name": "stderr",
     "output_type": "stream",
     "text": [
      "2017-10-24 04:06:55,776 root         INFO     Running trial {'tr_num': 159, 'stim': '/root/experiment/stim/bos_syn_tag.wav', 'iti': 3049}\n"
     ]
    },
    {
     "name": "stdout",
     "output_type": "stream",
     "text": [
      "{'tr_num': 159, 'stim': '/root/experiment/stim/bos_syn_tag.wav', 'iti': 3049}\n"
     ]
    },
    {
     "name": "stderr",
     "output_type": "stream",
     "text": [
      "2017-10-24 04:07:00,134 root         INFO     Running trial {'tr_num': 160, 'stim': '/root/experiment/stim/bos_syn_tag.wav', 'iti': 6129}\n"
     ]
    },
    {
     "name": "stdout",
     "output_type": "stream",
     "text": [
      "{'tr_num': 160, 'stim': '/root/experiment/stim/bos_syn_tag.wav', 'iti': 6129}\n"
     ]
    },
    {
     "name": "stderr",
     "output_type": "stream",
     "text": [
      "2017-10-24 04:07:07,496 root         INFO     Running trial {'tr_num': 161, 'stim': '/root/experiment/stim/bos_tag.wav', 'iti': 5542}\n"
     ]
    },
    {
     "name": "stdout",
     "output_type": "stream",
     "text": [
      "{'tr_num': 161, 'stim': '/root/experiment/stim/bos_tag.wav', 'iti': 5542}\n"
     ]
    },
    {
     "name": "stderr",
     "output_type": "stream",
     "text": [
      "2017-10-24 04:07:14,566 root         INFO     Running trial {'tr_num': 162, 'stim': '/root/experiment/stim/bos_syn_tag.wav', 'iti': 5770}\n"
     ]
    },
    {
     "name": "stdout",
     "output_type": "stream",
     "text": [
      "{'tr_num': 162, 'stim': '/root/experiment/stim/bos_syn_tag.wav', 'iti': 5770}\n"
     ]
    },
    {
     "name": "stderr",
     "output_type": "stream",
     "text": [
      "2017-10-24 04:07:21,762 root         INFO     Running trial {'tr_num': 163, 'stim': '/root/experiment/stim/bos_rev_tag.wav', 'iti': 3605}\n"
     ]
    },
    {
     "name": "stdout",
     "output_type": "stream",
     "text": [
      "{'tr_num': 163, 'stim': '/root/experiment/stim/bos_rev_tag.wav', 'iti': 3605}\n"
     ]
    },
    {
     "name": "stderr",
     "output_type": "stream",
     "text": [
      "2017-10-24 04:07:26,679 root         INFO     Running trial {'tr_num': 164, 'stim': '/root/experiment/stim/con_tag.wav', 'iti': 3935}\n"
     ]
    },
    {
     "name": "stdout",
     "output_type": "stream",
     "text": [
      "{'tr_num': 164, 'stim': '/root/experiment/stim/con_tag.wav', 'iti': 3935}\n"
     ]
    },
    {
     "name": "stderr",
     "output_type": "stream",
     "text": [
      "2017-10-24 04:07:31,805 root         INFO     Running trial {'tr_num': 165, 'stim': '/root/experiment/stim/bos_tag.wav', 'iti': 3618}\n"
     ]
    },
    {
     "name": "stdout",
     "output_type": "stream",
     "text": [
      "{'tr_num': 165, 'stim': '/root/experiment/stim/bos_tag.wav', 'iti': 3618}\n"
     ]
    },
    {
     "name": "stderr",
     "output_type": "stream",
     "text": [
      "2017-10-24 04:07:36,649 root         INFO     Running trial {'tr_num': 166, 'stim': '/root/experiment/stim/bos_syn_tag.wav', 'iti': 6645}\n"
     ]
    },
    {
     "name": "stdout",
     "output_type": "stream",
     "text": [
      "{'tr_num': 166, 'stim': '/root/experiment/stim/bos_syn_tag.wav', 'iti': 6645}\n"
     ]
    },
    {
     "name": "stderr",
     "output_type": "stream",
     "text": [
      "2017-10-24 04:07:44,585 root         INFO     Running trial {'tr_num': 167, 'stim': '/root/experiment/stim/bos_tag.wav', 'iti': 2663}\n"
     ]
    },
    {
     "name": "stdout",
     "output_type": "stream",
     "text": [
      "{'tr_num': 167, 'stim': '/root/experiment/stim/bos_tag.wav', 'iti': 2663}\n"
     ]
    },
    {
     "name": "stderr",
     "output_type": "stream",
     "text": [
      "2017-10-24 04:07:48,872 root         INFO     Running trial {'tr_num': 168, 'stim': '/root/experiment/stim/bos_tag.wav', 'iti': 3951}\n"
     ]
    },
    {
     "name": "stdout",
     "output_type": "stream",
     "text": [
      "{'tr_num': 168, 'stim': '/root/experiment/stim/bos_tag.wav', 'iti': 3951}\n"
     ]
    },
    {
     "name": "stderr",
     "output_type": "stream",
     "text": [
      "2017-10-24 04:07:54,113 root         INFO     Running trial {'tr_num': 169, 'stim': '/root/experiment/stim/con_tag.wav', 'iti': 4236}\n"
     ]
    },
    {
     "name": "stdout",
     "output_type": "stream",
     "text": [
      "{'tr_num': 169, 'stim': '/root/experiment/stim/con_tag.wav', 'iti': 4236}\n"
     ]
    },
    {
     "name": "stderr",
     "output_type": "stream",
     "text": [
      "2017-10-24 04:07:59,596 root         INFO     Running trial {'tr_num': 170, 'stim': '/root/experiment/stim/con_tag.wav', 'iti': 2811}\n"
     ]
    },
    {
     "name": "stdout",
     "output_type": "stream",
     "text": [
      "{'tr_num': 170, 'stim': '/root/experiment/stim/con_tag.wav', 'iti': 2811}\n"
     ]
    },
    {
     "name": "stderr",
     "output_type": "stream",
     "text": [
      "2017-10-24 04:08:03,565 root         INFO     Running trial {'tr_num': 171, 'stim': '/root/experiment/stim/con_tag.wav', 'iti': 4384}\n"
     ]
    },
    {
     "name": "stdout",
     "output_type": "stream",
     "text": [
      "{'tr_num': 171, 'stim': '/root/experiment/stim/con_tag.wav', 'iti': 4384}\n"
     ]
    },
    {
     "name": "stderr",
     "output_type": "stream",
     "text": [
      "2017-10-24 04:08:09,090 root         INFO     Running trial {'tr_num': 172, 'stim': '/root/experiment/stim/bos_rev_tag.wav', 'iti': 2778}\n"
     ]
    },
    {
     "name": "stdout",
     "output_type": "stream",
     "text": [
      "{'tr_num': 172, 'stim': '/root/experiment/stim/bos_rev_tag.wav', 'iti': 2778}\n"
     ]
    },
    {
     "name": "stderr",
     "output_type": "stream",
     "text": [
      "2017-10-24 04:08:13,073 root         INFO     Running trial {'tr_num': 173, 'stim': '/root/experiment/stim/con_tag.wav', 'iti': 6462}\n"
     ]
    },
    {
     "name": "stdout",
     "output_type": "stream",
     "text": [
      "{'tr_num': 173, 'stim': '/root/experiment/stim/con_tag.wav', 'iti': 6462}\n"
     ]
    },
    {
     "name": "stderr",
     "output_type": "stream",
     "text": [
      "2017-10-24 04:08:20,803 root         INFO     Running trial {'tr_num': 174, 'stim': '/root/experiment/stim/bos_rev_tag.wav', 'iti': 4018}\n"
     ]
    },
    {
     "name": "stdout",
     "output_type": "stream",
     "text": [
      "{'tr_num': 174, 'stim': '/root/experiment/stim/bos_rev_tag.wav', 'iti': 4018}\n"
     ]
    },
    {
     "name": "stderr",
     "output_type": "stream",
     "text": [
      "2017-10-24 04:08:26,294 root         INFO     Running trial {'tr_num': 175, 'stim': '/root/experiment/stim/con_tag.wav', 'iti': 2265}\n"
     ]
    },
    {
     "name": "stdout",
     "output_type": "stream",
     "text": [
      "{'tr_num': 175, 'stim': '/root/experiment/stim/con_tag.wav', 'iti': 2265}\n"
     ]
    },
    {
     "name": "stderr",
     "output_type": "stream",
     "text": [
      "2017-10-24 04:08:29,659 root         INFO     Running trial {'tr_num': 176, 'stim': '/root/experiment/stim/bos_tag.wav', 'iti': 2633}\n"
     ]
    },
    {
     "name": "stdout",
     "output_type": "stream",
     "text": [
      "{'tr_num': 176, 'stim': '/root/experiment/stim/bos_tag.wav', 'iti': 2633}\n"
     ]
    },
    {
     "name": "stderr",
     "output_type": "stream",
     "text": [
      "2017-10-24 04:08:33,492 root         INFO     Running trial {'tr_num': 177, 'stim': '/root/experiment/stim/bos_syn_tag.wav', 'iti': 3555}\n"
     ]
    },
    {
     "name": "stdout",
     "output_type": "stream",
     "text": [
      "{'tr_num': 177, 'stim': '/root/experiment/stim/bos_syn_tag.wav', 'iti': 3555}\n"
     ]
    },
    {
     "name": "stderr",
     "output_type": "stream",
     "text": [
      "2017-10-24 04:08:38,254 root         INFO     Running trial {'tr_num': 178, 'stim': '/root/experiment/stim/bos_syn_tag.wav', 'iti': 5279}\n"
     ]
    },
    {
     "name": "stdout",
     "output_type": "stream",
     "text": [
      "{'tr_num': 178, 'stim': '/root/experiment/stim/bos_syn_tag.wav', 'iti': 5279}\n"
     ]
    },
    {
     "name": "stderr",
     "output_type": "stream",
     "text": [
      "2017-10-24 04:08:44,824 root         INFO     Running trial {'tr_num': 179, 'stim': '/root/experiment/stim/bos_syn_tag.wav', 'iti': 6772}\n"
     ]
    },
    {
     "name": "stdout",
     "output_type": "stream",
     "text": [
      "{'tr_num': 179, 'stim': '/root/experiment/stim/bos_syn_tag.wav', 'iti': 6772}\n"
     ]
    },
    {
     "name": "stderr",
     "output_type": "stream",
     "text": [
      "2017-10-24 04:08:52,960 root         INFO     Running trial {'tr_num': 180, 'stim': '/root/experiment/stim/bos_syn_tag.wav', 'iti': 3842}\n"
     ]
    },
    {
     "name": "stdout",
     "output_type": "stream",
     "text": [
      "{'tr_num': 180, 'stim': '/root/experiment/stim/bos_syn_tag.wav', 'iti': 3842}\n"
     ]
    },
    {
     "name": "stderr",
     "output_type": "stream",
     "text": [
      "2017-10-24 04:08:58,102 root         INFO     Running trial {'tr_num': 181, 'stim': '/root/experiment/stim/bos_rev_tag.wav', 'iti': 4885}\n"
     ]
    },
    {
     "name": "stdout",
     "output_type": "stream",
     "text": [
      "{'tr_num': 181, 'stim': '/root/experiment/stim/bos_rev_tag.wav', 'iti': 4885}\n"
     ]
    },
    {
     "name": "stderr",
     "output_type": "stream",
     "text": [
      "2017-10-24 04:09:04,797 root         INFO     Running trial {'tr_num': 182, 'stim': '/root/experiment/stim/bos_tag.wav', 'iti': 5373}\n"
     ]
    },
    {
     "name": "stdout",
     "output_type": "stream",
     "text": [
      "{'tr_num': 182, 'stim': '/root/experiment/stim/bos_tag.wav', 'iti': 5373}\n"
     ]
    },
    {
     "name": "stderr",
     "output_type": "stream",
     "text": [
      "2017-10-24 04:09:11,376 root         INFO     Running trial {'tr_num': 183, 'stim': '/root/experiment/stim/con_tag.wav', 'iti': 5210}\n"
     ]
    },
    {
     "name": "stdout",
     "output_type": "stream",
     "text": [
      "{'tr_num': 183, 'stim': '/root/experiment/stim/con_tag.wav', 'iti': 5210}\n"
     ]
    },
    {
     "name": "stderr",
     "output_type": "stream",
     "text": [
      "2017-10-24 04:09:17,727 root         INFO     Running trial {'tr_num': 184, 'stim': '/root/experiment/stim/bos_rev_tag.wav', 'iti': 2419}\n"
     ]
    },
    {
     "name": "stdout",
     "output_type": "stream",
     "text": [
      "{'tr_num': 184, 'stim': '/root/experiment/stim/bos_rev_tag.wav', 'iti': 2419}\n"
     ]
    },
    {
     "name": "stderr",
     "output_type": "stream",
     "text": [
      "2017-10-24 04:09:21,345 root         INFO     Running trial {'tr_num': 185, 'stim': '/root/experiment/stim/bos_rev_tag.wav', 'iti': 4792}\n"
     ]
    },
    {
     "name": "stdout",
     "output_type": "stream",
     "text": [
      "{'tr_num': 185, 'stim': '/root/experiment/stim/bos_rev_tag.wav', 'iti': 4792}\n"
     ]
    },
    {
     "name": "stderr",
     "output_type": "stream",
     "text": [
      "2017-10-24 04:09:27,435 root         INFO     Running trial {'tr_num': 186, 'stim': '/root/experiment/stim/bos_syn_tag.wav', 'iti': 2698}\n"
     ]
    },
    {
     "name": "stdout",
     "output_type": "stream",
     "text": [
      "{'tr_num': 186, 'stim': '/root/experiment/stim/bos_syn_tag.wav', 'iti': 2698}\n"
     ]
    },
    {
     "name": "stderr",
     "output_type": "stream",
     "text": [
      "2017-10-24 04:09:31,413 root         INFO     Running trial {'tr_num': 187, 'stim': '/root/experiment/stim/bos_syn_tag.wav', 'iti': 5333}\n"
     ]
    },
    {
     "name": "stdout",
     "output_type": "stream",
     "text": [
      "{'tr_num': 187, 'stim': '/root/experiment/stim/bos_syn_tag.wav', 'iti': 5333}\n"
     ]
    },
    {
     "name": "stderr",
     "output_type": "stream",
     "text": [
      "2017-10-24 04:09:38,073 root         INFO     Running trial {'tr_num': 188, 'stim': '/root/experiment/stim/bos_tag.wav', 'iti': 6431}\n"
     ]
    },
    {
     "name": "stdout",
     "output_type": "stream",
     "text": [
      "{'tr_num': 188, 'stim': '/root/experiment/stim/bos_tag.wav', 'iti': 6431}\n"
     ]
    },
    {
     "name": "stderr",
     "output_type": "stream",
     "text": [
      "2017-10-24 04:09:45,867 root         INFO     Running trial {'tr_num': 189, 'stim': '/root/experiment/stim/bos_tag.wav', 'iti': 3620}\n"
     ]
    },
    {
     "name": "stdout",
     "output_type": "stream",
     "text": [
      "{'tr_num': 189, 'stim': '/root/experiment/stim/bos_tag.wav', 'iti': 3620}\n"
     ]
    },
    {
     "name": "stderr",
     "output_type": "stream",
     "text": [
      "2017-10-24 04:09:50,697 root         INFO     Running trial {'tr_num': 190, 'stim': '/root/experiment/stim/con_tag.wav', 'iti': 6183}\n"
     ]
    },
    {
     "name": "stdout",
     "output_type": "stream",
     "text": [
      "{'tr_num': 190, 'stim': '/root/experiment/stim/con_tag.wav', 'iti': 6183}\n"
     ]
    },
    {
     "name": "stderr",
     "output_type": "stream",
     "text": [
      "2017-10-24 04:09:58,187 root         INFO     Running trial {'tr_num': 191, 'stim': '/root/experiment/stim/bos_rev_tag.wav', 'iti': 4638}\n"
     ]
    },
    {
     "name": "stdout",
     "output_type": "stream",
     "text": [
      "{'tr_num': 191, 'stim': '/root/experiment/stim/bos_rev_tag.wav', 'iti': 4638}\n"
     ]
    },
    {
     "name": "stderr",
     "output_type": "stream",
     "text": [
      "2017-10-24 04:10:04,137 root         INFO     Running trial {'tr_num': 192, 'stim': '/root/experiment/stim/bos_rev_tag.wav', 'iti': 3806}\n"
     ]
    },
    {
     "name": "stdout",
     "output_type": "stream",
     "text": [
      "{'tr_num': 192, 'stim': '/root/experiment/stim/bos_rev_tag.wav', 'iti': 3806}\n"
     ]
    },
    {
     "name": "stderr",
     "output_type": "stream",
     "text": [
      "2017-10-24 04:10:09,247 root         INFO     Running trial {'tr_num': 193, 'stim': '/root/experiment/stim/bos_rev_tag.wav', 'iti': 2633}\n"
     ]
    },
    {
     "name": "stdout",
     "output_type": "stream",
     "text": [
      "{'tr_num': 193, 'stim': '/root/experiment/stim/bos_rev_tag.wav', 'iti': 2633}\n"
     ]
    },
    {
     "name": "stderr",
     "output_type": "stream",
     "text": [
      "2017-10-24 04:10:13,208 root         INFO     Running trial {'tr_num': 194, 'stim': '/root/experiment/stim/bos_tag.wav', 'iti': 3530}\n"
     ]
    },
    {
     "name": "stdout",
     "output_type": "stream",
     "text": [
      "{'tr_num': 194, 'stim': '/root/experiment/stim/bos_tag.wav', 'iti': 3530}\n"
     ]
    },
    {
     "name": "stderr",
     "output_type": "stream",
     "text": [
      "2017-10-24 04:10:18,129 root         INFO     Running trial {'tr_num': 195, 'stim': '/root/experiment/stim/bos_rev_tag.wav', 'iti': 2743}\n"
     ]
    },
    {
     "name": "stdout",
     "output_type": "stream",
     "text": [
      "{'tr_num': 195, 'stim': '/root/experiment/stim/bos_rev_tag.wav', 'iti': 2743}\n"
     ]
    },
    {
     "name": "stderr",
     "output_type": "stream",
     "text": [
      "2017-10-24 04:10:22,073 root         INFO     Running trial {'tr_num': 196, 'stim': '/root/experiment/stim/con_tag.wav', 'iti': 2828}\n"
     ]
    },
    {
     "name": "stdout",
     "output_type": "stream",
     "text": [
      "{'tr_num': 196, 'stim': '/root/experiment/stim/con_tag.wav', 'iti': 2828}\n"
     ]
    },
    {
     "name": "stderr",
     "output_type": "stream",
     "text": [
      "2017-10-24 04:10:26,021 root         INFO     Running trial {'tr_num': 197, 'stim': '/root/experiment/stim/con_tag.wav', 'iti': 2768}\n"
     ]
    },
    {
     "name": "stdout",
     "output_type": "stream",
     "text": [
      "{'tr_num': 197, 'stim': '/root/experiment/stim/con_tag.wav', 'iti': 2768}\n"
     ]
    },
    {
     "name": "stderr",
     "output_type": "stream",
     "text": [
      "2017-10-24 04:10:29,888 root         INFO     Running trial {'tr_num': 198, 'stim': '/root/experiment/stim/bos_syn_tag.wav', 'iti': 4641}\n"
     ]
    },
    {
     "name": "stdout",
     "output_type": "stream",
     "text": [
      "{'tr_num': 198, 'stim': '/root/experiment/stim/bos_syn_tag.wav', 'iti': 4641}\n"
     ]
    },
    {
     "name": "stderr",
     "output_type": "stream",
     "text": [
      "2017-10-24 04:10:35,998 root         INFO     Running trial {'tr_num': 199, 'stim': '/root/experiment/stim/con_tag.wav', 'iti': 6071}\n"
     ]
    },
    {
     "name": "stdout",
     "output_type": "stream",
     "text": [
      "{'tr_num': 199, 'stim': '/root/experiment/stim/con_tag.wav', 'iti': 6071}\n"
     ]
    },
    {
     "name": "stderr",
     "output_type": "stream",
     "text": [
      "2017-10-24 04:10:43,318 root         INFO     Running trial {'tr_num': 200, 'stim': '/root/experiment/stim/con_tag.wav', 'iti': 4976}\n"
     ]
    },
    {
     "name": "stdout",
     "output_type": "stream",
     "text": [
      "{'tr_num': 200, 'stim': '/root/experiment/stim/con_tag.wav', 'iti': 4976}\n"
     ]
    },
    {
     "name": "stderr",
     "output_type": "stream",
     "text": [
      "2017-10-24 04:10:49,388 root         INFO     Running trial {'tr_num': 201, 'stim': '/root/experiment/stim/bos_syn_tag.wav', 'iti': 3552}\n"
     ]
    },
    {
     "name": "stdout",
     "output_type": "stream",
     "text": [
      "{'tr_num': 201, 'stim': '/root/experiment/stim/bos_syn_tag.wav', 'iti': 3552}\n"
     ]
    },
    {
     "name": "stderr",
     "output_type": "stream",
     "text": [
      "2017-10-24 04:10:54,236 root         INFO     Running trial {'tr_num': 202, 'stim': '/root/experiment/stim/bos_rev_tag.wav', 'iti': 3720}\n"
     ]
    },
    {
     "name": "stdout",
     "output_type": "stream",
     "text": [
      "{'tr_num': 202, 'stim': '/root/experiment/stim/bos_rev_tag.wav', 'iti': 3720}\n"
     ]
    },
    {
     "name": "stderr",
     "output_type": "stream",
     "text": [
      "2017-10-24 04:10:59,173 root         INFO     Running trial {'tr_num': 203, 'stim': '/root/experiment/stim/con_tag.wav', 'iti': 5626}\n"
     ]
    },
    {
     "name": "stdout",
     "output_type": "stream",
     "text": [
      "{'tr_num': 203, 'stim': '/root/experiment/stim/con_tag.wav', 'iti': 5626}\n"
     ]
    },
    {
     "name": "stderr",
     "output_type": "stream",
     "text": [
      "2017-10-24 04:11:06,034 root         INFO     Running trial {'tr_num': 204, 'stim': '/root/experiment/stim/con_tag.wav', 'iti': 2733}\n"
     ]
    },
    {
     "name": "stdout",
     "output_type": "stream",
     "text": [
      "{'tr_num': 204, 'stim': '/root/experiment/stim/con_tag.wav', 'iti': 2733}\n"
     ]
    },
    {
     "name": "stderr",
     "output_type": "stream",
     "text": [
      "2017-10-24 04:11:09,856 root         INFO     Running trial {'tr_num': 205, 'stim': '/root/experiment/stim/con_tag.wav', 'iti': 3982}\n"
     ]
    },
    {
     "name": "stdout",
     "output_type": "stream",
     "text": [
      "{'tr_num': 205, 'stim': '/root/experiment/stim/con_tag.wav', 'iti': 3982}\n"
     ]
    },
    {
     "name": "stderr",
     "output_type": "stream",
     "text": [
      "2017-10-24 04:11:14,987 root         INFO     Running trial {'tr_num': 206, 'stim': '/root/experiment/stim/bos_tag.wav', 'iti': 5251}\n"
     ]
    },
    {
     "name": "stdout",
     "output_type": "stream",
     "text": [
      "{'tr_num': 206, 'stim': '/root/experiment/stim/bos_tag.wav', 'iti': 5251}\n"
     ]
    },
    {
     "name": "stderr",
     "output_type": "stream",
     "text": [
      "2017-10-24 04:11:22,400 root         INFO     Running trial {'tr_num': 207, 'stim': '/root/experiment/stim/bos_rev_tag.wav', 'iti': 3228}\n"
     ]
    },
    {
     "name": "stdout",
     "output_type": "stream",
     "text": [
      "{'tr_num': 207, 'stim': '/root/experiment/stim/bos_rev_tag.wav', 'iti': 3228}\n"
     ]
    },
    {
     "name": "stderr",
     "output_type": "stream",
     "text": [
      "2017-10-24 04:11:26,924 root         INFO     Running trial {'tr_num': 208, 'stim': '/root/experiment/stim/con_tag.wav', 'iti': 3233}\n"
     ]
    },
    {
     "name": "stdout",
     "output_type": "stream",
     "text": [
      "{'tr_num': 208, 'stim': '/root/experiment/stim/con_tag.wav', 'iti': 3233}\n"
     ]
    },
    {
     "name": "stderr",
     "output_type": "stream",
     "text": [
      "2017-10-24 04:11:31,400 root         INFO     Running trial {'tr_num': 209, 'stim': '/root/experiment/stim/bos_rev_tag.wav', 'iti': 2227}\n"
     ]
    },
    {
     "name": "stdout",
     "output_type": "stream",
     "text": [
      "{'tr_num': 209, 'stim': '/root/experiment/stim/bos_rev_tag.wav', 'iti': 2227}\n",
      "finished block"
     ]
    },
    {
     "name": "stderr",
     "output_type": "stream",
     "text": [
      "2017-10-24 04:11:35,439 root         INFO     Stop recording Forced\n",
      "2017-10-24 04:11:35,455 root         INFO     Stopped recording\n"
     ]
    },
    {
     "name": "stdout",
     "output_type": "stream",
     "text": [
      "\n",
      "Runner stopping recording\n",
      "Recording stopped\n",
      "Block 1 finished\n"
     ]
    }
   ],
   "source": [
    "# run a night experiment\n",
    "block_trials = 210\n",
    "block_iti = [2000, 7000]\n",
    "time.sleep(7200)\n",
    "#ss = Session(oe_zmq, bb_zmq, bird_id='z023', depth=0, descr='anesth_surf')\n",
    "blocks = []\n",
    "for i_block in range(2):\n",
    "    print \"Starting block {}\".format(i_block)\n",
    "    a_block = Block(wave_files, block_iti, block_trials)\n",
    "    ss.start_block(a_block, record=True, new=True)\n",
    "    #time.sleep(block_trials*int(np.ceil(block_iti[1]*0.0011)))\n",
    "    time.sleep(3600)\n",
    "    ss.stop_block()\n",
    "    print 'Block {} finished'.format(i_block)\n",
    "    blocks.append(a_block)\n",
    "    time.sleep(1)\n",
    "    "
   ]
  },
  {
   "cell_type": "code",
   "execution_count": null,
   "metadata": {
    "collapsed": true
   },
   "outputs": [],
   "source": []
  }
 ],
 "metadata": {
  "kernelspec": {
   "display_name": "msort pipefinch",
   "language": "python",
   "name": "mountain"
  },
  "language_info": {
   "codemirror_mode": {
    "name": "ipython",
    "version": 3
   },
   "file_extension": ".py",
   "mimetype": "text/x-python",
   "name": "python",
   "nbconvert_exporter": "python",
   "pygments_lexer": "ipython3",
   "version": "3.6.7"
  }
 },
 "nbformat": 4,
 "nbformat_minor": 2
}
