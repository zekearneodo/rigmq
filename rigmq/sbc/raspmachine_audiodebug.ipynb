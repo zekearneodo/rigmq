{
 "cells": [
  {
   "cell_type": "code",
   "execution_count": 1,
   "metadata": {},
   "outputs": [],
   "source": [
    "import wave\n",
    "import time\n",
    "import sys\n",
    "import os\n",
    "import zmq\n",
    "import serial\n",
    "import logging\n",
    "import struct\n",
    "import RPi.GPIO as GPIO\n",
    "\n",
    "import pyaudio"
   ]
  },
  {
   "cell_type": "code",
   "execution_count": 11,
   "metadata": {},
   "outputs": [],
   "source": [
    "GPIO.setmode(GPIO.BOARD)\n",
    "class WavPlayer():\n",
    "    def __init__(self, pin=5):\n",
    "        self.pin = pin\n",
    "        self.pa = pyaudio.PyAudio()\n",
    "        self.wf = None\n",
    "        self.played = False\n",
    "\n",
    "        # init the pins\n",
    "        GPIO.setup(self.pin, GPIO.OUT)\n",
    "        GPIO.output(self.pin, GPIO.LOW)\n",
    "\n",
    "    def play_callback(self, in_data, frame_count, time_info, status):\n",
    "        data = self.wf.readframes(frame_count)\n",
    "        return (data, pyaudio.paContinue)\n",
    "\n",
    "    def play_file(self, wave_file_path):\n",
    "        self.wf = wave.open(wave_file_path, 'rb')\n",
    "        stream = self.pa.open(format=self.pa.get_format_from_width(self.wf.getsampwidth()),\n",
    "                              channels=self.wf.getnchannels(),\n",
    "                              rate=self.wf.getframerate(),\n",
    "                              output=True,\n",
    "                              stream_callback=self.play_callback)\n",
    "\n",
    "        GPIO.output(self.pin, GPIO.HIGH)\n",
    "        stream.start_stream()\n",
    "\n",
    "        while stream.is_active():\n",
    "            # time.sleep(0.1)\n",
    "            pass\n",
    "        GPIO.output(self.pin, GPIO.LOW)\n",
    "        time.sleep(0.1)\n",
    "        stream.stop_stream()\n",
    "        stream.close()\n",
    "        self.flush_file()\n",
    "\n",
    "    def flush_file(self):\n",
    "        self.wf = None\n",
    "        self.played = False"
   ]
  },
  {
   "cell_type": "code",
   "execution_count": 12,
   "metadata": {},
   "outputs": [
    {
     "data": {
      "text/plain": [
       "<module 'pyaudio' from '/home/pi/.local/lib/python3.5/site-packages/pyaudio.py'>"
      ]
     },
     "execution_count": 12,
     "metadata": {},
     "output_type": "execute_result"
    }
   ],
   "source": [
    "pyaudio"
   ]
  },
  {
   "cell_type": "code",
   "execution_count": 13,
   "metadata": {},
   "outputs": [
    {
     "name": "stdout",
     "output_type": "stream",
     "text": [
      "Input Device id  0  -  Steinberg UR22: USB Audio (hw:0,0)\n",
      "Input Device id  1  -  sysdefault\n",
      "Input Device id  5  -  spdif\n"
     ]
    }
   ],
   "source": [
    "import pyaudio\n",
    "p = pyaudio.PyAudio()\n",
    "info = p.get_host_api_info_by_index(0)\n",
    "numdevices = info.get('deviceCount')\n",
    "for i in range(0, numdevices):\n",
    "        if (p.get_device_info_by_host_api_device_index(0, i).get('maxInputChannels')) > 0:\n",
    "            print(\"Input Device id \", i, \" - \", p.get_device_info_by_host_api_device_index(0, i).get('name'))"
   ]
  },
  {
   "cell_type": "code",
   "execution_count": 20,
   "metadata": {},
   "outputs": [],
   "source": [
    "wavefile_path = '/home/pi/repos/tone_test.wav'\n",
    "wp = WavPlayer()\n",
    "wp.play_file(wavefile_path)"
   ]
  },
  {
   "cell_type": "code",
   "execution_count": null,
   "metadata": {},
   "outputs": [],
   "source": [
    "def run_trial(trial_pars: dict):\n",
    "    # here is where the trial is defined\n",
    "    # for now the trial is just playing a sound file\n",
    "    # read the parameters\n",
    "    # for the female presetation, you only want to do smartglass\n",
    "    wavefile_path = trial_pars['stim_file']\n",
    "    trial_number = int(float(trial_pars['number']))\n",
    "\n",
    "    # do the deed\n",
    "    so.write_number(trial_number)\n",
    "    time.sleep(0.5)\n",
    "    wp.play_file(wavefile_path)\n",
    "    return 0"
   ]
  }
 ],
 "metadata": {
  "kernelspec": {
   "display_name": "Python 3",
   "language": "python",
   "name": "python3"
  },
  "language_info": {
   "codemirror_mode": {
    "name": "ipython",
    "version": 3
   },
   "file_extension": ".py",
   "mimetype": "text/x-python",
   "name": "python",
   "nbconvert_exporter": "python",
   "pygments_lexer": "ipython3",
   "version": "3.8.5"
  }
 },
 "nbformat": 4,
 "nbformat_minor": 4
}
